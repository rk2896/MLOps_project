{
 "cells": [
  {
   "cell_type": "code",
   "execution_count": 1,
   "metadata": {},
   "outputs": [
    {
     "name": "stdout",
     "output_type": "stream",
     "text": [
      "Requirement already satisfied: wandb in c:\\users\\rk\\anaconda3\\lib\\site-packages (0.12.7)\n",
      "Requirement already satisfied: Click!=8.0.0,>=7.0 in c:\\users\\rk\\anaconda3\\lib\\site-packages (from wandb) (7.1.2)\n",
      "Requirement already satisfied: shortuuid>=0.5.0 in c:\\users\\rk\\anaconda3\\lib\\site-packages (from wandb) (1.0.8)\n",
      "Requirement already satisfied: subprocess32>=3.5.3 in c:\\users\\rk\\anaconda3\\lib\\site-packages (from wandb) (3.5.4)\n",
      "Requirement already satisfied: yaspin>=1.0.0 in c:\\users\\rk\\anaconda3\\lib\\site-packages (from wandb) (2.1.0)\n",
      "Requirement already satisfied: python-dateutil>=2.6.1 in c:\\users\\rk\\anaconda3\\lib\\site-packages (from wandb) (2.8.1)\n",
      "Requirement already satisfied: GitPython>=1.0.0 in c:\\users\\rk\\anaconda3\\lib\\site-packages (from wandb) (3.1.24)\n",
      "Requirement already satisfied: requests<3,>=2.0.0 in c:\\users\\rk\\anaconda3\\lib\\site-packages (from wandb) (2.26.0)\n",
      "Requirement already satisfied: psutil>=5.0.0 in c:\\users\\rk\\anaconda3\\lib\\site-packages (from wandb) (5.7.0)\n",
      "Requirement already satisfied: sentry-sdk>=1.0.0 in c:\\users\\rk\\anaconda3\\lib\\site-packages (from wandb) (1.5.0)\n",
      "Requirement already satisfied: six>=1.13.0 in c:\\users\\rk\\anaconda3\\lib\\site-packages (from wandb) (1.15.0)\n",
      "Requirement already satisfied: protobuf>=3.12.0 in c:\\users\\rk\\anaconda3\\lib\\site-packages (from wandb) (3.14.0)\n",
      "Requirement already satisfied: configparser>=3.8.1 in c:\\users\\rk\\anaconda3\\lib\\site-packages (from wandb) (5.0.2)\n",
      "Requirement already satisfied: pathtools in c:\\users\\rk\\anaconda3\\lib\\site-packages (from wandb) (0.1.2)\n",
      "Requirement already satisfied: promise<3,>=2.0 in c:\\users\\rk\\anaconda3\\lib\\site-packages (from wandb) (2.3)"
     ]
    },
    {
     "name": "stderr",
     "output_type": "stream",
     "text": [
      "WARNING: Ignoring invalid distribution -tatsmodels (c:\\users\\rk\\anaconda3\\lib\\site-packages)\n",
      "WARNING: Ignoring invalid distribution -tatsmodels (c:\\users\\rk\\anaconda3\\lib\\site-packages)\n",
      "WARNING: Ignoring invalid distribution -tatsmodels (c:\\users\\rk\\anaconda3\\lib\\site-packages)\n",
      "WARNING: Ignoring invalid distribution -tatsmodels (c:\\users\\rk\\anaconda3\\lib\\site-packages)"
     ]
    },
    {
     "name": "stdout",
     "output_type": "stream",
     "text": [
      "\n",
      "Requirement already satisfied: docker-pycreds>=0.4.0 in c:\\users\\rk\\anaconda3\\lib\\site-packages (from wandb) (0.4.0)\n",
      "Requirement already satisfied: PyYAML in c:\\users\\rk\\anaconda3\\lib\\site-packages (from wandb) (5.3.1)\n",
      "Requirement already satisfied: gitdb<5,>=4.0.1 in c:\\users\\rk\\anaconda3\\lib\\site-packages (from GitPython>=1.0.0->wandb) (4.0.9)\n",
      "Requirement already satisfied: typing-extensions>=3.7.4.3 in c:\\users\\rk\\anaconda3\\lib\\site-packages (from GitPython>=1.0.0->wandb) (4.0.0)\n",
      "Requirement already satisfied: smmap<6,>=3.0.1 in c:\\users\\rk\\anaconda3\\lib\\site-packages (from gitdb<5,>=4.0.1->GitPython>=1.0.0->wandb) (5.0.0)\n",
      "Requirement already satisfied: charset-normalizer~=2.0.0 in c:\\users\\rk\\anaconda3\\lib\\site-packages (from requests<3,>=2.0.0->wandb) (2.0.8)\n",
      "Requirement already satisfied: urllib3<1.27,>=1.21.1 in c:\\users\\rk\\anaconda3\\lib\\site-packages (from requests<3,>=2.0.0->wandb) (1.25.9)\n",
      "Requirement already satisfied: certifi>=2017.4.17 in c:\\users\\rk\\anaconda3\\lib\\site-packages (from requests<3,>=2.0.0->wandb) (2020.6.20)\n",
      "Requirement already satisfied: idna<4,>=2.5 in c:\\users\\rk\\anaconda3\\lib\\site-packages (from requests<3,>=2.0.0->wandb) (2.10)\n",
      "Requirement already satisfied: termcolor<2.0.0,>=1.1.0 in c:\\users\\rk\\appdata\\roaming\\python\\python38\\site-packages (from yaspin>=1.0.0->wandb) (1.1.0)\n"
     ]
    },
    {
     "name": "stderr",
     "output_type": "stream",
     "text": [
      "\n",
      "WARNING: Ignoring invalid distribution -tatsmodels (c:\\users\\rk\\anaconda3\\lib\\site-packages)\n",
      "WARNING: Ignoring invalid distribution -tatsmodels (c:\\users\\rk\\anaconda3\\lib\\site-packages)\n",
      "WARNING: You are using pip version 21.2.4; however, version 21.3.1 is available.\n",
      "You should consider upgrading via the 'c:\\users\\rk\\anaconda3\\python.exe -m pip install --upgrade pip' command.\n"
     ]
    },
    {
     "name": "stdout",
     "output_type": "stream",
     "text": [
      "Requirement already satisfied: onnxruntime in c:\\users\\rk\\anaconda3\\lib\\site-packages (1.9.0)\n",
      "Requirement already satisfied: protobuf in c:\\users\\rk\\anaconda3\\lib\\site-packages (from onnxruntime) (3.14.0)\n",
      "Requirement already satisfied: numpy>=1.16.6 in c:\\users\\rk\\appdata\\roaming\\python\\python38\\site-packages (from onnxruntime) (1.19.5)\n",
      "Requirement already satisfied: flatbuffers in c:\\users\\rk\\appdata\\roaming\\python\\python38\\site-packages (from onnxruntime) (1.12)\n",
      "Requirement already satisfied: six>=1.9 in c:\\users\\rk\\anaconda3\\lib\\site-packages (from protobuf->onnxruntime) (1.15.0)\n"
     ]
    },
    {
     "name": "stderr",
     "output_type": "stream",
     "text": [
      "WARNING: Ignoring invalid distribution -tatsmodels (c:\\users\\rk\\anaconda3\\lib\\site-packages)\n",
      "WARNING: Ignoring invalid distribution -tatsmodels (c:\\users\\rk\\anaconda3\\lib\\site-packages)\n",
      "WARNING: Ignoring invalid distribution -tatsmodels (c:\\users\\rk\\anaconda3\\lib\\site-packages)\n",
      "WARNING: Ignoring invalid distribution -tatsmodels (c:\\users\\rk\\anaconda3\\lib\\site-packages)\n",
      "WARNING: Ignoring invalid distribution -tatsmodels (c:\\users\\rk\\anaconda3\\lib\\site-packages)\n",
      "WARNING: Ignoring invalid distribution -tatsmodels (c:\\users\\rk\\anaconda3\\lib\\site-packages)\n",
      "WARNING: You are using pip version 21.2.4; however, version 21.3.1 is available.\n",
      "You should consider upgrading via the 'c:\\users\\rk\\anaconda3\\python.exe -m pip install --upgrade pip' command.\n",
      "WARNING: Ignoring invalid distribution -tatsmodels (c:\\users\\rk\\anaconda3\\lib\\site-packages)\n",
      "WARNING: Ignoring invalid distribution -tatsmodels (c:\\users\\rk\\anaconda3\\lib\\site-packages)\n",
      "WARNING: Ignoring invalid distribution -tatsmodels (c:\\users\\rk\\anaconda3\\lib\\site-packages)\n",
      "WARNING: Ignoring invalid distribution -tatsmodels (c:\\users\\rk\\anaconda3\\lib\\site-packages)\n",
      "WARNING: Ignoring invalid distribution -tatsmodels (c:\\users\\rk\\anaconda3\\lib\\site-packages)\n",
      "WARNING: Ignoring invalid distribution -tatsmodels (c:\\users\\rk\\anaconda3\\lib\\site-packages)\n",
      "WARNING: You are using pip version 21.2.4; however, version 21.3.1 is available.\n",
      "You should consider upgrading via the 'c:\\users\\rk\\anaconda3\\python.exe -m pip install --upgrade pip' command.\n"
     ]
    }
   ],
   "source": [
    "!pip install wandb\n",
    "!pip install onnxruntime\n",
    "!pip install -q gradio "
   ]
  },
  {
   "cell_type": "code",
   "execution_count": 6,
   "metadata": {},
   "outputs": [],
   "source": [
    "import os\n",
    "import wandb\n",
    "import pandas as pd\n",
    "import numpy as np\n",
    "import onnxruntime as rt\n",
    "from gradio import gradio as gr"
   ]
  },
  {
   "cell_type": "code",
   "execution_count": 20,
   "metadata": {},
   "outputs": [],
   "source": [
    "from IPython.core.interactiveshell import InteractiveShell\n",
    "InteractiveShell.ast_node_interactivity = \"all\""
   ]
  },
  {
   "cell_type": "code",
   "execution_count": 21,
   "metadata": {},
   "outputs": [],
   "source": [
    "cat_features = ['Gender','Customer Type','Type of Travel','Class']\n",
    "\n",
    "num_features = ['Age','Flight Distance','Seat comfort','Departure/Arrival time convenient','Food and drink','Gate location','Inflight wifi service','Inflight entertainment','Online support','Ease of Online booking','On-board service','Leg room service','Baggage handling','Checkin service','Cleanliness','Online boarding','Departure Delay in Minutes','Arrival Delay in Minutes']                             "
   ]
  },
  {
   "cell_type": "code",
   "execution_count": 24,
   "metadata": {},
   "outputs": [],
   "source": [
    "def predict_satisfaction(Gender,Customer_Type,Type_of_Travel,Class,Age,Flight_Distance,Seat_comfort,Departure_Arrival_time_convenient,Food_and_drink,Gate_loaction,Inflight_wifi_service,Inflight_entertainment,Online_support,Ease_of_Online_booking,On_board_service,Leg_room_service,Baggage_handling,Checkin_service,Cleanliness,Online_boarding,Departure_Delay_in_Minutes,Arrival_Delay_in_Minutes):\n",
    "\n",
    "    inputs_dict = {'Gender' : Gender, \n",
    "              'Customer Type': Customer_Type, \n",
    "              'Type of Travel': Type_of_Travel, \n",
    "              'Class': Class, \n",
    "              'Age': float(Age), \n",
    "              'Flight Distance': float(Flight_Distance), \n",
    "              'Seat comfort': float(Seat_comfort), \n",
    "              'Departure/Arrival time convenient': float(Departure_Arrival_time_convenient), \n",
    "               'Food and drink': float(Food_and_drink),\n",
    "                'Gate location': float(Gate_loaction),\n",
    "                'Inflight wifi service' : float(Inflight_wifi_service),                \n",
    "              'Inflight entertainment': float(Inflight_entertainment), \n",
    "              'Online support': float(Online_support), \n",
    "              'Ease of Online booking': float(Ease_of_Online_booking), \n",
    "              'On-board service': float(On_board_service),\n",
    "                   'Leg room service': float(Leg_room_service),\n",
    "                   'Baggage handling': float(Baggage_handling),\n",
    "                   'Checkin service': float(Checkin_service),\n",
    "                   'Cleanliness': float(Cleanliness),\n",
    "                   'Online boarding': float(Online_boarding),\n",
    "                   'Departure Delay in Minutes': float(Departure_Delay_in_Minutes),\n",
    "                   'Arrival Delay in Minutes': float(Arrival_Delay_in_Minutes)\n",
    "                  }\n",
    "\n",
    "    df = pd.DataFrame(inputs_dict, index = [0])\n",
    "    print(df)\n",
    "\n",
    "    inputs = {c: df[c].values for c in df.columns}\n",
    "    for c in num_features:\n",
    "        inputs[c] = inputs[c].astype(np.float32)\n",
    "    for k in inputs:\n",
    "        inputs[k] = inputs[k].reshape((inputs[k].shape[0], 1))            \n",
    "  \n",
    "    sess = rt.InferenceSession('satisfaction_XGB.onnx')\n",
    "    pred_onx = sess.run(None, inputs)\n",
    "\n",
    "    prediction = pred_onx[0][0,0]\n",
    "    return {f'The customer is expected to be {prediction}.' }"
   ]
  },
  {
   "cell_type": "code",
   "execution_count": null,
   "metadata": {},
   "outputs": [
    {
     "name": "stdout",
     "output_type": "stream",
     "text": [
      "Running on local URL:  http://127.0.0.1:7869/\n",
      "\n",
      "To create a public link, set `share=True` in `launch()`.\n"
     ]
    },
    {
     "data": {
      "text/html": [
       "\n",
       "        <iframe\n",
       "            width=\"900\"\n",
       "            height=\"500\"\n",
       "            src=\"http://127.0.0.1:7869/\"\n",
       "            frameborder=\"0\"\n",
       "            allowfullscreen\n",
       "        ></iframe>\n",
       "        "
      ],
      "text/plain": [
       "<IPython.lib.display.IFrame at 0x1f8219cffa0>"
      ]
     },
     "metadata": {},
     "output_type": "display_data"
    },
    {
     "name": "stdout",
     "output_type": "stream",
     "text": [
      "  Gender   Customer Type   Type of Travel Class  Age  Flight Distance  \\\n",
      "0   Male  Loyal Customer  Personal Travel   Eco  1.0             10.0   \n",
      "\n",
      "   Seat comfort  Departure/Arrival time convenient  Food and drink  \\\n",
      "0           3.0                                3.0             3.0   \n",
      "\n",
      "   Gate location  ...  Online support  Ease of Online booking  \\\n",
      "0            3.0  ...             3.0                     3.0   \n",
      "\n",
      "   On-board service  Leg room service  Baggage handling  Checkin service  \\\n",
      "0               3.0               3.0               3.0              3.0   \n",
      "\n",
      "   Cleanliness  Online boarding  Departure Delay in Minutes  \\\n",
      "0          3.0              3.0                         3.0   \n",
      "\n",
      "   Arrival Delay in Minutes  \n",
      "0                       3.0  \n",
      "\n",
      "[1 rows x 22 columns]\n"
     ]
    },
    {
     "name": "stderr",
     "output_type": "stream",
     "text": [
      "Traceback (most recent call last):\n",
      "  File \"C:\\Users\\RK\\anaconda3\\lib\\site-packages\\gradio\\networking.py\", line 195, in predict\n",
      "    prediction, durations = app.interface.process(raw_input)\n",
      "  File \"C:\\Users\\RK\\anaconda3\\lib\\site-packages\\gradio\\interface.py\", line 371, in process\n",
      "    predictions, durations = self.run_prediction(\n",
      "  File \"C:\\Users\\RK\\anaconda3\\lib\\site-packages\\gradio\\interface.py\", line 337, in run_prediction\n",
      "    prediction = predict_fn(*processed_input)\n",
      "  File \"<ipython-input-24-bfb27cd91a02>\", line 37, in predict_satisfaction\n",
      "    pred_onx = sess.run(None, inputs)\n",
      "  File \"C:\\Users\\RK\\anaconda3\\lib\\site-packages\\onnxruntime\\capi\\onnxruntime_inference_collection.py\", line 188, in run\n",
      "    return self._sess.run(output_names, input_feed, run_options)\n",
      "onnxruntime.capi.onnxruntime_pybind11_state.InvalidArgument: [ONNXRuntimeError] : 2 : INVALID_ARGUMENT : Invalid Feed Input Name:Age\n"
     ]
    },
    {
     "name": "stdout",
     "output_type": "stream",
     "text": [
      "  Gender   Customer Type   Type of Travel Class   Age  Flight Distance  \\\n",
      "0   Male  Loyal Customer  Personal Travel   Eco  32.6             10.0   \n",
      "\n",
      "   Seat comfort  Departure/Arrival time convenient  Food and drink  \\\n",
      "0           3.0                                3.0             3.0   \n",
      "\n",
      "   Gate location  ...  Online support  Ease of Online booking  \\\n",
      "0            3.0  ...             3.0                     3.0   \n",
      "\n",
      "   On-board service  Leg room service  Baggage handling  Checkin service  \\\n",
      "0               3.0               3.0               3.0              3.0   \n",
      "\n",
      "   Cleanliness  Online boarding  Departure Delay in Minutes  \\\n",
      "0          3.0              3.0                         3.0   \n",
      "\n",
      "   Arrival Delay in Minutes  \n",
      "0                       3.0  \n",
      "\n",
      "[1 rows x 22 columns]\n"
     ]
    },
    {
     "name": "stderr",
     "output_type": "stream",
     "text": [
      "Traceback (most recent call last):\n",
      "  File \"C:\\Users\\RK\\anaconda3\\lib\\site-packages\\gradio\\networking.py\", line 195, in predict\n",
      "    prediction, durations = app.interface.process(raw_input)\n",
      "  File \"C:\\Users\\RK\\anaconda3\\lib\\site-packages\\gradio\\interface.py\", line 371, in process\n",
      "    predictions, durations = self.run_prediction(\n",
      "  File \"C:\\Users\\RK\\anaconda3\\lib\\site-packages\\gradio\\interface.py\", line 337, in run_prediction\n",
      "    prediction = predict_fn(*processed_input)\n",
      "  File \"<ipython-input-24-bfb27cd91a02>\", line 37, in predict_satisfaction\n",
      "    pred_onx = sess.run(None, inputs)\n",
      "  File \"C:\\Users\\RK\\anaconda3\\lib\\site-packages\\onnxruntime\\capi\\onnxruntime_inference_collection.py\", line 188, in run\n",
      "    return self._sess.run(output_names, input_feed, run_options)\n",
      "onnxruntime.capi.onnxruntime_pybind11_state.InvalidArgument: [ONNXRuntimeError] : 2 : INVALID_ARGUMENT : Invalid Feed Input Name:Age\n"
     ]
    }
   ],
   "source": [
    "Gender = gr.inputs.Radio(['Male','Female'], default=\"Male\", label=\"Gender\")\n",
    "Customer_Type = gr.inputs.Radio(['Loyal Customer','disloyal Customer'], default=\"Loyal Customer\", label=\"Type of Customer\")\n",
    "Age = gr.inputs.Slider(minimum=1, maximum=100, label=\"Age\")\n",
    "Type_of_Travel = gr.inputs.Radio(['Business Travel','Personal Travel'], default=\"Personal Travel\", label=\"Type of Travel\")\n",
    "Class = gr.inputs.Radio(['Business','Eco', 'Eco Plus'], default=\"Eco\", label=\"Class of travel\")\n",
    "Flight_Distance = gr.inputs.Slider(minimum=10, maximum=10000, label=\"Flight Distance\")\n",
    "Seat_comfort = gr.inputs.Dropdown(list(range(0, 6)), default=\"3\", label=\"Seat comfort\")\n",
    "Departure_Arrival_time_convenient = gr.inputs.Dropdown(list(range(0, 6)), default=\"3\", label=\"Depature/Arrivel time convenient\")\n",
    "Food_and_drink = gr.inputs.Dropdown(list(range(0, 6)), default=\"3\", label=\"Food and Drink\")\n",
    "Gate_loaction = gr.inputs.Dropdown(list(range(0, 6)), default=\"3\", label=\"Gate location\")\n",
    "Inflight_wifi_service = gr.inputs.Dropdown(list(range(0, 6)), default=\"3\", label=\"Inflight wifi service\")\n",
    "Inflight_entertainment = gr.inputs.Dropdown(list(range(0, 6)), default=\"3\", label=\"Inflight entertainment\")\n",
    "Online_support = gr.inputs.Dropdown(list(range(0, 6)), default=\"3\", label=\"Online support\")\n",
    "Ease_of_Online_booking = gr.inputs.Dropdown(list(range(0, 6)), default=\"3\", label=\"Ease of Online booking\")\n",
    "On_board_service = gr.inputs.Dropdown(list(range(0, 6)), default=\"3\", label=\"On board service\")\n",
    "Leg_room_service = gr.inputs.Dropdown(list(range(0, 6)), default=\"3\", label=\"Leg room service\")\n",
    "Baggage_handling = gr.inputs.Dropdown(list(range(0, 6)), default=\"3\", label=\"Baggage handling\")\n",
    "Checkin_service = gr.inputs.Dropdown(list(range(0, 6)), default=\"3\", label=\"Checkin Service\")\n",
    "Cleanliness = gr.inputs.Dropdown(list(range(0, 6)), default=\"3\", label=\"Cleanliness\")\n",
    "Online_boarding = gr.inputs.Dropdown(list(range(0, 6)), default=\"3\", label=\"Online Boarding\")\n",
    "Departure_Delay_in_Minutes = gr.inputs.Dropdown(list(range(0, 6)), default=\"3\", label=\"Deapture delay in minutes\")\n",
    "Arrival_Delay_in_Minutes = gr.inputs.Dropdown(list(range(0, 6)), default=\"3\", label=\"Arrival delay in minutes\")\n",
    "\n",
    "\n",
    "gr.Interface(predict_satisfaction, [Gender,Customer_Type,Type_of_Travel,Class,Age,Flight_Distance,Seat_comfort,Departure_Arrival_time_convenient,Food_and_drink,Gate_loaction,Inflight_wifi_service,Inflight_entertainment,Online_support,Ease_of_Online_booking,On_board_service,Leg_room_service,Baggage_handling,Checkin_service,Cleanliness,Online_boarding,Departure_Delay_in_Minutes,Arrival_Delay_in_Minutes], \"text\", live=False).launch(debug=True);"
   ]
  },
  {
   "cell_type": "code",
   "execution_count": null,
   "metadata": {},
   "outputs": [],
   "source": []
  }
 ],
 "metadata": {
  "kernelspec": {
   "display_name": "Python 3",
   "language": "python",
   "name": "python3"
  },
  "language_info": {
   "codemirror_mode": {
    "name": "ipython",
    "version": 3
   },
   "file_extension": ".py",
   "mimetype": "text/x-python",
   "name": "python",
   "nbconvert_exporter": "python",
   "pygments_lexer": "ipython3",
   "version": "3.8.3"
  }
 },
 "nbformat": 4,
 "nbformat_minor": 4
}
