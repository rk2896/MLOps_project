{
 "cells": [
  {
   "cell_type": "code",
   "execution_count": 2,
   "metadata": {},
   "outputs": [
    {
     "name": "stderr",
     "output_type": "stream",
     "text": [
      "ERROR: After October 2020 you may experience errors when installing or updating packages. This is because pip will change the way that it resolves dependency conflicts.\n",
      "\n",
      "We recommend you use --use-feature=2020-resolver to test your packages with the new resolver before it becomes the default.\n",
      "\n",
      "model-card-toolkit 1.1.0 requires jinja2<3,>=2.10, but you'll have jinja2 3.0.3 which is incompatible.\n",
      "WARNING: You are using pip version 20.2; however, version 21.3.1 is available.\n",
      "You should consider upgrading via the 'c:\\users\\admin\\.conda\\envs\\mlopslab\\python.exe -m pip install --upgrade pip' command.\n"
     ]
    }
   ],
   "source": [
    "# INFO: run this cell if the below three packages are not installed\n",
    "# !pip install wandb\n",
    "# !pip install onnxruntime\n",
    "!pip install -q gradio"
   ]
  },
  {
   "cell_type": "markdown",
   "metadata": {},
   "source": [
    "# Load packages"
   ]
  },
  {
   "cell_type": "code",
   "execution_count": null,
   "metadata": {},
   "outputs": [],
   "source": [
    "import pandas as pd\n",
    "import numpy as np\n",
    "import onnxruntime as rt\n",
    "from gradio import gradio as gr"
   ]
  },
  {
   "cell_type": "code",
   "execution_count": null,
   "metadata": {},
   "outputs": [],
   "source": [
    "from IPython.core.interactiveshell import InteractiveShell\n",
    "InteractiveShell.ast_node_interactivity = \"all\""
   ]
  },
  {
   "cell_type": "code",
   "execution_count": 46,
   "metadata": {},
   "outputs": [],
   "source": [
    "cat_features = ['Gender','Customer_Type','Type_of_Travel','Class']\n",
    "num_features = ['Age','Flight_Distance','Seat_comfort','Departure_Arrival_time_convenient','Food_and_drink','Gate_location',\n",
    "                'Inflight_wifi_service','Inflight_entertainment','Online_support','Ease_of_Online_booking','Onboard_service',\n",
    "                'Leg_room_service','Baggage_handling','Checkin_service','Cleanliness','Online_boarding','Departure_Delay_in_Minutes',\n",
    "                'Arrival_Delay_in_Minutes']"
   ]
  },
  {
   "cell_type": "markdown",
   "metadata": {},
   "source": [
    "# Define action for interface"
   ]
  },
  {
   "cell_type": "code",
   "execution_count": 53,
   "metadata": {},
   "outputs": [],
   "source": [
    "def predict_satisfaction(Gender,Customer_Type,Type_of_Travel,Class,Age,Flight_Distance,Seat_comfort,\n",
    "                        Departure_Arrival_time_convenient,Food_and_drink,Gate_loaction,Inflight_wifi_service,\n",
    "                        Inflight_entertainment,Online_support,Ease_of_Online_booking,On_board_service,Leg_room_service,\n",
    "                        Baggage_handling,Checkin_service,Cleanliness,Online_boarding,Departure_Delay_in_Minutes,\n",
    "                        Arrival_Delay_in_Minutes):\n",
    "\n",
    "    inputs_dict = {'Gender' : Gender, \n",
    "                'Customer_Type': Customer_Type, \n",
    "                'Type_of_Travel': Type_of_Travel, \n",
    "                'Class': Class, \n",
    "                'Age': float(Age), \n",
    "                'Flight_Distance': float(Flight_Distance), \n",
    "                'Seat_comfort': float(Seat_comfort), \n",
    "                'Departure_Arrival_time_convenient': float(Departure_Arrival_time_convenient), \n",
    "                'Food_and_drink': float(Food_and_drink),\n",
    "                'Gate_location': float(Gate_loaction),\n",
    "                'Inflight_wifi_service' : float(Inflight_wifi_service),                \n",
    "                'Inflight_entertainment': float(Inflight_entertainment), \n",
    "                'Online_support': float(Online_support), \n",
    "                'Ease_of_Online_booking': float(Ease_of_Online_booking), \n",
    "                'Onboard_service': float(On_board_service),\n",
    "                'Leg_room_service': float(Leg_room_service),\n",
    "                'Baggage_handling': float(Baggage_handling),\n",
    "                'Checkin_service': float(Checkin_service),\n",
    "                'Cleanliness': float(Cleanliness),\n",
    "                'Online_boarding': float(Online_boarding),\n",
    "                'Departure_Delay_in_Minutes': float(Departure_Delay_in_Minutes),\n",
    "                'Arrival_Delay_in_Minutes': float(Arrival_Delay_in_Minutes)\n",
    "                }\n",
    "\n",
    "    df = pd.DataFrame(inputs_dict, index = [0])\n",
    "    ## DEBUG: uncomment to see what the data looks like; \n",
    "    # print(df)\n",
    "\n",
    "    inputs = {c: df[c].values for c in df.columns}\n",
    "    for c in num_features:\n",
    "        inputs[c] = inputs[c].astype(np.float32)\n",
    "\n",
    "    for k in inputs:\n",
    "        inputs[k] = inputs[k].reshape((inputs[k].shape[0], 1))\n",
    "    \n",
    "    # INFO: load the model into the session\n",
    "    sess = rt.InferenceSession('../models/satisfaction_XGB_1.onnx')\n",
    "    \n",
    "    ## INFO: uncomment to understand the ONNX input and output structure\n",
    "    # sess_input = sess.get_inputs()\n",
    "    # sess_output = sess.get_outputs()\n",
    "    # print(f\"No. of inputs : {len(sess_input)}, No. of outputs : {len(sess_output)}\")\n",
    "\n",
    "    # for idx, input_ in enumerate(range(len(sess_input))):\n",
    "    #     input_name = sess_input[input_].name\n",
    "    #     input_shape = sess_input[input_].shape\n",
    "    #     input_type = sess_input[input_].type\n",
    "    #     print(f\"{idx} Input name : { input_name }, Input shape : {input_shape}, \\\n",
    "    #     Input type  : {input_type}\")  \n",
    "\n",
    "    # INFO: run the inputs through the model and make prediction\n",
    "    pred_onx = sess.run(None, inputs)\n",
    "    prediction = pred_onx[0][0]\n",
    "    return f'The customer is expected to be {prediction.upper()}.'"
   ]
  },
  {
   "cell_type": "markdown",
   "metadata": {},
   "source": [
    "# Define input types for the interface and run the Interface"
   ]
  },
  {
   "cell_type": "code",
   "execution_count": 54,
   "metadata": {},
   "outputs": [
    {
     "name": "stdout",
     "output_type": "stream",
     "text": [
      "Running on local URL:  http://127.0.0.1:7880/\n",
      "\n",
      "To create a public link, set `share=True` in `launch()`.\n"
     ]
    },
    {
     "data": {
      "text/html": [
       "\n",
       "        <iframe\n",
       "            width=\"900\"\n",
       "            height=\"500\"\n",
       "            src=\"http://127.0.0.1:7880/\"\n",
       "            frameborder=\"0\"\n",
       "            allowfullscreen\n",
       "        ></iframe>\n",
       "        "
      ],
      "text/plain": [
       "<IPython.lib.display.IFrame at 0x1c5940d2cd0>"
      ]
     },
     "metadata": {},
     "output_type": "display_data"
    },
    {
     "ename": "KeyboardInterrupt",
     "evalue": "",
     "output_type": "error",
     "traceback": [
      "\u001b[1;31m---------------------------------------------------------------------------\u001b[0m",
      "\u001b[1;31mKeyboardInterrupt\u001b[0m                         Traceback (most recent call last)",
      "\u001b[1;32m~\\AppData\\Local\\Temp/ipykernel_4872/2809685252.py\u001b[0m in \u001b[0;36m<module>\u001b[1;34m\u001b[0m\n\u001b[0;32m     23\u001b[0m \u001b[1;33m\u001b[0m\u001b[0m\n\u001b[0;32m     24\u001b[0m \u001b[1;33m\u001b[0m\u001b[0m\n\u001b[1;32m---> 25\u001b[1;33m gr.Interface(predict_satisfaction, [Gender,Customer_Type,Type_of_Travel,Class,Age,Flight_Distance,Seat_comfort,\n\u001b[0m\u001b[0;32m     26\u001b[0m             \u001b[0mDeparture_Arrival_time_convenient\u001b[0m\u001b[1;33m,\u001b[0m\u001b[0mFood_and_drink\u001b[0m\u001b[1;33m,\u001b[0m\u001b[0mGate_loaction\u001b[0m\u001b[1;33m,\u001b[0m\u001b[0mInflight_wifi_service\u001b[0m\u001b[1;33m,\u001b[0m\u001b[0mInflight_entertainment\u001b[0m\u001b[1;33m,\u001b[0m\u001b[1;33m\u001b[0m\u001b[1;33m\u001b[0m\u001b[0m\n\u001b[0;32m     27\u001b[0m             \u001b[0mOnline_support\u001b[0m\u001b[1;33m,\u001b[0m\u001b[0mEase_of_Online_booking\u001b[0m\u001b[1;33m,\u001b[0m\u001b[0mOn_board_service\u001b[0m\u001b[1;33m,\u001b[0m\u001b[0mLeg_room_service\u001b[0m\u001b[1;33m,\u001b[0m\u001b[0mBaggage_handling\u001b[0m\u001b[1;33m,\u001b[0m\u001b[0mCheckin_service\u001b[0m\u001b[1;33m,\u001b[0m\u001b[1;33m\u001b[0m\u001b[1;33m\u001b[0m\u001b[0m\n",
      "\u001b[1;32m~\\.conda\\envs\\mlopslab\\lib\\site-packages\\gradio\\interface.py\u001b[0m in \u001b[0;36mlaunch\u001b[1;34m(self, inline, inbrowser, share, debug, auth, auth_message, private_endpoint, prevent_thread_lock, show_error)\u001b[0m\n\u001b[0;32m    644\u001b[0m             \u001b[1;32mwhile\u001b[0m \u001b[1;32mTrue\u001b[0m\u001b[1;33m:\u001b[0m\u001b[1;33m\u001b[0m\u001b[1;33m\u001b[0m\u001b[0m\n\u001b[0;32m    645\u001b[0m                 \u001b[0msys\u001b[0m\u001b[1;33m.\u001b[0m\u001b[0mstdout\u001b[0m\u001b[1;33m.\u001b[0m\u001b[0mflush\u001b[0m\u001b[1;33m(\u001b[0m\u001b[1;33m)\u001b[0m\u001b[1;33m\u001b[0m\u001b[1;33m\u001b[0m\u001b[0m\n\u001b[1;32m--> 646\u001b[1;33m                 \u001b[0mtime\u001b[0m\u001b[1;33m.\u001b[0m\u001b[0msleep\u001b[0m\u001b[1;33m(\u001b[0m\u001b[1;36m0.1\u001b[0m\u001b[1;33m)\u001b[0m\u001b[1;33m\u001b[0m\u001b[1;33m\u001b[0m\u001b[0m\n\u001b[0m\u001b[0;32m    647\u001b[0m         is_in_interactive_mode = bool(\n\u001b[0;32m    648\u001b[0m             getattr(sys, 'ps1', sys.flags.interactive))\n",
      "\u001b[1;31mKeyboardInterrupt\u001b[0m: "
     ]
    }
   ],
   "source": [
    "Gender = gr.inputs.Radio(['Male','Female'], default=\"Male\", label=\"Gender\")\n",
    "Customer_Type = gr.inputs.Radio(['Loyal Customer','disloyal Customer'], default=\"Loyal Customer\", label=\"Type of Customer\")\n",
    "Type_of_Travel = gr.inputs.Radio(['Business travel','Personal Travel'], default=\"Personal Travel\", label=\"Type of Travel\")\n",
    "Class = gr.inputs.Radio(['Business','Eco', 'Eco Plus'], default=\"Eco\", label=\"Class of travel\")\n",
    "Age = gr.inputs.Slider(minimum=1, maximum=100, default=20, label=\"Age\")\n",
    "Flight_Distance = gr.inputs.Slider(minimum=10, maximum=10000, label=\"Flight Distance\")\n",
    "Seat_comfort = gr.inputs.Dropdown(list(range(0, 6)), default=3, label=\"Seat comfort\")\n",
    "Departure_Arrival_time_convenient = gr.inputs.Dropdown(list(range(0, 6)), default=3, label=\"Depature/Arrivel time convenient\")\n",
    "Food_and_drink = gr.inputs.Dropdown(list(range(0, 6)), default=3, label=\"Food and Drink\")\n",
    "Gate_loaction = gr.inputs.Dropdown(list(range(0, 6)), default=3, label=\"Gate location\")\n",
    "Inflight_wifi_service = gr.inputs.Dropdown(list(range(0, 6)), default=3, label=\"Inflight wifi service\")\n",
    "Inflight_entertainment = gr.inputs.Dropdown(list(range(0, 6)), default=3, label=\"Inflight entertainment\")\n",
    "Online_support = gr.inputs.Dropdown(list(range(0, 6)), default=3, label=\"Online support\")\n",
    "Ease_of_Online_booking = gr.inputs.Dropdown(list(range(0, 6)), default=3, label=\"Ease of Online booking\")\n",
    "On_board_service = gr.inputs.Dropdown(list(range(0, 6)), default=3, label=\"On board service\")\n",
    "Leg_room_service = gr.inputs.Dropdown(list(range(0, 6)), default=3, label=\"Leg room service\")\n",
    "Baggage_handling = gr.inputs.Dropdown(list(range(0, 6)), default=3, label=\"Baggage handling\")\n",
    "Checkin_service = gr.inputs.Dropdown(list(range(0, 6)), default=3, label=\"Checkin Service\")\n",
    "Cleanliness = gr.inputs.Dropdown(list(range(0, 6)), default=3, label=\"Cleanliness\")\n",
    "Online_boarding = gr.inputs.Dropdown(list(range(0, 6)), default=3, label=\"Online Boarding\")\n",
    "Departure_Delay_in_Minutes = gr.inputs.Dropdown(list(range(0, 6)), default=3, label=\"Deapture delay in minutes\")\n",
    "Arrival_Delay_in_Minutes = gr.inputs.Dropdown(list(range(0, 6)), default=3, label=\"Arrival delay in minutes\")\n",
    "\n",
    "\n",
    "gr.Interface(predict_satisfaction, [Gender,Customer_Type,Type_of_Travel,Class,Age,Flight_Distance,Seat_comfort,\n",
    "            Departure_Arrival_time_convenient,Food_and_drink,Gate_loaction,Inflight_wifi_service,Inflight_entertainment,\n",
    "            Online_support,Ease_of_Online_booking,On_board_service,Leg_room_service,Baggage_handling,Checkin_service,\n",
    "            Cleanliness,Online_boarding,Departure_Delay_in_Minutes,Arrival_Delay_in_Minutes], \"text\", live=False).launch(debug=True);\n",
    "gr.Interface()            "
   ]
  },
  {
   "cell_type": "markdown",
   "metadata": {},
   "source": [
    "# END OF NOTEBOOK"
   ]
  }
 ],
 "metadata": {
  "kernelspec": {
   "display_name": "Python 3",
   "language": "python",
   "name": "python3"
  },
  "language_info": {
   "codemirror_mode": {
    "name": "ipython",
    "version": 3
   },
   "file_extension": ".py",
   "mimetype": "text/x-python",
   "name": "python",
   "nbconvert_exporter": "python",
   "pygments_lexer": "ipython3",
   "version": "3.8.12"
  }
 },
 "nbformat": 4,
 "nbformat_minor": 4
}
