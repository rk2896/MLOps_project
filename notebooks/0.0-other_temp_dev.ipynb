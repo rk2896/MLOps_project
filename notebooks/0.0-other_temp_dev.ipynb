{
 "cells": [
  {
   "cell_type": "code",
   "execution_count": 1,
   "metadata": {},
   "outputs": [],
   "source": [
    "import pandas as pd\n",
    "import numpy as np\n",
    "import seaborn as sns\n",
    "import statsmodels.api as sm\n",
    "import matplotlib.pylab as plt\n",
    "\n",
    "from sklearn.model_selection import train_test_split, cross_val_score, GridSearchCV, RandomizedSearchCV\n",
    "from sklearn.preprocessing import OneHotEncoder, StandardScaler\n",
    "from sklearn.compose import ColumnTransformer\n",
    "from sklearn.pipeline import Pipeline\n",
    "from sklearn import tree\n",
    "from sklearn.linear_model import LogisticRegression\n",
    "from sklearn import metrics\n",
    "from sklearn.metrics import confusion_matrix, classification_report, SCORERS\n",
    "from sklearn import ensemble\n",
    "\n",
    "# !pip install xgboost #uncomment of xgboost not installed\n",
    "import xgboost as xgb\n",
    "from xgboost.sklearn import XGBClassifier\n",
    "\n",
    "from six import StringIO\n",
    "from IPython.display import Image\n",
    "# !pip install pydotplus #uncomment if pydotplus not installed\n",
    "import pydotplus\n",
    "import graphviz\n",
    "\n",
    "import h2o\n",
    "from h2o.automl import H2OAutoML\n",
    "from h2o.estimators import H2OTargetEncoderEstimator"
   ]
  },
  {
   "cell_type": "code",
   "execution_count": 20,
   "metadata": {},
   "outputs": [],
   "source": [
    "from IPython.core.interactiveshell import InteractiveShell\n",
    "InteractiveShell.ast_node_interactivity = \"all\""
   ]
  },
  {
   "cell_type": "markdown",
   "metadata": {},
   "source": [
    "# Loading the dataset into pandas dataframe"
   ]
  },
  {
   "cell_type": "code",
   "execution_count": 21,
   "metadata": {},
   "outputs": [],
   "source": [
    "train_df = pd.read_pickle(\"..\\Data\\interim\\\\train.pkl\")"
   ]
  },
  {
   "cell_type": "code",
   "execution_count": 22,
   "metadata": {},
   "outputs": [],
   "source": [
    "test_df = pd.read_pickle(\"..\\Data\\interim\\\\test.pkl\")"
   ]
  },
  {
   "cell_type": "code",
   "execution_count": 23,
   "metadata": {},
   "outputs": [],
   "source": [
    "validate_df = pd.read_pickle(\"..\\Data\\interim\\\\validate.pkl\")"
   ]
  },
  {
   "cell_type": "code",
   "execution_count": 24,
   "metadata": {},
   "outputs": [],
   "source": [
    "production_df = pd.read_pickle(\"..\\Data\\interim\\\\data.pkl\")"
   ]
  },
  {
   "cell_type": "code",
   "execution_count": 25,
   "metadata": {},
   "outputs": [],
   "source": [
    "X_train = train_df.drop(\"satisfaction\",axis=1).copy()"
   ]
  },
  {
   "cell_type": "code",
   "execution_count": 26,
   "metadata": {},
   "outputs": [],
   "source": [
    "y_train = train_df[\"satisfaction\"].copy()"
   ]
  },
  {
   "cell_type": "code",
   "execution_count": 27,
   "metadata": {},
   "outputs": [],
   "source": [
    "X_test = test_df.drop(\"satisfaction\",axis=1).copy()"
   ]
  },
  {
   "cell_type": "code",
   "execution_count": 28,
   "metadata": {},
   "outputs": [],
   "source": [
    "y_test = test_df[\"satisfaction\"].copy()"
   ]
  },
  {
   "cell_type": "code",
   "execution_count": 29,
   "metadata": {},
   "outputs": [
    {
     "data": {
      "text/html": [
       "<div>\n",
       "<style scoped>\n",
       "    .dataframe tbody tr th:only-of-type {\n",
       "        vertical-align: middle;\n",
       "    }\n",
       "\n",
       "    .dataframe tbody tr th {\n",
       "        vertical-align: top;\n",
       "    }\n",
       "\n",
       "    .dataframe thead th {\n",
       "        text-align: right;\n",
       "    }\n",
       "</style>\n",
       "<table border=\"1\" class=\"dataframe\">\n",
       "  <thead>\n",
       "    <tr style=\"text-align: right;\">\n",
       "      <th></th>\n",
       "      <th>Gender</th>\n",
       "      <th>Customer Type</th>\n",
       "      <th>Age</th>\n",
       "      <th>Type of Travel</th>\n",
       "      <th>Class</th>\n",
       "      <th>Flight Distance</th>\n",
       "      <th>Seat comfort</th>\n",
       "      <th>Departure/Arrival time convenient</th>\n",
       "      <th>Food and drink</th>\n",
       "      <th>Gate location</th>\n",
       "      <th>...</th>\n",
       "      <th>Online support</th>\n",
       "      <th>Ease of Online booking</th>\n",
       "      <th>On-board service</th>\n",
       "      <th>Leg room service</th>\n",
       "      <th>Baggage handling</th>\n",
       "      <th>Checkin service</th>\n",
       "      <th>Cleanliness</th>\n",
       "      <th>Online boarding</th>\n",
       "      <th>Departure Delay in Minutes</th>\n",
       "      <th>Arrival Delay in Minutes</th>\n",
       "    </tr>\n",
       "  </thead>\n",
       "  <tbody>\n",
       "    <tr>\n",
       "      <th>103044</th>\n",
       "      <td>Female</td>\n",
       "      <td>Loyal Customer</td>\n",
       "      <td>59</td>\n",
       "      <td>Business travel</td>\n",
       "      <td>Business</td>\n",
       "      <td>1470</td>\n",
       "      <td>4</td>\n",
       "      <td>4</td>\n",
       "      <td>4</td>\n",
       "      <td>4</td>\n",
       "      <td>...</td>\n",
       "      <td>4</td>\n",
       "      <td>4</td>\n",
       "      <td>4</td>\n",
       "      <td>4</td>\n",
       "      <td>4</td>\n",
       "      <td>5</td>\n",
       "      <td>4</td>\n",
       "      <td>3</td>\n",
       "      <td>7</td>\n",
       "      <td>0.0</td>\n",
       "    </tr>\n",
       "    <tr>\n",
       "      <th>43282</th>\n",
       "      <td>Female</td>\n",
       "      <td>disloyal Customer</td>\n",
       "      <td>22</td>\n",
       "      <td>Business travel</td>\n",
       "      <td>Eco</td>\n",
       "      <td>1771</td>\n",
       "      <td>1</td>\n",
       "      <td>1</td>\n",
       "      <td>1</td>\n",
       "      <td>4</td>\n",
       "      <td>...</td>\n",
       "      <td>5</td>\n",
       "      <td>4</td>\n",
       "      <td>3</td>\n",
       "      <td>4</td>\n",
       "      <td>3</td>\n",
       "      <td>1</td>\n",
       "      <td>4</td>\n",
       "      <td>4</td>\n",
       "      <td>0</td>\n",
       "      <td>0.0</td>\n",
       "    </tr>\n",
       "    <tr>\n",
       "      <th>65543</th>\n",
       "      <td>Male</td>\n",
       "      <td>Loyal Customer</td>\n",
       "      <td>55</td>\n",
       "      <td>Business travel</td>\n",
       "      <td>Business</td>\n",
       "      <td>3657</td>\n",
       "      <td>0</td>\n",
       "      <td>5</td>\n",
       "      <td>0</td>\n",
       "      <td>2</td>\n",
       "      <td>...</td>\n",
       "      <td>4</td>\n",
       "      <td>4</td>\n",
       "      <td>4</td>\n",
       "      <td>4</td>\n",
       "      <td>4</td>\n",
       "      <td>3</td>\n",
       "      <td>4</td>\n",
       "      <td>3</td>\n",
       "      <td>12</td>\n",
       "      <td>8.0</td>\n",
       "    </tr>\n",
       "    <tr>\n",
       "      <th>65083</th>\n",
       "      <td>Female</td>\n",
       "      <td>Loyal Customer</td>\n",
       "      <td>41</td>\n",
       "      <td>Business travel</td>\n",
       "      <td>Business</td>\n",
       "      <td>1796</td>\n",
       "      <td>0</td>\n",
       "      <td>4</td>\n",
       "      <td>0</td>\n",
       "      <td>1</td>\n",
       "      <td>...</td>\n",
       "      <td>5</td>\n",
       "      <td>3</td>\n",
       "      <td>3</td>\n",
       "      <td>3</td>\n",
       "      <td>3</td>\n",
       "      <td>5</td>\n",
       "      <td>3</td>\n",
       "      <td>3</td>\n",
       "      <td>0</td>\n",
       "      <td>0.0</td>\n",
       "    </tr>\n",
       "    <tr>\n",
       "      <th>76496</th>\n",
       "      <td>Male</td>\n",
       "      <td>Loyal Customer</td>\n",
       "      <td>42</td>\n",
       "      <td>Business travel</td>\n",
       "      <td>Eco</td>\n",
       "      <td>1709</td>\n",
       "      <td>2</td>\n",
       "      <td>3</td>\n",
       "      <td>3</td>\n",
       "      <td>3</td>\n",
       "      <td>...</td>\n",
       "      <td>2</td>\n",
       "      <td>2</td>\n",
       "      <td>4</td>\n",
       "      <td>4</td>\n",
       "      <td>4</td>\n",
       "      <td>1</td>\n",
       "      <td>3</td>\n",
       "      <td>2</td>\n",
       "      <td>0</td>\n",
       "      <td>0.0</td>\n",
       "    </tr>\n",
       "  </tbody>\n",
       "</table>\n",
       "<p>5 rows × 22 columns</p>\n",
       "</div>"
      ],
      "text/plain": [
       "        Gender      Customer Type  Age   Type of Travel     Class  \\\n",
       "103044  Female     Loyal Customer   59  Business travel  Business   \n",
       "43282   Female  disloyal Customer   22  Business travel       Eco   \n",
       "65543     Male     Loyal Customer   55  Business travel  Business   \n",
       "65083   Female     Loyal Customer   41  Business travel  Business   \n",
       "76496     Male     Loyal Customer   42  Business travel       Eco   \n",
       "\n",
       "        Flight Distance  Seat comfort  Departure/Arrival time convenient  \\\n",
       "103044             1470             4                                  4   \n",
       "43282              1771             1                                  1   \n",
       "65543              3657             0                                  5   \n",
       "65083              1796             0                                  4   \n",
       "76496              1709             2                                  3   \n",
       "\n",
       "        Food and drink  Gate location  ...  Online support  \\\n",
       "103044               4              4  ...               4   \n",
       "43282                1              4  ...               5   \n",
       "65543                0              2  ...               4   \n",
       "65083                0              1  ...               5   \n",
       "76496                3              3  ...               2   \n",
       "\n",
       "        Ease of Online booking  On-board service  Leg room service  \\\n",
       "103044                       4                 4                 4   \n",
       "43282                        4                 3                 4   \n",
       "65543                        4                 4                 4   \n",
       "65083                        3                 3                 3   \n",
       "76496                        2                 4                 4   \n",
       "\n",
       "        Baggage handling  Checkin service  Cleanliness  Online boarding  \\\n",
       "103044                 4                5            4                3   \n",
       "43282                  3                1            4                4   \n",
       "65543                  4                3            4                3   \n",
       "65083                  3                5            3                3   \n",
       "76496                  4                1            3                2   \n",
       "\n",
       "        Departure Delay in Minutes  Arrival Delay in Minutes  \n",
       "103044                           7                       0.0  \n",
       "43282                            0                       0.0  \n",
       "65543                           12                       8.0  \n",
       "65083                            0                       0.0  \n",
       "76496                            0                       0.0  \n",
       "\n",
       "[5 rows x 22 columns]"
      ]
     },
     "execution_count": 29,
     "metadata": {},
     "output_type": "execute_result"
    }
   ],
   "source": [
    "X_train.head()"
   ]
  },
  {
   "cell_type": "code",
   "execution_count": 30,
   "metadata": {},
   "outputs": [
    {
     "name": "stdout",
     "output_type": "stream",
     "text": [
      "<class 'pandas.core.frame.DataFrame'>\n",
      "Int64Index: 77928 entries, 103044 to 109671\n",
      "Data columns (total 22 columns):\n",
      " #   Column                             Non-Null Count  Dtype  \n",
      "---  ------                             --------------  -----  \n",
      " 0   Gender                             77928 non-null  object \n",
      " 1   Customer Type                      77928 non-null  object \n",
      " 2   Age                                77928 non-null  int64  \n",
      " 3   Type of Travel                     77928 non-null  object \n",
      " 4   Class                              77928 non-null  object \n",
      " 5   Flight Distance                    77928 non-null  int64  \n",
      " 6   Seat comfort                       77928 non-null  int64  \n",
      " 7   Departure/Arrival time convenient  77928 non-null  int64  \n",
      " 8   Food and drink                     77928 non-null  int64  \n",
      " 9   Gate location                      77928 non-null  int64  \n",
      " 10  Inflight wifi service              77928 non-null  int64  \n",
      " 11  Inflight entertainment             77928 non-null  int64  \n",
      " 12  Online support                     77928 non-null  int64  \n",
      " 13  Ease of Online booking             77928 non-null  int64  \n",
      " 14  On-board service                   77928 non-null  int64  \n",
      " 15  Leg room service                   77928 non-null  int64  \n",
      " 16  Baggage handling                   77928 non-null  int64  \n",
      " 17  Checkin service                    77928 non-null  int64  \n",
      " 18  Cleanliness                        77928 non-null  int64  \n",
      " 19  Online boarding                    77928 non-null  int64  \n",
      " 20  Departure Delay in Minutes         77928 non-null  int64  \n",
      " 21  Arrival Delay in Minutes           77713 non-null  float64\n",
      "dtypes: float64(1), int64(17), object(4)\n",
      "memory usage: 13.7+ MB\n"
     ]
    }
   ],
   "source": [
    "X_train.info()"
   ]
  },
  {
   "cell_type": "markdown",
   "metadata": {},
   "source": [
    "## Checking for class-imbalance"
   ]
  },
  {
   "cell_type": "code",
   "execution_count": 182,
   "metadata": {},
   "outputs": [
    {
     "name": "stdout",
     "output_type": "stream",
     "text": [
      "satisfied       42452\n",
      "dissatisfied    35240\n",
      "Name: satisfaction, dtype: int64\n"
     ]
    },
    {
     "data": {
      "text/plain": [
       "<matplotlib.axes._subplots.AxesSubplot at 0x1e7c91ecb20>"
      ]
     },
     "execution_count": 182,
     "metadata": {},
     "output_type": "execute_result"
    },
    {
     "data": {
      "image/png": "[encoded data removed]",
      "text/plain": [
       "<Figure size 432x288 with 1 Axes>"
      ]
     },
     "metadata": {
      "needs_background": "light"
     },
     "output_type": "display_data"
    }
   ],
   "source": [
    "x=y_train.value_counts()\n",
    "print(x)\n",
    "sns.barplot(x.index,x)"
   ]
  },
  {
   "cell_type": "code",
   "execution_count": 183,
   "metadata": {},
   "outputs": [
    {
     "name": "stdout",
     "output_type": "stream",
     "text": [
      "satisfied       14184\n",
      "dissatisfied    11713\n",
      "Name: satisfaction, dtype: int64\n"
     ]
    },
    {
     "data": {
      "text/plain": [
       "<matplotlib.axes._subplots.AxesSubplot at 0x1e7c935a2b0>"
      ]
     },
     "execution_count": 183,
     "metadata": {},
     "output_type": "execute_result"
    },
    {
     "data": {
      "image/png": "[encoded data removed]",
      "text/plain": [
       "<Figure size 432x288 with 1 Axes>"
      ]
     },
     "metadata": {
      "needs_background": "light"
     },
     "output_type": "display_data"
    }
   ],
   "source": [
    "x=y_test.value_counts()\n",
    "print(x)\n",
    "sns.barplot(x.index,x)"
   ]
  },
  {
   "cell_type": "markdown",
   "metadata": {},
   "source": [
    "## Categorical and numerical features"
   ]
  },
  {
   "cell_type": "code",
   "execution_count": 184,
   "metadata": {},
   "outputs": [],
   "source": [
    "numerical_features = [x for x in X_train.select_dtypes(exclude = np.object)]\n",
    "categorical_features = [x for x in X_train.select_dtypes(include = np.object)]"
   ]
  },
  {
   "cell_type": "code",
   "execution_count": 185,
   "metadata": {},
   "outputs": [
    {
     "name": "stdout",
     "output_type": "stream",
     "text": [
      "The numerical features of the dataset are \n",
      "Age\n",
      "Flight Distance\n",
      "Seat comfort\n",
      "Departure/Arrival time convenient\n",
      "Food and drink\n",
      "Gate location\n",
      "Inflight wifi service\n",
      "Inflight entertainment\n",
      "Online support\n",
      "Ease of Online booking\n",
      "On-board service\n",
      "Leg room service\n",
      "Baggage handling\n",
      "Checkin service\n",
      "Cleanliness\n",
      "Online boarding\n",
      "Departure Delay in Minutes\n",
      "Arrival Delay in Minutes\n"
     ]
    }
   ],
   "source": [
    "print(\"The numerical features of the dataset are \")\n",
    "for p in numerical_features: print(p)"
   ]
  },
  {
   "cell_type": "code",
   "execution_count": 186,
   "metadata": {},
   "outputs": [
    {
     "name": "stdout",
     "output_type": "stream",
     "text": [
      "The categorical features of the dataset are \n",
      "Gender\n",
      "Customer Type\n",
      "Type of Travel\n",
      "Class\n"
     ]
    }
   ],
   "source": [
    "print(\"The categorical features of the dataset are \")\n",
    "for p in categorical_features: print(p)"
   ]
  },
  {
   "cell_type": "code",
   "execution_count": 187,
   "metadata": {},
   "outputs": [
    {
     "name": "stdout",
     "output_type": "stream",
     "text": [
      "\n",
      "The unique labels in Gender is ['Male' 'Female']\n",
      "\n",
      "The values in Gender is \n",
      "Female    39404\n",
      "Male      38288\n",
      "Name: Gender, dtype: int64\n",
      "\n",
      "\n",
      "The unique labels in Customer Type is ['Loyal Customer' 'disloyal Customer']\n",
      "\n",
      "The values in Customer Type is \n",
      "Loyal Customer       63358\n",
      "disloyal Customer    14334\n",
      "Name: Customer Type, dtype: int64\n",
      "\n",
      "\n",
      "The unique labels in Type of Travel is ['Business travel' 'Personal Travel']\n",
      "\n",
      "The values in Type of Travel is \n",
      "Business travel    53671\n",
      "Personal Travel    24021\n",
      "Name: Type of Travel, dtype: int64\n",
      "\n",
      "\n",
      "The unique labels in Class is ['Business' 'Eco' 'Eco Plus']\n",
      "\n",
      "The values in Class is \n",
      "Business    37174\n",
      "Eco         34916\n",
      "Eco Plus     5602\n",
      "Name: Class, dtype: int64\n",
      "\n"
     ]
    }
   ],
   "source": [
    "for f in categorical_features:\n",
    "    print(\"\\nThe unique labels in {} is {}\\n\".format(f, X_train[f].unique()))\n",
    "    print(\"The values in {} is \\n{}\\n\".format(f,  X_train[f].value_counts()))"
   ]
  },
  {
   "cell_type": "markdown",
   "metadata": {},
   "source": [
    "## Encode categorical variables"
   ]
  },
  {
   "cell_type": "code",
   "execution_count": 188,
   "metadata": {},
   "outputs": [],
   "source": [
    "ohe_encoder = OneHotEncoder(cols=categorical_features, use_cat_names=True)\n",
    "# tgt_encoder = Target"
   ]
  },
  {
   "cell_type": "code",
   "execution_count": 191,
   "metadata": {},
   "outputs": [
    {
     "data": {
      "text/plain": [
       "['Gender_Female',\n",
       " 'Gender_Male',\n",
       " 'Customer Type_Loyal Customer',\n",
       " 'Customer Type_disloyal Customer',\n",
       " 'Type of Travel_Business travel',\n",
       " 'Type of Travel_Personal Travel',\n",
       " 'Class_Business',\n",
       " 'Class_Eco',\n",
       " 'Class_Eco Plus']"
      ]
     },
     "execution_count": 191,
     "metadata": {},
     "output_type": "execute_result"
    }
   ],
   "source": [
    "ohe_encoder.fit(X_train[categorical_features], y=)\n",
    "encoded_cat_names = list(ohe_encoder.get_feature_names(categorical_features))\n",
    "encoded_cat_names"
   ]
  },
  {
   "cell_type": "markdown",
   "metadata": {},
   "source": [
    "## Creating pipeline"
   ]
  },
  {
   "cell_type": "code",
   "execution_count": 192,
   "metadata": {},
   "outputs": [],
   "source": [
    "numeric_transformer = Pipeline(steps=[\n",
    "    ('scaler', StandardScaler())])"
   ]
  },
  {
   "cell_type": "code",
   "execution_count": 193,
   "metadata": {},
   "outputs": [],
   "source": [
    "preprocessor = ColumnTransformer(\n",
    "    transformers=[        \n",
    "        ('num', numeric_transformer, numerical_features),\n",
    "        ('cat', ohe_encoder, categorical_features)\n",
    "        ])"
   ]
  },
  {
   "cell_type": "markdown",
   "metadata": {},
   "source": [
    "# Logistic Regression"
   ]
  },
  {
   "cell_type": "code",
   "execution_count": 194,
   "metadata": {},
   "outputs": [],
   "source": [
    "# do correlation analysis"
   ]
  },
  {
   "cell_type": "code",
   "execution_count": 201,
   "metadata": {},
   "outputs": [],
   "source": [
    "lg_reg_model= LogisticRegression(max_iter=10000, tol=0.1)"
   ]
  },
  {
   "cell_type": "code",
   "execution_count": 202,
   "metadata": {},
   "outputs": [],
   "source": [
    "lg_reg_v1 = Pipeline(steps=[('preprocessor', preprocessor),\n",
    "                          ('lg_reg', lg_reg_model)])"
   ]
  },
  {
   "cell_type": "code",
   "execution_count": 205,
   "metadata": {},
   "outputs": [
    {
     "data": {
      "text/plain": [
       "Pipeline(steps=[('preprocessor',\n",
       "                 ColumnTransformer(transformers=[('num',\n",
       "                                                  Pipeline(steps=[('scaler',\n",
       "                                                                   StandardScaler())]),\n",
       "                                                  ['Age', 'Flight Distance',\n",
       "                                                   'Seat comfort',\n",
       "                                                   'Departure/Arrival time '\n",
       "                                                   'convenient',\n",
       "                                                   'Food and drink',\n",
       "                                                   'Gate location',\n",
       "                                                   'Inflight wifi service',\n",
       "                                                   'Inflight entertainment',\n",
       "                                                   'Online support',\n",
       "                                                   'Ease of Online booking',\n",
       "                                                   'On-board service',\n",
       "                                                   'Leg room service',\n",
       "                                                   'Baggage handling',\n",
       "                                                   'Checkin service',\n",
       "                                                   'Cleanliness',\n",
       "                                                   'Online boarding',\n",
       "                                                   'Departure Delay in Minutes',\n",
       "                                                   'Arrival Delay in Minutes']),\n",
       "                                                 ('cat',\n",
       "                                                  OneHotEncoder(handle_unknown='ignore'),\n",
       "                                                  ['Gender', 'Customer Type',\n",
       "                                                   'Type of Travel',\n",
       "                                                   'Class'])])),\n",
       "                ('lg_reg', LogisticRegression(max_iter=10000, tol=0.1))])"
      ]
     },
     "execution_count": 205,
     "metadata": {},
     "output_type": "execute_result"
    }
   ],
   "source": [
    "lg_reg_v1.fit(X_train, y_train)"
   ]
  },
  {
   "cell_type": "markdown",
   "metadata": {},
   "source": [
    "## Prediction"
   ]
  },
  {
   "cell_type": "code",
   "execution_count": 206,
   "metadata": {},
   "outputs": [],
   "source": [
    "y_pred = lg_reg_v1.predict(X_test)"
   ]
  },
  {
   "cell_type": "code",
   "execution_count": 207,
   "metadata": {},
   "outputs": [],
   "source": [
    "y_df = pd.DataFrame({\"actual\": y_test,\n",
    "                     \"predicted\": y_pred,\n",
    "                     })"
   ]
  },
  {
   "cell_type": "code",
   "execution_count": 208,
   "metadata": {},
   "outputs": [
    {
     "data": {
      "text/html": [
       "<div>\n",
       "<style scoped>\n",
       "    .dataframe tbody tr th:only-of-type {\n",
       "        vertical-align: middle;\n",
       "    }\n",
       "\n",
       "    .dataframe tbody tr th {\n",
       "        vertical-align: top;\n",
       "    }\n",
       "\n",
       "    .dataframe thead th {\n",
       "        text-align: right;\n",
       "    }\n",
       "</style>\n",
       "<table border=\"1\" class=\"dataframe\">\n",
       "  <thead>\n",
       "    <tr style=\"text-align: right;\">\n",
       "      <th></th>\n",
       "      <th>actual</th>\n",
       "      <th>predicted</th>\n",
       "    </tr>\n",
       "  </thead>\n",
       "  <tbody>\n",
       "    <tr>\n",
       "      <th>0</th>\n",
       "      <td>dissatisfied</td>\n",
       "      <td>dissatisfied</td>\n",
       "    </tr>\n",
       "    <tr>\n",
       "      <th>1</th>\n",
       "      <td>satisfied</td>\n",
       "      <td>satisfied</td>\n",
       "    </tr>\n",
       "    <tr>\n",
       "      <th>2</th>\n",
       "      <td>satisfied</td>\n",
       "      <td>satisfied</td>\n",
       "    </tr>\n",
       "    <tr>\n",
       "      <th>3</th>\n",
       "      <td>dissatisfied</td>\n",
       "      <td>dissatisfied</td>\n",
       "    </tr>\n",
       "    <tr>\n",
       "      <th>4</th>\n",
       "      <td>satisfied</td>\n",
       "      <td>satisfied</td>\n",
       "    </tr>\n",
       "    <tr>\n",
       "      <th>5</th>\n",
       "      <td>satisfied</td>\n",
       "      <td>satisfied</td>\n",
       "    </tr>\n",
       "    <tr>\n",
       "      <th>6</th>\n",
       "      <td>satisfied</td>\n",
       "      <td>satisfied</td>\n",
       "    </tr>\n",
       "    <tr>\n",
       "      <th>7</th>\n",
       "      <td>satisfied</td>\n",
       "      <td>satisfied</td>\n",
       "    </tr>\n",
       "    <tr>\n",
       "      <th>8</th>\n",
       "      <td>dissatisfied</td>\n",
       "      <td>satisfied</td>\n",
       "    </tr>\n",
       "    <tr>\n",
       "      <th>9</th>\n",
       "      <td>satisfied</td>\n",
       "      <td>satisfied</td>\n",
       "    </tr>\n",
       "    <tr>\n",
       "      <th>10</th>\n",
       "      <td>dissatisfied</td>\n",
       "      <td>dissatisfied</td>\n",
       "    </tr>\n",
       "    <tr>\n",
       "      <th>11</th>\n",
       "      <td>dissatisfied</td>\n",
       "      <td>dissatisfied</td>\n",
       "    </tr>\n",
       "    <tr>\n",
       "      <th>12</th>\n",
       "      <td>dissatisfied</td>\n",
       "      <td>dissatisfied</td>\n",
       "    </tr>\n",
       "    <tr>\n",
       "      <th>13</th>\n",
       "      <td>satisfied</td>\n",
       "      <td>satisfied</td>\n",
       "    </tr>\n",
       "    <tr>\n",
       "      <th>14</th>\n",
       "      <td>satisfied</td>\n",
       "      <td>satisfied</td>\n",
       "    </tr>\n",
       "  </tbody>\n",
       "</table>\n",
       "</div>"
      ],
      "text/plain": [
       "          actual     predicted\n",
       "0   dissatisfied  dissatisfied\n",
       "1      satisfied     satisfied\n",
       "2      satisfied     satisfied\n",
       "3   dissatisfied  dissatisfied\n",
       "4      satisfied     satisfied\n",
       "5      satisfied     satisfied\n",
       "6      satisfied     satisfied\n",
       "7      satisfied     satisfied\n",
       "8   dissatisfied     satisfied\n",
       "9      satisfied     satisfied\n",
       "10  dissatisfied  dissatisfied\n",
       "11  dissatisfied  dissatisfied\n",
       "12  dissatisfied  dissatisfied\n",
       "13     satisfied     satisfied\n",
       "14     satisfied     satisfied"
      ]
     },
     "execution_count": 208,
     "metadata": {},
     "output_type": "execute_result"
    }
   ],
   "source": [
    "y_df.head(15)"
   ]
  },
  {
   "cell_type": "code",
   "execution_count": 215,
   "metadata": {},
   "outputs": [],
   "source": [
    "#get significant variables?"
   ]
  },
  {
   "cell_type": "markdown",
   "metadata": {},
   "source": [
    "## Confusion matrix"
   ]
  },
  {
   "cell_type": "code",
   "execution_count": 233,
   "metadata": {},
   "outputs": [],
   "source": [
    "def draw_cm( actual, predicted ):\n",
    "    plt.figure(figsize=(9,9))\n",
    "    cm = metrics.confusion_matrix( actual, predicted )\n",
    "    sns.heatmap(cm, annot=True,  fmt='.0f', xticklabels = [\"satisfied\", \"Not satisfied\"] , \n",
    "               yticklabels = [\"satisfied\", \"Not satisfied\"],cmap = 'Blues_r')\n",
    "    plt.ylabel('Actual')\n",
    "    plt.xlabel('Predicted')\n",
    "    plt.title('Classification Matrix Plot', size = 0.5);\n",
    "    plt.show()"
   ]
  },
  {
   "cell_type": "code",
   "execution_count": 234,
   "metadata": {},
   "outputs": [
    {
     "data": {
      "image/png": "[encoded data removed]",
      "text/plain": [
       "<Figure size 648x648 with 2 Axes>"
      ]
     },
     "metadata": {
      "needs_background": "light"
     },
     "output_type": "display_data"
    }
   ],
   "source": [
    "draw_cm( y_df.actual, y_df.predicted )"
   ]
  },
  {
   "cell_type": "markdown",
   "metadata": {},
   "source": [
    "## Performance measures"
   ]
  },
  {
   "cell_type": "code",
   "execution_count": 235,
   "metadata": {},
   "outputs": [],
   "source": [
    "def measure_performance (clasf_matrix):\n",
    "    measure = pd.DataFrame({\n",
    "                        'sensitivity': [round(clasf_matrix[0,0]/(clasf_matrix[0,0]+clasf_matrix[0,1]),2)], \n",
    "                        'specificity': [round(clasf_matrix[1,1]/(clasf_matrix[1,0]+clasf_matrix[1,1]),2)],\n",
    "                        'recall': [round(clasf_matrix[0,0]/(clasf_matrix[0,0]+clasf_matrix[0,1]),2)],\n",
    "                        'precision': [round(clasf_matrix[0,0]/(clasf_matrix[0,0]+clasf_matrix[1,0]),2)],\n",
    "                        'overall_acc': [round((clasf_matrix[0,0]+clasf_matrix[1,1])/\n",
    "                                              (clasf_matrix[0,0]+clasf_matrix[0,1]+clasf_matrix[1,0]+clasf_matrix[1,1]),2)]\n",
    "                       })\n",
    "    return measure"
   ]
  },
  {
   "cell_type": "code",
   "execution_count": 240,
   "metadata": {},
   "outputs": [
    {
     "data": {
      "text/html": [
       "<div>\n",
       "<style scoped>\n",
       "    .dataframe tbody tr th:only-of-type {\n",
       "        vertical-align: middle;\n",
       "    }\n",
       "\n",
       "    .dataframe tbody tr th {\n",
       "        vertical-align: top;\n",
       "    }\n",
       "\n",
       "    .dataframe thead th {\n",
       "        text-align: right;\n",
       "    }\n",
       "</style>\n",
       "<table border=\"1\" class=\"dataframe\">\n",
       "  <thead>\n",
       "    <tr style=\"text-align: right;\">\n",
       "      <th></th>\n",
       "      <th>sensitivity</th>\n",
       "      <th>specificity</th>\n",
       "      <th>recall</th>\n",
       "      <th>precision</th>\n",
       "      <th>overall_acc</th>\n",
       "    </tr>\n",
       "  </thead>\n",
       "  <tbody>\n",
       "    <tr>\n",
       "      <th>0</th>\n",
       "      <td>0.82</td>\n",
       "      <td>0.85</td>\n",
       "      <td>0.82</td>\n",
       "      <td>0.82</td>\n",
       "      <td>0.84</td>\n",
       "    </tr>\n",
       "  </tbody>\n",
       "</table>\n",
       "</div>"
      ],
      "text/plain": [
       "   sensitivity  specificity  recall  precision  overall_acc\n",
       "0         0.82         0.85    0.82       0.82         0.84"
      ]
     },
     "execution_count": 240,
     "metadata": {},
     "output_type": "execute_result"
    },
    {
     "name": "stdout",
     "output_type": "stream",
     "text": [
      "Total Accuracy:  0.84\n"
     ]
    }
   ],
   "source": [
    "cm = metrics.confusion_matrix(y_df.actual, y_df.predicted)\n",
    "lg_reg_metrics_df = pd.DataFrame(measure_performance(cm))\n",
    "lg_reg_metrics_df\n",
    "\n",
    "print( 'Total Accuracy: ',np.round( metrics.accuracy_score( y_df.actual, y_df.predicted ), 2 ))"
   ]
  },
  {
   "cell_type": "code",
   "execution_count": null,
   "metadata": {},
   "outputs": [],
   "source": []
  },
  {
   "cell_type": "code",
   "execution_count": 241,
   "metadata": {},
   "outputs": [],
   "source": [
    "def draw_roc( actual, probs ):\n",
    "    fpr, tpr, thresholds = metrics.roc_curve( actual, probs, drop_intermediate = False )\n",
    "    auc_score = metrics.roc_auc_score( actual, probs )\n",
    "    plt.figure(figsize=(10, 10))\n",
    "    plt.plot( fpr, tpr, label='ROC curve (area = %0.2f)' % auc_score )\n",
    "    plt.plot([0, 1], [0, 1], 'k--')\n",
    "    plt.xlim([0.0, 1.0])\n",
    "    plt.ylim([0.0, 1.05])\n",
    "    plt.xlabel('False Positive Rate or [1 - True Negative Rate]')\n",
    "    plt.ylabel('True Positive Rate')\n",
    "    plt.title('Receiver operating characteristic example')\n",
    "    plt.legend(loc=\"lower right\")\n",
    "    plt.show()\n",
    "\n",
    "    return fpr, tpr, thresholds"
   ]
  },
  {
   "cell_type": "code",
   "execution_count": 248,
   "metadata": {},
   "outputs": [],
   "source": [
    "y_df['predicted_code'] = y_df.predicted.replace(('satisfied', 'dissatisfied'), (1, 0))\n",
    "y_df['actual_code'] = y_df.actual.replace(('satisfied', 'dissatisfied'), (1, 0))\n"
   ]
  },
  {
   "cell_type": "code",
   "execution_count": 254,
   "metadata": {},
   "outputs": [
    {
     "data": {
      "image/png": "[encoded data removed]",
      "text/plain": [
       "<Figure size 720x720 with 1 Axes>"
      ]
     },
     "metadata": {
      "needs_background": "light"
     },
     "output_type": "display_data"
    }
   ],
   "source": [
    "fpr, tpr, thresholds = draw_roc(y_df.actual_code, y_df.predicted_code)"
   ]
  },
  {
   "cell_type": "code",
   "execution_count": 255,
   "metadata": {},
   "outputs": [
    {
     "data": {
      "text/plain": [
       "0.83"
      ]
     },
     "execution_count": 255,
     "metadata": {},
     "output_type": "execute_result"
    }
   ],
   "source": [
    "auc_score = metrics.roc_auc_score( y_df.actual_code, y_df.predicted_code  )\n",
    "round( float( auc_score ), 2 )"
   ]
  },
  {
   "cell_type": "markdown",
   "metadata": {},
   "source": [
    "## k-fold cross validation"
   ]
  },
  {
   "cell_type": "code",
   "execution_count": 259,
   "metadata": {},
   "outputs": [],
   "source": [
    "scores = cross_val_score( lg_reg_v1,\n",
    "                          X_train,\n",
    "                          y_train,\n",
    "                          cv = 10,\n",
    "                          scoring = 'roc_auc')"
   ]
  },
  {
   "cell_type": "code",
   "execution_count": 260,
   "metadata": {},
   "outputs": [
    {
     "data": {
      "text/plain": [
       "array([0.9058809 , 0.91217888, 0.91173926, 0.91155549, 0.90410024,\n",
       "       0.90580926, 0.91072043, 0.91497743, 0.91047229, 0.90138769])"
      ]
     },
     "execution_count": 260,
     "metadata": {},
     "output_type": "execute_result"
    }
   ],
   "source": [
    "scores"
   ]
  },
  {
   "cell_type": "code",
   "execution_count": 261,
   "metadata": {},
   "outputs": [
    {
     "data": {
      "text/plain": [
       "0.9088821873454952"
      ]
     },
     "execution_count": 261,
     "metadata": {},
     "output_type": "execute_result"
    }
   ],
   "source": [
    "scores.mean()"
   ]
  },
  {
   "cell_type": "code",
   "execution_count": 262,
   "metadata": {},
   "outputs": [
    {
     "data": {
      "text/plain": [
       "0.004083162521295457"
      ]
     },
     "execution_count": 262,
     "metadata": {},
     "output_type": "execute_result"
    }
   ],
   "source": [
    "scores.std()"
   ]
  },
  {
   "cell_type": "code",
   "execution_count": 269,
   "metadata": {},
   "outputs": [
    {
     "name": "stdout",
     "output_type": "stream",
     "text": [
      "Increase in ROC-AUC after k-fold cross validation =  1.0887113123903815\n"
     ]
    }
   ],
   "source": [
    "print(\"Increase in ROC-AUC after k-fold cross validation = \", scores.mean()/auc_score)"
   ]
  },
  {
   "cell_type": "code",
   "execution_count": null,
   "metadata": {},
   "outputs": [],
   "source": []
  },
  {
   "cell_type": "markdown",
   "metadata": {},
   "source": [
    "# Decision tree"
   ]
  },
  {
   "cell_type": "code",
   "execution_count": 343,
   "metadata": {},
   "outputs": [],
   "source": [
    "dt = tree.DecisionTreeClassifier(criterion = \"entropy\",\n",
    "                                 max_depth=6, \n",
    "                                 min_samples_split=90, \n",
    "                                 min_samples_leaf=90, \n",
    "                                 class_weight = 'balanced')\n",
    "\n",
    "dt_v1 = Pipeline(steps=[('preprocessor', preprocessor),\n",
    "                          ('dt', dt)])"
   ]
  },
  {
   "cell_type": "code",
   "execution_count": 344,
   "metadata": {},
   "outputs": [
    {
     "data": {
      "text/plain": [
       "Pipeline(steps=[('preprocessor',\n",
       "                 ColumnTransformer(transformers=[('num',\n",
       "                                                  Pipeline(steps=[('scaler',\n",
       "                                                                   StandardScaler())]),\n",
       "                                                  ['Age', 'Flight Distance',\n",
       "                                                   'Seat comfort',\n",
       "                                                   'Departure/Arrival time '\n",
       "                                                   'convenient',\n",
       "                                                   'Food and drink',\n",
       "                                                   'Gate location',\n",
       "                                                   'Inflight wifi service',\n",
       "                                                   'Inflight entertainment',\n",
       "                                                   'Online support',\n",
       "                                                   'Ease of Online booking',\n",
       "                                                   'On-board service',\n",
       "                                                   'Leg room service',\n",
       "                                                   'Baggage handling',\n",
       "                                                   'Checkin service',\n",
       "                                                   'Cleanliness',\n",
       "                                                   'Online boarding',\n",
       "                                                   'Departure Delay in Minutes',\n",
       "                                                   'Arrival Delay in Minutes']),\n",
       "                                                 ('cat',\n",
       "                                                  OneHotEncoder(handle_unknown='ignore'),\n",
       "                                                  ['Gender', 'Customer Type',\n",
       "                                                   'Type of Travel',\n",
       "                                                   'Class'])])),\n",
       "                ('dt',\n",
       "                 DecisionTreeClassifier(class_weight='balanced',\n",
       "                                        criterion='entropy', max_depth=6,\n",
       "                                        min_samples_leaf=90,\n",
       "                                        min_samples_split=90))])"
      ]
     },
     "execution_count": 344,
     "metadata": {},
     "output_type": "execute_result"
    }
   ],
   "source": [
    "dt_v1.fit(X_train, y_train)\n"
   ]
  },
  {
   "cell_type": "code",
   "execution_count": 345,
   "metadata": {},
   "outputs": [],
   "source": [
    "# tree visualize & variable importance?"
   ]
  },
  {
   "cell_type": "markdown",
   "metadata": {},
   "source": [
    "## Prediction"
   ]
  },
  {
   "cell_type": "code",
   "execution_count": 346,
   "metadata": {},
   "outputs": [],
   "source": [
    "y_pred = dt_v1.predict(X_test)"
   ]
  },
  {
   "cell_type": "code",
   "execution_count": 347,
   "metadata": {},
   "outputs": [],
   "source": [
    "y_df = pd.DataFrame({\"actual\": y_test,\n",
    "                     \"predicted\": y_pred,\n",
    "                     })"
   ]
  },
  {
   "cell_type": "code",
   "execution_count": 348,
   "metadata": {},
   "outputs": [
    {
     "data": {
      "text/html": [
       "<div>\n",
       "<style scoped>\n",
       "    .dataframe tbody tr th:only-of-type {\n",
       "        vertical-align: middle;\n",
       "    }\n",
       "\n",
       "    .dataframe tbody tr th {\n",
       "        vertical-align: top;\n",
       "    }\n",
       "\n",
       "    .dataframe thead th {\n",
       "        text-align: right;\n",
       "    }\n",
       "</style>\n",
       "<table border=\"1\" class=\"dataframe\">\n",
       "  <thead>\n",
       "    <tr style=\"text-align: right;\">\n",
       "      <th></th>\n",
       "      <th>actual</th>\n",
       "      <th>predicted</th>\n",
       "    </tr>\n",
       "  </thead>\n",
       "  <tbody>\n",
       "    <tr>\n",
       "      <th>0</th>\n",
       "      <td>dissatisfied</td>\n",
       "      <td>dissatisfied</td>\n",
       "    </tr>\n",
       "    <tr>\n",
       "      <th>1</th>\n",
       "      <td>satisfied</td>\n",
       "      <td>satisfied</td>\n",
       "    </tr>\n",
       "    <tr>\n",
       "      <th>2</th>\n",
       "      <td>satisfied</td>\n",
       "      <td>satisfied</td>\n",
       "    </tr>\n",
       "    <tr>\n",
       "      <th>3</th>\n",
       "      <td>dissatisfied</td>\n",
       "      <td>dissatisfied</td>\n",
       "    </tr>\n",
       "    <tr>\n",
       "      <th>4</th>\n",
       "      <td>satisfied</td>\n",
       "      <td>dissatisfied</td>\n",
       "    </tr>\n",
       "    <tr>\n",
       "      <th>5</th>\n",
       "      <td>satisfied</td>\n",
       "      <td>satisfied</td>\n",
       "    </tr>\n",
       "    <tr>\n",
       "      <th>6</th>\n",
       "      <td>satisfied</td>\n",
       "      <td>satisfied</td>\n",
       "    </tr>\n",
       "    <tr>\n",
       "      <th>7</th>\n",
       "      <td>satisfied</td>\n",
       "      <td>satisfied</td>\n",
       "    </tr>\n",
       "    <tr>\n",
       "      <th>8</th>\n",
       "      <td>dissatisfied</td>\n",
       "      <td>dissatisfied</td>\n",
       "    </tr>\n",
       "    <tr>\n",
       "      <th>9</th>\n",
       "      <td>satisfied</td>\n",
       "      <td>satisfied</td>\n",
       "    </tr>\n",
       "    <tr>\n",
       "      <th>10</th>\n",
       "      <td>dissatisfied</td>\n",
       "      <td>dissatisfied</td>\n",
       "    </tr>\n",
       "    <tr>\n",
       "      <th>11</th>\n",
       "      <td>dissatisfied</td>\n",
       "      <td>dissatisfied</td>\n",
       "    </tr>\n",
       "    <tr>\n",
       "      <th>12</th>\n",
       "      <td>dissatisfied</td>\n",
       "      <td>dissatisfied</td>\n",
       "    </tr>\n",
       "    <tr>\n",
       "      <th>13</th>\n",
       "      <td>satisfied</td>\n",
       "      <td>satisfied</td>\n",
       "    </tr>\n",
       "    <tr>\n",
       "      <th>14</th>\n",
       "      <td>satisfied</td>\n",
       "      <td>dissatisfied</td>\n",
       "    </tr>\n",
       "  </tbody>\n",
       "</table>\n",
       "</div>"
      ],
      "text/plain": [
       "          actual     predicted\n",
       "0   dissatisfied  dissatisfied\n",
       "1      satisfied     satisfied\n",
       "2      satisfied     satisfied\n",
       "3   dissatisfied  dissatisfied\n",
       "4      satisfied  dissatisfied\n",
       "5      satisfied     satisfied\n",
       "6      satisfied     satisfied\n",
       "7      satisfied     satisfied\n",
       "8   dissatisfied  dissatisfied\n",
       "9      satisfied     satisfied\n",
       "10  dissatisfied  dissatisfied\n",
       "11  dissatisfied  dissatisfied\n",
       "12  dissatisfied  dissatisfied\n",
       "13     satisfied     satisfied\n",
       "14     satisfied  dissatisfied"
      ]
     },
     "execution_count": 348,
     "metadata": {},
     "output_type": "execute_result"
    }
   ],
   "source": [
    "y_df.head(15)"
   ]
  },
  {
   "cell_type": "markdown",
   "metadata": {},
   "source": [
    "## Confusion Matrix"
   ]
  },
  {
   "cell_type": "code",
   "execution_count": 349,
   "metadata": {},
   "outputs": [
    {
     "data": {
      "image/png": "[encoded data removed]",
      "text/plain": [
       "<Figure size 648x648 with 2 Axes>"
      ]
     },
     "metadata": {
      "needs_background": "light"
     },
     "output_type": "display_data"
    }
   ],
   "source": [
    "draw_cm( y_df.actual, y_df.predicted )"
   ]
  },
  {
   "cell_type": "markdown",
   "metadata": {},
   "source": [
    "## Performance measures"
   ]
  },
  {
   "cell_type": "code",
   "execution_count": 350,
   "metadata": {},
   "outputs": [
    {
     "data": {
      "text/html": [
       "<div>\n",
       "<style scoped>\n",
       "    .dataframe tbody tr th:only-of-type {\n",
       "        vertical-align: middle;\n",
       "    }\n",
       "\n",
       "    .dataframe tbody tr th {\n",
       "        vertical-align: top;\n",
       "    }\n",
       "\n",
       "    .dataframe thead th {\n",
       "        text-align: right;\n",
       "    }\n",
       "</style>\n",
       "<table border=\"1\" class=\"dataframe\">\n",
       "  <thead>\n",
       "    <tr style=\"text-align: right;\">\n",
       "      <th></th>\n",
       "      <th>sensitivity</th>\n",
       "      <th>specificity</th>\n",
       "      <th>recall</th>\n",
       "      <th>precision</th>\n",
       "      <th>overall_acc</th>\n",
       "    </tr>\n",
       "  </thead>\n",
       "  <tbody>\n",
       "    <tr>\n",
       "      <th>0</th>\n",
       "      <td>0.92</td>\n",
       "      <td>0.88</td>\n",
       "      <td>0.92</td>\n",
       "      <td>0.86</td>\n",
       "      <td>0.9</td>\n",
       "    </tr>\n",
       "  </tbody>\n",
       "</table>\n",
       "</div>"
      ],
      "text/plain": [
       "   sensitivity  specificity  recall  precision  overall_acc\n",
       "0         0.92         0.88    0.92       0.86          0.9"
      ]
     },
     "execution_count": 350,
     "metadata": {},
     "output_type": "execute_result"
    },
    {
     "name": "stdout",
     "output_type": "stream",
     "text": [
      "Total Accuracy:  0.9\n"
     ]
    }
   ],
   "source": [
    "cm = metrics.confusion_matrix(y_df.actual, y_df.predicted)\n",
    "dt_metrics_df = pd.DataFrame(measure_performance(cm))\n",
    "dt_metrics_df\n",
    "\n",
    "print( 'Total Accuracy: ',np.round( metrics.accuracy_score( y_df.actual, y_df.predicted ), 2 ))"
   ]
  },
  {
   "cell_type": "code",
   "execution_count": 351,
   "metadata": {},
   "outputs": [],
   "source": [
    "y_df['predicted_code'] = y_df.predicted.replace(('satisfied', 'dissatisfied'), (1, 0))\n",
    "y_df['actual_code'] = y_df.actual.replace(('satisfied', 'dissatisfied'), (1, 0))\n"
   ]
  },
  {
   "cell_type": "code",
   "execution_count": 352,
   "metadata": {},
   "outputs": [
    {
     "data": {
      "image/png": "[encoded data removed]",
      "text/plain": [
       "<Figure size 720x720 with 1 Axes>"
      ]
     },
     "metadata": {
      "needs_background": "light"
     },
     "output_type": "display_data"
    }
   ],
   "source": [
    "fpr, tpr, thresholds = draw_roc(y_df.actual_code, y_df.predicted_code)"
   ]
  },
  {
   "cell_type": "code",
   "execution_count": 353,
   "metadata": {},
   "outputs": [
    {
     "data": {
      "text/plain": [
       "0.9"
      ]
     },
     "execution_count": 353,
     "metadata": {},
     "output_type": "execute_result"
    }
   ],
   "source": [
    "auc_score = metrics.roc_auc_score( y_df.actual_code, y_df.predicted_code  )\n",
    "round( float( auc_score ), 2 )"
   ]
  },
  {
   "cell_type": "markdown",
   "metadata": {},
   "source": [
    "## k-fold cross validation"
   ]
  },
  {
   "cell_type": "code",
   "execution_count": 354,
   "metadata": {},
   "outputs": [],
   "source": [
    "scores = cross_val_score( dt_v1,\n",
    "                          X_train,\n",
    "                          y_train,\n",
    "                          cv = 10,\n",
    "                          scoring = 'roc_auc')"
   ]
  },
  {
   "cell_type": "code",
   "execution_count": 355,
   "metadata": {},
   "outputs": [
    {
     "data": {
      "text/plain": [
       "array([0.96602545, 0.96284338, 0.96679852, 0.96353275, 0.9659408 ,\n",
       "       0.96524518, 0.96858296, 0.96201831, 0.96665296, 0.95825415])"
      ]
     },
     "execution_count": 355,
     "metadata": {},
     "output_type": "execute_result"
    }
   ],
   "source": [
    "scores"
   ]
  },
  {
   "cell_type": "code",
   "execution_count": 356,
   "metadata": {},
   "outputs": [
    {
     "data": {
      "text/plain": [
       "0.9645894459949153"
      ]
     },
     "execution_count": 356,
     "metadata": {},
     "output_type": "execute_result"
    }
   ],
   "source": [
    "scores.mean()"
   ]
  },
  {
   "cell_type": "code",
   "execution_count": 357,
   "metadata": {},
   "outputs": [
    {
     "data": {
      "text/plain": [
       "0.0028340173813365174"
      ]
     },
     "execution_count": 357,
     "metadata": {},
     "output_type": "execute_result"
    }
   ],
   "source": [
    "scores.std()"
   ]
  },
  {
   "cell_type": "code",
   "execution_count": 358,
   "metadata": {},
   "outputs": [
    {
     "name": "stdout",
     "output_type": "stream",
     "text": [
      "Increase in ROC-AUC after k-fold cross validation =  1.0742941855391908\n"
     ]
    }
   ],
   "source": [
    "print(\"Increase in ROC-AUC after k-fold cross validation = \", scores.mean()/auc_score)"
   ]
  },
  {
   "cell_type": "markdown",
   "metadata": {},
   "source": [
    "## Grid search - decision tree"
   ]
  },
  {
   "cell_type": "code",
   "execution_count": 317,
   "metadata": {},
   "outputs": [
    {
     "data": {
      "text/plain": [
       "{'dt__criterion': ['gini', 'entropy'],\n",
       " 'dt__max_features': [None, 'auto', 'log2'],\n",
       " 'dt__max_depth': [5, 7, 10],\n",
       " 'dt__min_samples_split': [50, 75],\n",
       " 'dt__min_samples_leaf': [50, 75],\n",
       " 'dt__class_weight': ['balanced', None]}"
      ]
     },
     "execution_count": 317,
     "metadata": {},
     "output_type": "execute_result"
    }
   ],
   "source": [
    "max_features = [None, 'auto', 'log2']\n",
    "max_depth = [5,7,10]\n",
    "min_samples_split = [50,75]\n",
    "min_samples_leaf = [50, 75]\n",
    "class_weight = ['balanced',None]\n",
    "\n",
    "random_grid = {'dt__criterion': criterion,\n",
    "               'dt__max_features' :  max_features,\n",
    "               'dt__max_depth' :  max_depth,\n",
    "               'dt__min_samples_split': min_samples_split,\n",
    "               'dt__min_samples_leaf' : min_samples_leaf,\n",
    "               'dt__class_weight' : class_weight}\n",
    "random_grid"
   ]
  },
  {
   "cell_type": "code",
   "execution_count": 318,
   "metadata": {},
   "outputs": [],
   "source": [
    "dt_grid_v1 = GridSearchCV(dt_v1,\n",
    "                           param_grid=random_grid,\n",
    "                           cv = 10,\n",
    "                           scoring = 'balanced_accuracy')\n",
    "\n"
   ]
  },
  {
   "cell_type": "code",
   "execution_count": 319,
   "metadata": {},
   "outputs": [
    {
     "data": {
      "text/plain": [
       "GridSearchCV(cv=10,\n",
       "             estimator=Pipeline(steps=[('preprocessor',\n",
       "                                        ColumnTransformer(transformers=[('num',\n",
       "                                                                         Pipeline(steps=[('scaler',\n",
       "                                                                                          StandardScaler())]),\n",
       "                                                                         ['Age',\n",
       "                                                                          'Flight '\n",
       "                                                                          'Distance',\n",
       "                                                                          'Seat '\n",
       "                                                                          'comfort',\n",
       "                                                                          'Departure/Arrival '\n",
       "                                                                          'time '\n",
       "                                                                          'convenient',\n",
       "                                                                          'Food '\n",
       "                                                                          'and '\n",
       "                                                                          'drink',\n",
       "                                                                          'Gate '\n",
       "                                                                          'location',\n",
       "                                                                          'Inflight '\n",
       "                                                                          'wifi '\n",
       "                                                                          'service',\n",
       "                                                                          'Inflight '\n",
       "                                                                          'entertainment',\n",
       "                                                                          'Online '\n",
       "                                                                          'support',\n",
       "                                                                          'Ease '\n",
       "                                                                          'of '\n",
       "                                                                          'Online '...\n",
       "                                       ('dt',\n",
       "                                        DecisionTreeClassifier(class_weight='balanced',\n",
       "                                                               max_depth=10,\n",
       "                                                               min_samples_leaf=50,\n",
       "                                                               min_samples_split=80))]),\n",
       "             param_grid={'dt__class_weight': ['balanced', None],\n",
       "                         'dt__criterion': ['gini', 'entropy'],\n",
       "                         'dt__max_depth': [5, 7, 10],\n",
       "                         'dt__max_features': [None, 'auto', 'log2'],\n",
       "                         'dt__min_samples_leaf': [50, 75],\n",
       "                         'dt__min_samples_split': [50, 75]},\n",
       "             scoring='balanced_accuracy')"
      ]
     },
     "execution_count": 319,
     "metadata": {},
     "output_type": "execute_result"
    }
   ],
   "source": [
    "dt_grid_v1.fit(X_train, y_train)"
   ]
  },
  {
   "cell_type": "code",
   "execution_count": 321,
   "metadata": {},
   "outputs": [
    {
     "data": {
      "text/plain": [
       "{'dt__class_weight': 'balanced',\n",
       " 'dt__criterion': 'gini',\n",
       " 'dt__max_depth': 10,\n",
       " 'dt__max_features': None,\n",
       " 'dt__min_samples_leaf': 50,\n",
       " 'dt__min_samples_split': 50}"
      ]
     },
     "execution_count": 321,
     "metadata": {},
     "output_type": "execute_result"
    }
   ],
   "source": [
    "dt_grid_v1.best_params_"
   ]
  },
  {
   "cell_type": "code",
   "execution_count": 323,
   "metadata": {},
   "outputs": [
    {
     "data": {
      "text/plain": [
       "0.9279867560927926"
      ]
     },
     "execution_count": 323,
     "metadata": {},
     "output_type": "execute_result"
    }
   ],
   "source": [
    "dt_grid_v1.best_score_"
   ]
  },
  {
   "cell_type": "code",
   "execution_count": 337,
   "metadata": {},
   "outputs": [],
   "source": [
    "dt_grid_results = pd.DataFrame( dt_grid_v1.cv_results_ )"
   ]
  },
  {
   "cell_type": "markdown",
   "metadata": {},
   "source": [
    "## One standard error - Model search"
   ]
  },
  {
   "cell_type": "code",
   "execution_count": 338,
   "metadata": {},
   "outputs": [],
   "source": [
    "highest_score_std = dt_grid_results[dt_grid_results.rank_test_score == 1].iloc[0]['std_test_score']\n",
    "highest_score_mean = dt_grid_results[dt_grid_results.rank_test_score == 1].iloc[0]['mean_test_score']"
   ]
  },
  {
   "cell_type": "code",
   "execution_count": 339,
   "metadata": {},
   "outputs": [
    {
     "data": {
      "text/plain": [
       "(0.9279867560927926, 0.002888860523332275)"
      ]
     },
     "execution_count": 339,
     "metadata": {},
     "output_type": "execute_result"
    }
   ],
   "source": [
    "highest_score_mean, highest_score_std"
   ]
  },
  {
   "cell_type": "code",
   "execution_count": 340,
   "metadata": {},
   "outputs": [],
   "source": [
    "std_error = highest_score_std / np.sqrt(10)\n",
    "one_standard_error = highest_score_mean - std_error"
   ]
  },
  {
   "cell_type": "code",
   "execution_count": 341,
   "metadata": {},
   "outputs": [
    {
     "data": {
      "text/plain": [
       "0.927073218183165"
      ]
     },
     "execution_count": 341,
     "metadata": {},
     "output_type": "execute_result"
    }
   ],
   "source": [
    "one_standard_error"
   ]
  },
  {
   "cell_type": "code",
   "execution_count": 342,
   "metadata": {},
   "outputs": [
    {
     "data": {
      "text/html": [
       "<div>\n",
       "<style scoped>\n",
       "    .dataframe tbody tr th:only-of-type {\n",
       "        vertical-align: middle;\n",
       "    }\n",
       "\n",
       "    .dataframe tbody tr th {\n",
       "        vertical-align: top;\n",
       "    }\n",
       "\n",
       "    .dataframe thead th {\n",
       "        text-align: right;\n",
       "    }\n",
       "</style>\n",
       "<table border=\"1\" class=\"dataframe\">\n",
       "  <thead>\n",
       "    <tr style=\"text-align: right;\">\n",
       "      <th></th>\n",
       "      <th>mean_fit_time</th>\n",
       "      <th>std_fit_time</th>\n",
       "      <th>mean_score_time</th>\n",
       "      <th>std_score_time</th>\n",
       "      <th>param_dt__class_weight</th>\n",
       "      <th>param_dt__criterion</th>\n",
       "      <th>param_dt__max_depth</th>\n",
       "      <th>param_dt__max_features</th>\n",
       "      <th>param_dt__min_samples_leaf</th>\n",
       "      <th>param_dt__min_samples_split</th>\n",
       "      <th>...</th>\n",
       "      <th>split3_test_score</th>\n",
       "      <th>split4_test_score</th>\n",
       "      <th>split5_test_score</th>\n",
       "      <th>split6_test_score</th>\n",
       "      <th>split7_test_score</th>\n",
       "      <th>split8_test_score</th>\n",
       "      <th>split9_test_score</th>\n",
       "      <th>mean_test_score</th>\n",
       "      <th>std_test_score</th>\n",
       "      <th>rank_test_score</th>\n",
       "    </tr>\n",
       "  </thead>\n",
       "  <tbody>\n",
       "    <tr>\n",
       "      <th>24</th>\n",
       "      <td>1.537629</td>\n",
       "      <td>0.054632</td>\n",
       "      <td>0.089610</td>\n",
       "      <td>0.008459</td>\n",
       "      <td>balanced</td>\n",
       "      <td>gini</td>\n",
       "      <td>10</td>\n",
       "      <td>None</td>\n",
       "      <td>50</td>\n",
       "      <td>50</td>\n",
       "      <td>...</td>\n",
       "      <td>0.925815</td>\n",
       "      <td>0.927256</td>\n",
       "      <td>0.922849</td>\n",
       "      <td>0.932042</td>\n",
       "      <td>0.927253</td>\n",
       "      <td>0.931268</td>\n",
       "      <td>0.929941</td>\n",
       "      <td>0.927987</td>\n",
       "      <td>0.002889</td>\n",
       "      <td>1</td>\n",
       "    </tr>\n",
       "    <tr>\n",
       "      <th>25</th>\n",
       "      <td>1.519190</td>\n",
       "      <td>0.057423</td>\n",
       "      <td>0.092640</td>\n",
       "      <td>0.003760</td>\n",
       "      <td>balanced</td>\n",
       "      <td>gini</td>\n",
       "      <td>10</td>\n",
       "      <td>None</td>\n",
       "      <td>50</td>\n",
       "      <td>75</td>\n",
       "      <td>...</td>\n",
       "      <td>0.925815</td>\n",
       "      <td>0.927256</td>\n",
       "      <td>0.922849</td>\n",
       "      <td>0.931900</td>\n",
       "      <td>0.927253</td>\n",
       "      <td>0.931268</td>\n",
       "      <td>0.927330</td>\n",
       "      <td>0.927770</td>\n",
       "      <td>0.002738</td>\n",
       "      <td>2</td>\n",
       "    </tr>\n",
       "    <tr>\n",
       "      <th>60</th>\n",
       "      <td>1.402642</td>\n",
       "      <td>0.340376</td>\n",
       "      <td>0.092860</td>\n",
       "      <td>0.026296</td>\n",
       "      <td>balanced</td>\n",
       "      <td>entropy</td>\n",
       "      <td>10</td>\n",
       "      <td>None</td>\n",
       "      <td>50</td>\n",
       "      <td>50</td>\n",
       "      <td>...</td>\n",
       "      <td>0.926706</td>\n",
       "      <td>0.930176</td>\n",
       "      <td>0.924626</td>\n",
       "      <td>0.932063</td>\n",
       "      <td>0.923489</td>\n",
       "      <td>0.927660</td>\n",
       "      <td>0.926792</td>\n",
       "      <td>0.927440</td>\n",
       "      <td>0.002420</td>\n",
       "      <td>5</td>\n",
       "    </tr>\n",
       "    <tr>\n",
       "      <th>61</th>\n",
       "      <td>1.515222</td>\n",
       "      <td>0.102621</td>\n",
       "      <td>0.096426</td>\n",
       "      <td>0.006635</td>\n",
       "      <td>balanced</td>\n",
       "      <td>entropy</td>\n",
       "      <td>10</td>\n",
       "      <td>None</td>\n",
       "      <td>50</td>\n",
       "      <td>75</td>\n",
       "      <td>...</td>\n",
       "      <td>0.926706</td>\n",
       "      <td>0.930176</td>\n",
       "      <td>0.924626</td>\n",
       "      <td>0.932063</td>\n",
       "      <td>0.923489</td>\n",
       "      <td>0.927660</td>\n",
       "      <td>0.926792</td>\n",
       "      <td>0.927440</td>\n",
       "      <td>0.002420</td>\n",
       "      <td>5</td>\n",
       "    </tr>\n",
       "    <tr>\n",
       "      <th>132</th>\n",
       "      <td>1.250557</td>\n",
       "      <td>0.009770</td>\n",
       "      <td>0.090817</td>\n",
       "      <td>0.003971</td>\n",
       "      <td>None</td>\n",
       "      <td>entropy</td>\n",
       "      <td>10</td>\n",
       "      <td>None</td>\n",
       "      <td>50</td>\n",
       "      <td>50</td>\n",
       "      <td>...</td>\n",
       "      <td>0.927689</td>\n",
       "      <td>0.928136</td>\n",
       "      <td>0.923676</td>\n",
       "      <td>0.932807</td>\n",
       "      <td>0.924286</td>\n",
       "      <td>0.928219</td>\n",
       "      <td>0.926806</td>\n",
       "      <td>0.927563</td>\n",
       "      <td>0.002589</td>\n",
       "      <td>3</td>\n",
       "    </tr>\n",
       "    <tr>\n",
       "      <th>133</th>\n",
       "      <td>1.260656</td>\n",
       "      <td>0.049514</td>\n",
       "      <td>0.093066</td>\n",
       "      <td>0.004848</td>\n",
       "      <td>None</td>\n",
       "      <td>entropy</td>\n",
       "      <td>10</td>\n",
       "      <td>None</td>\n",
       "      <td>50</td>\n",
       "      <td>75</td>\n",
       "      <td>...</td>\n",
       "      <td>0.927689</td>\n",
       "      <td>0.927994</td>\n",
       "      <td>0.923676</td>\n",
       "      <td>0.932807</td>\n",
       "      <td>0.924286</td>\n",
       "      <td>0.928219</td>\n",
       "      <td>0.926806</td>\n",
       "      <td>0.927548</td>\n",
       "      <td>0.002586</td>\n",
       "      <td>4</td>\n",
       "    </tr>\n",
       "  </tbody>\n",
       "</table>\n",
       "<p>6 rows × 24 columns</p>\n",
       "</div>"
      ],
      "text/plain": [
       "     mean_fit_time  std_fit_time  mean_score_time  std_score_time  \\\n",
       "24        1.537629      0.054632         0.089610        0.008459   \n",
       "25        1.519190      0.057423         0.092640        0.003760   \n",
       "60        1.402642      0.340376         0.092860        0.026296   \n",
       "61        1.515222      0.102621         0.096426        0.006635   \n",
       "132       1.250557      0.009770         0.090817        0.003971   \n",
       "133       1.260656      0.049514         0.093066        0.004848   \n",
       "\n",
       "    param_dt__class_weight param_dt__criterion param_dt__max_depth  \\\n",
       "24                balanced                gini                  10   \n",
       "25                balanced                gini                  10   \n",
       "60                balanced             entropy                  10   \n",
       "61                balanced             entropy                  10   \n",
       "132                   None             entropy                  10   \n",
       "133                   None             entropy                  10   \n",
       "\n",
       "    param_dt__max_features param_dt__min_samples_leaf  \\\n",
       "24                    None                         50   \n",
       "25                    None                         50   \n",
       "60                    None                         50   \n",
       "61                    None                         50   \n",
       "132                   None                         50   \n",
       "133                   None                         50   \n",
       "\n",
       "    param_dt__min_samples_split  ... split3_test_score  split4_test_score  \\\n",
       "24                           50  ...          0.925815           0.927256   \n",
       "25                           75  ...          0.925815           0.927256   \n",
       "60                           50  ...          0.926706           0.930176   \n",
       "61                           75  ...          0.926706           0.930176   \n",
       "132                          50  ...          0.927689           0.928136   \n",
       "133                          75  ...          0.927689           0.927994   \n",
       "\n",
       "     split5_test_score  split6_test_score  split7_test_score  \\\n",
       "24            0.922849           0.932042           0.927253   \n",
       "25            0.922849           0.931900           0.927253   \n",
       "60            0.924626           0.932063           0.923489   \n",
       "61            0.924626           0.932063           0.923489   \n",
       "132           0.923676           0.932807           0.924286   \n",
       "133           0.923676           0.932807           0.924286   \n",
       "\n",
       "     split8_test_score  split9_test_score  mean_test_score  std_test_score  \\\n",
       "24            0.931268           0.929941         0.927987        0.002889   \n",
       "25            0.931268           0.927330         0.927770        0.002738   \n",
       "60            0.927660           0.926792         0.927440        0.002420   \n",
       "61            0.927660           0.926792         0.927440        0.002420   \n",
       "132           0.928219           0.926806         0.927563        0.002589   \n",
       "133           0.928219           0.926806         0.927548        0.002586   \n",
       "\n",
       "     rank_test_score  \n",
       "24                 1  \n",
       "25                 2  \n",
       "60                 5  \n",
       "61                 5  \n",
       "132                3  \n",
       "133                4  \n",
       "\n",
       "[6 rows x 24 columns]"
      ]
     },
     "execution_count": 342,
     "metadata": {},
     "output_type": "execute_result"
    }
   ],
   "source": [
    "dt_grid_results[dt_grid_results.mean_test_score > one_standard_error]"
   ]
  },
  {
   "cell_type": "markdown",
   "metadata": {},
   "source": [
    "## Prediction"
   ]
  },
  {
   "cell_type": "code",
   "execution_count": 329,
   "metadata": {},
   "outputs": [],
   "source": [
    "y_pred = dt_grid_v1.predict(X_test)"
   ]
  },
  {
   "cell_type": "code",
   "execution_count": 330,
   "metadata": {},
   "outputs": [],
   "source": [
    "y_df = pd.DataFrame({\"actual\": y_test,\n",
    "                     \"predicted\": y_pred,\n",
    "                     })"
   ]
  },
  {
   "cell_type": "code",
   "execution_count": 331,
   "metadata": {},
   "outputs": [
    {
     "data": {
      "text/html": [
       "<div>\n",
       "<style scoped>\n",
       "    .dataframe tbody tr th:only-of-type {\n",
       "        vertical-align: middle;\n",
       "    }\n",
       "\n",
       "    .dataframe tbody tr th {\n",
       "        vertical-align: top;\n",
       "    }\n",
       "\n",
       "    .dataframe thead th {\n",
       "        text-align: right;\n",
       "    }\n",
       "</style>\n",
       "<table border=\"1\" class=\"dataframe\">\n",
       "  <thead>\n",
       "    <tr style=\"text-align: right;\">\n",
       "      <th></th>\n",
       "      <th>actual</th>\n",
       "      <th>predicted</th>\n",
       "    </tr>\n",
       "  </thead>\n",
       "  <tbody>\n",
       "    <tr>\n",
       "      <th>0</th>\n",
       "      <td>dissatisfied</td>\n",
       "      <td>dissatisfied</td>\n",
       "    </tr>\n",
       "    <tr>\n",
       "      <th>1</th>\n",
       "      <td>satisfied</td>\n",
       "      <td>satisfied</td>\n",
       "    </tr>\n",
       "    <tr>\n",
       "      <th>2</th>\n",
       "      <td>satisfied</td>\n",
       "      <td>satisfied</td>\n",
       "    </tr>\n",
       "    <tr>\n",
       "      <th>3</th>\n",
       "      <td>dissatisfied</td>\n",
       "      <td>dissatisfied</td>\n",
       "    </tr>\n",
       "    <tr>\n",
       "      <th>4</th>\n",
       "      <td>satisfied</td>\n",
       "      <td>satisfied</td>\n",
       "    </tr>\n",
       "    <tr>\n",
       "      <th>5</th>\n",
       "      <td>satisfied</td>\n",
       "      <td>satisfied</td>\n",
       "    </tr>\n",
       "    <tr>\n",
       "      <th>6</th>\n",
       "      <td>satisfied</td>\n",
       "      <td>satisfied</td>\n",
       "    </tr>\n",
       "    <tr>\n",
       "      <th>7</th>\n",
       "      <td>satisfied</td>\n",
       "      <td>satisfied</td>\n",
       "    </tr>\n",
       "    <tr>\n",
       "      <th>8</th>\n",
       "      <td>dissatisfied</td>\n",
       "      <td>dissatisfied</td>\n",
       "    </tr>\n",
       "    <tr>\n",
       "      <th>9</th>\n",
       "      <td>satisfied</td>\n",
       "      <td>satisfied</td>\n",
       "    </tr>\n",
       "    <tr>\n",
       "      <th>10</th>\n",
       "      <td>dissatisfied</td>\n",
       "      <td>dissatisfied</td>\n",
       "    </tr>\n",
       "    <tr>\n",
       "      <th>11</th>\n",
       "      <td>dissatisfied</td>\n",
       "      <td>dissatisfied</td>\n",
       "    </tr>\n",
       "    <tr>\n",
       "      <th>12</th>\n",
       "      <td>dissatisfied</td>\n",
       "      <td>dissatisfied</td>\n",
       "    </tr>\n",
       "    <tr>\n",
       "      <th>13</th>\n",
       "      <td>satisfied</td>\n",
       "      <td>satisfied</td>\n",
       "    </tr>\n",
       "    <tr>\n",
       "      <th>14</th>\n",
       "      <td>satisfied</td>\n",
       "      <td>satisfied</td>\n",
       "    </tr>\n",
       "  </tbody>\n",
       "</table>\n",
       "</div>"
      ],
      "text/plain": [
       "          actual     predicted\n",
       "0   dissatisfied  dissatisfied\n",
       "1      satisfied     satisfied\n",
       "2      satisfied     satisfied\n",
       "3   dissatisfied  dissatisfied\n",
       "4      satisfied     satisfied\n",
       "5      satisfied     satisfied\n",
       "6      satisfied     satisfied\n",
       "7      satisfied     satisfied\n",
       "8   dissatisfied  dissatisfied\n",
       "9      satisfied     satisfied\n",
       "10  dissatisfied  dissatisfied\n",
       "11  dissatisfied  dissatisfied\n",
       "12  dissatisfied  dissatisfied\n",
       "13     satisfied     satisfied\n",
       "14     satisfied     satisfied"
      ]
     },
     "execution_count": 331,
     "metadata": {},
     "output_type": "execute_result"
    }
   ],
   "source": [
    "y_df.head(15)"
   ]
  },
  {
   "cell_type": "markdown",
   "metadata": {},
   "source": [
    "## Confusion matrix"
   ]
  },
  {
   "cell_type": "code",
   "execution_count": 332,
   "metadata": {},
   "outputs": [
    {
     "data": {
      "image/png": "[encoded data removed]",
      "text/plain": [
       "<Figure size 648x648 with 2 Axes>"
      ]
     },
     "metadata": {
      "needs_background": "light"
     },
     "output_type": "display_data"
    }
   ],
   "source": [
    "draw_cm( y_df.actual, y_df.predicted )"
   ]
  },
  {
   "cell_type": "markdown",
   "metadata": {},
   "source": [
    "## Performance measures"
   ]
  },
  {
   "cell_type": "code",
   "execution_count": 333,
   "metadata": {},
   "outputs": [
    {
     "data": {
      "text/html": [
       "<div>\n",
       "<style scoped>\n",
       "    .dataframe tbody tr th:only-of-type {\n",
       "        vertical-align: middle;\n",
       "    }\n",
       "\n",
       "    .dataframe tbody tr th {\n",
       "        vertical-align: top;\n",
       "    }\n",
       "\n",
       "    .dataframe thead th {\n",
       "        text-align: right;\n",
       "    }\n",
       "</style>\n",
       "<table border=\"1\" class=\"dataframe\">\n",
       "  <thead>\n",
       "    <tr style=\"text-align: right;\">\n",
       "      <th></th>\n",
       "      <th>sensitivity</th>\n",
       "      <th>specificity</th>\n",
       "      <th>recall</th>\n",
       "      <th>precision</th>\n",
       "      <th>overall_acc</th>\n",
       "    </tr>\n",
       "  </thead>\n",
       "  <tbody>\n",
       "    <tr>\n",
       "      <th>0</th>\n",
       "      <td>0.94</td>\n",
       "      <td>0.91</td>\n",
       "      <td>0.94</td>\n",
       "      <td>0.9</td>\n",
       "      <td>0.93</td>\n",
       "    </tr>\n",
       "  </tbody>\n",
       "</table>\n",
       "</div>"
      ],
      "text/plain": [
       "   sensitivity  specificity  recall  precision  overall_acc\n",
       "0         0.94         0.91    0.94        0.9         0.93"
      ]
     },
     "execution_count": 333,
     "metadata": {},
     "output_type": "execute_result"
    },
    {
     "name": "stdout",
     "output_type": "stream",
     "text": [
      "Total Accuracy:  0.93\n"
     ]
    }
   ],
   "source": [
    "cm = metrics.confusion_matrix(y_df.actual, y_df.predicted)\n",
    "dt_grid_metrics_df = pd.DataFrame(measure_performance(cm))\n",
    "dt_grid_metrics_df\n",
    "\n",
    "print( 'Total Accuracy: ',np.round( metrics.accuracy_score( y_df.actual, y_df.predicted ), 2 ))"
   ]
  },
  {
   "cell_type": "code",
   "execution_count": 334,
   "metadata": {},
   "outputs": [],
   "source": [
    "y_df['predicted_code'] = y_df.predicted.replace(('satisfied', 'dissatisfied'), (1, 0))\n",
    "y_df['actual_code'] = y_df.actual.replace(('satisfied', 'dissatisfied'), (1, 0))\n"
   ]
  },
  {
   "cell_type": "code",
   "execution_count": 335,
   "metadata": {},
   "outputs": [
    {
     "data": {
      "image/png": "[encoded data removed]",
      "text/plain": [
       "<Figure size 720x720 with 1 Axes>"
      ]
     },
     "metadata": {
      "needs_background": "light"
     },
     "output_type": "display_data"
    }
   ],
   "source": [
    "fpr, tpr, thresholds = draw_roc(y_df.actual_code, y_df.predicted_code)"
   ]
  },
  {
   "cell_type": "code",
   "execution_count": 336,
   "metadata": {},
   "outputs": [
    {
     "data": {
      "text/plain": [
       "0.93"
      ]
     },
     "execution_count": 336,
     "metadata": {},
     "output_type": "execute_result"
    }
   ],
   "source": [
    "auc_score = metrics.roc_auc_score( y_df.actual_code, y_df.predicted_code  )\n",
    "round( float( auc_score ), 2 )"
   ]
  },
  {
   "cell_type": "code",
   "execution_count": 359,
   "metadata": {},
   "outputs": [],
   "source": [
    "# random search?"
   ]
  },
  {
   "cell_type": "markdown",
   "metadata": {},
   "source": [
    "# Random Forest"
   ]
  },
  {
   "cell_type": "code",
   "execution_count": 361,
   "metadata": {},
   "outputs": [],
   "source": [
    "rf_model = ensemble.RandomForestClassifier(bootstrap=True, \n",
    "                                           criterion='gini',\n",
    "                                           max_depth=15, \n",
    "                                           max_features='auto',\n",
    "                                           min_impurity_decrease=0.001,\n",
    "                                           min_samples_leaf=30, \n",
    "                                           min_samples_split=50,\n",
    "                                           class_weight=\"balanced_subsample\", #to remove class imbalance (balanced)\n",
    "                                           n_estimators=200,\n",
    "                                           oob_score=True, \n",
    "                                           random_state=42, \n",
    "                                           verbose=0,\n",
    "                                           warm_start=False)"
   ]
  },
  {
   "cell_type": "code",
   "execution_count": 364,
   "metadata": {},
   "outputs": [],
   "source": [
    "rf_v1 = Pipeline(steps=[('preprocessor', preprocessor),\n",
    "                          ('rf', rf_model)])"
   ]
  },
  {
   "cell_type": "code",
   "execution_count": 365,
   "metadata": {},
   "outputs": [
    {
     "data": {
      "text/plain": [
       "Pipeline(steps=[('preprocessor',\n",
       "                 ColumnTransformer(transformers=[('num',\n",
       "                                                  Pipeline(steps=[('scaler',\n",
       "                                                                   StandardScaler())]),\n",
       "                                                  ['Age', 'Flight Distance',\n",
       "                                                   'Seat comfort',\n",
       "                                                   'Departure/Arrival time '\n",
       "                                                   'convenient',\n",
       "                                                   'Food and drink',\n",
       "                                                   'Gate location',\n",
       "                                                   'Inflight wifi service',\n",
       "                                                   'Inflight entertainment',\n",
       "                                                   'Online support',\n",
       "                                                   'Ease of Online booking',\n",
       "                                                   'On-board service',\n",
       "                                                   'Leg room service',\n",
       "                                                   'Baggage ha...\n",
       "                                                   'Online boarding',\n",
       "                                                   'Departure Delay in Minutes',\n",
       "                                                   'Arrival Delay in Minutes']),\n",
       "                                                 ('cat',\n",
       "                                                  OneHotEncoder(handle_unknown='ignore'),\n",
       "                                                  ['Gender', 'Customer Type',\n",
       "                                                   'Type of Travel',\n",
       "                                                   'Class'])])),\n",
       "                ('rf',\n",
       "                 RandomForestClassifier(class_weight='balanced_subsample',\n",
       "                                        max_depth=15,\n",
       "                                        min_impurity_decrease=0.001,\n",
       "                                        min_samples_leaf=30,\n",
       "                                        min_samples_split=50, n_estimators=200,\n",
       "                                        oob_score=True, random_state=42))])"
      ]
     },
     "execution_count": 365,
     "metadata": {},
     "output_type": "execute_result"
    }
   ],
   "source": [
    "rf_v1.fit(X_train,y_train.values.ravel())"
   ]
  },
  {
   "cell_type": "markdown",
   "metadata": {},
   "source": [
    "## Prediction"
   ]
  },
  {
   "cell_type": "code",
   "execution_count": 366,
   "metadata": {},
   "outputs": [],
   "source": [
    "y_pred = rf_v1.predict(X_test)"
   ]
  },
  {
   "cell_type": "code",
   "execution_count": 367,
   "metadata": {},
   "outputs": [],
   "source": [
    "y_df = pd.DataFrame({\"actual\": y_test,\n",
    "                     \"predicted\": y_pred,\n",
    "                     })"
   ]
  },
  {
   "cell_type": "code",
   "execution_count": 368,
   "metadata": {},
   "outputs": [
    {
     "data": {
      "text/html": [
       "<div>\n",
       "<style scoped>\n",
       "    .dataframe tbody tr th:only-of-type {\n",
       "        vertical-align: middle;\n",
       "    }\n",
       "\n",
       "    .dataframe tbody tr th {\n",
       "        vertical-align: top;\n",
       "    }\n",
       "\n",
       "    .dataframe thead th {\n",
       "        text-align: right;\n",
       "    }\n",
       "</style>\n",
       "<table border=\"1\" class=\"dataframe\">\n",
       "  <thead>\n",
       "    <tr style=\"text-align: right;\">\n",
       "      <th></th>\n",
       "      <th>actual</th>\n",
       "      <th>predicted</th>\n",
       "    </tr>\n",
       "  </thead>\n",
       "  <tbody>\n",
       "    <tr>\n",
       "      <th>0</th>\n",
       "      <td>dissatisfied</td>\n",
       "      <td>dissatisfied</td>\n",
       "    </tr>\n",
       "    <tr>\n",
       "      <th>1</th>\n",
       "      <td>satisfied</td>\n",
       "      <td>satisfied</td>\n",
       "    </tr>\n",
       "    <tr>\n",
       "      <th>2</th>\n",
       "      <td>satisfied</td>\n",
       "      <td>satisfied</td>\n",
       "    </tr>\n",
       "    <tr>\n",
       "      <th>3</th>\n",
       "      <td>dissatisfied</td>\n",
       "      <td>dissatisfied</td>\n",
       "    </tr>\n",
       "    <tr>\n",
       "      <th>4</th>\n",
       "      <td>satisfied</td>\n",
       "      <td>satisfied</td>\n",
       "    </tr>\n",
       "    <tr>\n",
       "      <th>5</th>\n",
       "      <td>satisfied</td>\n",
       "      <td>satisfied</td>\n",
       "    </tr>\n",
       "    <tr>\n",
       "      <th>6</th>\n",
       "      <td>satisfied</td>\n",
       "      <td>satisfied</td>\n",
       "    </tr>\n",
       "    <tr>\n",
       "      <th>7</th>\n",
       "      <td>satisfied</td>\n",
       "      <td>satisfied</td>\n",
       "    </tr>\n",
       "    <tr>\n",
       "      <th>8</th>\n",
       "      <td>dissatisfied</td>\n",
       "      <td>dissatisfied</td>\n",
       "    </tr>\n",
       "    <tr>\n",
       "      <th>9</th>\n",
       "      <td>satisfied</td>\n",
       "      <td>satisfied</td>\n",
       "    </tr>\n",
       "    <tr>\n",
       "      <th>10</th>\n",
       "      <td>dissatisfied</td>\n",
       "      <td>dissatisfied</td>\n",
       "    </tr>\n",
       "    <tr>\n",
       "      <th>11</th>\n",
       "      <td>dissatisfied</td>\n",
       "      <td>dissatisfied</td>\n",
       "    </tr>\n",
       "    <tr>\n",
       "      <th>12</th>\n",
       "      <td>dissatisfied</td>\n",
       "      <td>dissatisfied</td>\n",
       "    </tr>\n",
       "    <tr>\n",
       "      <th>13</th>\n",
       "      <td>satisfied</td>\n",
       "      <td>satisfied</td>\n",
       "    </tr>\n",
       "    <tr>\n",
       "      <th>14</th>\n",
       "      <td>satisfied</td>\n",
       "      <td>dissatisfied</td>\n",
       "    </tr>\n",
       "  </tbody>\n",
       "</table>\n",
       "</div>"
      ],
      "text/plain": [
       "          actual     predicted\n",
       "0   dissatisfied  dissatisfied\n",
       "1      satisfied     satisfied\n",
       "2      satisfied     satisfied\n",
       "3   dissatisfied  dissatisfied\n",
       "4      satisfied     satisfied\n",
       "5      satisfied     satisfied\n",
       "6      satisfied     satisfied\n",
       "7      satisfied     satisfied\n",
       "8   dissatisfied  dissatisfied\n",
       "9      satisfied     satisfied\n",
       "10  dissatisfied  dissatisfied\n",
       "11  dissatisfied  dissatisfied\n",
       "12  dissatisfied  dissatisfied\n",
       "13     satisfied     satisfied\n",
       "14     satisfied  dissatisfied"
      ]
     },
     "execution_count": 368,
     "metadata": {},
     "output_type": "execute_result"
    }
   ],
   "source": [
    "y_df.head(15)"
   ]
  },
  {
   "cell_type": "markdown",
   "metadata": {},
   "source": [
    "## Confusion matrix"
   ]
  },
  {
   "cell_type": "code",
   "execution_count": 369,
   "metadata": {},
   "outputs": [
    {
     "data": {
      "image/png": "[encoded data removed]",
      "text/plain": [
       "<Figure size 648x648 with 2 Axes>"
      ]
     },
     "metadata": {
      "needs_background": "light"
     },
     "output_type": "display_data"
    }
   ],
   "source": [
    "draw_cm( y_df.actual, y_df.predicted )"
   ]
  },
  {
   "cell_type": "markdown",
   "metadata": {},
   "source": [
    "## Performance measures"
   ]
  },
  {
   "cell_type": "code",
   "execution_count": 370,
   "metadata": {},
   "outputs": [
    {
     "data": {
      "text/html": [
       "<div>\n",
       "<style scoped>\n",
       "    .dataframe tbody tr th:only-of-type {\n",
       "        vertical-align: middle;\n",
       "    }\n",
       "\n",
       "    .dataframe tbody tr th {\n",
       "        vertical-align: top;\n",
       "    }\n",
       "\n",
       "    .dataframe thead th {\n",
       "        text-align: right;\n",
       "    }\n",
       "</style>\n",
       "<table border=\"1\" class=\"dataframe\">\n",
       "  <thead>\n",
       "    <tr style=\"text-align: right;\">\n",
       "      <th></th>\n",
       "      <th>sensitivity</th>\n",
       "      <th>specificity</th>\n",
       "      <th>recall</th>\n",
       "      <th>precision</th>\n",
       "      <th>overall_acc</th>\n",
       "    </tr>\n",
       "  </thead>\n",
       "  <tbody>\n",
       "    <tr>\n",
       "      <th>0</th>\n",
       "      <td>0.91</td>\n",
       "      <td>0.9</td>\n",
       "      <td>0.91</td>\n",
       "      <td>0.89</td>\n",
       "      <td>0.91</td>\n",
       "    </tr>\n",
       "  </tbody>\n",
       "</table>\n",
       "</div>"
      ],
      "text/plain": [
       "   sensitivity  specificity  recall  precision  overall_acc\n",
       "0         0.91          0.9    0.91       0.89         0.91"
      ]
     },
     "execution_count": 370,
     "metadata": {},
     "output_type": "execute_result"
    },
    {
     "name": "stdout",
     "output_type": "stream",
     "text": [
      "Total Accuracy:  0.91\n"
     ]
    }
   ],
   "source": [
    "cm = metrics.confusion_matrix(y_df.actual, y_df.predicted)\n",
    "dt_metrics_df = pd.DataFrame(measure_performance(cm))\n",
    "dt_metrics_df\n",
    "\n",
    "print( 'Total Accuracy: ',np.round( metrics.accuracy_score( y_df.actual, y_df.predicted ), 2 ))"
   ]
  },
  {
   "cell_type": "code",
   "execution_count": 371,
   "metadata": {},
   "outputs": [],
   "source": [
    "y_df['predicted_code'] = y_df.predicted.replace(('satisfied', 'dissatisfied'), (1, 0))\n",
    "y_df['actual_code'] = y_df.actual.replace(('satisfied', 'dissatisfied'), (1, 0))\n"
   ]
  },
  {
   "cell_type": "code",
   "execution_count": 372,
   "metadata": {},
   "outputs": [
    {
     "data": {
      "image/png": "[encoded data removed]",
      "text/plain": [
       "<Figure size 720x720 with 1 Axes>"
      ]
     },
     "metadata": {
      "needs_background": "light"
     },
     "output_type": "display_data"
    }
   ],
   "source": [
    "fpr, tpr, thresholds = draw_roc(y_df.actual_code, y_df.predicted_code)"
   ]
  },
  {
   "cell_type": "code",
   "execution_count": 373,
   "metadata": {},
   "outputs": [
    {
     "data": {
      "text/plain": [
       "0.91"
      ]
     },
     "execution_count": 373,
     "metadata": {},
     "output_type": "execute_result"
    }
   ],
   "source": [
    "auc_score = metrics.roc_auc_score( y_df.actual_code, y_df.predicted_code  )\n",
    "round( float( auc_score ), 2 )"
   ]
  },
  {
   "cell_type": "markdown",
   "metadata": {},
   "source": [
    "## Random search CV - Random forest"
   ]
  },
  {
   "cell_type": "code",
   "execution_count": 419,
   "metadata": {},
   "outputs": [
    {
     "data": {
      "text/plain": [
       "{'rf__n_estimators': [100, 200, 300, 400, 500],\n",
       " 'rf__max_depth': [7, 10, 20, None],\n",
       " 'rf__max_features': ['auto', 'log2'],\n",
       " 'rf__min_samples_split': [50, 75, 100],\n",
       " 'rf__min_samples_leaf': [30, 40],\n",
       " 'rf__class_weight': ['balanced_subsample', 'balanced']}"
      ]
     },
     "execution_count": 419,
     "metadata": {},
     "output_type": "execute_result"
    }
   ],
   "source": [
    "n_estimators = [100,200,300, 400, 500]\n",
    "max_depth = [7,10,20]\n",
    "max_depth.append(None)\n",
    "max_features = ['auto', 'log2']\n",
    "min_samples_split = [50, 75, 100]\n",
    "min_samples_leaf = [30,40]\n",
    "class_weight=['balanced_subsample','balanced']\n",
    "\n",
    "random_grid = {'rf__n_estimators': n_estimators,\n",
    "               'rf__max_depth': max_depth,\n",
    "               'rf__max_features': max_features,\n",
    "               'rf__min_samples_split': min_samples_split,\n",
    "               'rf__min_samples_leaf': min_samples_leaf,\n",
    "               'rf__class_weight': class_weight}\n",
    "random_grid"
   ]
  },
  {
   "cell_type": "code",
   "execution_count": 420,
   "metadata": {},
   "outputs": [],
   "source": [
    "rf_grid_v1 = RandomizedSearchCV(estimator = rf_v1, \n",
    "                               param_distributions = random_grid, scoring = \"precision\",\n",
    "                               n_iter = 50, cv = 3, verbose=2, random_state=42, n_jobs = -2, pre_dispatch =2)\n"
   ]
  },
  {
   "cell_type": "code",
   "execution_count": 421,
   "metadata": {},
   "outputs": [
    {
     "name": "stdout",
     "output_type": "stream",
     "text": [
      "Fitting 3 folds for each of 50 candidates, totalling 150 fits\n"
     ]
    },
    {
     "name": "stderr",
     "output_type": "stream",
     "text": [
      "C:\\Users\\RK\\anaconda3\\lib\\site-packages\\sklearn\\model_selection\\_search.py:918: UserWarning: One or more of the test scores are non-finite: [nan nan nan nan nan nan nan nan nan nan nan nan nan nan nan nan nan nan\n",
      " nan nan nan nan nan nan nan nan nan nan nan nan nan nan nan nan nan nan\n",
      " nan nan nan nan nan nan nan nan nan nan nan nan nan nan]\n",
      "  warnings.warn(\n"
     ]
    },
    {
     "data": {
      "text/plain": [
       "RandomizedSearchCV(cv=3,\n",
       "                   estimator=Pipeline(steps=[('preprocessor',\n",
       "                                              ColumnTransformer(transformers=[('num',\n",
       "                                                                               Pipeline(steps=[('scaler',\n",
       "                                                                                                StandardScaler())]),\n",
       "                                                                               ['Age',\n",
       "                                                                                'Flight '\n",
       "                                                                                'Distance',\n",
       "                                                                                'Seat '\n",
       "                                                                                'comfort',\n",
       "                                                                                'Departure/Arrival '\n",
       "                                                                                'time '\n",
       "                                                                                'convenient',\n",
       "                                                                                'Food '\n",
       "                                                                                'and '\n",
       "                                                                                'drink',\n",
       "                                                                                'Gate '\n",
       "                                                                                'location',\n",
       "                                                                                'Inflight '\n",
       "                                                                                'wifi '\n",
       "                                                                                'service',\n",
       "                                                                                'Inflight '\n",
       "                                                                                'entertainment',\n",
       "                                                                                'Online '\n",
       "                                                                                'support',\n",
       "                                                                                'Ease '\n",
       "                                                                                'of '\n",
       "                                                                                'On...\n",
       "                                                                     random_state=42))]),\n",
       "                   n_iter=50, n_jobs=-2,\n",
       "                   param_distributions={'rf__class_weight': ['balanced_subsample',\n",
       "                                                             'balanced'],\n",
       "                                        'rf__max_depth': [7, 10, 20, None],\n",
       "                                        'rf__max_features': ['auto', 'log2'],\n",
       "                                        'rf__min_samples_leaf': [30, 40],\n",
       "                                        'rf__min_samples_split': [50, 75, 100],\n",
       "                                        'rf__n_estimators': [100, 200, 300, 400,\n",
       "                                                             500]},\n",
       "                   pre_dispatch=2, random_state=42, scoring='precision',\n",
       "                   verbose=2)"
      ]
     },
     "execution_count": 421,
     "metadata": {},
     "output_type": "execute_result"
    }
   ],
   "source": [
    "rf_grid_v1.fit(X_train, y_train)"
   ]
  },
  {
   "cell_type": "code",
   "execution_count": 422,
   "metadata": {},
   "outputs": [
    {
     "data": {
      "text/plain": [
       "{'rf__n_estimators': 400,\n",
       " 'rf__min_samples_split': 100,\n",
       " 'rf__min_samples_leaf': 30,\n",
       " 'rf__max_features': 'auto',\n",
       " 'rf__max_depth': 10,\n",
       " 'rf__class_weight': 'balanced_subsample'}"
      ]
     },
     "execution_count": 422,
     "metadata": {},
     "output_type": "execute_result"
    }
   ],
   "source": [
    "rf_grid_v1.best_params_"
   ]
  },
  {
   "cell_type": "code",
   "execution_count": 428,
   "metadata": {},
   "outputs": [],
   "source": [
    "rf_grid_results = pd.DataFrame( rf_grid_v1.cv_results_ )"
   ]
  },
  {
   "cell_type": "markdown",
   "metadata": {},
   "source": [
    "## one standard error model search"
   ]
  },
  {
   "cell_type": "code",
   "execution_count": 429,
   "metadata": {},
   "outputs": [],
   "source": [
    "highest_score_std = rf_grid_results[rf_grid_results.rank_test_score == 1].iloc[0]['std_test_score']\n",
    "highest_score_mean = rf_grid_results[rf_grid_results.rank_test_score == 1].iloc[0]['mean_test_score']"
   ]
  },
  {
   "cell_type": "code",
   "execution_count": 431,
   "metadata": {},
   "outputs": [
    {
     "data": {
      "text/plain": [
       "(nan, nan)"
      ]
     },
     "execution_count": 431,
     "metadata": {},
     "output_type": "execute_result"
    }
   ],
   "source": [
    "highest_score_mean, highest_score_std"
   ]
  },
  {
   "cell_type": "code",
   "execution_count": 432,
   "metadata": {},
   "outputs": [],
   "source": [
    "std_error = highest_score_std / np.sqrt(10)\n",
    "one_standard_error = highest_score_mean - std_error"
   ]
  },
  {
   "cell_type": "code",
   "execution_count": 433,
   "metadata": {},
   "outputs": [
    {
     "data": {
      "text/plain": [
       "nan"
      ]
     },
     "execution_count": 433,
     "metadata": {},
     "output_type": "execute_result"
    }
   ],
   "source": [
    "one_standard_error"
   ]
  },
  {
   "cell_type": "code",
   "execution_count": 434,
   "metadata": {},
   "outputs": [
    {
     "data": {
      "text/html": [
       "<div>\n",
       "<style scoped>\n",
       "    .dataframe tbody tr th:only-of-type {\n",
       "        vertical-align: middle;\n",
       "    }\n",
       "\n",
       "    .dataframe tbody tr th {\n",
       "        vertical-align: top;\n",
       "    }\n",
       "\n",
       "    .dataframe thead th {\n",
       "        text-align: right;\n",
       "    }\n",
       "</style>\n",
       "<table border=\"1\" class=\"dataframe\">\n",
       "  <thead>\n",
       "    <tr style=\"text-align: right;\">\n",
       "      <th></th>\n",
       "      <th>mean_fit_time</th>\n",
       "      <th>std_fit_time</th>\n",
       "      <th>mean_score_time</th>\n",
       "      <th>std_score_time</th>\n",
       "      <th>param_rf__n_estimators</th>\n",
       "      <th>param_rf__min_samples_split</th>\n",
       "      <th>param_rf__min_samples_leaf</th>\n",
       "      <th>param_rf__max_features</th>\n",
       "      <th>param_rf__max_depth</th>\n",
       "      <th>param_rf__class_weight</th>\n",
       "      <th>params</th>\n",
       "      <th>split0_test_score</th>\n",
       "      <th>split1_test_score</th>\n",
       "      <th>split2_test_score</th>\n",
       "      <th>mean_test_score</th>\n",
       "      <th>std_test_score</th>\n",
       "      <th>rank_test_score</th>\n",
       "    </tr>\n",
       "  </thead>\n",
       "  <tbody>\n",
       "  </tbody>\n",
       "</table>\n",
       "</div>"
      ],
      "text/plain": [
       "Empty DataFrame\n",
       "Columns: [mean_fit_time, std_fit_time, mean_score_time, std_score_time, param_rf__n_estimators, param_rf__min_samples_split, param_rf__min_samples_leaf, param_rf__max_features, param_rf__max_depth, param_rf__class_weight, params, split0_test_score, split1_test_score, split2_test_score, mean_test_score, std_test_score, rank_test_score]\n",
       "Index: []"
      ]
     },
     "execution_count": 434,
     "metadata": {},
     "output_type": "execute_result"
    }
   ],
   "source": [
    "rf_grid_results[rf_grid_results.mean_test_score > one_standard_error]"
   ]
  },
  {
   "cell_type": "code",
   "execution_count": null,
   "metadata": {},
   "outputs": [],
   "source": []
  },
  {
   "cell_type": "code",
   "execution_count": null,
   "metadata": {},
   "outputs": [],
   "source": []
  },
  {
   "cell_type": "markdown",
   "metadata": {},
   "source": [
    "## Prediction"
   ]
  },
  {
   "cell_type": "code",
   "execution_count": 435,
   "metadata": {},
   "outputs": [],
   "source": [
    "y_pred = rf_grid_v1.predict(X_test)"
   ]
  },
  {
   "cell_type": "code",
   "execution_count": 436,
   "metadata": {},
   "outputs": [],
   "source": [
    "y_df = pd.DataFrame({\"actual\": y_test,\n",
    "                     \"predicted\": y_pred,\n",
    "                     })"
   ]
  },
  {
   "cell_type": "code",
   "execution_count": 437,
   "metadata": {},
   "outputs": [
    {
     "data": {
      "text/html": [
       "<div>\n",
       "<style scoped>\n",
       "    .dataframe tbody tr th:only-of-type {\n",
       "        vertical-align: middle;\n",
       "    }\n",
       "\n",
       "    .dataframe tbody tr th {\n",
       "        vertical-align: top;\n",
       "    }\n",
       "\n",
       "    .dataframe thead th {\n",
       "        text-align: right;\n",
       "    }\n",
       "</style>\n",
       "<table border=\"1\" class=\"dataframe\">\n",
       "  <thead>\n",
       "    <tr style=\"text-align: right;\">\n",
       "      <th></th>\n",
       "      <th>actual</th>\n",
       "      <th>predicted</th>\n",
       "    </tr>\n",
       "  </thead>\n",
       "  <tbody>\n",
       "    <tr>\n",
       "      <th>0</th>\n",
       "      <td>dissatisfied</td>\n",
       "      <td>dissatisfied</td>\n",
       "    </tr>\n",
       "    <tr>\n",
       "      <th>1</th>\n",
       "      <td>satisfied</td>\n",
       "      <td>satisfied</td>\n",
       "    </tr>\n",
       "    <tr>\n",
       "      <th>2</th>\n",
       "      <td>satisfied</td>\n",
       "      <td>satisfied</td>\n",
       "    </tr>\n",
       "    <tr>\n",
       "      <th>3</th>\n",
       "      <td>dissatisfied</td>\n",
       "      <td>dissatisfied</td>\n",
       "    </tr>\n",
       "    <tr>\n",
       "      <th>4</th>\n",
       "      <td>satisfied</td>\n",
       "      <td>satisfied</td>\n",
       "    </tr>\n",
       "    <tr>\n",
       "      <th>5</th>\n",
       "      <td>satisfied</td>\n",
       "      <td>satisfied</td>\n",
       "    </tr>\n",
       "    <tr>\n",
       "      <th>6</th>\n",
       "      <td>satisfied</td>\n",
       "      <td>satisfied</td>\n",
       "    </tr>\n",
       "    <tr>\n",
       "      <th>7</th>\n",
       "      <td>satisfied</td>\n",
       "      <td>satisfied</td>\n",
       "    </tr>\n",
       "    <tr>\n",
       "      <th>8</th>\n",
       "      <td>dissatisfied</td>\n",
       "      <td>dissatisfied</td>\n",
       "    </tr>\n",
       "    <tr>\n",
       "      <th>9</th>\n",
       "      <td>satisfied</td>\n",
       "      <td>satisfied</td>\n",
       "    </tr>\n",
       "    <tr>\n",
       "      <th>10</th>\n",
       "      <td>dissatisfied</td>\n",
       "      <td>dissatisfied</td>\n",
       "    </tr>\n",
       "    <tr>\n",
       "      <th>11</th>\n",
       "      <td>dissatisfied</td>\n",
       "      <td>dissatisfied</td>\n",
       "    </tr>\n",
       "    <tr>\n",
       "      <th>12</th>\n",
       "      <td>dissatisfied</td>\n",
       "      <td>dissatisfied</td>\n",
       "    </tr>\n",
       "    <tr>\n",
       "      <th>13</th>\n",
       "      <td>satisfied</td>\n",
       "      <td>satisfied</td>\n",
       "    </tr>\n",
       "    <tr>\n",
       "      <th>14</th>\n",
       "      <td>satisfied</td>\n",
       "      <td>dissatisfied</td>\n",
       "    </tr>\n",
       "  </tbody>\n",
       "</table>\n",
       "</div>"
      ],
      "text/plain": [
       "          actual     predicted\n",
       "0   dissatisfied  dissatisfied\n",
       "1      satisfied     satisfied\n",
       "2      satisfied     satisfied\n",
       "3   dissatisfied  dissatisfied\n",
       "4      satisfied     satisfied\n",
       "5      satisfied     satisfied\n",
       "6      satisfied     satisfied\n",
       "7      satisfied     satisfied\n",
       "8   dissatisfied  dissatisfied\n",
       "9      satisfied     satisfied\n",
       "10  dissatisfied  dissatisfied\n",
       "11  dissatisfied  dissatisfied\n",
       "12  dissatisfied  dissatisfied\n",
       "13     satisfied     satisfied\n",
       "14     satisfied  dissatisfied"
      ]
     },
     "execution_count": 437,
     "metadata": {},
     "output_type": "execute_result"
    }
   ],
   "source": [
    "y_df.head(15)"
   ]
  },
  {
   "cell_type": "markdown",
   "metadata": {},
   "source": [
    "## Confusion Matrix"
   ]
  },
  {
   "cell_type": "code",
   "execution_count": 438,
   "metadata": {},
   "outputs": [
    {
     "data": {
      "image/png": "[encoded data removed]",
      "text/plain": [
       "<Figure size 648x648 with 2 Axes>"
      ]
     },
     "metadata": {
      "needs_background": "light"
     },
     "output_type": "display_data"
    }
   ],
   "source": [
    "draw_cm( y_df.actual, y_df.predicted )"
   ]
  },
  {
   "cell_type": "markdown",
   "metadata": {},
   "source": [
    "## Performance measures"
   ]
  },
  {
   "cell_type": "code",
   "execution_count": 439,
   "metadata": {},
   "outputs": [
    {
     "data": {
      "text/html": [
       "<div>\n",
       "<style scoped>\n",
       "    .dataframe tbody tr th:only-of-type {\n",
       "        vertical-align: middle;\n",
       "    }\n",
       "\n",
       "    .dataframe tbody tr th {\n",
       "        vertical-align: top;\n",
       "    }\n",
       "\n",
       "    .dataframe thead th {\n",
       "        text-align: right;\n",
       "    }\n",
       "</style>\n",
       "<table border=\"1\" class=\"dataframe\">\n",
       "  <thead>\n",
       "    <tr style=\"text-align: right;\">\n",
       "      <th></th>\n",
       "      <th>sensitivity</th>\n",
       "      <th>specificity</th>\n",
       "      <th>recall</th>\n",
       "      <th>precision</th>\n",
       "      <th>overall_acc</th>\n",
       "    </tr>\n",
       "  </thead>\n",
       "  <tbody>\n",
       "    <tr>\n",
       "      <th>0</th>\n",
       "      <td>0.91</td>\n",
       "      <td>0.9</td>\n",
       "      <td>0.91</td>\n",
       "      <td>0.89</td>\n",
       "      <td>0.91</td>\n",
       "    </tr>\n",
       "  </tbody>\n",
       "</table>\n",
       "</div>"
      ],
      "text/plain": [
       "   sensitivity  specificity  recall  precision  overall_acc\n",
       "0         0.91          0.9    0.91       0.89         0.91"
      ]
     },
     "execution_count": 439,
     "metadata": {},
     "output_type": "execute_result"
    },
    {
     "name": "stdout",
     "output_type": "stream",
     "text": [
      "Total Accuracy:  0.91\n"
     ]
    }
   ],
   "source": [
    "cm = metrics.confusion_matrix(y_df.actual, y_df.predicted)\n",
    "rf_CV_metrics_df = pd.DataFrame(measure_performance(cm))\n",
    "rf_CV_metrics_df\n",
    "\n",
    "print( 'Total Accuracy: ',np.round( metrics.accuracy_score( y_df.actual, y_df.predicted ), 2 ))"
   ]
  },
  {
   "cell_type": "code",
   "execution_count": 440,
   "metadata": {},
   "outputs": [],
   "source": [
    "y_df['predicted_code'] = y_df.predicted.replace(('satisfied', 'dissatisfied'), (1, 0))\n",
    "y_df['actual_code'] = y_df.actual.replace(('satisfied', 'dissatisfied'), (1, 0))\n"
   ]
  },
  {
   "cell_type": "code",
   "execution_count": 441,
   "metadata": {},
   "outputs": [
    {
     "data": {
      "image/png": "[encoded data removed]",
      "text/plain": [
       "<Figure size 720x720 with 1 Axes>"
      ]
     },
     "metadata": {
      "needs_background": "light"
     },
     "output_type": "display_data"
    }
   ],
   "source": [
    "fpr, tpr, thresholds = draw_roc(y_df.actual_code, y_df.predicted_code)"
   ]
  },
  {
   "cell_type": "code",
   "execution_count": 442,
   "metadata": {},
   "outputs": [
    {
     "data": {
      "text/plain": [
       "0.91"
      ]
     },
     "execution_count": 442,
     "metadata": {},
     "output_type": "execute_result"
    }
   ],
   "source": [
    "auc_score = metrics.roc_auc_score( y_df.actual_code, y_df.predicted_code  )\n",
    "round( float( auc_score ), 2 )"
   ]
  },
  {
   "cell_type": "code",
   "execution_count": 390,
   "metadata": {},
   "outputs": [],
   "source": [
    "# random search?"
   ]
  },
  {
   "cell_type": "markdown",
   "metadata": {},
   "source": [
    "# XGboost"
   ]
  },
  {
   "cell_type": "code",
   "execution_count": 394,
   "metadata": {},
   "outputs": [
    {
     "data": {
      "text/plain": [
       "['Gender',\n",
       " 'Customer Type',\n",
       " 'Age',\n",
       " 'Type of Travel',\n",
       " 'Class',\n",
       " 'Flight Distance',\n",
       " 'Seat comfort',\n",
       " 'Departure/Arrival time convenient',\n",
       " 'Food and drink',\n",
       " 'Gate location',\n",
       " 'Inflight wifi service',\n",
       " 'Inflight entertainment',\n",
       " 'Online support',\n",
       " 'Ease of Online booking',\n",
       " 'On-board service',\n",
       " 'Leg room service',\n",
       " 'Baggage handling',\n",
       " 'Checkin service',\n",
       " 'Cleanliness',\n",
       " 'Online boarding',\n",
       " 'Departure Delay in Minutes',\n",
       " 'Arrival Delay in Minutes']"
      ]
     },
     "execution_count": 394,
     "metadata": {},
     "output_type": "execute_result"
    }
   ],
   "source": [
    "predictors = [x for x in X_train.columns]\n",
    "predictors"
   ]
  },
  {
   "cell_type": "code",
   "execution_count": 395,
   "metadata": {},
   "outputs": [],
   "source": [
    "xgb1 = XGBClassifier(\n",
    " learning_rate =0.1,\n",
    " n_estimators=1000,\n",
    " max_depth=20,\n",
    " min_child_weight=1,\n",
    " gamma=0,\n",
    " subsample=0.8,\n",
    " colsample_bytree=0.8,\n",
    " objective= 'binary:logistic',\n",
    " nthread=4,\n",
    " scale_pos_weight=1,\n",
    " seed=42)\n"
   ]
  },
  {
   "cell_type": "code",
   "execution_count": 396,
   "metadata": {},
   "outputs": [],
   "source": [
    "xg_v1 = Pipeline(steps=[('preprocessor', preprocessor),\n",
    "                          ('xbg1', xgb1)])"
   ]
  },
  {
   "cell_type": "code",
   "execution_count": 397,
   "metadata": {},
   "outputs": [
    {
     "name": "stderr",
     "output_type": "stream",
     "text": [
      "C:\\Users\\RK\\anaconda3\\lib\\site-packages\\xgboost\\sklearn.py:1224: UserWarning: The use of label encoder in XGBClassifier is deprecated and will be removed in a future release. To remove this warning, do the following: 1) Pass option use_label_encoder=False when constructing XGBClassifier object; and 2) Encode your labels (y) as integers starting with 0, i.e. 0, 1, 2, ..., [num_class - 1].\n",
      "  warnings.warn(label_encoder_deprecation_msg, UserWarning)\n"
     ]
    },
    {
     "name": "stdout",
     "output_type": "stream",
     "text": [
      "[02:11:45] WARNING: C:/Users/Administrator/workspace/xgboost-win64_release_1.5.0/src/learner.cc:1115: Starting in XGBoost 1.3.0, the default evaluation metric used with the objective 'binary:logistic' was changed from 'error' to 'logloss'. Explicitly set eval_metric if you'd like to restore the old behavior.\n"
     ]
    },
    {
     "data": {
      "text/plain": [
       "Pipeline(steps=[('preprocessor',\n",
       "                 ColumnTransformer(transformers=[('num',\n",
       "                                                  Pipeline(steps=[('scaler',\n",
       "                                                                   StandardScaler())]),\n",
       "                                                  ['Age', 'Flight Distance',\n",
       "                                                   'Seat comfort',\n",
       "                                                   'Departure/Arrival time '\n",
       "                                                   'convenient',\n",
       "                                                   'Food and drink',\n",
       "                                                   'Gate location',\n",
       "                                                   'Inflight wifi service',\n",
       "                                                   'Inflight entertainment',\n",
       "                                                   'Online support',\n",
       "                                                   'Ease of Online booking',\n",
       "                                                   'On-board service',\n",
       "                                                   'Leg room service',\n",
       "                                                   'Baggage ha...\n",
       "                               gamma=0, gpu_id=-1, importance_type=None,\n",
       "                               interaction_constraints='', learning_rate=0.1,\n",
       "                               max_delta_step=0, max_depth=20,\n",
       "                               min_child_weight=1, missing=nan,\n",
       "                               monotone_constraints='()', n_estimators=1000,\n",
       "                               n_jobs=4, nthread=4, num_parallel_tree=1,\n",
       "                               predictor='auto', random_state=42, reg_alpha=0,\n",
       "                               reg_lambda=1, scale_pos_weight=1, seed=42,\n",
       "                               subsample=0.8, tree_method='exact',\n",
       "                               validate_parameters=1, verbosity=None))])"
      ]
     },
     "execution_count": 397,
     "metadata": {},
     "output_type": "execute_result"
    }
   ],
   "source": [
    "xg_v1.fit(X_train, y_train)\n"
   ]
  },
  {
   "cell_type": "markdown",
   "metadata": {},
   "source": [
    "## Prediction"
   ]
  },
  {
   "cell_type": "code",
   "execution_count": 448,
   "metadata": {},
   "outputs": [],
   "source": [
    "y_pred = xg_v1.predict(X_test)"
   ]
  },
  {
   "cell_type": "code",
   "execution_count": 449,
   "metadata": {},
   "outputs": [],
   "source": [
    "y_df = pd.DataFrame({\"actual\": y_test,\n",
    "                     \"predicted\": y_pred,\n",
    "                     })"
   ]
  },
  {
   "cell_type": "code",
   "execution_count": 450,
   "metadata": {},
   "outputs": [
    {
     "data": {
      "text/html": [
       "<div>\n",
       "<style scoped>\n",
       "    .dataframe tbody tr th:only-of-type {\n",
       "        vertical-align: middle;\n",
       "    }\n",
       "\n",
       "    .dataframe tbody tr th {\n",
       "        vertical-align: top;\n",
       "    }\n",
       "\n",
       "    .dataframe thead th {\n",
       "        text-align: right;\n",
       "    }\n",
       "</style>\n",
       "<table border=\"1\" class=\"dataframe\">\n",
       "  <thead>\n",
       "    <tr style=\"text-align: right;\">\n",
       "      <th></th>\n",
       "      <th>actual</th>\n",
       "      <th>predicted</th>\n",
       "    </tr>\n",
       "  </thead>\n",
       "  <tbody>\n",
       "    <tr>\n",
       "      <th>0</th>\n",
       "      <td>dissatisfied</td>\n",
       "      <td>dissatisfied</td>\n",
       "    </tr>\n",
       "    <tr>\n",
       "      <th>1</th>\n",
       "      <td>satisfied</td>\n",
       "      <td>satisfied</td>\n",
       "    </tr>\n",
       "    <tr>\n",
       "      <th>2</th>\n",
       "      <td>satisfied</td>\n",
       "      <td>dissatisfied</td>\n",
       "    </tr>\n",
       "    <tr>\n",
       "      <th>3</th>\n",
       "      <td>dissatisfied</td>\n",
       "      <td>dissatisfied</td>\n",
       "    </tr>\n",
       "    <tr>\n",
       "      <th>4</th>\n",
       "      <td>satisfied</td>\n",
       "      <td>satisfied</td>\n",
       "    </tr>\n",
       "    <tr>\n",
       "      <th>5</th>\n",
       "      <td>satisfied</td>\n",
       "      <td>satisfied</td>\n",
       "    </tr>\n",
       "    <tr>\n",
       "      <th>6</th>\n",
       "      <td>satisfied</td>\n",
       "      <td>satisfied</td>\n",
       "    </tr>\n",
       "    <tr>\n",
       "      <th>7</th>\n",
       "      <td>satisfied</td>\n",
       "      <td>satisfied</td>\n",
       "    </tr>\n",
       "    <tr>\n",
       "      <th>8</th>\n",
       "      <td>dissatisfied</td>\n",
       "      <td>dissatisfied</td>\n",
       "    </tr>\n",
       "    <tr>\n",
       "      <th>9</th>\n",
       "      <td>satisfied</td>\n",
       "      <td>satisfied</td>\n",
       "    </tr>\n",
       "    <tr>\n",
       "      <th>10</th>\n",
       "      <td>dissatisfied</td>\n",
       "      <td>dissatisfied</td>\n",
       "    </tr>\n",
       "    <tr>\n",
       "      <th>11</th>\n",
       "      <td>dissatisfied</td>\n",
       "      <td>dissatisfied</td>\n",
       "    </tr>\n",
       "    <tr>\n",
       "      <th>12</th>\n",
       "      <td>dissatisfied</td>\n",
       "      <td>dissatisfied</td>\n",
       "    </tr>\n",
       "    <tr>\n",
       "      <th>13</th>\n",
       "      <td>satisfied</td>\n",
       "      <td>satisfied</td>\n",
       "    </tr>\n",
       "    <tr>\n",
       "      <th>14</th>\n",
       "      <td>satisfied</td>\n",
       "      <td>satisfied</td>\n",
       "    </tr>\n",
       "  </tbody>\n",
       "</table>\n",
       "</div>"
      ],
      "text/plain": [
       "          actual     predicted\n",
       "0   dissatisfied  dissatisfied\n",
       "1      satisfied     satisfied\n",
       "2      satisfied  dissatisfied\n",
       "3   dissatisfied  dissatisfied\n",
       "4      satisfied     satisfied\n",
       "5      satisfied     satisfied\n",
       "6      satisfied     satisfied\n",
       "7      satisfied     satisfied\n",
       "8   dissatisfied  dissatisfied\n",
       "9      satisfied     satisfied\n",
       "10  dissatisfied  dissatisfied\n",
       "11  dissatisfied  dissatisfied\n",
       "12  dissatisfied  dissatisfied\n",
       "13     satisfied     satisfied\n",
       "14     satisfied     satisfied"
      ]
     },
     "execution_count": 450,
     "metadata": {},
     "output_type": "execute_result"
    }
   ],
   "source": [
    "y_df.head(15)"
   ]
  },
  {
   "cell_type": "markdown",
   "metadata": {},
   "source": [
    "## Confusion matrix"
   ]
  },
  {
   "cell_type": "code",
   "execution_count": 451,
   "metadata": {},
   "outputs": [
    {
     "data": {
      "image/png": "[encoded data removed]",
      "text/plain": [
       "<Figure size 648x648 with 2 Axes>"
      ]
     },
     "metadata": {
      "needs_background": "light"
     },
     "output_type": "display_data"
    }
   ],
   "source": [
    "draw_cm( y_df.actual, y_df.predicted )"
   ]
  },
  {
   "cell_type": "markdown",
   "metadata": {},
   "source": [
    "## Performance measures"
   ]
  },
  {
   "cell_type": "code",
   "execution_count": 452,
   "metadata": {},
   "outputs": [
    {
     "data": {
      "text/html": [
       "<div>\n",
       "<style scoped>\n",
       "    .dataframe tbody tr th:only-of-type {\n",
       "        vertical-align: middle;\n",
       "    }\n",
       "\n",
       "    .dataframe tbody tr th {\n",
       "        vertical-align: top;\n",
       "    }\n",
       "\n",
       "    .dataframe thead th {\n",
       "        text-align: right;\n",
       "    }\n",
       "</style>\n",
       "<table border=\"1\" class=\"dataframe\">\n",
       "  <thead>\n",
       "    <tr style=\"text-align: right;\">\n",
       "      <th></th>\n",
       "      <th>sensitivity</th>\n",
       "      <th>specificity</th>\n",
       "      <th>recall</th>\n",
       "      <th>precision</th>\n",
       "      <th>overall_acc</th>\n",
       "    </tr>\n",
       "  </thead>\n",
       "  <tbody>\n",
       "    <tr>\n",
       "      <th>0</th>\n",
       "      <td>0.96</td>\n",
       "      <td>0.95</td>\n",
       "      <td>0.96</td>\n",
       "      <td>0.95</td>\n",
       "      <td>0.96</td>\n",
       "    </tr>\n",
       "  </tbody>\n",
       "</table>\n",
       "</div>"
      ],
      "text/plain": [
       "   sensitivity  specificity  recall  precision  overall_acc\n",
       "0         0.96         0.95    0.96       0.95         0.96"
      ]
     },
     "execution_count": 452,
     "metadata": {},
     "output_type": "execute_result"
    },
    {
     "name": "stdout",
     "output_type": "stream",
     "text": [
      "Total Accuracy:  0.96\n"
     ]
    }
   ],
   "source": [
    "cm = metrics.confusion_matrix(y_df.actual, y_df.predicted)\n",
    "dt_metrics_df = pd.DataFrame(measure_performance(cm))\n",
    "dt_metrics_df\n",
    "\n",
    "print( 'Total Accuracy: ',np.round( metrics.accuracy_score( y_df.actual, y_df.predicted ), 2 ))"
   ]
  },
  {
   "cell_type": "code",
   "execution_count": 453,
   "metadata": {},
   "outputs": [],
   "source": [
    "y_df['predicted_code'] = y_df.predicted.replace(('satisfied', 'dissatisfied'), (1, 0))\n",
    "y_df['actual_code'] = y_df.actual.replace(('satisfied', 'dissatisfied'), (1, 0))\n"
   ]
  },
  {
   "cell_type": "code",
   "execution_count": 454,
   "metadata": {},
   "outputs": [
    {
     "data": {
      "image/png": "[encoded data removed]",
      "text/plain": [
       "<Figure size 720x720 with 1 Axes>"
      ]
     },
     "metadata": {
      "needs_background": "light"
     },
     "output_type": "display_data"
    }
   ],
   "source": [
    "fpr, tpr, thresholds = draw_roc(y_df.actual_code, y_df.predicted_code)"
   ]
  },
  {
   "cell_type": "code",
   "execution_count": 455,
   "metadata": {},
   "outputs": [
    {
     "data": {
      "text/plain": [
       "0.96"
      ]
     },
     "execution_count": 455,
     "metadata": {},
     "output_type": "execute_result"
    }
   ],
   "source": [
    "auc_score = metrics.roc_auc_score( y_df.actual_code, y_df.predicted_code  )\n",
    "round( float( auc_score ), 2 )"
   ]
  },
  {
   "cell_type": "code",
   "execution_count": 456,
   "metadata": {},
   "outputs": [],
   "source": [
    "xg_v1_auc= auc_score"
   ]
  },
  {
   "cell_type": "markdown",
   "metadata": {},
   "source": [
    "# Final model - XGBoost"
   ]
  },
  {
   "cell_type": "markdown",
   "metadata": {},
   "source": [
    "## Saving the model"
   ]
  },
  {
   "cell_type": "code",
   "execution_count": 445,
   "metadata": {},
   "outputs": [],
   "source": [
    "class AirlineSatisfactionPrediction():\n",
    "    \n",
    "    def __init__(self, model, features, auc):\n",
    "        self.model = model\n",
    "        self.features = features\n",
    "        self.auc = auc"
   ]
  },
  {
   "cell_type": "code",
   "execution_count": 459,
   "metadata": {},
   "outputs": [],
   "source": [
    "my_model = AirlineSatisfactionPrediction(xg_v1, list(X_train.columns), xg_v1_auc)"
   ]
  },
  {
   "cell_type": "code",
   "execution_count": 460,
   "metadata": {},
   "outputs": [],
   "source": [
    "from joblib import dump"
   ]
  },
  {
   "cell_type": "code",
   "execution_count": 462,
   "metadata": {},
   "outputs": [
    {
     "data": {
      "text/plain": [
       "['./airline_xgb.pkl']"
      ]
     },
     "execution_count": 462,
     "metadata": {},
     "output_type": "execute_result"
    }
   ],
   "source": [
    "dump(my_model, './airline_xgb.pkl')"
   ]
  },
  {
   "cell_type": "code",
   "execution_count": 463,
   "metadata": {},
   "outputs": [
    {
     "data": {
      "text/plain": [
       "['./airline_xgb.parquet']"
      ]
     },
     "execution_count": 463,
     "metadata": {},
     "output_type": "execute_result"
    }
   ],
   "source": [
    "dump(my_model, './airline_xgb.parquet')"
   ]
  },
  {
   "cell_type": "code",
   "execution_count": null,
   "metadata": {},
   "outputs": [],
   "source": []
  }
 ],
 "metadata": {
  "kernelspec": {
   "display_name": "Python 3",
   "language": "python",
   "name": "python3"
  },
  "language_info": {
   "codemirror_mode": {
    "name": "ipython",
    "version": 3
   },
   "file_extension": ".py",
   "mimetype": "text/x-python",
   "name": "python",
   "nbconvert_exporter": "python",
   "pygments_lexer": "ipython3",
   "version": "3.8.12"
  }
 },
 "nbformat": 4,
 "nbformat_minor": 4
}
