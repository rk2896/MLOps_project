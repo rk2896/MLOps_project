{
 "cells": [
  {
   "cell_type": "code",
   "execution_count": 40,
   "metadata": {},
   "outputs": [],
   "source": [
    "import pandas as pd\n",
    "import numpy as np\n",
    "import seaborn as sns\n",
    "import statsmodels.api as sm\n",
    "import matplotlib.pylab as plt\n",
    "\n",
    "from sklearn.model_selection import train_test_split, cross_val_score, GridSearchCV, RandomizedSearchCV\n",
    "from sklearn.preprocessing import StandardScaler, LabelEncoder, OneHotEncoder\n",
    "from sklearn.compose import ColumnTransformer\n",
    "from sklearn.pipeline import Pipeline\n",
    "from sklearn import tree\n",
    "from sklearn.linear_model import LogisticRegression\n",
    "from sklearn import metrics\n",
    "from sklearn.metrics import confusion_matrix, classification_report, SCORERS\n",
    "from sklearn import ensemble\n",
    "\n",
    "# from category_encoders import OneHotEncoder, TargetEncoder, WOEEncoder\n",
    "\n",
    "import xgboost as xgb\n",
    "from xgboost.sklearn import XGBClassifier\n",
    "\n",
    "from six import StringIO\n",
    "from IPython.display import Image\n",
    "\n",
    "import pydotplus\n",
    "import graphviz\n",
    "\n",
    "import wandb\n",
    "import os\n",
    "\n",
    "import h2o\n",
    "from h2o.automl import H2OAutoML\n",
    "from h2o.estimators import H2OTargetEncoderEstimator\n",
    "\n",
    "from onnx.tools.net_drawer import GetPydotGraph, GetOpNodeProducer\n",
    "import onnxruntime as rt\n",
    "from skl2onnx import convert_sklearn, __version__, update_registered_converter\n",
    "from skl2onnx.common.data_types import FloatTensorType, StringTensorType\n",
    "from skl2onnx.common.data_types import Int64TensorType\n",
    "from skl2onnx.common.shape_calculator import calculate_linear_classifier_output_shapes\n",
    "from onnxmltools.convert.xgboost.operator_converters.XGBoost import convert_xgboost  # noqa\n",
    "import pprint"
   ]
  },
  {
   "cell_type": "code",
   "execution_count": 18,
   "metadata": {},
   "outputs": [],
   "source": [
    "train = pd.read_csv('../Data/interim/train.csv')"
   ]
  },
  {
   "cell_type": "code",
   "execution_count": 19,
   "metadata": {},
   "outputs": [
    {
     "data": {
      "text/plain": [
       "['satisfaction',\n",
       " 'Gender',\n",
       " 'Customer Type',\n",
       " 'Age',\n",
       " 'Type of Travel',\n",
       " 'Class',\n",
       " 'Flight Distance',\n",
       " 'Seat comfort',\n",
       " 'Departure/Arrival time convenient',\n",
       " 'Food and drink',\n",
       " 'Gate location',\n",
       " 'Inflight wifi service',\n",
       " 'Inflight entertainment',\n",
       " 'Online support',\n",
       " 'Ease of Online booking',\n",
       " 'On-board service',\n",
       " 'Leg room service',\n",
       " 'Baggage handling',\n",
       " 'Checkin service',\n",
       " 'Cleanliness',\n",
       " 'Online boarding',\n",
       " 'Departure Delay in Minutes',\n",
       " 'Arrival Delay in Minutes']"
      ]
     },
     "execution_count": 19,
     "metadata": {},
     "output_type": "execute_result"
    }
   ],
   "source": [
    "old_names = list(train.columns)\n",
    "old_names"
   ]
  },
  {
   "cell_type": "code",
   "execution_count": 20,
   "metadata": {},
   "outputs": [],
   "source": [
    "new_names = ['Gender',\n",
    " 'Customer_Type',\n",
    " 'Age',\n",
    " 'Type_of_Travel',\n",
    " 'Class',\n",
    " 'Flight_Distance',\n",
    " 'Seat_comfort',\n",
    " 'Departure/Arrival_time_convenient',\n",
    " 'Food_and_drink',\n",
    " 'Gate_location',\n",
    " 'Inflight_wifi_service',\n",
    " 'Inflight_entertainment',\n",
    " 'Online_support',\n",
    " 'Ease_of_Online_booking',\n",
    " 'On-board_service',\n",
    " 'Leg_room_service',\n",
    " 'Baggage_handling',\n",
    " 'Checkin_service',\n",
    " 'Cleanliness',\n",
    " 'Online_boarding',\n",
    " 'Departure_Delay_in_Minutes',\n",
    " 'Arrival_Delay_in_Minutes']"
   ]
  },
  {
   "cell_type": "code",
   "execution_count": 21,
   "metadata": {},
   "outputs": [
    {
     "data": {
      "text/plain": [
       "{'Gender': 'Gender',\n",
       " 'Customer Type': 'Customer_Type',\n",
       " 'Age': 'Age',\n",
       " 'Type of Travel': 'Type_of_Travel',\n",
       " 'Class': 'Class',\n",
       " 'Flight Distance': 'Flight_Distance',\n",
       " 'Seat comfort': 'Seat_comfort',\n",
       " 'Departure/Arrival time convenient': 'Departure/Arrival_time_convenient',\n",
       " 'Food and drink': 'Food_and_drink',\n",
       " 'Gate location': 'Gate_location',\n",
       " 'Inflight wifi service': 'Inflight_wifi_service',\n",
       " 'Inflight entertainment': 'Inflight_entertainment',\n",
       " 'Online support': 'Online_support',\n",
       " 'Ease of Online booking': 'Ease_of_Online_booking',\n",
       " 'On-board service': 'On-board_service',\n",
       " 'Leg room service': 'Leg_room_service',\n",
       " 'Baggage handling': 'Baggage_handling',\n",
       " 'Checkin service': 'Checkin_service',\n",
       " 'Cleanliness': 'Cleanliness',\n",
       " 'Online boarding': 'Online_boarding',\n",
       " 'Departure Delay in Minutes': 'Departure_Delay_in_Minutes',\n",
       " 'Arrival Delay in Minutes': 'Arrival_Delay_in_Minutes'}"
      ]
     },
     "execution_count": 21,
     "metadata": {},
     "output_type": "execute_result"
    }
   ],
   "source": [
    "name_dict = {}\n",
    "for n in range(1, len(new_names)+1):\n",
    "    name_dict[old_names[n]] = new_names[n-1]\n",
    "name_dict"
   ]
  },
  {
   "cell_type": "code",
   "execution_count": 22,
   "metadata": {},
   "outputs": [
    {
     "data": {
      "text/html": [
       "<div>\n",
       "<style scoped>\n",
       "    .dataframe tbody tr th:only-of-type {\n",
       "        vertical-align: middle;\n",
       "    }\n",
       "\n",
       "    .dataframe tbody tr th {\n",
       "        vertical-align: top;\n",
       "    }\n",
       "\n",
       "    .dataframe thead th {\n",
       "        text-align: right;\n",
       "    }\n",
       "</style>\n",
       "<table border=\"1\" class=\"dataframe\">\n",
       "  <thead>\n",
       "    <tr style=\"text-align: right;\">\n",
       "      <th></th>\n",
       "      <th>satisfaction</th>\n",
       "      <th>Gender</th>\n",
       "      <th>Customer_Type</th>\n",
       "      <th>Age</th>\n",
       "      <th>Type_of_Travel</th>\n",
       "      <th>Class</th>\n",
       "      <th>Flight_Distance</th>\n",
       "      <th>Seat_comfort</th>\n",
       "      <th>Departure/Arrival_time_convenient</th>\n",
       "      <th>Food_and_drink</th>\n",
       "      <th>...</th>\n",
       "      <th>Online_support</th>\n",
       "      <th>Ease_of_Online_booking</th>\n",
       "      <th>On-board_service</th>\n",
       "      <th>Leg_room_service</th>\n",
       "      <th>Baggage_handling</th>\n",
       "      <th>Checkin_service</th>\n",
       "      <th>Cleanliness</th>\n",
       "      <th>Online_boarding</th>\n",
       "      <th>Departure_Delay_in_Minutes</th>\n",
       "      <th>Arrival_Delay_in_Minutes</th>\n",
       "    </tr>\n",
       "  </thead>\n",
       "  <tbody>\n",
       "    <tr>\n",
       "      <th>0</th>\n",
       "      <td>satisfied</td>\n",
       "      <td>Male</td>\n",
       "      <td>Loyal Customer</td>\n",
       "      <td>37</td>\n",
       "      <td>Business travel</td>\n",
       "      <td>Business</td>\n",
       "      <td>3785</td>\n",
       "      <td>4</td>\n",
       "      <td>4</td>\n",
       "      <td>4</td>\n",
       "      <td>...</td>\n",
       "      <td>4</td>\n",
       "      <td>4</td>\n",
       "      <td>4</td>\n",
       "      <td>4</td>\n",
       "      <td>4</td>\n",
       "      <td>5</td>\n",
       "      <td>4</td>\n",
       "      <td>4</td>\n",
       "      <td>1</td>\n",
       "      <td>9</td>\n",
       "    </tr>\n",
       "    <tr>\n",
       "      <th>1</th>\n",
       "      <td>dissatisfied</td>\n",
       "      <td>Male</td>\n",
       "      <td>Loyal Customer</td>\n",
       "      <td>60</td>\n",
       "      <td>Personal Travel</td>\n",
       "      <td>Eco</td>\n",
       "      <td>1784</td>\n",
       "      <td>3</td>\n",
       "      <td>4</td>\n",
       "      <td>3</td>\n",
       "      <td>...</td>\n",
       "      <td>2</td>\n",
       "      <td>5</td>\n",
       "      <td>3</td>\n",
       "      <td>2</td>\n",
       "      <td>4</td>\n",
       "      <td>4</td>\n",
       "      <td>4</td>\n",
       "      <td>5</td>\n",
       "      <td>0</td>\n",
       "      <td>0</td>\n",
       "    </tr>\n",
       "    <tr>\n",
       "      <th>2</th>\n",
       "      <td>dissatisfied</td>\n",
       "      <td>Male</td>\n",
       "      <td>Loyal Customer</td>\n",
       "      <td>27</td>\n",
       "      <td>Business travel</td>\n",
       "      <td>Business</td>\n",
       "      <td>1825</td>\n",
       "      <td>2</td>\n",
       "      <td>3</td>\n",
       "      <td>4</td>\n",
       "      <td>...</td>\n",
       "      <td>2</td>\n",
       "      <td>2</td>\n",
       "      <td>1</td>\n",
       "      <td>3</td>\n",
       "      <td>3</td>\n",
       "      <td>1</td>\n",
       "      <td>2</td>\n",
       "      <td>2</td>\n",
       "      <td>76</td>\n",
       "      <td>57</td>\n",
       "    </tr>\n",
       "    <tr>\n",
       "      <th>3</th>\n",
       "      <td>satisfied</td>\n",
       "      <td>Male</td>\n",
       "      <td>Loyal Customer</td>\n",
       "      <td>50</td>\n",
       "      <td>Business travel</td>\n",
       "      <td>Eco</td>\n",
       "      <td>2024</td>\n",
       "      <td>4</td>\n",
       "      <td>4</td>\n",
       "      <td>2</td>\n",
       "      <td>...</td>\n",
       "      <td>4</td>\n",
       "      <td>4</td>\n",
       "      <td>2</td>\n",
       "      <td>5</td>\n",
       "      <td>4</td>\n",
       "      <td>2</td>\n",
       "      <td>4</td>\n",
       "      <td>4</td>\n",
       "      <td>125</td>\n",
       "      <td>129</td>\n",
       "    </tr>\n",
       "    <tr>\n",
       "      <th>4</th>\n",
       "      <td>dissatisfied</td>\n",
       "      <td>Male</td>\n",
       "      <td>Loyal Customer</td>\n",
       "      <td>70</td>\n",
       "      <td>Personal Travel</td>\n",
       "      <td>Eco</td>\n",
       "      <td>1435</td>\n",
       "      <td>4</td>\n",
       "      <td>4</td>\n",
       "      <td>4</td>\n",
       "      <td>...</td>\n",
       "      <td>5</td>\n",
       "      <td>5</td>\n",
       "      <td>5</td>\n",
       "      <td>4</td>\n",
       "      <td>5</td>\n",
       "      <td>4</td>\n",
       "      <td>4</td>\n",
       "      <td>5</td>\n",
       "      <td>0</td>\n",
       "      <td>0</td>\n",
       "    </tr>\n",
       "  </tbody>\n",
       "</table>\n",
       "<p>5 rows × 23 columns</p>\n",
       "</div>"
      ],
      "text/plain": [
       "   satisfaction Gender   Customer_Type  Age   Type_of_Travel     Class  \\\n",
       "0     satisfied   Male  Loyal Customer   37  Business travel  Business   \n",
       "1  dissatisfied   Male  Loyal Customer   60  Personal Travel       Eco   \n",
       "2  dissatisfied   Male  Loyal Customer   27  Business travel  Business   \n",
       "3     satisfied   Male  Loyal Customer   50  Business travel       Eco   \n",
       "4  dissatisfied   Male  Loyal Customer   70  Personal Travel       Eco   \n",
       "\n",
       "   Flight_Distance  Seat_comfort  Departure/Arrival_time_convenient  \\\n",
       "0             3785             4                                  4   \n",
       "1             1784             3                                  4   \n",
       "2             1825             2                                  3   \n",
       "3             2024             4                                  4   \n",
       "4             1435             4                                  4   \n",
       "\n",
       "   Food_and_drink  ...  Online_support  Ease_of_Online_booking  \\\n",
       "0               4  ...               4                       4   \n",
       "1               3  ...               2                       5   \n",
       "2               4  ...               2                       2   \n",
       "3               2  ...               4                       4   \n",
       "4               4  ...               5                       5   \n",
       "\n",
       "   On-board_service  Leg_room_service  Baggage_handling  Checkin_service  \\\n",
       "0                 4                 4                 4                5   \n",
       "1                 3                 2                 4                4   \n",
       "2                 1                 3                 3                1   \n",
       "3                 2                 5                 4                2   \n",
       "4                 5                 4                 5                4   \n",
       "\n",
       "   Cleanliness  Online_boarding  Departure_Delay_in_Minutes  \\\n",
       "0            4                4                           1   \n",
       "1            4                5                           0   \n",
       "2            2                2                          76   \n",
       "3            4                4                         125   \n",
       "4            4                5                           0   \n",
       "\n",
       "   Arrival_Delay_in_Minutes  \n",
       "0                         9  \n",
       "1                         0  \n",
       "2                        57  \n",
       "3                       129  \n",
       "4                         0  \n",
       "\n",
       "[5 rows x 23 columns]"
      ]
     },
     "execution_count": 22,
     "metadata": {},
     "output_type": "execute_result"
    }
   ],
   "source": [
    "train.rename(columns=name_dict, inplace=True)\n",
    "train.head()"
   ]
  },
  {
   "cell_type": "code",
   "execution_count": 23,
   "metadata": {},
   "outputs": [],
   "source": [
    "numerical_features = [x for x in train.select_dtypes(exclude = object)]\n",
    "categorical_features = [x for x in train.select_dtypes(include = object)]"
   ]
  },
  {
   "cell_type": "code",
   "execution_count": 30,
   "metadata": {},
   "outputs": [],
   "source": [
    "categorical_features = categorical_features[1:]"
   ]
  },
  {
   "cell_type": "code",
   "execution_count": 31,
   "metadata": {},
   "outputs": [
    {
     "data": {
      "text/plain": [
       "34079       satisfied\n",
       "12596    dissatisfied\n",
       "6293        satisfied\n",
       "15214       satisfied\n",
       "50131       satisfied\n",
       "             ...     \n",
       "6188        satisfied\n",
       "16833       satisfied\n",
       "58999    dissatisfied\n",
       "71208       satisfied\n",
       "6393     dissatisfied\n",
       "Name: satisfaction, Length: 15539, dtype: object"
      ]
     },
     "execution_count": 31,
     "metadata": {},
     "output_type": "execute_result"
    }
   ],
   "source": [
    "y_test"
   ]
  },
  {
   "cell_type": "code",
   "execution_count": 32,
   "metadata": {},
   "outputs": [
    {
     "name": "stderr",
     "output_type": "stream",
     "text": [
      "C:\\Users\\ADMIN\\.conda\\envs\\mlopslab\\lib\\site-packages\\xgboost\\sklearn.py:1224: UserWarning: The use of label encoder in XGBClassifier is deprecated and will be removed in a future release. To remove this warning, do the following: 1) Pass option use_label_encoder=False when constructing XGBClassifier object; and 2) Encode your labels (y) as integers starting with 0, i.e. 0, 1, 2, ..., [num_class - 1].\n",
      "  warnings.warn(label_encoder_deprecation_msg, UserWarning)\n"
     ]
    },
    {
     "name": "stdout",
     "output_type": "stream",
     "text": [
      "[03:30:21] WARNING: D:\\bld\\xgboost-split_1637426510059\\work\\src\\learner.cc:1115: Starting in XGBoost 1.3.0, the default evaluation metric used with the objective 'binary:logistic' was changed from 'error' to 'logloss'. Explicitly set eval_metric if you'd like to restore the old behavior.\n"
     ]
    }
   ],
   "source": [
    "numeric_transformer = Pipeline(steps=[('scaler', StandardScaler())])\n",
    "\n",
    "categorical_transformer = Pipeline(steps=[('onehot', OneHotEncoder(drop='first', sparse=False))])\n",
    "\n",
    "preprocessor = ColumnTransformer(\n",
    "    transformers=[\n",
    "        ('num', numeric_transformer, numerical_features),                  \n",
    "        ('cat', categorical_transformer, categorical_features),\n",
    "    ])\n",
    "\n",
    "X_train, X_test, y_train, y_test = train_test_split(train.iloc[:, 1:].copy(), train.iloc[:, 0].copy(), test_size=0.2, random_state=16)\n",
    "\n",
    "params = {'bootstrap': True, \n",
    "        'criterion': 'gini',\n",
    "        'max_depth': 15, \n",
    "        'max_features': 'auto',\n",
    "        'min_impurity_decrease': 0.001,\n",
    "        'min_samples_leaf': 30, \n",
    "        'min_samples_split': 50,\n",
    "        'class_weight': \"balanced_subsample\",\n",
    "        'n_estimators': 200,\n",
    "        'oob_score': True, \n",
    "        'random_state': 16, \n",
    "        'verbose': 0,\n",
    "        'warm_start': False}\n",
    "\n",
    "xgb_woe_model = XGBClassifier(learning_rate =0.1,\n",
    "                    n_estimators=500,\n",
    "                    max_depth=20,\n",
    "                    min_child_weight=1,\n",
    "                    gamma=0,\n",
    "                    subsample=0.8,\n",
    "                    colsample_bytree=0.8,\n",
    "                    objective= 'binary:logistic',\n",
    "                    nthread=4,\n",
    "                    scale_pos_weight=1,\n",
    "                    seed=16)\n",
    "\n",
    "\n",
    "model_pipeline = Pipeline(steps=[('preprocessor', preprocessor),\n",
    "                                ('xgb_classifier', xgb_woe_model)])\n",
    "model_pipeline.fit(X_train, y_train)\n",
    "\n",
    "y_pred = model_pipeline.predict(X_test)"
   ]
  },
  {
   "cell_type": "code",
   "execution_count": 33,
   "metadata": {},
   "outputs": [
    {
     "data": {
      "text/plain": [
       "array(['satisfied', 'dissatisfied', 'satisfied', ..., 'dissatisfied',\n",
       "       'satisfied', 'dissatisfied'], dtype=object)"
      ]
     },
     "execution_count": 33,
     "metadata": {},
     "output_type": "execute_result"
    }
   ],
   "source": [
    "y_pred"
   ]
  },
  {
   "cell_type": "code",
   "execution_count": 34,
   "metadata": {},
   "outputs": [
    {
     "name": "stdout",
     "output_type": "stream",
     "text": [
      "[('satisfaction', StringTensorType(shape=[None, 1])),\n",
      " ('Gender', StringTensorType(shape=[None, 1])),\n",
      " ('Customer_Type', StringTensorType(shape=[None, 1])),\n",
      " ('Age', FloatTensorType(shape=[None, 1])),\n",
      " ('Type_of_Travel', StringTensorType(shape=[None, 1])),\n",
      " ('Class', StringTensorType(shape=[None, 1])),\n",
      " ('Flight_Distance', FloatTensorType(shape=[None, 1])),\n",
      " ('Seat_comfort', FloatTensorType(shape=[None, 1])),\n",
      " ('Departure/Arrival_time_convenient', FloatTensorType(shape=[None, 1])),\n",
      " ('Food_and_drink', FloatTensorType(shape=[None, 1])),\n",
      " ('Gate_location', FloatTensorType(shape=[None, 1])),\n",
      " ('Inflight_wifi_service', FloatTensorType(shape=[None, 1])),\n",
      " ('Inflight_entertainment', FloatTensorType(shape=[None, 1])),\n",
      " ('Online_support', FloatTensorType(shape=[None, 1])),\n",
      " ('Ease_of_Online_booking', FloatTensorType(shape=[None, 1])),\n",
      " ('On-board_service', FloatTensorType(shape=[None, 1])),\n",
      " ('Leg_room_service', FloatTensorType(shape=[None, 1])),\n",
      " ('Baggage_handling', FloatTensorType(shape=[None, 1])),\n",
      " ('Checkin_service', FloatTensorType(shape=[None, 1])),\n",
      " ('Cleanliness', FloatTensorType(shape=[None, 1])),\n",
      " ('Online_boarding', FloatTensorType(shape=[None, 1])),\n",
      " ('Departure_Delay_in_Minutes', FloatTensorType(shape=[None, 1])),\n",
      " ('Arrival_Delay_in_Minutes', FloatTensorType(shape=[None, 1]))]\n"
     ]
    }
   ],
   "source": [
    "def convert_dataframe_schema(df, drop=None):\n",
    "    inputs = []\n",
    "    for k, v in zip(df.columns, df.dtypes):\n",
    "        if drop is not None and k in drop:\n",
    "            continue\n",
    "        if v == 'int64':\n",
    "            t = FloatTensorType([None, 1])\n",
    "        elif v == 'float64':\n",
    "            t = FloatTensorType([None, 1])\n",
    "        else:\n",
    "            t = StringTensorType([None, 1])\n",
    "        inputs.append((k, t))\n",
    "    return inputs\n",
    "\n",
    "\n",
    "inputs = convert_dataframe_schema(train)\n",
    "\n",
    "pprint.pprint(inputs)"
   ]
  },
  {
   "cell_type": "code",
   "execution_count": 43,
   "metadata": {},
   "outputs": [],
   "source": [
    "update_registered_converter(\n",
    "    XGBClassifier, 'XGBoostXGBClassifier',\n",
    "    calculate_linear_classifier_output_shapes, convert_xgboost,\n",
    "    options={'nocl': [True, False], 'zipmap': [True, False, 'columns']})"
   ]
  },
  {
   "cell_type": "code",
   "execution_count": 44,
   "metadata": {},
   "outputs": [],
   "source": [
    "model_onnx = convert_sklearn(\n",
    "    xgb_woe_model, 'pipeline_xgboost',\n",
    "    [('input', FloatTensorType([None, 2]))],\n",
    "    target_opset=12)"
   ]
  },
  {
   "cell_type": "code",
   "execution_count": 46,
   "metadata": {},
   "outputs": [],
   "source": [
    "MODEL_DIR = \"./airlineSatisfactionProd\"\n",
    "MODEL_FILE_NAME = \"satisfaction_XGB.onnx\""
   ]
  },
  {
   "cell_type": "code",
   "execution_count": 47,
   "metadata": {},
   "outputs": [],
   "source": [
    "os.mkdir(MODEL_DIR)\n",
    "# And save.\n",
    "with open(MODEL_DIR + \"/\" + MODEL_FILE_NAME, \"wb\") as f:\n",
    "    f.write(model_onnx.SerializeToString())"
   ]
  },
  {
   "cell_type": "code",
   "execution_count": null,
   "metadata": {},
   "outputs": [],
   "source": []
  }
 ],
 "metadata": {
  "interpreter": {
   "hash": "244512e2fa821cf323e5787fb63beae451679f3a3a50f358d540ff9dfd268ca9"
  },
  "kernelspec": {
   "display_name": "Python 3.8.12 64-bit ('mlopslab': conda)",
   "language": "python",
   "name": "python3"
  },
  "language_info": {
   "codemirror_mode": {
    "name": "ipython",
    "version": 3
   },
   "file_extension": ".py",
   "mimetype": "text/x-python",
   "name": "python",
   "nbconvert_exporter": "python",
   "pygments_lexer": "ipython3",
   "version": "3.8.12"
  },
  "orig_nbformat": 4
 },
 "nbformat": 4,
 "nbformat_minor": 2
}
