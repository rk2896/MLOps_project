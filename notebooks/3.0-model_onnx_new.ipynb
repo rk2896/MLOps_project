{
 "cells": [
  {
   "cell_type": "code",
   "execution_count": null,
   "metadata": {},
   "outputs": [],
   "source": [
    "#uncomment of xgboost not installed\n",
    "# !pip install xgboost\n",
    "\n",
    "#uncomment if pydotplus not installed; dependency for graphviz\n",
    "# !pip install pydotplus\n",
    "# !pip install pydot\n",
    "\n",
    "# uncomment if never before installed and need to convert to onnx\n",
    "# !pip install onnx\n",
    "# !pip install skl2onnx\n",
    "# !pip install onnxruntime\n",
    "# !pip install onnxmltools"
   ]
  },
  {
   "cell_type": "code",
   "execution_count": 1,
   "metadata": {},
   "outputs": [],
   "source": [
    "import pandas as pd\n",
    "import numpy as np\n",
    "import matplotlib.pylab as plt\n",
    "import os\n",
    "\n",
    "from sklearn.model_selection import train_test_split\n",
    "from sklearn.preprocessing import StandardScaler, OneHotEncoder\n",
    "from sklearn.compose import ColumnTransformer\n",
    "from sklearn.pipeline import Pipeline\n",
    "from sklearn import metrics\n",
    "from sklearn.metrics import confusion_matrix, classification_report, SCORERS\n",
    "\n",
    "import xgboost as xgb\n",
    "from xgboost.sklearn import XGBClassifier\n",
    "\n",
    "from six import StringIO\n",
    "from IPython.display import Image\n",
    "\n",
    "import pydotplus\n",
    "import graphviz\n",
    "\n",
    "from onnx.tools.net_drawer import GetPydotGraph, GetOpNodeProducer\n",
    "import onnxruntime as rt\n",
    "from skl2onnx import convert_sklearn, __version__, update_registered_converter\n",
    "from skl2onnx.common.data_types import FloatTensorType, StringTensorType\n",
    "from skl2onnx.common.data_types import Int64TensorType\n",
    "from skl2onnx.common.shape_calculator import calculate_linear_classifier_output_shapes\n",
    "from onnxmltools.convert.xgboost.operator_converters.XGBoost import convert_xgboost  # noqa\n",
    "import pprint"
   ]
  },
  {
   "cell_type": "code",
   "execution_count": 42,
   "metadata": {},
   "outputs": [],
   "source": [
    "# the notebooks in this repo are designed to be run on local after cloning this repo;\n",
    "# if running on COLAB, please ensure to download the respective dataset from \"../data/interim\" folder and use appropriately\n",
    "train = pd.read_csv('../data/interim/train.csv')"
   ]
  },
  {
   "cell_type": "markdown",
   "metadata": {},
   "source": [
    "# Exploring the dataset"
   ]
  },
  {
   "cell_type": "code",
   "execution_count": 43,
   "metadata": {},
   "outputs": [
    {
     "data": {
      "text/html": [
       "<div>\n",
       "<style scoped>\n",
       "    .dataframe tbody tr th:only-of-type {\n",
       "        vertical-align: middle;\n",
       "    }\n",
       "\n",
       "    .dataframe tbody tr th {\n",
       "        vertical-align: top;\n",
       "    }\n",
       "\n",
       "    .dataframe thead th {\n",
       "        text-align: right;\n",
       "    }\n",
       "</style>\n",
       "<table border=\"1\" class=\"dataframe\">\n",
       "  <thead>\n",
       "    <tr style=\"text-align: right;\">\n",
       "      <th></th>\n",
       "      <th>satisfaction</th>\n",
       "      <th>Gender</th>\n",
       "      <th>Customer Type</th>\n",
       "      <th>Age</th>\n",
       "      <th>Type of Travel</th>\n",
       "      <th>Class</th>\n",
       "      <th>Flight Distance</th>\n",
       "      <th>Seat comfort</th>\n",
       "      <th>Departure_Arrival time convenient</th>\n",
       "      <th>Food and drink</th>\n",
       "      <th>...</th>\n",
       "      <th>Online support</th>\n",
       "      <th>Ease of Online booking</th>\n",
       "      <th>Onboard service</th>\n",
       "      <th>Leg room service</th>\n",
       "      <th>Baggage handling</th>\n",
       "      <th>Checkin service</th>\n",
       "      <th>Cleanliness</th>\n",
       "      <th>Online boarding</th>\n",
       "      <th>Departure Delay in Minutes</th>\n",
       "      <th>Arrival Delay in Minutes</th>\n",
       "    </tr>\n",
       "  </thead>\n",
       "  <tbody>\n",
       "    <tr>\n",
       "      <th>0</th>\n",
       "      <td>satisfied</td>\n",
       "      <td>Male</td>\n",
       "      <td>Loyal Customer</td>\n",
       "      <td>37</td>\n",
       "      <td>Business travel</td>\n",
       "      <td>Business</td>\n",
       "      <td>3785</td>\n",
       "      <td>4</td>\n",
       "      <td>4</td>\n",
       "      <td>4</td>\n",
       "      <td>...</td>\n",
       "      <td>4</td>\n",
       "      <td>4</td>\n",
       "      <td>4</td>\n",
       "      <td>4</td>\n",
       "      <td>4</td>\n",
       "      <td>5</td>\n",
       "      <td>4</td>\n",
       "      <td>4</td>\n",
       "      <td>1</td>\n",
       "      <td>9</td>\n",
       "    </tr>\n",
       "    <tr>\n",
       "      <th>1</th>\n",
       "      <td>dissatisfied</td>\n",
       "      <td>Male</td>\n",
       "      <td>Loyal Customer</td>\n",
       "      <td>60</td>\n",
       "      <td>Personal Travel</td>\n",
       "      <td>Eco</td>\n",
       "      <td>1784</td>\n",
       "      <td>3</td>\n",
       "      <td>4</td>\n",
       "      <td>3</td>\n",
       "      <td>...</td>\n",
       "      <td>2</td>\n",
       "      <td>5</td>\n",
       "      <td>3</td>\n",
       "      <td>2</td>\n",
       "      <td>4</td>\n",
       "      <td>4</td>\n",
       "      <td>4</td>\n",
       "      <td>5</td>\n",
       "      <td>0</td>\n",
       "      <td>0</td>\n",
       "    </tr>\n",
       "    <tr>\n",
       "      <th>2</th>\n",
       "      <td>dissatisfied</td>\n",
       "      <td>Male</td>\n",
       "      <td>Loyal Customer</td>\n",
       "      <td>27</td>\n",
       "      <td>Business travel</td>\n",
       "      <td>Business</td>\n",
       "      <td>1825</td>\n",
       "      <td>2</td>\n",
       "      <td>3</td>\n",
       "      <td>4</td>\n",
       "      <td>...</td>\n",
       "      <td>2</td>\n",
       "      <td>2</td>\n",
       "      <td>1</td>\n",
       "      <td>3</td>\n",
       "      <td>3</td>\n",
       "      <td>1</td>\n",
       "      <td>2</td>\n",
       "      <td>2</td>\n",
       "      <td>76</td>\n",
       "      <td>57</td>\n",
       "    </tr>\n",
       "    <tr>\n",
       "      <th>3</th>\n",
       "      <td>satisfied</td>\n",
       "      <td>Male</td>\n",
       "      <td>Loyal Customer</td>\n",
       "      <td>50</td>\n",
       "      <td>Business travel</td>\n",
       "      <td>Eco</td>\n",
       "      <td>2024</td>\n",
       "      <td>4</td>\n",
       "      <td>4</td>\n",
       "      <td>2</td>\n",
       "      <td>...</td>\n",
       "      <td>4</td>\n",
       "      <td>4</td>\n",
       "      <td>2</td>\n",
       "      <td>5</td>\n",
       "      <td>4</td>\n",
       "      <td>2</td>\n",
       "      <td>4</td>\n",
       "      <td>4</td>\n",
       "      <td>125</td>\n",
       "      <td>129</td>\n",
       "    </tr>\n",
       "    <tr>\n",
       "      <th>4</th>\n",
       "      <td>dissatisfied</td>\n",
       "      <td>Male</td>\n",
       "      <td>Loyal Customer</td>\n",
       "      <td>70</td>\n",
       "      <td>Personal Travel</td>\n",
       "      <td>Eco</td>\n",
       "      <td>1435</td>\n",
       "      <td>4</td>\n",
       "      <td>4</td>\n",
       "      <td>4</td>\n",
       "      <td>...</td>\n",
       "      <td>5</td>\n",
       "      <td>5</td>\n",
       "      <td>5</td>\n",
       "      <td>4</td>\n",
       "      <td>5</td>\n",
       "      <td>4</td>\n",
       "      <td>4</td>\n",
       "      <td>5</td>\n",
       "      <td>0</td>\n",
       "      <td>0</td>\n",
       "    </tr>\n",
       "  </tbody>\n",
       "</table>\n",
       "<p>5 rows × 23 columns</p>\n",
       "</div>"
      ],
      "text/plain": [
       "   satisfaction Gender   Customer Type  Age   Type of Travel     Class  \\\n",
       "0     satisfied   Male  Loyal Customer   37  Business travel  Business   \n",
       "1  dissatisfied   Male  Loyal Customer   60  Personal Travel       Eco   \n",
       "2  dissatisfied   Male  Loyal Customer   27  Business travel  Business   \n",
       "3     satisfied   Male  Loyal Customer   50  Business travel       Eco   \n",
       "4  dissatisfied   Male  Loyal Customer   70  Personal Travel       Eco   \n",
       "\n",
       "   Flight Distance  Seat comfort  Departure_Arrival time convenient  \\\n",
       "0             3785             4                                  4   \n",
       "1             1784             3                                  4   \n",
       "2             1825             2                                  3   \n",
       "3             2024             4                                  4   \n",
       "4             1435             4                                  4   \n",
       "\n",
       "   Food and drink  ...  Online support  Ease of Online booking  \\\n",
       "0               4  ...               4                       4   \n",
       "1               3  ...               2                       5   \n",
       "2               4  ...               2                       2   \n",
       "3               2  ...               4                       4   \n",
       "4               4  ...               5                       5   \n",
       "\n",
       "   Onboard service  Leg room service  Baggage handling  Checkin service  \\\n",
       "0                4                 4                 4                5   \n",
       "1                3                 2                 4                4   \n",
       "2                1                 3                 3                1   \n",
       "3                2                 5                 4                2   \n",
       "4                5                 4                 5                4   \n",
       "\n",
       "   Cleanliness  Online boarding  Departure Delay in Minutes  \\\n",
       "0            4                4                           1   \n",
       "1            4                5                           0   \n",
       "2            2                2                          76   \n",
       "3            4                4                         125   \n",
       "4            4                5                           0   \n",
       "\n",
       "   Arrival Delay in Minutes  \n",
       "0                         9  \n",
       "1                         0  \n",
       "2                        57  \n",
       "3                       129  \n",
       "4                         0  \n",
       "\n",
       "[5 rows x 23 columns]"
      ]
     },
     "execution_count": 43,
     "metadata": {},
     "output_type": "execute_result"
    }
   ],
   "source": [
    "train.head()"
   ]
  },
  {
   "cell_type": "code",
   "execution_count": 44,
   "metadata": {},
   "outputs": [],
   "source": [
    "col_names = list(train.columns)"
   ]
  },
  {
   "cell_type": "code",
   "execution_count": 45,
   "metadata": {},
   "outputs": [
    {
     "data": {
      "text/plain": [
       "['satisfaction',\n",
       " 'Gender',\n",
       " 'Customer_Type',\n",
       " 'Age',\n",
       " 'Type_of_Travel',\n",
       " 'Class',\n",
       " 'Flight_Distance',\n",
       " 'Seat_comfort',\n",
       " 'Departure_Arrival_time_convenient',\n",
       " 'Food_and_drink',\n",
       " 'Gate_location',\n",
       " 'Inflight_wifi_service',\n",
       " 'Inflight_entertainment',\n",
       " 'Online_support',\n",
       " 'Ease_of_Online_booking',\n",
       " 'Onboard_service',\n",
       " 'Leg_room_service',\n",
       " 'Baggage_handling',\n",
       " 'Checkin_service',\n",
       " 'Cleanliness',\n",
       " 'Online_boarding',\n",
       " 'Departure_Delay_in_Minutes',\n",
       " 'Arrival_Delay_in_Minutes']"
      ]
     },
     "execution_count": 45,
     "metadata": {},
     "output_type": "execute_result"
    }
   ],
   "source": [
    "for name in col_names:\n",
    "    idx = col_names.index(name)\n",
    "    col_names.remove(name)\n",
    "    col_names.insert(idx, name.replace(\" \", \"_\"))\n",
    "col_names"
   ]
  },
  {
   "cell_type": "code",
   "execution_count": 46,
   "metadata": {},
   "outputs": [
    {
     "data": {
      "text/html": [
       "<div>\n",
       "<style scoped>\n",
       "    .dataframe tbody tr th:only-of-type {\n",
       "        vertical-align: middle;\n",
       "    }\n",
       "\n",
       "    .dataframe tbody tr th {\n",
       "        vertical-align: top;\n",
       "    }\n",
       "\n",
       "    .dataframe thead th {\n",
       "        text-align: right;\n",
       "    }\n",
       "</style>\n",
       "<table border=\"1\" class=\"dataframe\">\n",
       "  <thead>\n",
       "    <tr style=\"text-align: right;\">\n",
       "      <th></th>\n",
       "      <th>satisfaction</th>\n",
       "      <th>Gender</th>\n",
       "      <th>Customer_Type</th>\n",
       "      <th>Age</th>\n",
       "      <th>Type_of_Travel</th>\n",
       "      <th>Class</th>\n",
       "      <th>Flight_Distance</th>\n",
       "      <th>Seat_comfort</th>\n",
       "      <th>Departure_Arrival_time_convenient</th>\n",
       "      <th>Food_and_drink</th>\n",
       "      <th>...</th>\n",
       "      <th>Online_support</th>\n",
       "      <th>Ease_of_Online_booking</th>\n",
       "      <th>Onboard_service</th>\n",
       "      <th>Leg_room_service</th>\n",
       "      <th>Baggage_handling</th>\n",
       "      <th>Checkin_service</th>\n",
       "      <th>Cleanliness</th>\n",
       "      <th>Online_boarding</th>\n",
       "      <th>Departure_Delay_in_Minutes</th>\n",
       "      <th>Arrival_Delay_in_Minutes</th>\n",
       "    </tr>\n",
       "  </thead>\n",
       "  <tbody>\n",
       "    <tr>\n",
       "      <th>0</th>\n",
       "      <td>satisfied</td>\n",
       "      <td>Male</td>\n",
       "      <td>Loyal Customer</td>\n",
       "      <td>37</td>\n",
       "      <td>Business travel</td>\n",
       "      <td>Business</td>\n",
       "      <td>3785</td>\n",
       "      <td>4</td>\n",
       "      <td>4</td>\n",
       "      <td>4</td>\n",
       "      <td>...</td>\n",
       "      <td>4</td>\n",
       "      <td>4</td>\n",
       "      <td>4</td>\n",
       "      <td>4</td>\n",
       "      <td>4</td>\n",
       "      <td>5</td>\n",
       "      <td>4</td>\n",
       "      <td>4</td>\n",
       "      <td>1</td>\n",
       "      <td>9</td>\n",
       "    </tr>\n",
       "    <tr>\n",
       "      <th>1</th>\n",
       "      <td>dissatisfied</td>\n",
       "      <td>Male</td>\n",
       "      <td>Loyal Customer</td>\n",
       "      <td>60</td>\n",
       "      <td>Personal Travel</td>\n",
       "      <td>Eco</td>\n",
       "      <td>1784</td>\n",
       "      <td>3</td>\n",
       "      <td>4</td>\n",
       "      <td>3</td>\n",
       "      <td>...</td>\n",
       "      <td>2</td>\n",
       "      <td>5</td>\n",
       "      <td>3</td>\n",
       "      <td>2</td>\n",
       "      <td>4</td>\n",
       "      <td>4</td>\n",
       "      <td>4</td>\n",
       "      <td>5</td>\n",
       "      <td>0</td>\n",
       "      <td>0</td>\n",
       "    </tr>\n",
       "    <tr>\n",
       "      <th>2</th>\n",
       "      <td>dissatisfied</td>\n",
       "      <td>Male</td>\n",
       "      <td>Loyal Customer</td>\n",
       "      <td>27</td>\n",
       "      <td>Business travel</td>\n",
       "      <td>Business</td>\n",
       "      <td>1825</td>\n",
       "      <td>2</td>\n",
       "      <td>3</td>\n",
       "      <td>4</td>\n",
       "      <td>...</td>\n",
       "      <td>2</td>\n",
       "      <td>2</td>\n",
       "      <td>1</td>\n",
       "      <td>3</td>\n",
       "      <td>3</td>\n",
       "      <td>1</td>\n",
       "      <td>2</td>\n",
       "      <td>2</td>\n",
       "      <td>76</td>\n",
       "      <td>57</td>\n",
       "    </tr>\n",
       "    <tr>\n",
       "      <th>3</th>\n",
       "      <td>satisfied</td>\n",
       "      <td>Male</td>\n",
       "      <td>Loyal Customer</td>\n",
       "      <td>50</td>\n",
       "      <td>Business travel</td>\n",
       "      <td>Eco</td>\n",
       "      <td>2024</td>\n",
       "      <td>4</td>\n",
       "      <td>4</td>\n",
       "      <td>2</td>\n",
       "      <td>...</td>\n",
       "      <td>4</td>\n",
       "      <td>4</td>\n",
       "      <td>2</td>\n",
       "      <td>5</td>\n",
       "      <td>4</td>\n",
       "      <td>2</td>\n",
       "      <td>4</td>\n",
       "      <td>4</td>\n",
       "      <td>125</td>\n",
       "      <td>129</td>\n",
       "    </tr>\n",
       "    <tr>\n",
       "      <th>4</th>\n",
       "      <td>dissatisfied</td>\n",
       "      <td>Male</td>\n",
       "      <td>Loyal Customer</td>\n",
       "      <td>70</td>\n",
       "      <td>Personal Travel</td>\n",
       "      <td>Eco</td>\n",
       "      <td>1435</td>\n",
       "      <td>4</td>\n",
       "      <td>4</td>\n",
       "      <td>4</td>\n",
       "      <td>...</td>\n",
       "      <td>5</td>\n",
       "      <td>5</td>\n",
       "      <td>5</td>\n",
       "      <td>4</td>\n",
       "      <td>5</td>\n",
       "      <td>4</td>\n",
       "      <td>4</td>\n",
       "      <td>5</td>\n",
       "      <td>0</td>\n",
       "      <td>0</td>\n",
       "    </tr>\n",
       "  </tbody>\n",
       "</table>\n",
       "<p>5 rows × 23 columns</p>\n",
       "</div>"
      ],
      "text/plain": [
       "   satisfaction Gender   Customer_Type  Age   Type_of_Travel     Class  \\\n",
       "0     satisfied   Male  Loyal Customer   37  Business travel  Business   \n",
       "1  dissatisfied   Male  Loyal Customer   60  Personal Travel       Eco   \n",
       "2  dissatisfied   Male  Loyal Customer   27  Business travel  Business   \n",
       "3     satisfied   Male  Loyal Customer   50  Business travel       Eco   \n",
       "4  dissatisfied   Male  Loyal Customer   70  Personal Travel       Eco   \n",
       "\n",
       "   Flight_Distance  Seat_comfort  Departure_Arrival_time_convenient  \\\n",
       "0             3785             4                                  4   \n",
       "1             1784             3                                  4   \n",
       "2             1825             2                                  3   \n",
       "3             2024             4                                  4   \n",
       "4             1435             4                                  4   \n",
       "\n",
       "   Food_and_drink  ...  Online_support  Ease_of_Online_booking  \\\n",
       "0               4  ...               4                       4   \n",
       "1               3  ...               2                       5   \n",
       "2               4  ...               2                       2   \n",
       "3               2  ...               4                       4   \n",
       "4               4  ...               5                       5   \n",
       "\n",
       "   Onboard_service  Leg_room_service  Baggage_handling  Checkin_service  \\\n",
       "0                4                 4                 4                5   \n",
       "1                3                 2                 4                4   \n",
       "2                1                 3                 3                1   \n",
       "3                2                 5                 4                2   \n",
       "4                5                 4                 5                4   \n",
       "\n",
       "   Cleanliness  Online_boarding  Departure_Delay_in_Minutes  \\\n",
       "0            4                4                           1   \n",
       "1            4                5                           0   \n",
       "2            2                2                          76   \n",
       "3            4                4                         125   \n",
       "4            4                5                           0   \n",
       "\n",
       "   Arrival_Delay_in_Minutes  \n",
       "0                         9  \n",
       "1                         0  \n",
       "2                        57  \n",
       "3                       129  \n",
       "4                         0  \n",
       "\n",
       "[5 rows x 23 columns]"
      ]
     },
     "execution_count": 46,
     "metadata": {},
     "output_type": "execute_result"
    }
   ],
   "source": [
    "train.columns = col_names\n",
    "train.head()"
   ]
  },
  {
   "cell_type": "code",
   "execution_count": 47,
   "metadata": {},
   "outputs": [
    {
     "data": {
      "text/plain": [
       "array([0, 1, 2, 3, 4, 5], dtype=int64)"
      ]
     },
     "execution_count": 47,
     "metadata": {},
     "output_type": "execute_result"
    }
   ],
   "source": [
    "np.unique(train.Seat_comfort)"
   ]
  },
  {
   "cell_type": "markdown",
   "metadata": {},
   "source": [
    "## Seperating categorical and numerical features"
   ]
  },
  {
   "cell_type": "code",
   "execution_count": 48,
   "metadata": {},
   "outputs": [],
   "source": [
    "numerical_features = [x for x in train.select_dtypes(exclude = object)]\n",
    "categorical_features = [x for x in train.select_dtypes(include = object)]"
   ]
  },
  {
   "cell_type": "code",
   "execution_count": 49,
   "metadata": {},
   "outputs": [
    {
     "data": {
      "text/plain": [
       "['satisfaction', 'Gender', 'Customer_Type', 'Type_of_Travel', 'Class']"
      ]
     },
     "execution_count": 49,
     "metadata": {},
     "output_type": "execute_result"
    }
   ],
   "source": [
    "categorical_features"
   ]
  },
  {
   "cell_type": "code",
   "execution_count": 50,
   "metadata": {},
   "outputs": [
    {
     "name": "stdout",
     "output_type": "stream",
     "text": [
      "['Age', 'Flight_Distance', 'Seat_comfort', 'Departure_Arrival_time_convenient', 'Food_and_drink', 'Gate_location', 'Inflight_wifi_service', 'Inflight_entertainment', 'Online_support', 'Ease_of_Online_booking', 'Onboard_service', 'Leg_room_service', 'Baggage_handling', 'Checkin_service', 'Cleanliness', 'Online_boarding', 'Departure_Delay_in_Minutes', 'Arrival_Delay_in_Minutes']\n",
      "['Gender', 'Customer_Type', 'Type_of_Travel', 'Class']\n"
     ]
    }
   ],
   "source": [
    "categorical_features.remove('satisfaction')\n",
    "print(numerical_features)\n",
    "print(categorical_features)"
   ]
  },
  {
   "cell_type": "markdown",
   "metadata": {},
   "source": [
    "# Creating model pipeling"
   ]
  },
  {
   "cell_type": "code",
   "execution_count": 51,
   "metadata": {},
   "outputs": [
    {
     "name": "stderr",
     "output_type": "stream",
     "text": [
      "C:\\Users\\ADMIN\\.conda\\envs\\mlopslab\\lib\\site-packages\\xgboost\\sklearn.py:1224: UserWarning: The use of label encoder in XGBClassifier is deprecated and will be removed in a future release. To remove this warning, do the following: 1) Pass option use_label_encoder=False when constructing XGBClassifier object; and 2) Encode your labels (y) as integers starting with 0, i.e. 0, 1, 2, ..., [num_class - 1].\n",
      "  warnings.warn(label_encoder_deprecation_msg, UserWarning)\n"
     ]
    },
    {
     "name": "stdout",
     "output_type": "stream",
     "text": [
      "[03:12:59] WARNING: D:\\bld\\xgboost-split_1637426510059\\work\\src\\learner.cc:1115: Starting in XGBoost 1.3.0, the default evaluation metric used with the objective 'binary:logistic' was changed from 'error' to 'logloss'. Explicitly set eval_metric if you'd like to restore the old behavior.\n"
     ]
    },
    {
     "data": {
      "text/plain": [
       "Pipeline(steps=[('preprocessor',\n",
       "                 ColumnTransformer(transformers=[('cat',\n",
       "                                                  Pipeline(steps=[('onehot',\n",
       "                                                                   OneHotEncoder(drop='first',\n",
       "                                                                                 sparse=False))]),\n",
       "                                                  ['Gender', 'Customer_Type',\n",
       "                                                   'Type_of_Travel', 'Class']),\n",
       "                                                 ('num',\n",
       "                                                  Pipeline(steps=[('scaler',\n",
       "                                                                   StandardScaler())]),\n",
       "                                                  ['Age', 'Flight_Distance',\n",
       "                                                   'Seat_comfort',\n",
       "                                                   'Departure_Arrival_time_convenient',\n",
       "                                                   'Food_and_drink',\n",
       "                                                   'Gate_loca...\n",
       "                               gamma=0, gpu_id=-1, importance_type=None,\n",
       "                               interaction_constraints='', learning_rate=0.1,\n",
       "                               max_delta_step=0, max_depth=20,\n",
       "                               min_child_weight=1, missing=nan,\n",
       "                               monotone_constraints='()', n_estimators=500,\n",
       "                               n_jobs=4, nthread=4, num_parallel_tree=1,\n",
       "                               predictor='auto', random_state=16, reg_alpha=0,\n",
       "                               reg_lambda=1, scale_pos_weight=1, seed=16,\n",
       "                               subsample=0.8, tree_method='exact',\n",
       "                               validate_parameters=1, verbosity=None))])"
      ]
     },
     "execution_count": 51,
     "metadata": {},
     "output_type": "execute_result"
    }
   ],
   "source": [
    "numeric_transformer = Pipeline(steps=[('scaler', StandardScaler())])\n",
    "\n",
    "categorical_transformer = Pipeline(steps=[('onehot', OneHotEncoder(drop='first', sparse=False))])\n",
    "\n",
    "preprocessor = ColumnTransformer(\n",
    "    transformers=[                  \n",
    "        ('cat', categorical_transformer, categorical_features),\n",
    "        ('num', numeric_transformer, numerical_features)\n",
    "    ])\n",
    "\n",
    "xgb_ohe_model = XGBClassifier(learning_rate =0.1,\n",
    "                    n_estimators=500,\n",
    "                    max_depth=20,\n",
    "                    min_child_weight=1,\n",
    "                    gamma=0,\n",
    "                    subsample=0.8,\n",
    "                    colsample_bytree=0.8,\n",
    "                    objective= 'binary:logistic',\n",
    "                    nthread=4,\n",
    "                    scale_pos_weight=1,\n",
    "                    seed=16)\n",
    "\n",
    "\n",
    "model_pipeline = Pipeline(steps=[('preprocessor', preprocessor),\n",
    "                                ('xgb_classifier', xgb_ohe_model)])\n",
    "model_pipeline.fit(train[categorical_features+numerical_features], train.satisfaction)"
   ]
  },
  {
   "cell_type": "markdown",
   "metadata": {},
   "source": [
    "# Converting datatypes to the final type for ONNX and registering & converting the model to ONNX"
   ]
  },
  {
   "cell_type": "code",
   "execution_count": 52,
   "metadata": {},
   "outputs": [
    {
     "name": "stdout",
     "output_type": "stream",
     "text": [
      "[('Gender', StringTensorType(shape=[None, 1])),\n",
      " ('Customer_Type', StringTensorType(shape=[None, 1])),\n",
      " ('Type_of_Travel', StringTensorType(shape=[None, 1])),\n",
      " ('Class', StringTensorType(shape=[None, 1])),\n",
      " ('Age', FloatTensorType(shape=[None, 1])),\n",
      " ('Flight_Distance', FloatTensorType(shape=[None, 1])),\n",
      " ('Seat_comfort', FloatTensorType(shape=[None, 1])),\n",
      " ('Departure_Arrival_time_convenient', FloatTensorType(shape=[None, 1])),\n",
      " ('Food_and_drink', FloatTensorType(shape=[None, 1])),\n",
      " ('Gate_location', FloatTensorType(shape=[None, 1])),\n",
      " ('Inflight_wifi_service', FloatTensorType(shape=[None, 1])),\n",
      " ('Inflight_entertainment', FloatTensorType(shape=[None, 1])),\n",
      " ('Online_support', FloatTensorType(shape=[None, 1])),\n",
      " ('Ease_of_Online_booking', FloatTensorType(shape=[None, 1])),\n",
      " ('Onboard_service', FloatTensorType(shape=[None, 1])),\n",
      " ('Leg_room_service', FloatTensorType(shape=[None, 1])),\n",
      " ('Baggage_handling', FloatTensorType(shape=[None, 1])),\n",
      " ('Checkin_service', FloatTensorType(shape=[None, 1])),\n",
      " ('Cleanliness', FloatTensorType(shape=[None, 1])),\n",
      " ('Online_boarding', FloatTensorType(shape=[None, 1])),\n",
      " ('Departure_Delay_in_Minutes', FloatTensorType(shape=[None, 1])),\n",
      " ('Arrival_Delay_in_Minutes', FloatTensorType(shape=[None, 1]))]\n"
     ]
    }
   ],
   "source": [
    "def convert_dataframe_schema(df, drop=None):\n",
    "    inputs = []\n",
    "    for k, v in zip(df.columns, df.dtypes):\n",
    "        if drop is not None and k in drop:\n",
    "            continue\n",
    "        if v == 'int64':\n",
    "            t = FloatTensorType([None, 1])\n",
    "        elif v == 'float64':\n",
    "            t = FloatTensorType([None, 1])\n",
    "        else:\n",
    "            t = StringTensorType([None, 1])\n",
    "        inputs.append((k, t))\n",
    "    return inputs\n",
    "\n",
    "inputs = convert_dataframe_schema(train[categorical_features+numerical_features])\n",
    "pprint.pprint(inputs)"
   ]
  },
  {
   "cell_type": "code",
   "execution_count": 53,
   "metadata": {},
   "outputs": [],
   "source": [
    "## INFO: model has to be registered since the model is not from the **sklearn** core package but from the **xgboost** package\n",
    "update_registered_converter(\n",
    "    XGBClassifier, 'XGBoostXGBClassifier',\n",
    "    calculate_linear_classifier_output_shapes, convert_xgboost,\n",
    "    options={'nocl': [True, False], 'zipmap': [True, False, 'columns']})"
   ]
  },
  {
   "cell_type": "code",
   "execution_count": 54,
   "metadata": {},
   "outputs": [],
   "source": [
    "model_onnx = convert_sklearn(\n",
    "    model_pipeline, 'pipeline_xgboost',\n",
    "    inputs)"
   ]
  },
  {
   "cell_type": "code",
   "execution_count": 55,
   "metadata": {},
   "outputs": [],
   "source": [
    "MODEL_DIR = \"../models\"\n",
    "MODEL_FILE_NAME = \"satisfaction_XGB_1.onnx\""
   ]
  },
  {
   "cell_type": "code",
   "execution_count": 58,
   "metadata": {},
   "outputs": [],
   "source": [
    "# os.mkdir(MODEL_DIR) # uncomment if directory does not exist\n",
    "# And save.\n",
    "with open(MODEL_DIR + \"/\" + MODEL_FILE_NAME, \"w+b\") as f:\n",
    "    f.write(model_onnx.SerializeToString())"
   ]
  },
  {
   "cell_type": "markdown",
   "metadata": {},
   "source": [
    "# Testing predictions and the corresponding prediction probabilities to ensure correctness"
   ]
  },
  {
   "cell_type": "code",
   "execution_count": 59,
   "metadata": {},
   "outputs": [
    {
     "data": {
      "text/plain": [
       "array(['satisfied', 'dissatisfied', 'dissatisfied', 'satisfied',\n",
       "       'dissatisfied'], dtype=object)"
      ]
     },
     "execution_count": 59,
     "metadata": {},
     "output_type": "execute_result"
    }
   ],
   "source": [
    "model_pipeline.predict(train[:5])"
   ]
  },
  {
   "cell_type": "code",
   "execution_count": 60,
   "metadata": {},
   "outputs": [
    {
     "data": {
      "text/plain": [
       "array([[2.5749207e-05, 9.9997425e-01],\n",
       "       [9.9995321e-01, 4.6806108e-05],\n",
       "       [9.9845010e-01, 1.5498846e-03],\n",
       "       [2.2745073e-02, 9.7725493e-01],\n",
       "       [9.8689812e-01, 1.3101860e-02]], dtype=float32)"
      ]
     },
     "execution_count": 60,
     "metadata": {},
     "output_type": "execute_result"
    }
   ],
   "source": [
    "model_pipeline.predict_proba(train[:5])"
   ]
  },
  {
   "cell_type": "markdown",
   "metadata": {},
   "source": [
    "# END OF NOTEBOOK"
   ]
  }
 ],
 "metadata": {
  "interpreter": {
   "hash": "244512e2fa821cf323e5787fb63beae451679f3a3a50f358d540ff9dfd268ca9"
  },
  "kernelspec": {
   "display_name": "Python 3.8.12 64-bit ('mlopslab': conda)",
   "language": "python",
   "name": "python3"
  },
  "language_info": {
   "codemirror_mode": {
    "name": "ipython",
    "version": 3
   },
   "file_extension": ".py",
   "mimetype": "text/x-python",
   "name": "python",
   "nbconvert_exporter": "python",
   "pygments_lexer": "ipython3",
   "version": "3.8.12"
  },
  "orig_nbformat": 4
 },
 "nbformat": 4,
 "nbformat_minor": 2
}
