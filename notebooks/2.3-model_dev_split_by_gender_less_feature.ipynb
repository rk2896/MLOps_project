{
 "cells": [
  {
   "cell_type": "code",
   "execution_count": 23,
   "metadata": {},
   "outputs": [],
   "source": [
    "# Installing H2O; uncomment of H2O is not installed\n",
    "# !pip install -f http://h2o-release.s3.amazonaws.com/h2o/latest_stable_Py.html h2o\n",
    "\n",
    "# Installing H2O dependencies\n",
    "# !pip install requests\n",
    "# !pip install tabulate\n",
    "# !pip install \"colorama>=0.3.8\"\n",
    "# !pip install future\n",
    "\n",
    "#uncomment of xgboost not installed\n",
    "# !pip install xgboost\n",
    "\n",
    "#uncomment if pydotplus not installed; dependency for graphviz\n",
    "# !pip install pydotplus\n",
    "# !pip install pydot\n",
    "\n",
    "# weights and biases for experiment tracking\n",
    "# !pip install wandb\n",
    "\n",
    "# category-encoder\n",
    "# !pip install category_encoders\n",
    "\n",
    "# uncomment if never before installed and need to convert to onnx\n",
    "# !pip install onnx\n",
    "# !pip install skl2onnx\n",
    "# !pip install onnxruntime\n",
    "# !pip install onnxmltools"
   ]
  },
  {
   "cell_type": "code",
   "execution_count": 1,
   "metadata": {},
   "outputs": [],
   "source": [
    "import pandas as pd\n",
    "import numpy as np\n",
    "import seaborn as sns\n",
    "import statsmodels.api as sm\n",
    "import matplotlib.pylab as plt\n",
    "\n",
    "from sklearn.model_selection import train_test_split, cross_val_score, GridSearchCV, RandomizedSearchCV\n",
    "from sklearn.preprocessing import StandardScaler, LabelEncoder\n",
    "from sklearn.compose import ColumnTransformer\n",
    "from sklearn.pipeline import Pipeline\n",
    "from sklearn import tree\n",
    "from sklearn.linear_model import LogisticRegression\n",
    "from sklearn import metrics\n",
    "from sklearn.metrics import confusion_matrix, classification_report, SCORERS\n",
    "from sklearn import ensemble\n",
    "\n",
    "from category_encoders import OneHotEncoder, TargetEncoder, WOEEncoder\n",
    "\n",
    "import xgboost as xgb\n",
    "from xgboost.sklearn import XGBClassifier\n",
    "\n",
    "from six import StringIO\n",
    "from IPython.display import Image\n",
    "\n",
    "import pydotplus\n",
    "import graphviz\n",
    "\n",
    "import wandb\n",
    "import os"
   ]
  },
  {
   "cell_type": "code",
   "execution_count": 2,
   "metadata": {},
   "outputs": [],
   "source": [
    "from IPython.core.interactiveshell import InteractiveShell\n",
    "InteractiveShell.ast_node_interactivity = \"all\""
   ]
  },
  {
   "cell_type": "markdown",
   "metadata": {},
   "source": [
    "# Loading Data"
   ]
  },
  {
   "cell_type": "code",
   "execution_count": 8,
   "metadata": {},
   "outputs": [],
   "source": [
    "## INFO: the notebooks in this repo are designed to be run on local system after cloning this repo;\n",
    "## if running on COLAB, please ensure to download the respective dataset from \"../data/interim\" folder and use appropriately\n",
    "\n",
    "train = pd.read_pickle('../data/interim/train.pkl')\n",
    "test = pd.read_pickle('../data/interim/test.pkl')"
   ]
  },
  {
   "cell_type": "code",
   "execution_count": 9,
   "metadata": {},
   "outputs": [
    {
     "name": "stdout",
     "output_type": "stream",
     "text": [
      "<class 'pandas.core.frame.DataFrame'>\n",
      "Int64Index: 77692 entries, 98180 to 14770\n",
      "Data columns (total 23 columns):\n",
      " #   Column                             Non-Null Count  Dtype  \n",
      "---  ------                             --------------  -----  \n",
      " 0   satisfaction                       77692 non-null  object \n",
      " 1   Gender                             77692 non-null  object \n",
      " 2   Customer Type                      77692 non-null  object \n",
      " 3   Age                                77692 non-null  int64  \n",
      " 4   Type of Travel                     77692 non-null  object \n",
      " 5   Class                              77692 non-null  object \n",
      " 6   Flight Distance                    77692 non-null  int64  \n",
      " 7   Seat comfort                       77692 non-null  int64  \n",
      " 8   Departure_Arrival time convenient  77692 non-null  int64  \n",
      " 9   Food and drink                     77692 non-null  int64  \n",
      " 10  Gate location                      77692 non-null  int64  \n",
      " 11  Inflight wifi service              77692 non-null  int64  \n",
      " 12  Inflight entertainment             77692 non-null  int64  \n",
      " 13  Online support                     77692 non-null  int64  \n",
      " 14  Ease of Online booking             77692 non-null  int64  \n",
      " 15  Onboard service                    77692 non-null  int64  \n",
      " 16  Leg room service                   77692 non-null  int64  \n",
      " 17  Baggage handling                   77692 non-null  int64  \n",
      " 18  Checkin service                    77692 non-null  int64  \n",
      " 19  Cleanliness                        77692 non-null  int64  \n",
      " 20  Online boarding                    77692 non-null  int64  \n",
      " 21  Departure Delay in Minutes         77692 non-null  int64  \n",
      " 22  Arrival Delay in Minutes           77692 non-null  float64\n",
      "dtypes: float64(1), int64(17), object(5)\n",
      "memory usage: 14.2+ MB\n"
     ]
    }
   ],
   "source": [
    "train.info()"
   ]
  },
  {
   "cell_type": "code",
   "execution_count": 10,
   "metadata": {},
   "outputs": [
    {
     "data": {
      "text/html": [
       "<div>\n",
       "<style scoped>\n",
       "    .dataframe tbody tr th:only-of-type {\n",
       "        vertical-align: middle;\n",
       "    }\n",
       "\n",
       "    .dataframe tbody tr th {\n",
       "        vertical-align: top;\n",
       "    }\n",
       "\n",
       "    .dataframe thead th {\n",
       "        text-align: right;\n",
       "    }\n",
       "</style>\n",
       "<table border=\"1\" class=\"dataframe\">\n",
       "  <thead>\n",
       "    <tr style=\"text-align: right;\">\n",
       "      <th></th>\n",
       "      <th>satisfaction</th>\n",
       "      <th>Gender</th>\n",
       "      <th>Customer Type</th>\n",
       "      <th>Age</th>\n",
       "      <th>Type of Travel</th>\n",
       "      <th>Class</th>\n",
       "      <th>Flight Distance</th>\n",
       "      <th>Seat comfort</th>\n",
       "      <th>Departure_Arrival time convenient</th>\n",
       "      <th>Food and drink</th>\n",
       "      <th>...</th>\n",
       "      <th>Online support</th>\n",
       "      <th>Ease of Online booking</th>\n",
       "      <th>Onboard service</th>\n",
       "      <th>Leg room service</th>\n",
       "      <th>Baggage handling</th>\n",
       "      <th>Checkin service</th>\n",
       "      <th>Cleanliness</th>\n",
       "      <th>Online boarding</th>\n",
       "      <th>Departure Delay in Minutes</th>\n",
       "      <th>Arrival Delay in Minutes</th>\n",
       "    </tr>\n",
       "  </thead>\n",
       "  <tbody>\n",
       "    <tr>\n",
       "      <th>98180</th>\n",
       "      <td>satisfied</td>\n",
       "      <td>Male</td>\n",
       "      <td>Loyal Customer</td>\n",
       "      <td>37</td>\n",
       "      <td>Business travel</td>\n",
       "      <td>Business</td>\n",
       "      <td>3785</td>\n",
       "      <td>4</td>\n",
       "      <td>4</td>\n",
       "      <td>4</td>\n",
       "      <td>...</td>\n",
       "      <td>4</td>\n",
       "      <td>4</td>\n",
       "      <td>4</td>\n",
       "      <td>4</td>\n",
       "      <td>4</td>\n",
       "      <td>5</td>\n",
       "      <td>4</td>\n",
       "      <td>4</td>\n",
       "      <td>1</td>\n",
       "      <td>9.0</td>\n",
       "    </tr>\n",
       "    <tr>\n",
       "      <th>24974</th>\n",
       "      <td>dissatisfied</td>\n",
       "      <td>Male</td>\n",
       "      <td>Loyal Customer</td>\n",
       "      <td>60</td>\n",
       "      <td>Personal Travel</td>\n",
       "      <td>Eco</td>\n",
       "      <td>1784</td>\n",
       "      <td>3</td>\n",
       "      <td>4</td>\n",
       "      <td>3</td>\n",
       "      <td>...</td>\n",
       "      <td>2</td>\n",
       "      <td>5</td>\n",
       "      <td>3</td>\n",
       "      <td>2</td>\n",
       "      <td>4</td>\n",
       "      <td>4</td>\n",
       "      <td>4</td>\n",
       "      <td>5</td>\n",
       "      <td>0</td>\n",
       "      <td>0.0</td>\n",
       "    </tr>\n",
       "    <tr>\n",
       "      <th>69242</th>\n",
       "      <td>dissatisfied</td>\n",
       "      <td>Male</td>\n",
       "      <td>Loyal Customer</td>\n",
       "      <td>27</td>\n",
       "      <td>Business travel</td>\n",
       "      <td>Business</td>\n",
       "      <td>1825</td>\n",
       "      <td>2</td>\n",
       "      <td>3</td>\n",
       "      <td>4</td>\n",
       "      <td>...</td>\n",
       "      <td>2</td>\n",
       "      <td>2</td>\n",
       "      <td>1</td>\n",
       "      <td>3</td>\n",
       "      <td>3</td>\n",
       "      <td>1</td>\n",
       "      <td>2</td>\n",
       "      <td>2</td>\n",
       "      <td>76</td>\n",
       "      <td>57.0</td>\n",
       "    </tr>\n",
       "    <tr>\n",
       "      <th>90488</th>\n",
       "      <td>satisfied</td>\n",
       "      <td>Male</td>\n",
       "      <td>Loyal Customer</td>\n",
       "      <td>50</td>\n",
       "      <td>Business travel</td>\n",
       "      <td>Eco</td>\n",
       "      <td>2024</td>\n",
       "      <td>4</td>\n",
       "      <td>4</td>\n",
       "      <td>2</td>\n",
       "      <td>...</td>\n",
       "      <td>4</td>\n",
       "      <td>4</td>\n",
       "      <td>2</td>\n",
       "      <td>5</td>\n",
       "      <td>4</td>\n",
       "      <td>2</td>\n",
       "      <td>4</td>\n",
       "      <td>4</td>\n",
       "      <td>125</td>\n",
       "      <td>129.0</td>\n",
       "    </tr>\n",
       "    <tr>\n",
       "      <th>36205</th>\n",
       "      <td>dissatisfied</td>\n",
       "      <td>Male</td>\n",
       "      <td>Loyal Customer</td>\n",
       "      <td>70</td>\n",
       "      <td>Personal Travel</td>\n",
       "      <td>Eco</td>\n",
       "      <td>1435</td>\n",
       "      <td>4</td>\n",
       "      <td>4</td>\n",
       "      <td>4</td>\n",
       "      <td>...</td>\n",
       "      <td>5</td>\n",
       "      <td>5</td>\n",
       "      <td>5</td>\n",
       "      <td>4</td>\n",
       "      <td>5</td>\n",
       "      <td>4</td>\n",
       "      <td>4</td>\n",
       "      <td>5</td>\n",
       "      <td>0</td>\n",
       "      <td>0.0</td>\n",
       "    </tr>\n",
       "  </tbody>\n",
       "</table>\n",
       "<p>5 rows × 23 columns</p>\n",
       "</div>"
      ],
      "text/plain": [
       "       satisfaction Gender   Customer Type  Age   Type of Travel     Class  \\\n",
       "98180     satisfied   Male  Loyal Customer   37  Business travel  Business   \n",
       "24974  dissatisfied   Male  Loyal Customer   60  Personal Travel       Eco   \n",
       "69242  dissatisfied   Male  Loyal Customer   27  Business travel  Business   \n",
       "90488     satisfied   Male  Loyal Customer   50  Business travel       Eco   \n",
       "36205  dissatisfied   Male  Loyal Customer   70  Personal Travel       Eco   \n",
       "\n",
       "       Flight Distance  Seat comfort  Departure_Arrival time convenient  \\\n",
       "98180             3785             4                                  4   \n",
       "24974             1784             3                                  4   \n",
       "69242             1825             2                                  3   \n",
       "90488             2024             4                                  4   \n",
       "36205             1435             4                                  4   \n",
       "\n",
       "       Food and drink  ...  Online support  Ease of Online booking  \\\n",
       "98180               4  ...               4                       4   \n",
       "24974               3  ...               2                       5   \n",
       "69242               4  ...               2                       2   \n",
       "90488               2  ...               4                       4   \n",
       "36205               4  ...               5                       5   \n",
       "\n",
       "       Onboard service  Leg room service  Baggage handling  Checkin service  \\\n",
       "98180                4                 4                 4                5   \n",
       "24974                3                 2                 4                4   \n",
       "69242                1                 3                 3                1   \n",
       "90488                2                 5                 4                2   \n",
       "36205                5                 4                 5                4   \n",
       "\n",
       "       Cleanliness  Online boarding  Departure Delay in Minutes  \\\n",
       "98180            4                4                           1   \n",
       "24974            4                5                           0   \n",
       "69242            2                2                          76   \n",
       "90488            4                4                         125   \n",
       "36205            4                5                           0   \n",
       "\n",
       "       Arrival Delay in Minutes  \n",
       "98180                       9.0  \n",
       "24974                       0.0  \n",
       "69242                      57.0  \n",
       "90488                     129.0  \n",
       "36205                       0.0  \n",
       "\n",
       "[5 rows x 23 columns]"
      ]
     },
     "execution_count": 10,
     "metadata": {},
     "output_type": "execute_result"
    }
   ],
   "source": [
    "train.head()"
   ]
  },
  {
   "cell_type": "code",
   "execution_count": 11,
   "metadata": {},
   "outputs": [],
   "source": [
    "# data.dropna(axis=1, inplace=True)"
   ]
  },
  {
   "cell_type": "code",
   "execution_count": 30,
   "metadata": {},
   "outputs": [],
   "source": [
    "X_train = train.iloc[:, 1:].copy()\n",
    "y_train = train.iloc[:, 0].copy()\n",
    "\n",
    "X_test = test.iloc[:, 1:].copy()\n",
    "y_test = test.iloc[:, 0].copy()\n",
    "\n",
    "X_train.drop('Customer Type', axis=1, inplace=True)\n",
    "X_test.drop('Customer Type', axis=1, inplace=True)\n",
    "\n",
    "# X_train, X_test, y_train, y_test = train_test_split(data.iloc[:, 1:], data.iloc[:, 0], test_size=0.2, random_state=16)"
   ]
  },
  {
   "cell_type": "code",
   "execution_count": 31,
   "metadata": {},
   "outputs": [
    {
     "name": "stdout",
     "output_type": "stream",
     "text": [
      "<class 'pandas.core.frame.DataFrame'>\n",
      "Int64Index: 77692 entries, 98180 to 14770\n",
      "Data columns (total 21 columns):\n",
      " #   Column                             Non-Null Count  Dtype  \n",
      "---  ------                             --------------  -----  \n",
      " 0   Gender                             77692 non-null  object \n",
      " 1   Age                                77692 non-null  int64  \n",
      " 2   Type of Travel                     77692 non-null  object \n",
      " 3   Class                              77692 non-null  object \n",
      " 4   Flight Distance                    77692 non-null  int64  \n",
      " 5   Seat comfort                       77692 non-null  int64  \n",
      " 6   Departure_Arrival time convenient  77692 non-null  int64  \n",
      " 7   Food and drink                     77692 non-null  int64  \n",
      " 8   Gate location                      77692 non-null  int64  \n",
      " 9   Inflight wifi service              77692 non-null  int64  \n",
      " 10  Inflight entertainment             77692 non-null  int64  \n",
      " 11  Online support                     77692 non-null  int64  \n",
      " 12  Ease of Online booking             77692 non-null  int64  \n",
      " 13  Onboard service                    77692 non-null  int64  \n",
      " 14  Leg room service                   77692 non-null  int64  \n",
      " 15  Baggage handling                   77692 non-null  int64  \n",
      " 16  Checkin service                    77692 non-null  int64  \n",
      " 17  Cleanliness                        77692 non-null  int64  \n",
      " 18  Online boarding                    77692 non-null  int64  \n",
      " 19  Departure Delay in Minutes         77692 non-null  int64  \n",
      " 20  Arrival Delay in Minutes           77692 non-null  float64\n",
      "dtypes: float64(1), int64(17), object(3)\n",
      "memory usage: 15.1+ MB\n"
     ]
    }
   ],
   "source": [
    "X_train.info()"
   ]
  },
  {
   "cell_type": "code",
   "execution_count": 32,
   "metadata": {},
   "outputs": [
    {
     "data": {
      "text/plain": [
       "98180        satisfied\n",
       "24974     dissatisfied\n",
       "69242     dissatisfied\n",
       "90488        satisfied\n",
       "36205     dissatisfied\n",
       "              ...     \n",
       "54077     dissatisfied\n",
       "113068       satisfied\n",
       "1425      dissatisfied\n",
       "77485        satisfied\n",
       "14770     dissatisfied\n",
       "Name: satisfaction, Length: 77692, dtype: object"
      ]
     },
     "execution_count": 32,
     "metadata": {},
     "output_type": "execute_result"
    }
   ],
   "source": [
    "y_train"
   ]
  },
  {
   "cell_type": "markdown",
   "metadata": {},
   "source": [
    "# Checking for class-imbalance"
   ]
  },
  {
   "cell_type": "code",
   "execution_count": 33,
   "metadata": {},
   "outputs": [
    {
     "name": "stdout",
     "output_type": "stream",
     "text": [
      "satisfied       42452\n",
      "dissatisfied    35240\n",
      "Name: satisfaction, dtype: int64\n"
     ]
    },
    {
     "name": "stderr",
     "output_type": "stream",
     "text": [
      "C:\\Users\\ADMIN\\.conda\\envs\\mlopslab\\lib\\site-packages\\seaborn\\_decorators.py:36: FutureWarning: Pass the following variables as keyword args: x, y. From version 0.12, the only valid positional argument will be `data`, and passing other arguments without an explicit keyword will result in an error or misinterpretation.\n",
      "  warnings.warn(\n"
     ]
    },
    {
     "data": {
      "text/plain": [
       "<matplotlib.axes._subplots.AxesSubplot at 0x20cedae9c40>"
      ]
     },
     "execution_count": 33,
     "metadata": {},
     "output_type": "execute_result"
    },
    {
     "data": {
      "image/png": "[encoded data removed]",
      "text/plain": [
       "<Figure size 432x288 with 1 Axes>"
      ]
     },
     "metadata": {
      "needs_background": "light"
     },
     "output_type": "display_data"
    }
   ],
   "source": [
    "# train data check\n",
    "x = y_train.value_counts()\n",
    "print(x)\n",
    "sns.barplot(x.index, x)"
   ]
  },
  {
   "cell_type": "code",
   "execution_count": 34,
   "metadata": {},
   "outputs": [
    {
     "name": "stdout",
     "output_type": "stream",
     "text": [
      "satisfied       14184\n",
      "dissatisfied    11713\n",
      "Name: satisfaction, dtype: int64\n"
     ]
    },
    {
     "name": "stderr",
     "output_type": "stream",
     "text": [
      "C:\\Users\\ADMIN\\.conda\\envs\\mlopslab\\lib\\site-packages\\seaborn\\_decorators.py:36: FutureWarning: Pass the following variables as keyword args: x, y. From version 0.12, the only valid positional argument will be `data`, and passing other arguments without an explicit keyword will result in an error or misinterpretation.\n",
      "  warnings.warn(\n"
     ]
    },
    {
     "data": {
      "text/plain": [
       "<matplotlib.axes._subplots.AxesSubplot at 0x20cee0afd90>"
      ]
     },
     "execution_count": 34,
     "metadata": {},
     "output_type": "execute_result"
    },
    {
     "data": {
      "image/png": "[encoded data removed]",
      "text/plain": [
       "<Figure size 432x288 with 1 Axes>"
      ]
     },
     "metadata": {
      "needs_background": "light"
     },
     "output_type": "display_data"
    }
   ],
   "source": [
    "# test data check\n",
    "x = y_test.value_counts()\n",
    "print(x)\n",
    "sns.barplot(x.index, x)"
   ]
  },
  {
   "cell_type": "markdown",
   "metadata": {},
   "source": [
    "# Identifying Categorical & Numerical features"
   ]
  },
  {
   "cell_type": "code",
   "execution_count": 35,
   "metadata": {},
   "outputs": [],
   "source": [
    "numerical_features = [x for x in X_train.select_dtypes(exclude = object)]\n",
    "categorical_features = [x for x in X_train.select_dtypes(include = object)]"
   ]
  },
  {
   "cell_type": "code",
   "execution_count": 36,
   "metadata": {},
   "outputs": [
    {
     "name": "stdout",
     "output_type": "stream",
     "text": [
      "The numerical features of the dataset are:\n",
      "Age\n",
      "Flight Distance\n",
      "Seat comfort\n",
      "Departure_Arrival time convenient\n",
      "Food and drink\n",
      "Gate location\n",
      "Inflight wifi service\n",
      "Inflight entertainment\n",
      "Online support\n",
      "Ease of Online booking\n",
      "Onboard service\n",
      "Leg room service\n",
      "Baggage handling\n",
      "Checkin service\n",
      "Cleanliness\n",
      "Online boarding\n",
      "Departure Delay in Minutes\n",
      "Arrival Delay in Minutes\n"
     ]
    }
   ],
   "source": [
    "print(\"The numerical features of the dataset are:\")\n",
    "for _ in numerical_features: print(_)"
   ]
  },
  {
   "cell_type": "code",
   "execution_count": 37,
   "metadata": {},
   "outputs": [
    {
     "name": "stdout",
     "output_type": "stream",
     "text": [
      "The categorical features of the dataset are:\n",
      "Gender\n",
      "Type of Travel\n",
      "Class\n"
     ]
    }
   ],
   "source": [
    "print(\"The categorical features of the dataset are:\")\n",
    "for _ in categorical_features: print(_)"
   ]
  },
  {
   "cell_type": "code",
   "execution_count": 38,
   "metadata": {},
   "outputs": [
    {
     "name": "stdout",
     "output_type": "stream",
     "text": [
      "\n",
      "The unique labels in Gender is ['Male' 'Female']\n",
      "The values in Gender is \n",
      "Female    39404\n",
      "Male      38288\n",
      "Name: Gender, dtype: int64\n",
      "\n",
      "\n",
      "The unique labels in Type of Travel is ['Business travel' 'Personal Travel']\n",
      "The values in Type of Travel is \n",
      "Business travel    53671\n",
      "Personal Travel    24021\n",
      "Name: Type of Travel, dtype: int64\n",
      "\n",
      "\n",
      "The unique labels in Class is ['Business' 'Eco' 'Eco Plus']\n",
      "The values in Class is \n",
      "Business    37174\n",
      "Eco         34916\n",
      "Eco Plus     5602\n",
      "Name: Class, dtype: int64\n",
      "\n"
     ]
    }
   ],
   "source": [
    "for f in categorical_features:\n",
    "    print(\"\\nThe unique labels in {} is {}\".format(f, X_train[f].unique()))\n",
    "    print(\"The values in {} is \\n{}\\n\".format(f,  X_train[f].value_counts()))"
   ]
  },
  {
   "cell_type": "code",
   "execution_count": 39,
   "metadata": {},
   "outputs": [],
   "source": [
    "## mlops-project-new\n",
    "os.environ[\"WANDB_API_KEY\"] = \"0f579240b99e6ed291924359c5de323258326760\""
   ]
  },
  {
   "cell_type": "code",
   "execution_count": 40,
   "metadata": {},
   "outputs": [],
   "source": [
    "def measure_performance (clasf_matrix):\n",
    "    measure = pd.DataFrame({\n",
    "                        'sensitivity': [round(clasf_matrix[0,0]/(clasf_matrix[0,0]+clasf_matrix[0,1]),2)], \n",
    "                        'specificity': [round(clasf_matrix[1,1]/(clasf_matrix[1,0]+clasf_matrix[1,1]),2)],\n",
    "                        'precision': [round(clasf_matrix[0,0]/(clasf_matrix[0,0]+clasf_matrix[1,0]),2)],\n",
    "                        'overall_acc': [round((clasf_matrix[0,0]+clasf_matrix[1,1])/\n",
    "                                              (clasf_matrix[0,0]+clasf_matrix[0,1]+clasf_matrix[1,0]+clasf_matrix[1,1]),2)]\n",
    "                       })\n",
    "    return measure"
   ]
  },
  {
   "cell_type": "code",
   "execution_count": 48,
   "metadata": {},
   "outputs": [],
   "source": [
    "def run_model_experiment(data,\n",
    "                        model, \n",
    "                        name, \n",
    "                        preprocessor,\n",
    "                        encoder, \n",
    "                        config = None, \n",
    "                        tags = None,\n",
    "                        sweep_config = None):\n",
    "    \n",
    "    # splitting the data here is only for testing on wandb\n",
    "    X_train, X_test, y_train, y_test = train_test_split(data.iloc[:, 1:].copy(), data.iloc[:, 0].copy(), test_size=0.2, random_state=16)\n",
    "\n",
    "    model_pipeline = Pipeline(steps=[('preprocessor', preprocessor),\n",
    "                                    (name, model)])\n",
    "    model_pipeline.fit(X_train, y_train)\n",
    "\n",
    "    y_pred = model_pipeline.predict(X_test)\n",
    "    y_probas = model_pipeline.predict_proba(X_test)\n",
    "    # labels = [\"satisfied\", \"dissatisfied\"]\n",
    "\n",
    "    # if sweep_config != None:\n",
    "    #     sweep_id = wandb.sweep(sweep_config)\n",
    "    # wandb\n",
    "    wandb.init(project='mlops-project-new', config=None, tags = None)\n",
    "    wandb.run.name = name\n",
    "\n",
    "    overall_metrics = measure_performance(metrics.confusion_matrix(y_test, y_pred))\n",
    "\n",
    "    wandb.log({\"accuracy\" : overall_metrics.overall_acc[0], \n",
    "                \"precision\": overall_metrics.precision[0],\n",
    "                \"sensitivity\": overall_metrics.sensitivity[0], \n",
    "                \"specificity\": overall_metrics.specificity[0]})\n",
    "\n",
    "    LABELS = np.unique(y_train)\n",
    "    X_train = encoder.fit_transform(X_train, y_train)\n",
    "    X_test = encoder.transform(X_test)\n",
    "    wandb.sklearn.plot_classifier(model, \n",
    "                                X_train, \n",
    "                                X_test, \n",
    "                                y_train, \n",
    "                                y_test,\n",
    "                                y_pred, \n",
    "                                y_probas,\n",
    "                                LABELS,\n",
    "                                model_name=name)\n",
    "\n",
    "    wandb.Artifact(name, \n",
    "                    type = 'model',\n",
    "                    description = None)\n",
    "\n",
    "    wandb.save()\n",
    "    wandb.finish()\n",
    "\n",
    "    return model_pipeline"
   ]
  },
  {
   "cell_type": "code",
   "execution_count": 50,
   "metadata": {},
   "outputs": [],
   "source": [
    "encoder1 = OneHotEncoder(cols=categorical_features)\n",
    "encoder2 = TargetEncoder(cols=categorical_features)\n",
    "encoder3 = WOEEncoder(cols=categorical_features)\n",
    "encoders = {\"ohe\": encoder1, \n",
    "            \"target\": encoder2, \n",
    "            \"woe\": encoder3}\n",
    "\n",
    "numeric_transformer = StandardScaler()"
   ]
  },
  {
   "cell_type": "markdown",
   "metadata": {},
   "source": [
    "# OHE models"
   ]
  },
  {
   "cell_type": "code",
   "execution_count": 51,
   "metadata": {},
   "outputs": [],
   "source": [
    "preprocessor = ColumnTransformer(\n",
    "    transformers=[        \n",
    "        ('num', numeric_transformer, numerical_features),\n",
    "        ('cat', encoder1, categorical_features)\n",
    "        ])"
   ]
  },
  {
   "cell_type": "markdown",
   "metadata": {},
   "source": [
    "## Decision Tree with OHE"
   ]
  },
  {
   "cell_type": "code",
   "execution_count": 52,
   "metadata": {},
   "outputs": [
    {
     "name": "stderr",
     "output_type": "stream",
     "text": [
      "Failed to detect the name of this notebook, you can set it manually with the WANDB_NOTEBOOK_NAME environment variable to enable code saving.\n",
      "\u001b[34m\u001b[1mwandb\u001b[0m: Currently logged in as: \u001b[33mrahav-manoharan\u001b[0m (use `wandb login --relogin` to force relogin)\n",
      "\u001b[34m\u001b[1mwandb\u001b[0m: wandb version 0.12.7 is available!  To upgrade, please run:\n",
      "\u001b[34m\u001b[1mwandb\u001b[0m:  $ pip install wandb --upgrade\n"
     ]
    },
    {
     "data": {
      "text/html": [
       "\n",
       "                    Syncing run <strong><a href=\"https://wandb.ai/rahav-manoharan/mlops-project-new/runs/1crmkvq1\" target=\"_blank\">daily-cherry-1</a></strong> to <a href=\"https://wandb.ai/rahav-manoharan/mlops-project-new\" target=\"_blank\">Weights & Biases</a> (<a href=\"https://docs.wandb.com/integrations/jupyter.html\" target=\"_blank\">docs</a>).<br/>\n",
       "\n",
       "                "
      ],
      "text/plain": [
       "<IPython.core.display.HTML object>"
      ]
     },
     "metadata": {},
     "output_type": "display_data"
    },
    {
     "name": "stderr",
     "output_type": "stream",
     "text": [
      "\u001b[34m\u001b[1mwandb\u001b[0m: \n",
      "\u001b[34m\u001b[1mwandb\u001b[0m: Plotting DecisionTreeWithOHE.\n",
      "\u001b[34m\u001b[1mwandb\u001b[0m: Logged feature importances.\n",
      "\u001b[34m\u001b[1mwandb\u001b[0m: Logged confusion matrix.\n",
      "\u001b[34m\u001b[1mwandb\u001b[0m: \u001b[32m\u001b[41mERROR\u001b[0m X contains values that are not numbers. Please vectorize, label encode or one hot encode X and call the plotting function again.\n",
      "\u001b[34m\u001b[1mwandb\u001b[0m: \u001b[32m\u001b[41mERROR\u001b[0m X_test contains values that are not numbers. Please vectorize, label encode or one hot encode X_test and call the plotting function again.\n",
      "\u001b[34m\u001b[1mwandb\u001b[0m: Logged summary metrics.\n",
      "\u001b[34m\u001b[1mwandb\u001b[0m: Logged class proportions.\n",
      "\u001b[34m\u001b[1mwandb\u001b[0m: \u001b[32m\u001b[41mERROR\u001b[0m X contains values that are not numbers. Please vectorize, label encode or one hot encode X and call the plotting function again.\n",
      "\u001b[34m\u001b[1mwandb\u001b[0m: Logged calibration curve.\n",
      "\u001b[34m\u001b[1mwandb\u001b[0m: Logged roc curve.\n",
      "\u001b[34m\u001b[1mwandb\u001b[0m: Logged precision recall curve.\n",
      "\u001b[34m\u001b[1mwandb\u001b[0m: \u001b[33mWARNING\u001b[0m Calling run.save without any arguments is deprecated.Changes to attributes are automatically persisted.\n"
     ]
    },
    {
     "data": {
      "text/html": [
       "<br/>Waiting for W&B process to finish, PID 14740... <strong style=\"color:green\">(success).</strong>"
      ],
      "text/plain": [
       "<IPython.core.display.HTML object>"
      ]
     },
     "metadata": {},
     "output_type": "display_data"
    },
    {
     "data": {
      "application/vnd.jupyter.widget-view+json": {
       "model_id": "66b5b49204a6426d96762c4f551c0aa1",
       "version_major": 2,
       "version_minor": 0
      },
      "text/plain": [
       "VBox(children=(Label(value=' 0.02MB of 0.02MB uploaded (0.00MB deduped)\\r'), FloatProgress(value=1.0, max=1.0)…"
      ]
     },
     "metadata": {},
     "output_type": "display_data"
    },
    {
     "data": {
      "text/html": [
       "<style>\n",
       "    table.wandb td:nth-child(1) { padding: 0 10px; text-align: right }\n",
       "    .wandb-row { display: flex; flex-direction: row; flex-wrap: wrap; width: 100% }\n",
       "    .wandb-col { display: flex; flex-direction: column; flex-basis: 100%; flex: 1; padding: 10px; }\n",
       "    </style>\n",
       "<div class=\"wandb-row\"><div class=\"wandb-col\">\n",
       "<h3>Run history:</h3><br/><table class=\"wandb\"><tr><td>accuracy</td><td>▁</td></tr><tr><td>precision</td><td>▁</td></tr><tr><td>sensitivity</td><td>▁</td></tr><tr><td>specificity</td><td>▁</td></tr></table><br/></div><div class=\"wandb-col\">\n",
       "<h3>Run summary:</h3><br/><table class=\"wandb\"><tr><td>accuracy</td><td>0.93</td></tr><tr><td>precision</td><td>0.91</td></tr><tr><td>sensitivity</td><td>0.94</td></tr><tr><td>specificity</td><td>0.92</td></tr></table>\n",
       "</div></div>\n",
       "Synced 5 W&B file(s), 5 media file(s), 5 artifact file(s) and 0 other file(s)\n",
       "<br/>Synced <strong style=\"color:#cdcd00\">daily-cherry-1</strong>: <a href=\"https://wandb.ai/rahav-manoharan/mlops-project-new/runs/1crmkvq1\" target=\"_blank\">https://wandb.ai/rahav-manoharan/mlops-project-new/runs/1crmkvq1</a><br/>\n",
       "Find logs at: <code>.\\wandb\\run-20211207_152351-1crmkvq1\\logs</code><br/>\n"
      ],
      "text/plain": [
       "<IPython.core.display.HTML object>"
      ]
     },
     "metadata": {},
     "output_type": "display_data"
    }
   ],
   "source": [
    "dt_ohe_model = tree.DecisionTreeClassifier(max_depth=10)\n",
    "\n",
    "dt_ohe_model = run_model_experiment(train, dt_ohe_model, \"DecisionTreeWithOHE\", preprocessor, encoder=encoder1, tags=[\"DecisionTree\", \"OHE\"])"
   ]
  },
  {
   "cell_type": "markdown",
   "metadata": {},
   "source": [
    "## RandomForest with OHE"
   ]
  },
  {
   "cell_type": "code",
   "execution_count": 53,
   "metadata": {},
   "outputs": [
    {
     "name": "stderr",
     "output_type": "stream",
     "text": [
      "\u001b[34m\u001b[1mwandb\u001b[0m: wandb version 0.12.7 is available!  To upgrade, please run:\n",
      "\u001b[34m\u001b[1mwandb\u001b[0m:  $ pip install wandb --upgrade\n"
     ]
    },
    {
     "data": {
      "text/html": [
       "\n",
       "                    Syncing run <strong><a href=\"https://wandb.ai/rahav-manoharan/mlops-project-new/runs/m160a7o1\" target=\"_blank\">smart-eon-2</a></strong> to <a href=\"https://wandb.ai/rahav-manoharan/mlops-project-new\" target=\"_blank\">Weights & Biases</a> (<a href=\"https://docs.wandb.com/integrations/jupyter.html\" target=\"_blank\">docs</a>).<br/>\n",
       "\n",
       "                "
      ],
      "text/plain": [
       "<IPython.core.display.HTML object>"
      ]
     },
     "metadata": {},
     "output_type": "display_data"
    },
    {
     "name": "stderr",
     "output_type": "stream",
     "text": [
      "\u001b[34m\u001b[1mwandb\u001b[0m: \n",
      "\u001b[34m\u001b[1mwandb\u001b[0m: Plotting RandomForestOHE.\n",
      "\u001b[34m\u001b[1mwandb\u001b[0m: Logged feature importances.\n",
      "\u001b[34m\u001b[1mwandb\u001b[0m: Logged confusion matrix.\n",
      "\u001b[34m\u001b[1mwandb\u001b[0m: \u001b[32m\u001b[41mERROR\u001b[0m X contains values that are not numbers. Please vectorize, label encode or one hot encode X and call the plotting function again.\n",
      "\u001b[34m\u001b[1mwandb\u001b[0m: \u001b[32m\u001b[41mERROR\u001b[0m X_test contains values that are not numbers. Please vectorize, label encode or one hot encode X_test and call the plotting function again.\n",
      "\u001b[34m\u001b[1mwandb\u001b[0m: Logged summary metrics.\n",
      "\u001b[34m\u001b[1mwandb\u001b[0m: Logged class proportions.\n",
      "\u001b[34m\u001b[1mwandb\u001b[0m: \u001b[32m\u001b[41mERROR\u001b[0m X contains values that are not numbers. Please vectorize, label encode or one hot encode X and call the plotting function again.\n",
      "\u001b[34m\u001b[1mwandb\u001b[0m: Logged calibration curve.\n",
      "\u001b[34m\u001b[1mwandb\u001b[0m: Logged roc curve.\n",
      "\u001b[34m\u001b[1mwandb\u001b[0m: Logged precision recall curve.\n",
      "\u001b[34m\u001b[1mwandb\u001b[0m: \u001b[33mWARNING\u001b[0m Calling run.save without any arguments is deprecated.Changes to attributes are automatically persisted.\n"
     ]
    },
    {
     "data": {
      "text/html": [
       "<br/>Waiting for W&B process to finish, PID 7632... <strong style=\"color:green\">(success).</strong>"
      ],
      "text/plain": [
       "<IPython.core.display.HTML object>"
      ]
     },
     "metadata": {},
     "output_type": "display_data"
    },
    {
     "data": {
      "application/vnd.jupyter.widget-view+json": {
       "model_id": "74d1591547764793b6efec648f4936b9",
       "version_major": 2,
       "version_minor": 0
      },
      "text/plain": [
       "VBox(children=(Label(value=' 0.42MB of 0.42MB uploaded (0.00MB deduped)\\r'), FloatProgress(value=1.0, max=1.0)…"
      ]
     },
     "metadata": {},
     "output_type": "display_data"
    },
    {
     "data": {
      "text/html": [
       "<style>\n",
       "    table.wandb td:nth-child(1) { padding: 0 10px; text-align: right }\n",
       "    .wandb-row { display: flex; flex-direction: row; flex-wrap: wrap; width: 100% }\n",
       "    .wandb-col { display: flex; flex-direction: column; flex-basis: 100%; flex: 1; padding: 10px; }\n",
       "    </style>\n",
       "<div class=\"wandb-row\"><div class=\"wandb-col\">\n",
       "<h3>Run history:</h3><br/><table class=\"wandb\"><tr><td>accuracy</td><td>▁</td></tr><tr><td>precision</td><td>▁</td></tr><tr><td>sensitivity</td><td>▁</td></tr><tr><td>specificity</td><td>▁</td></tr></table><br/></div><div class=\"wandb-col\">\n",
       "<h3>Run summary:</h3><br/><table class=\"wandb\"><tr><td>accuracy</td><td>0.91</td></tr><tr><td>precision</td><td>0.9</td></tr><tr><td>sensitivity</td><td>0.89</td></tr><tr><td>specificity</td><td>0.92</td></tr></table>\n",
       "</div></div>\n",
       "Synced 5 W&B file(s), 5 media file(s), 5 artifact file(s) and 0 other file(s)\n",
       "<br/>Synced <strong style=\"color:#cdcd00\">smart-eon-2</strong>: <a href=\"https://wandb.ai/rahav-manoharan/mlops-project-new/runs/m160a7o1\" target=\"_blank\">https://wandb.ai/rahav-manoharan/mlops-project-new/runs/m160a7o1</a><br/>\n",
       "Find logs at: <code>.\\wandb\\run-20211207_152512-m160a7o1\\logs</code><br/>\n"
      ],
      "text/plain": [
       "<IPython.core.display.HTML object>"
      ]
     },
     "metadata": {},
     "output_type": "display_data"
    }
   ],
   "source": [
    "params = {'bootstrap': True, \n",
    "        'criterion': 'gini',\n",
    "        'max_depth': 15, \n",
    "        'max_features': 'auto',\n",
    "        'min_impurity_decrease': 0.001,\n",
    "        'min_samples_leaf': 30, \n",
    "        'min_samples_split': 50,\n",
    "        'class_weight': \"balanced_subsample\",\n",
    "        'n_estimators': 200,\n",
    "        'oob_score': True, \n",
    "        'random_state': 16, \n",
    "        'verbose': 0,\n",
    "        'warm_start': False}\n",
    "\n",
    "sweep_config = {\n",
    "  \"name\" : \"rf_sweep\",\n",
    "  \"method\" : \"random\",\n",
    "  \"parameters\" : {\n",
    "    \"n_estimators\" : {\n",
    "      \"values\" : [100, 200, 300]\n",
    "      },\n",
    "    \"max_depth\" :{\n",
    "      \"values\" : [7, 10, 15]\n",
    "      },\n",
    "    \"min_sample_split\" :{\n",
    "      \"values\" : [50, 75, 100]\n",
    "      }\n",
    "   }\n",
    "}\n",
    "\n",
    "rf_ohe_model = ensemble.RandomForestClassifier(**params)\n",
    "\n",
    "rf_ohe_model = run_model_experiment(train, rf_ohe_model, \"RandomForestOHE\", preprocessor, encoder=encoder1, config = params, tags=[\"RandomForest\", \"OHE\"])"
   ]
  },
  {
   "cell_type": "markdown",
   "metadata": {},
   "source": [
    "## Logistic Regression with OHE"
   ]
  },
  {
   "cell_type": "code",
   "execution_count": 54,
   "metadata": {},
   "outputs": [
    {
     "name": "stderr",
     "output_type": "stream",
     "text": [
      "\u001b[34m\u001b[1mwandb\u001b[0m: wandb version 0.12.7 is available!  To upgrade, please run:\n",
      "\u001b[34m\u001b[1mwandb\u001b[0m:  $ pip install wandb --upgrade\n"
     ]
    },
    {
     "data": {
      "text/html": [
       "\n",
       "                    Syncing run <strong><a href=\"https://wandb.ai/rahav-manoharan/mlops-project-new/runs/3i54i1g6\" target=\"_blank\">good-resonance-3</a></strong> to <a href=\"https://wandb.ai/rahav-manoharan/mlops-project-new\" target=\"_blank\">Weights & Biases</a> (<a href=\"https://docs.wandb.com/integrations/jupyter.html\" target=\"_blank\">docs</a>).<br/>\n",
       "\n",
       "                "
      ],
      "text/plain": [
       "<IPython.core.display.HTML object>"
      ]
     },
     "metadata": {},
     "output_type": "display_data"
    },
    {
     "name": "stderr",
     "output_type": "stream",
     "text": [
      "\u001b[34m\u001b[1mwandb\u001b[0m: \n",
      "\u001b[34m\u001b[1mwandb\u001b[0m: Plotting LogisticRegressionOHE.\n",
      "\u001b[34m\u001b[1mwandb\u001b[0m: \u001b[33mWARNING\u001b[0m 2-dimensional feature importances array passed to plot_feature_importances. 2-dimensional and higher feature importances arrays are not currently supported. These importances will not be plotted.\n",
      "\u001b[34m\u001b[1mwandb\u001b[0m: Logged feature importances.\n",
      "\u001b[34m\u001b[1mwandb\u001b[0m: Logged confusion matrix.\n",
      "\u001b[34m\u001b[1mwandb\u001b[0m: \u001b[32m\u001b[41mERROR\u001b[0m X contains values that are not numbers. Please vectorize, label encode or one hot encode X and call the plotting function again.\n",
      "\u001b[34m\u001b[1mwandb\u001b[0m: \u001b[32m\u001b[41mERROR\u001b[0m X_test contains values that are not numbers. Please vectorize, label encode or one hot encode X_test and call the plotting function again.\n",
      "\u001b[34m\u001b[1mwandb\u001b[0m: Logged summary metrics.\n",
      "\u001b[34m\u001b[1mwandb\u001b[0m: Logged class proportions.\n",
      "\u001b[34m\u001b[1mwandb\u001b[0m: \u001b[32m\u001b[41mERROR\u001b[0m X contains values that are not numbers. Please vectorize, label encode or one hot encode X and call the plotting function again.\n",
      "\u001b[34m\u001b[1mwandb\u001b[0m: Logged calibration curve.\n",
      "\u001b[34m\u001b[1mwandb\u001b[0m: Logged roc curve.\n",
      "\u001b[34m\u001b[1mwandb\u001b[0m: Logged precision recall curve.\n",
      "\u001b[34m\u001b[1mwandb\u001b[0m: \u001b[33mWARNING\u001b[0m Calling run.save without any arguments is deprecated.Changes to attributes are automatically persisted.\n"
     ]
    },
    {
     "data": {
      "text/html": [
       "<br/>Waiting for W&B process to finish, PID 21304... <strong style=\"color:green\">(success).</strong>"
      ],
      "text/plain": [
       "<IPython.core.display.HTML object>"
      ]
     },
     "metadata": {},
     "output_type": "display_data"
    },
    {
     "data": {
      "application/vnd.jupyter.widget-view+json": {
       "model_id": "3564e0e308b840868eacab36440690d2",
       "version_major": 2,
       "version_minor": 0
      },
      "text/plain": [
       "VBox(children=(Label(value=' 0.47MB of 0.47MB uploaded (0.00MB deduped)\\r'), FloatProgress(value=1.0, max=1.0)…"
      ]
     },
     "metadata": {},
     "output_type": "display_data"
    },
    {
     "data": {
      "text/html": [
       "<style>\n",
       "    table.wandb td:nth-child(1) { padding: 0 10px; text-align: right }\n",
       "    .wandb-row { display: flex; flex-direction: row; flex-wrap: wrap; width: 100% }\n",
       "    .wandb-col { display: flex; flex-direction: column; flex-basis: 100%; flex: 1; padding: 10px; }\n",
       "    </style>\n",
       "<div class=\"wandb-row\"><div class=\"wandb-col\">\n",
       "<h3>Run history:</h3><br/><table class=\"wandb\"><tr><td>accuracy</td><td>▁</td></tr><tr><td>precision</td><td>▁</td></tr><tr><td>sensitivity</td><td>▁</td></tr><tr><td>specificity</td><td>▁</td></tr></table><br/></div><div class=\"wandb-col\">\n",
       "<h3>Run summary:</h3><br/><table class=\"wandb\"><tr><td>accuracy</td><td>0.82</td></tr><tr><td>precision</td><td>0.8</td></tr><tr><td>sensitivity</td><td>0.79</td></tr><tr><td>specificity</td><td>0.84</td></tr></table>\n",
       "</div></div>\n",
       "Synced 5 W&B file(s), 4 media file(s), 4 artifact file(s) and 0 other file(s)\n",
       "<br/>Synced <strong style=\"color:#cdcd00\">good-resonance-3</strong>: <a href=\"https://wandb.ai/rahav-manoharan/mlops-project-new/runs/3i54i1g6\" target=\"_blank\">https://wandb.ai/rahav-manoharan/mlops-project-new/runs/3i54i1g6</a><br/>\n",
       "Find logs at: <code>.\\wandb\\run-20211207_152543-3i54i1g6\\logs</code><br/>\n"
      ],
      "text/plain": [
       "<IPython.core.display.HTML object>"
      ]
     },
     "metadata": {},
     "output_type": "display_data"
    }
   ],
   "source": [
    "lr_ohe_model = LogisticRegression(max_iter=10000)\n",
    "\n",
    "lr_ohe_model = run_model_experiment(train, lr_ohe_model, \"LogisticRegressionOHE\", preprocessor, encoder=encoder1, config = params, tags=[\"LoristicRegression\", \"OHE\"])"
   ]
  },
  {
   "cell_type": "markdown",
   "metadata": {},
   "source": [
    "## XGBoost with OHE"
   ]
  },
  {
   "cell_type": "code",
   "execution_count": 55,
   "metadata": {},
   "outputs": [
    {
     "name": "stderr",
     "output_type": "stream",
     "text": [
      "C:\\Users\\ADMIN\\.conda\\envs\\mlopslab\\lib\\site-packages\\xgboost\\sklearn.py:1224: UserWarning: The use of label encoder in XGBClassifier is deprecated and will be removed in a future release. To remove this warning, do the following: 1) Pass option use_label_encoder=False when constructing XGBClassifier object; and 2) Encode your labels (y) as integers starting with 0, i.e. 0, 1, 2, ..., [num_class - 1].\n",
      "  warnings.warn(label_encoder_deprecation_msg, UserWarning)\n"
     ]
    },
    {
     "name": "stdout",
     "output_type": "stream",
     "text": [
      "[15:26:08] WARNING: D:\\bld\\xgboost-split_1637426510059\\work\\src\\learner.cc:1115: Starting in XGBoost 1.3.0, the default evaluation metric used with the objective 'binary:logistic' was changed from 'error' to 'logloss'. Explicitly set eval_metric if you'd like to restore the old behavior.\n"
     ]
    },
    {
     "name": "stderr",
     "output_type": "stream",
     "text": [
      "\u001b[34m\u001b[1mwandb\u001b[0m: wandb version 0.12.7 is available!  To upgrade, please run:\n",
      "\u001b[34m\u001b[1mwandb\u001b[0m:  $ pip install wandb --upgrade\n"
     ]
    },
    {
     "data": {
      "text/html": [
       "\n",
       "                    Syncing run <strong><a href=\"https://wandb.ai/rahav-manoharan/mlops-project-new/runs/103k9ynb\" target=\"_blank\">colorful-bird-4</a></strong> to <a href=\"https://wandb.ai/rahav-manoharan/mlops-project-new\" target=\"_blank\">Weights & Biases</a> (<a href=\"https://docs.wandb.com/integrations/jupyter.html\" target=\"_blank\">docs</a>).<br/>\n",
       "\n",
       "                "
      ],
      "text/plain": [
       "<IPython.core.display.HTML object>"
      ]
     },
     "metadata": {},
     "output_type": "display_data"
    },
    {
     "name": "stderr",
     "output_type": "stream",
     "text": [
      "\u001b[34m\u001b[1mwandb\u001b[0m: \n",
      "\u001b[34m\u001b[1mwandb\u001b[0m: Plotting XGBoostOHE.\n",
      "\u001b[34m\u001b[1mwandb\u001b[0m: Logged feature importances.\n",
      "\u001b[34m\u001b[1mwandb\u001b[0m: Logged confusion matrix.\n",
      "\u001b[34m\u001b[1mwandb\u001b[0m: \u001b[32m\u001b[41mERROR\u001b[0m X contains values that are not numbers. Please vectorize, label encode or one hot encode X and call the plotting function again.\n",
      "\u001b[34m\u001b[1mwandb\u001b[0m: \u001b[32m\u001b[41mERROR\u001b[0m X_test contains values that are not numbers. Please vectorize, label encode or one hot encode X_test and call the plotting function again.\n",
      "\u001b[34m\u001b[1mwandb\u001b[0m: Logged summary metrics.\n",
      "\u001b[34m\u001b[1mwandb\u001b[0m: Logged class proportions.\n",
      "\u001b[34m\u001b[1mwandb\u001b[0m: \u001b[32m\u001b[41mERROR\u001b[0m X contains values that are not numbers. Please vectorize, label encode or one hot encode X and call the plotting function again.\n",
      "\u001b[34m\u001b[1mwandb\u001b[0m: Logged calibration curve.\n",
      "\u001b[34m\u001b[1mwandb\u001b[0m: Logged roc curve.\n",
      "\u001b[34m\u001b[1mwandb\u001b[0m: Logged precision recall curve.\n",
      "\u001b[34m\u001b[1mwandb\u001b[0m: \u001b[33mWARNING\u001b[0m Calling run.save without any arguments is deprecated.Changes to attributes are automatically persisted.\n"
     ]
    },
    {
     "data": {
      "text/html": [
       "<br/>Waiting for W&B process to finish, PID 22128... <strong style=\"color:green\">(success).</strong>"
      ],
      "text/plain": [
       "<IPython.core.display.HTML object>"
      ]
     },
     "metadata": {},
     "output_type": "display_data"
    },
    {
     "data": {
      "application/vnd.jupyter.widget-view+json": {
       "model_id": "f7de432bc9e240feb888d318f01d2ac6",
       "version_major": 2,
       "version_minor": 0
      },
      "text/plain": [
       "VBox(children=(Label(value=' 0.29MB of 0.29MB uploaded (0.00MB deduped)\\r'), FloatProgress(value=1.0, max=1.0)…"
      ]
     },
     "metadata": {},
     "output_type": "display_data"
    },
    {
     "data": {
      "text/html": [
       "<style>\n",
       "    table.wandb td:nth-child(1) { padding: 0 10px; text-align: right }\n",
       "    .wandb-row { display: flex; flex-direction: row; flex-wrap: wrap; width: 100% }\n",
       "    .wandb-col { display: flex; flex-direction: column; flex-basis: 100%; flex: 1; padding: 10px; }\n",
       "    </style>\n",
       "<div class=\"wandb-row\"><div class=\"wandb-col\">\n",
       "<h3>Run history:</h3><br/><table class=\"wandb\"><tr><td>accuracy</td><td>▁</td></tr><tr><td>precision</td><td>▁</td></tr><tr><td>sensitivity</td><td>▁</td></tr><tr><td>specificity</td><td>▁</td></tr></table><br/></div><div class=\"wandb-col\">\n",
       "<h3>Run summary:</h3><br/><table class=\"wandb\"><tr><td>accuracy</td><td>0.95</td></tr><tr><td>precision</td><td>0.94</td></tr><tr><td>sensitivity</td><td>0.96</td></tr><tr><td>specificity</td><td>0.95</td></tr></table>\n",
       "</div></div>\n",
       "Synced 5 W&B file(s), 5 media file(s), 5 artifact file(s) and 0 other file(s)\n",
       "<br/>Synced <strong style=\"color:#cdcd00\">colorful-bird-4</strong>: <a href=\"https://wandb.ai/rahav-manoharan/mlops-project-new/runs/103k9ynb\" target=\"_blank\">https://wandb.ai/rahav-manoharan/mlops-project-new/runs/103k9ynb</a><br/>\n",
       "Find logs at: <code>.\\wandb\\run-20211207_152648-103k9ynb\\logs</code><br/>\n"
      ],
      "text/plain": [
       "<IPython.core.display.HTML object>"
      ]
     },
     "metadata": {},
     "output_type": "display_data"
    }
   ],
   "source": [
    "xgb_ohe_model = XGBClassifier(learning_rate =0.1,\n",
    "                    n_estimators=500,\n",
    "                    max_depth=20,\n",
    "                    min_child_weight=1,\n",
    "                    gamma=0,\n",
    "                    subsample=0.8,\n",
    "                    colsample_bytree=0.8,\n",
    "                    objective= 'binary:logistic',\n",
    "                    nthread=4,\n",
    "                    scale_pos_weight=1,\n",
    "                    seed=16)\n",
    "\n",
    "xgb_ohe_model = run_model_experiment(train, xgb_ohe_model, \"XGBoostOHE\", preprocessor, encoder=encoder1, config = params, tags=[\"XGBoost\", \"OHE\"])"
   ]
  },
  {
   "cell_type": "markdown",
   "metadata": {},
   "source": [
    "# Target Encoding"
   ]
  },
  {
   "cell_type": "code",
   "execution_count": 56,
   "metadata": {},
   "outputs": [],
   "source": [
    "preprocessor = ColumnTransformer(\n",
    "    transformers=[        \n",
    "        ('num', numeric_transformer, numerical_features),\n",
    "        ('cat', encoder2, categorical_features)\n",
    "        ])"
   ]
  },
  {
   "cell_type": "markdown",
   "metadata": {},
   "source": [
    "## Decision Tree with Target Encoding"
   ]
  },
  {
   "cell_type": "code",
   "execution_count": 66,
   "metadata": {},
   "outputs": [
    {
     "name": "stderr",
     "output_type": "stream",
     "text": [
      "C:\\Users\\ADMIN\\.conda\\envs\\mlopslab\\lib\\site-packages\\pandas\\core\\indexing.py:1732: SettingWithCopyWarning: \n",
      "A value is trying to be set on a copy of a slice from a DataFrame\n",
      "\n",
      "See the caveats in the documentation: https://pandas.pydata.org/pandas-docs/stable/user_guide/indexing.html#returning-a-view-versus-a-copy\n",
      "  self._setitem_single_block(indexer, value, name)\n"
     ]
    }
   ],
   "source": [
    "for i in range(len(train)):\n",
    "    train['satisfaction'].iloc[i] = 1 if train['satisfaction'].iloc[i]=='satisfied' else 0\n",
    "\n",
    "train.satisfaction = train.satisfaction.astype('int')"
   ]
  },
  {
   "cell_type": "code",
   "execution_count": 67,
   "metadata": {},
   "outputs": [
    {
     "data": {
      "text/html": [
       "<div>\n",
       "<style scoped>\n",
       "    .dataframe tbody tr th:only-of-type {\n",
       "        vertical-align: middle;\n",
       "    }\n",
       "\n",
       "    .dataframe tbody tr th {\n",
       "        vertical-align: top;\n",
       "    }\n",
       "\n",
       "    .dataframe thead th {\n",
       "        text-align: right;\n",
       "    }\n",
       "</style>\n",
       "<table border=\"1\" class=\"dataframe\">\n",
       "  <thead>\n",
       "    <tr style=\"text-align: right;\">\n",
       "      <th></th>\n",
       "      <th>satisfaction</th>\n",
       "      <th>Gender</th>\n",
       "      <th>Customer Type</th>\n",
       "      <th>Age</th>\n",
       "      <th>Type of Travel</th>\n",
       "      <th>Class</th>\n",
       "      <th>Flight Distance</th>\n",
       "      <th>Seat comfort</th>\n",
       "      <th>Departure_Arrival time convenient</th>\n",
       "      <th>Food and drink</th>\n",
       "      <th>...</th>\n",
       "      <th>Online support</th>\n",
       "      <th>Ease of Online booking</th>\n",
       "      <th>Onboard service</th>\n",
       "      <th>Leg room service</th>\n",
       "      <th>Baggage handling</th>\n",
       "      <th>Checkin service</th>\n",
       "      <th>Cleanliness</th>\n",
       "      <th>Online boarding</th>\n",
       "      <th>Departure Delay in Minutes</th>\n",
       "      <th>Arrival Delay in Minutes</th>\n",
       "    </tr>\n",
       "  </thead>\n",
       "  <tbody>\n",
       "    <tr>\n",
       "      <th>98180</th>\n",
       "      <td>1</td>\n",
       "      <td>Male</td>\n",
       "      <td>Loyal Customer</td>\n",
       "      <td>37</td>\n",
       "      <td>Business travel</td>\n",
       "      <td>Business</td>\n",
       "      <td>3785</td>\n",
       "      <td>4</td>\n",
       "      <td>4</td>\n",
       "      <td>4</td>\n",
       "      <td>...</td>\n",
       "      <td>4</td>\n",
       "      <td>4</td>\n",
       "      <td>4</td>\n",
       "      <td>4</td>\n",
       "      <td>4</td>\n",
       "      <td>5</td>\n",
       "      <td>4</td>\n",
       "      <td>4</td>\n",
       "      <td>1</td>\n",
       "      <td>9.0</td>\n",
       "    </tr>\n",
       "    <tr>\n",
       "      <th>24974</th>\n",
       "      <td>0</td>\n",
       "      <td>Male</td>\n",
       "      <td>Loyal Customer</td>\n",
       "      <td>60</td>\n",
       "      <td>Personal Travel</td>\n",
       "      <td>Eco</td>\n",
       "      <td>1784</td>\n",
       "      <td>3</td>\n",
       "      <td>4</td>\n",
       "      <td>3</td>\n",
       "      <td>...</td>\n",
       "      <td>2</td>\n",
       "      <td>5</td>\n",
       "      <td>3</td>\n",
       "      <td>2</td>\n",
       "      <td>4</td>\n",
       "      <td>4</td>\n",
       "      <td>4</td>\n",
       "      <td>5</td>\n",
       "      <td>0</td>\n",
       "      <td>0.0</td>\n",
       "    </tr>\n",
       "    <tr>\n",
       "      <th>69242</th>\n",
       "      <td>0</td>\n",
       "      <td>Male</td>\n",
       "      <td>Loyal Customer</td>\n",
       "      <td>27</td>\n",
       "      <td>Business travel</td>\n",
       "      <td>Business</td>\n",
       "      <td>1825</td>\n",
       "      <td>2</td>\n",
       "      <td>3</td>\n",
       "      <td>4</td>\n",
       "      <td>...</td>\n",
       "      <td>2</td>\n",
       "      <td>2</td>\n",
       "      <td>1</td>\n",
       "      <td>3</td>\n",
       "      <td>3</td>\n",
       "      <td>1</td>\n",
       "      <td>2</td>\n",
       "      <td>2</td>\n",
       "      <td>76</td>\n",
       "      <td>57.0</td>\n",
       "    </tr>\n",
       "    <tr>\n",
       "      <th>90488</th>\n",
       "      <td>1</td>\n",
       "      <td>Male</td>\n",
       "      <td>Loyal Customer</td>\n",
       "      <td>50</td>\n",
       "      <td>Business travel</td>\n",
       "      <td>Eco</td>\n",
       "      <td>2024</td>\n",
       "      <td>4</td>\n",
       "      <td>4</td>\n",
       "      <td>2</td>\n",
       "      <td>...</td>\n",
       "      <td>4</td>\n",
       "      <td>4</td>\n",
       "      <td>2</td>\n",
       "      <td>5</td>\n",
       "      <td>4</td>\n",
       "      <td>2</td>\n",
       "      <td>4</td>\n",
       "      <td>4</td>\n",
       "      <td>125</td>\n",
       "      <td>129.0</td>\n",
       "    </tr>\n",
       "    <tr>\n",
       "      <th>36205</th>\n",
       "      <td>0</td>\n",
       "      <td>Male</td>\n",
       "      <td>Loyal Customer</td>\n",
       "      <td>70</td>\n",
       "      <td>Personal Travel</td>\n",
       "      <td>Eco</td>\n",
       "      <td>1435</td>\n",
       "      <td>4</td>\n",
       "      <td>4</td>\n",
       "      <td>4</td>\n",
       "      <td>...</td>\n",
       "      <td>5</td>\n",
       "      <td>5</td>\n",
       "      <td>5</td>\n",
       "      <td>4</td>\n",
       "      <td>5</td>\n",
       "      <td>4</td>\n",
       "      <td>4</td>\n",
       "      <td>5</td>\n",
       "      <td>0</td>\n",
       "      <td>0.0</td>\n",
       "    </tr>\n",
       "    <tr>\n",
       "      <th>...</th>\n",
       "      <td>...</td>\n",
       "      <td>...</td>\n",
       "      <td>...</td>\n",
       "      <td>...</td>\n",
       "      <td>...</td>\n",
       "      <td>...</td>\n",
       "      <td>...</td>\n",
       "      <td>...</td>\n",
       "      <td>...</td>\n",
       "      <td>...</td>\n",
       "      <td>...</td>\n",
       "      <td>...</td>\n",
       "      <td>...</td>\n",
       "      <td>...</td>\n",
       "      <td>...</td>\n",
       "      <td>...</td>\n",
       "      <td>...</td>\n",
       "      <td>...</td>\n",
       "      <td>...</td>\n",
       "      <td>...</td>\n",
       "      <td>...</td>\n",
       "    </tr>\n",
       "    <tr>\n",
       "      <th>54077</th>\n",
       "      <td>0</td>\n",
       "      <td>Female</td>\n",
       "      <td>disloyal Customer</td>\n",
       "      <td>28</td>\n",
       "      <td>Business travel</td>\n",
       "      <td>Business</td>\n",
       "      <td>1589</td>\n",
       "      <td>3</td>\n",
       "      <td>3</td>\n",
       "      <td>3</td>\n",
       "      <td>...</td>\n",
       "      <td>1</td>\n",
       "      <td>1</td>\n",
       "      <td>3</td>\n",
       "      <td>4</td>\n",
       "      <td>4</td>\n",
       "      <td>4</td>\n",
       "      <td>4</td>\n",
       "      <td>1</td>\n",
       "      <td>0</td>\n",
       "      <td>0.0</td>\n",
       "    </tr>\n",
       "    <tr>\n",
       "      <th>113068</th>\n",
       "      <td>1</td>\n",
       "      <td>Female</td>\n",
       "      <td>Loyal Customer</td>\n",
       "      <td>33</td>\n",
       "      <td>Business travel</td>\n",
       "      <td>Business</td>\n",
       "      <td>224</td>\n",
       "      <td>5</td>\n",
       "      <td>5</td>\n",
       "      <td>5</td>\n",
       "      <td>...</td>\n",
       "      <td>5</td>\n",
       "      <td>5</td>\n",
       "      <td>5</td>\n",
       "      <td>5</td>\n",
       "      <td>4</td>\n",
       "      <td>5</td>\n",
       "      <td>5</td>\n",
       "      <td>3</td>\n",
       "      <td>0</td>\n",
       "      <td>0.0</td>\n",
       "    </tr>\n",
       "    <tr>\n",
       "      <th>1425</th>\n",
       "      <td>0</td>\n",
       "      <td>Male</td>\n",
       "      <td>Loyal Customer</td>\n",
       "      <td>62</td>\n",
       "      <td>Personal Travel</td>\n",
       "      <td>Eco Plus</td>\n",
       "      <td>3375</td>\n",
       "      <td>1</td>\n",
       "      <td>1</td>\n",
       "      <td>1</td>\n",
       "      <td>...</td>\n",
       "      <td>1</td>\n",
       "      <td>1</td>\n",
       "      <td>4</td>\n",
       "      <td>1</td>\n",
       "      <td>4</td>\n",
       "      <td>1</td>\n",
       "      <td>4</td>\n",
       "      <td>1</td>\n",
       "      <td>12</td>\n",
       "      <td>0.0</td>\n",
       "    </tr>\n",
       "    <tr>\n",
       "      <th>77485</th>\n",
       "      <td>1</td>\n",
       "      <td>Male</td>\n",
       "      <td>Loyal Customer</td>\n",
       "      <td>39</td>\n",
       "      <td>Business travel</td>\n",
       "      <td>Business</td>\n",
       "      <td>1421</td>\n",
       "      <td>4</td>\n",
       "      <td>4</td>\n",
       "      <td>4</td>\n",
       "      <td>...</td>\n",
       "      <td>4</td>\n",
       "      <td>2</td>\n",
       "      <td>2</td>\n",
       "      <td>2</td>\n",
       "      <td>2</td>\n",
       "      <td>3</td>\n",
       "      <td>2</td>\n",
       "      <td>4</td>\n",
       "      <td>0</td>\n",
       "      <td>0.0</td>\n",
       "    </tr>\n",
       "    <tr>\n",
       "      <th>14770</th>\n",
       "      <td>0</td>\n",
       "      <td>Male</td>\n",
       "      <td>Loyal Customer</td>\n",
       "      <td>8</td>\n",
       "      <td>Personal Travel</td>\n",
       "      <td>Eco</td>\n",
       "      <td>2738</td>\n",
       "      <td>2</td>\n",
       "      <td>4</td>\n",
       "      <td>2</td>\n",
       "      <td>...</td>\n",
       "      <td>4</td>\n",
       "      <td>4</td>\n",
       "      <td>4</td>\n",
       "      <td>5</td>\n",
       "      <td>5</td>\n",
       "      <td>4</td>\n",
       "      <td>5</td>\n",
       "      <td>4</td>\n",
       "      <td>0</td>\n",
       "      <td>0.0</td>\n",
       "    </tr>\n",
       "  </tbody>\n",
       "</table>\n",
       "<p>77692 rows × 23 columns</p>\n",
       "</div>"
      ],
      "text/plain": [
       "        satisfaction  Gender      Customer Type  Age   Type of Travel  \\\n",
       "98180              1    Male     Loyal Customer   37  Business travel   \n",
       "24974              0    Male     Loyal Customer   60  Personal Travel   \n",
       "69242              0    Male     Loyal Customer   27  Business travel   \n",
       "90488              1    Male     Loyal Customer   50  Business travel   \n",
       "36205              0    Male     Loyal Customer   70  Personal Travel   \n",
       "...              ...     ...                ...  ...              ...   \n",
       "54077              0  Female  disloyal Customer   28  Business travel   \n",
       "113068             1  Female     Loyal Customer   33  Business travel   \n",
       "1425               0    Male     Loyal Customer   62  Personal Travel   \n",
       "77485              1    Male     Loyal Customer   39  Business travel   \n",
       "14770              0    Male     Loyal Customer    8  Personal Travel   \n",
       "\n",
       "           Class  Flight Distance  Seat comfort  \\\n",
       "98180   Business             3785             4   \n",
       "24974        Eco             1784             3   \n",
       "69242   Business             1825             2   \n",
       "90488        Eco             2024             4   \n",
       "36205        Eco             1435             4   \n",
       "...          ...              ...           ...   \n",
       "54077   Business             1589             3   \n",
       "113068  Business              224             5   \n",
       "1425    Eco Plus             3375             1   \n",
       "77485   Business             1421             4   \n",
       "14770        Eco             2738             2   \n",
       "\n",
       "        Departure_Arrival time convenient  Food and drink  ...  \\\n",
       "98180                                   4               4  ...   \n",
       "24974                                   4               3  ...   \n",
       "69242                                   3               4  ...   \n",
       "90488                                   4               2  ...   \n",
       "36205                                   4               4  ...   \n",
       "...                                   ...             ...  ...   \n",
       "54077                                   3               3  ...   \n",
       "113068                                  5               5  ...   \n",
       "1425                                    1               1  ...   \n",
       "77485                                   4               4  ...   \n",
       "14770                                   4               2  ...   \n",
       "\n",
       "        Online support  Ease of Online booking  Onboard service  \\\n",
       "98180                4                       4                4   \n",
       "24974                2                       5                3   \n",
       "69242                2                       2                1   \n",
       "90488                4                       4                2   \n",
       "36205                5                       5                5   \n",
       "...                ...                     ...              ...   \n",
       "54077                1                       1                3   \n",
       "113068               5                       5                5   \n",
       "1425                 1                       1                4   \n",
       "77485                4                       2                2   \n",
       "14770                4                       4                4   \n",
       "\n",
       "        Leg room service  Baggage handling  Checkin service  Cleanliness  \\\n",
       "98180                  4                 4                5            4   \n",
       "24974                  2                 4                4            4   \n",
       "69242                  3                 3                1            2   \n",
       "90488                  5                 4                2            4   \n",
       "36205                  4                 5                4            4   \n",
       "...                  ...               ...              ...          ...   \n",
       "54077                  4                 4                4            4   \n",
       "113068                 5                 4                5            5   \n",
       "1425                   1                 4                1            4   \n",
       "77485                  2                 2                3            2   \n",
       "14770                  5                 5                4            5   \n",
       "\n",
       "        Online boarding  Departure Delay in Minutes  Arrival Delay in Minutes  \n",
       "98180                 4                           1                       9.0  \n",
       "24974                 5                           0                       0.0  \n",
       "69242                 2                          76                      57.0  \n",
       "90488                 4                         125                     129.0  \n",
       "36205                 5                           0                       0.0  \n",
       "...                 ...                         ...                       ...  \n",
       "54077                 1                           0                       0.0  \n",
       "113068                3                           0                       0.0  \n",
       "1425                  1                          12                       0.0  \n",
       "77485                 4                           0                       0.0  \n",
       "14770                 4                           0                       0.0  \n",
       "\n",
       "[77692 rows x 23 columns]"
      ]
     },
     "execution_count": 67,
     "metadata": {},
     "output_type": "execute_result"
    }
   ],
   "source": [
    "train"
   ]
  },
  {
   "cell_type": "code",
   "execution_count": 68,
   "metadata": {},
   "outputs": [
    {
     "name": "stderr",
     "output_type": "stream",
     "text": [
      "\u001b[34m\u001b[1mwandb\u001b[0m: wandb version 0.12.7 is available!  To upgrade, please run:\n",
      "\u001b[34m\u001b[1mwandb\u001b[0m:  $ pip install wandb --upgrade\n"
     ]
    },
    {
     "data": {
      "text/html": [
       "\n",
       "                    Syncing run <strong><a href=\"https://wandb.ai/rahav-manoharan/mlops-project-new/runs/21u17bc5\" target=\"_blank\">quiet-durian-5</a></strong> to <a href=\"https://wandb.ai/rahav-manoharan/mlops-project-new\" target=\"_blank\">Weights & Biases</a> (<a href=\"https://docs.wandb.com/integrations/jupyter.html\" target=\"_blank\">docs</a>).<br/>\n",
       "\n",
       "                "
      ],
      "text/plain": [
       "<IPython.core.display.HTML object>"
      ]
     },
     "metadata": {},
     "output_type": "display_data"
    },
    {
     "name": "stderr",
     "output_type": "stream",
     "text": [
      "\u001b[34m\u001b[1mwandb\u001b[0m: \n",
      "\u001b[34m\u001b[1mwandb\u001b[0m: Plotting DecisionTreeWithTarget.\n",
      "\u001b[34m\u001b[1mwandb\u001b[0m: Logged feature importances.\n",
      "\u001b[34m\u001b[1mwandb\u001b[0m: Logged confusion matrix.\n",
      "\u001b[34m\u001b[1mwandb\u001b[0m: \u001b[32m\u001b[41mERROR\u001b[0m X contains values that are not numbers. Please vectorize, label encode or one hot encode X and call the plotting function again.\n",
      "\u001b[34m\u001b[1mwandb\u001b[0m: \u001b[32m\u001b[41mERROR\u001b[0m X_test contains values that are not numbers. Please vectorize, label encode or one hot encode X_test and call the plotting function again.\n",
      "\u001b[34m\u001b[1mwandb\u001b[0m: Logged summary metrics.\n",
      "\u001b[34m\u001b[1mwandb\u001b[0m: Logged class proportions.\n",
      "\u001b[34m\u001b[1mwandb\u001b[0m: \u001b[32m\u001b[41mERROR\u001b[0m X contains values that are not numbers. Please vectorize, label encode or one hot encode X and call the plotting function again.\n",
      "\u001b[34m\u001b[1mwandb\u001b[0m: Logged calibration curve.\n",
      "\u001b[34m\u001b[1mwandb\u001b[0m: Logged roc curve.\n",
      "\u001b[34m\u001b[1mwandb\u001b[0m: Logged precision recall curve.\n",
      "\u001b[34m\u001b[1mwandb\u001b[0m: \u001b[33mWARNING\u001b[0m Calling run.save without any arguments is deprecated.Changes to attributes are automatically persisted.\n"
     ]
    },
    {
     "data": {
      "text/html": [
       "<br/>Waiting for W&B process to finish, PID 12280... <strong style=\"color:green\">(success).</strong>"
      ],
      "text/plain": [
       "<IPython.core.display.HTML object>"
      ]
     },
     "metadata": {},
     "output_type": "display_data"
    },
    {
     "data": {
      "application/vnd.jupyter.widget-view+json": {
       "model_id": "fe6127486fcb41eea0144136c920fe15",
       "version_major": 2,
       "version_minor": 0
      },
      "text/plain": [
       "VBox(children=(Label(value=' 0.02MB of 0.02MB uploaded (0.00MB deduped)\\r'), FloatProgress(value=1.0, max=1.0)…"
      ]
     },
     "metadata": {},
     "output_type": "display_data"
    },
    {
     "data": {
      "text/html": [
       "<style>\n",
       "    table.wandb td:nth-child(1) { padding: 0 10px; text-align: right }\n",
       "    .wandb-row { display: flex; flex-direction: row; flex-wrap: wrap; width: 100% }\n",
       "    .wandb-col { display: flex; flex-direction: column; flex-basis: 100%; flex: 1; padding: 10px; }\n",
       "    </style>\n",
       "<div class=\"wandb-row\"><div class=\"wandb-col\">\n",
       "<h3>Run history:</h3><br/><table class=\"wandb\"><tr><td>accuracy</td><td>▁</td></tr><tr><td>precision</td><td>▁</td></tr><tr><td>sensitivity</td><td>▁</td></tr><tr><td>specificity</td><td>▁</td></tr></table><br/></div><div class=\"wandb-col\">\n",
       "<h3>Run summary:</h3><br/><table class=\"wandb\"><tr><td>accuracy</td><td>0.93</td></tr><tr><td>precision</td><td>0.9</td></tr><tr><td>sensitivity</td><td>0.94</td></tr><tr><td>specificity</td><td>0.92</td></tr></table>\n",
       "</div></div>\n",
       "Synced 5 W&B file(s), 5 media file(s), 5 artifact file(s) and 0 other file(s)\n",
       "<br/>Synced <strong style=\"color:#cdcd00\">quiet-durian-5</strong>: <a href=\"https://wandb.ai/rahav-manoharan/mlops-project-new/runs/21u17bc5\" target=\"_blank\">https://wandb.ai/rahav-manoharan/mlops-project-new/runs/21u17bc5</a><br/>\n",
       "Find logs at: <code>.\\wandb\\run-20211207_153511-21u17bc5\\logs</code><br/>\n"
      ],
      "text/plain": [
       "<IPython.core.display.HTML object>"
      ]
     },
     "metadata": {},
     "output_type": "display_data"
    }
   ],
   "source": [
    "dt_target_model = tree.DecisionTreeClassifier(max_depth=10)\n",
    "\n",
    "dt_target_model = run_model_experiment(train, dt_target_model, \"DecisionTreeWithTarget\", preprocessor, encoder=encoder2, tags=[\"DecisionTree\", \"Target\"])"
   ]
  },
  {
   "cell_type": "markdown",
   "metadata": {},
   "source": [
    "## RandomForest with Target"
   ]
  },
  {
   "cell_type": "code",
   "execution_count": 69,
   "metadata": {},
   "outputs": [
    {
     "name": "stderr",
     "output_type": "stream",
     "text": [
      "\u001b[34m\u001b[1mwandb\u001b[0m: wandb version 0.12.7 is available!  To upgrade, please run:\n",
      "\u001b[34m\u001b[1mwandb\u001b[0m:  $ pip install wandb --upgrade\n"
     ]
    },
    {
     "data": {
      "text/html": [
       "\n",
       "                    Syncing run <strong><a href=\"https://wandb.ai/rahav-manoharan/mlops-project-new/runs/2c9vwkwx\" target=\"_blank\">earthy-snowflake-6</a></strong> to <a href=\"https://wandb.ai/rahav-manoharan/mlops-project-new\" target=\"_blank\">Weights & Biases</a> (<a href=\"https://docs.wandb.com/integrations/jupyter.html\" target=\"_blank\">docs</a>).<br/>\n",
       "\n",
       "                "
      ],
      "text/plain": [
       "<IPython.core.display.HTML object>"
      ]
     },
     "metadata": {},
     "output_type": "display_data"
    },
    {
     "name": "stderr",
     "output_type": "stream",
     "text": [
      "\u001b[34m\u001b[1mwandb\u001b[0m: \n",
      "\u001b[34m\u001b[1mwandb\u001b[0m: Plotting RandomForestTarget.\n",
      "\u001b[34m\u001b[1mwandb\u001b[0m: Logged feature importances.\n",
      "\u001b[34m\u001b[1mwandb\u001b[0m: Logged confusion matrix.\n",
      "\u001b[34m\u001b[1mwandb\u001b[0m: \u001b[32m\u001b[41mERROR\u001b[0m X contains values that are not numbers. Please vectorize, label encode or one hot encode X and call the plotting function again.\n",
      "\u001b[34m\u001b[1mwandb\u001b[0m: \u001b[32m\u001b[41mERROR\u001b[0m X_test contains values that are not numbers. Please vectorize, label encode or one hot encode X_test and call the plotting function again.\n",
      "\u001b[34m\u001b[1mwandb\u001b[0m: Logged summary metrics.\n",
      "\u001b[34m\u001b[1mwandb\u001b[0m: Logged class proportions.\n",
      "\u001b[34m\u001b[1mwandb\u001b[0m: \u001b[32m\u001b[41mERROR\u001b[0m X contains values that are not numbers. Please vectorize, label encode or one hot encode X and call the plotting function again.\n",
      "\u001b[34m\u001b[1mwandb\u001b[0m: Logged calibration curve.\n",
      "\u001b[34m\u001b[1mwandb\u001b[0m: Logged roc curve.\n",
      "\u001b[34m\u001b[1mwandb\u001b[0m: Logged precision recall curve.\n",
      "\u001b[34m\u001b[1mwandb\u001b[0m: \u001b[33mWARNING\u001b[0m Calling run.save without any arguments is deprecated.Changes to attributes are automatically persisted.\n"
     ]
    },
    {
     "data": {
      "text/html": [
       "<br/>Waiting for W&B process to finish, PID 7144... <strong style=\"color:green\">(success).</strong>"
      ],
      "text/plain": [
       "<IPython.core.display.HTML object>"
      ]
     },
     "metadata": {},
     "output_type": "display_data"
    },
    {
     "data": {
      "application/vnd.jupyter.widget-view+json": {
       "model_id": "4a0a8cbbae924a5da6cfad9d764dbca3",
       "version_major": 2,
       "version_minor": 0
      },
      "text/plain": [
       "VBox(children=(Label(value=' 0.27MB of 0.27MB uploaded (0.00MB deduped)\\r'), FloatProgress(value=1.0, max=1.0)…"
      ]
     },
     "metadata": {},
     "output_type": "display_data"
    },
    {
     "data": {
      "text/html": [
       "<style>\n",
       "    table.wandb td:nth-child(1) { padding: 0 10px; text-align: right }\n",
       "    .wandb-row { display: flex; flex-direction: row; flex-wrap: wrap; width: 100% }\n",
       "    .wandb-col { display: flex; flex-direction: column; flex-basis: 100%; flex: 1; padding: 10px; }\n",
       "    </style>\n",
       "<div class=\"wandb-row\"><div class=\"wandb-col\">\n",
       "<h3>Run history:</h3><br/><table class=\"wandb\"><tr><td>accuracy</td><td>▁</td></tr><tr><td>precision</td><td>▁</td></tr><tr><td>sensitivity</td><td>▁</td></tr><tr><td>specificity</td><td>▁</td></tr></table><br/></div><div class=\"wandb-col\">\n",
       "<h3>Run summary:</h3><br/><table class=\"wandb\"><tr><td>accuracy</td><td>0.9</td></tr><tr><td>precision</td><td>0.9</td></tr><tr><td>sensitivity</td><td>0.89</td></tr><tr><td>specificity</td><td>0.92</td></tr></table>\n",
       "</div></div>\n",
       "Synced 5 W&B file(s), 5 media file(s), 5 artifact file(s) and 0 other file(s)\n",
       "<br/>Synced <strong style=\"color:#cdcd00\">earthy-snowflake-6</strong>: <a href=\"https://wandb.ai/rahav-manoharan/mlops-project-new/runs/2c9vwkwx\" target=\"_blank\">https://wandb.ai/rahav-manoharan/mlops-project-new/runs/2c9vwkwx</a><br/>\n",
       "Find logs at: <code>.\\wandb\\run-20211207_153552-2c9vwkwx\\logs</code><br/>\n"
      ],
      "text/plain": [
       "<IPython.core.display.HTML object>"
      ]
     },
     "metadata": {},
     "output_type": "display_data"
    }
   ],
   "source": [
    "params = {'bootstrap': True, \n",
    "        'criterion': 'gini',\n",
    "        'max_depth': 15, \n",
    "        'max_features': 'auto',\n",
    "        'min_impurity_decrease': 0.001,\n",
    "        'min_samples_leaf': 30, \n",
    "        'min_samples_split': 50,\n",
    "        'class_weight': \"balanced_subsample\",\n",
    "        'n_estimators': 200,\n",
    "        'oob_score': True, \n",
    "        'random_state': 16, \n",
    "        'verbose': 0,\n",
    "        'warm_start': False}\n",
    "\n",
    "sweep_config = {\n",
    "  \"name\" : \"rf_sweep\",\n",
    "  \"method\" : \"random\",\n",
    "  \"parameters\" : {\n",
    "    \"n_estimators\" : {\n",
    "      \"values\" : [100, 200, 300]\n",
    "      },\n",
    "    \"max_depth\" :{\n",
    "      \"values\" : [7, 10, 15]\n",
    "      },\n",
    "    \"min_sample_split\" :{\n",
    "      \"values\" : [50, 75, 100]\n",
    "      }\n",
    "   }\n",
    "}\n",
    "\n",
    "rf_target_model = ensemble.RandomForestClassifier(**params)\n",
    "\n",
    "rf_target_model = run_model_experiment(train, rf_target_model, \"RandomForestTarget\", preprocessor, encoder=encoder2, config = params, tags=[\"RandomForest\", \"Target\"])"
   ]
  },
  {
   "cell_type": "markdown",
   "metadata": {},
   "source": [
    "## Logistic Regression with Target Encoding"
   ]
  },
  {
   "cell_type": "code",
   "execution_count": 70,
   "metadata": {},
   "outputs": [
    {
     "name": "stderr",
     "output_type": "stream",
     "text": [
      "\u001b[34m\u001b[1mwandb\u001b[0m: wandb version 0.12.7 is available!  To upgrade, please run:\n",
      "\u001b[34m\u001b[1mwandb\u001b[0m:  $ pip install wandb --upgrade\n"
     ]
    },
    {
     "data": {
      "text/html": [
       "\n",
       "                    Syncing run <strong><a href=\"https://wandb.ai/rahav-manoharan/mlops-project-new/runs/11e23hw0\" target=\"_blank\">northern-voice-7</a></strong> to <a href=\"https://wandb.ai/rahav-manoharan/mlops-project-new\" target=\"_blank\">Weights & Biases</a> (<a href=\"https://docs.wandb.com/integrations/jupyter.html\" target=\"_blank\">docs</a>).<br/>\n",
       "\n",
       "                "
      ],
      "text/plain": [
       "<IPython.core.display.HTML object>"
      ]
     },
     "metadata": {},
     "output_type": "display_data"
    },
    {
     "name": "stderr",
     "output_type": "stream",
     "text": [
      "\u001b[34m\u001b[1mwandb\u001b[0m: \n",
      "\u001b[34m\u001b[1mwandb\u001b[0m: Plotting LogisticRegressionTarget.\n",
      "\u001b[34m\u001b[1mwandb\u001b[0m: \u001b[33mWARNING\u001b[0m 2-dimensional feature importances array passed to plot_feature_importances. 2-dimensional and higher feature importances arrays are not currently supported. These importances will not be plotted.\n",
      "\u001b[34m\u001b[1mwandb\u001b[0m: Logged feature importances.\n",
      "\u001b[34m\u001b[1mwandb\u001b[0m: Logged confusion matrix.\n",
      "\u001b[34m\u001b[1mwandb\u001b[0m: \u001b[32m\u001b[41mERROR\u001b[0m X contains values that are not numbers. Please vectorize, label encode or one hot encode X and call the plotting function again.\n",
      "\u001b[34m\u001b[1mwandb\u001b[0m: \u001b[32m\u001b[41mERROR\u001b[0m X_test contains values that are not numbers. Please vectorize, label encode or one hot encode X_test and call the plotting function again.\n",
      "\u001b[34m\u001b[1mwandb\u001b[0m: Logged summary metrics.\n",
      "\u001b[34m\u001b[1mwandb\u001b[0m: Logged class proportions.\n",
      "\u001b[34m\u001b[1mwandb\u001b[0m: \u001b[32m\u001b[41mERROR\u001b[0m X contains values that are not numbers. Please vectorize, label encode or one hot encode X and call the plotting function again.\n",
      "\u001b[34m\u001b[1mwandb\u001b[0m: Logged calibration curve.\n",
      "\u001b[34m\u001b[1mwandb\u001b[0m: Logged roc curve.\n",
      "\u001b[34m\u001b[1mwandb\u001b[0m: Logged precision recall curve.\n",
      "\u001b[34m\u001b[1mwandb\u001b[0m: \u001b[33mWARNING\u001b[0m Calling run.save without any arguments is deprecated.Changes to attributes are automatically persisted.\n"
     ]
    },
    {
     "data": {
      "text/html": [
       "<br/>Waiting for W&B process to finish, PID 15628... <strong style=\"color:green\">(success).</strong>"
      ],
      "text/plain": [
       "<IPython.core.display.HTML object>"
      ]
     },
     "metadata": {},
     "output_type": "display_data"
    },
    {
     "data": {
      "application/vnd.jupyter.widget-view+json": {
       "model_id": "7be2462869a24ac690b0d6fde5896d68",
       "version_major": 2,
       "version_minor": 0
      },
      "text/plain": [
       "VBox(children=(Label(value=' 0.29MB of 0.29MB uploaded (0.00MB deduped)\\r'), FloatProgress(value=1.0, max=1.0)…"
      ]
     },
     "metadata": {},
     "output_type": "display_data"
    },
    {
     "data": {
      "text/html": [
       "<style>\n",
       "    table.wandb td:nth-child(1) { padding: 0 10px; text-align: right }\n",
       "    .wandb-row { display: flex; flex-direction: row; flex-wrap: wrap; width: 100% }\n",
       "    .wandb-col { display: flex; flex-direction: column; flex-basis: 100%; flex: 1; padding: 10px; }\n",
       "    </style>\n",
       "<div class=\"wandb-row\"><div class=\"wandb-col\">\n",
       "<h3>Run history:</h3><br/><table class=\"wandb\"><tr><td>accuracy</td><td>▁</td></tr><tr><td>precision</td><td>▁</td></tr><tr><td>sensitivity</td><td>▁</td></tr><tr><td>specificity</td><td>▁</td></tr></table><br/></div><div class=\"wandb-col\">\n",
       "<h3>Run summary:</h3><br/><table class=\"wandb\"><tr><td>accuracy</td><td>0.82</td></tr><tr><td>precision</td><td>0.8</td></tr><tr><td>sensitivity</td><td>0.79</td></tr><tr><td>specificity</td><td>0.84</td></tr></table>\n",
       "</div></div>\n",
       "Synced 5 W&B file(s), 4 media file(s), 4 artifact file(s) and 0 other file(s)\n",
       "<br/>Synced <strong style=\"color:#cdcd00\">northern-voice-7</strong>: <a href=\"https://wandb.ai/rahav-manoharan/mlops-project-new/runs/11e23hw0\" target=\"_blank\">https://wandb.ai/rahav-manoharan/mlops-project-new/runs/11e23hw0</a><br/>\n",
       "Find logs at: <code>.\\wandb\\run-20211207_153619-11e23hw0\\logs</code><br/>\n"
      ],
      "text/plain": [
       "<IPython.core.display.HTML object>"
      ]
     },
     "metadata": {},
     "output_type": "display_data"
    }
   ],
   "source": [
    "lr_target_model = LogisticRegression(max_iter=10000)\n",
    "\n",
    "lr_target_model = run_model_experiment(train, lr_target_model, \"LogisticRegressionTarget\", preprocessor, encoder=encoder2, config = params, tags=[\"LoristicRegression\", \"Target\"])"
   ]
  },
  {
   "cell_type": "markdown",
   "metadata": {},
   "source": [
    "## XGBoost with Target Encoding"
   ]
  },
  {
   "cell_type": "code",
   "execution_count": 71,
   "metadata": {},
   "outputs": [
    {
     "name": "stderr",
     "output_type": "stream",
     "text": [
      "C:\\Users\\ADMIN\\.conda\\envs\\mlopslab\\lib\\site-packages\\xgboost\\sklearn.py:1224: UserWarning: The use of label encoder in XGBClassifier is deprecated and will be removed in a future release. To remove this warning, do the following: 1) Pass option use_label_encoder=False when constructing XGBClassifier object; and 2) Encode your labels (y) as integers starting with 0, i.e. 0, 1, 2, ..., [num_class - 1].\n",
      "  warnings.warn(label_encoder_deprecation_msg, UserWarning)\n"
     ]
    },
    {
     "name": "stdout",
     "output_type": "stream",
     "text": [
      "[15:36:44] WARNING: D:\\bld\\xgboost-split_1637426510059\\work\\src\\learner.cc:1115: Starting in XGBoost 1.3.0, the default evaluation metric used with the objective 'binary:logistic' was changed from 'error' to 'logloss'. Explicitly set eval_metric if you'd like to restore the old behavior.\n"
     ]
    },
    {
     "name": "stderr",
     "output_type": "stream",
     "text": [
      "\u001b[34m\u001b[1mwandb\u001b[0m: wandb version 0.12.7 is available!  To upgrade, please run:\n",
      "\u001b[34m\u001b[1mwandb\u001b[0m:  $ pip install wandb --upgrade\n"
     ]
    },
    {
     "data": {
      "text/html": [
       "\n",
       "                    Syncing run <strong><a href=\"https://wandb.ai/rahav-manoharan/mlops-project-new/runs/27dpcevx\" target=\"_blank\">golden-capybara-8</a></strong> to <a href=\"https://wandb.ai/rahav-manoharan/mlops-project-new\" target=\"_blank\">Weights & Biases</a> (<a href=\"https://docs.wandb.com/integrations/jupyter.html\" target=\"_blank\">docs</a>).<br/>\n",
       "\n",
       "                "
      ],
      "text/plain": [
       "<IPython.core.display.HTML object>"
      ]
     },
     "metadata": {},
     "output_type": "display_data"
    },
    {
     "name": "stderr",
     "output_type": "stream",
     "text": [
      "\u001b[34m\u001b[1mwandb\u001b[0m: \n",
      "\u001b[34m\u001b[1mwandb\u001b[0m: Plotting XGBoostTarget.\n",
      "\u001b[34m\u001b[1mwandb\u001b[0m: Logged feature importances.\n",
      "\u001b[34m\u001b[1mwandb\u001b[0m: Logged confusion matrix.\n",
      "\u001b[34m\u001b[1mwandb\u001b[0m: \u001b[32m\u001b[41mERROR\u001b[0m X contains values that are not numbers. Please vectorize, label encode or one hot encode X and call the plotting function again.\n",
      "\u001b[34m\u001b[1mwandb\u001b[0m: \u001b[32m\u001b[41mERROR\u001b[0m X_test contains values that are not numbers. Please vectorize, label encode or one hot encode X_test and call the plotting function again.\n",
      "\u001b[34m\u001b[1mwandb\u001b[0m: Logged summary metrics.\n",
      "\u001b[34m\u001b[1mwandb\u001b[0m: Logged class proportions.\n",
      "\u001b[34m\u001b[1mwandb\u001b[0m: \u001b[32m\u001b[41mERROR\u001b[0m X contains values that are not numbers. Please vectorize, label encode or one hot encode X and call the plotting function again.\n",
      "\u001b[34m\u001b[1mwandb\u001b[0m: Logged calibration curve.\n",
      "\u001b[34m\u001b[1mwandb\u001b[0m: Logged roc curve.\n",
      "\u001b[34m\u001b[1mwandb\u001b[0m: Logged precision recall curve.\n",
      "\u001b[34m\u001b[1mwandb\u001b[0m: \u001b[33mWARNING\u001b[0m Calling run.save without any arguments is deprecated.Changes to attributes are automatically persisted.\n"
     ]
    },
    {
     "data": {
      "text/html": [
       "<br/>Waiting for W&B process to finish, PID 11752... <strong style=\"color:green\">(success).</strong>"
      ],
      "text/plain": [
       "<IPython.core.display.HTML object>"
      ]
     },
     "metadata": {},
     "output_type": "display_data"
    },
    {
     "data": {
      "application/vnd.jupyter.widget-view+json": {
       "model_id": "15d3644f279a41d4830eb6c95d951a47",
       "version_major": 2,
       "version_minor": 0
      },
      "text/plain": [
       "VBox(children=(Label(value=' 0.18MB of 0.18MB uploaded (0.00MB deduped)\\r'), FloatProgress(value=1.0, max=1.0)…"
      ]
     },
     "metadata": {},
     "output_type": "display_data"
    },
    {
     "data": {
      "text/html": [
       "<style>\n",
       "    table.wandb td:nth-child(1) { padding: 0 10px; text-align: right }\n",
       "    .wandb-row { display: flex; flex-direction: row; flex-wrap: wrap; width: 100% }\n",
       "    .wandb-col { display: flex; flex-direction: column; flex-basis: 100%; flex: 1; padding: 10px; }\n",
       "    </style>\n",
       "<div class=\"wandb-row\"><div class=\"wandb-col\">\n",
       "<h3>Run history:</h3><br/><table class=\"wandb\"><tr><td>accuracy</td><td>▁</td></tr><tr><td>precision</td><td>▁</td></tr><tr><td>sensitivity</td><td>▁</td></tr><tr><td>specificity</td><td>▁</td></tr></table><br/></div><div class=\"wandb-col\">\n",
       "<h3>Run summary:</h3><br/><table class=\"wandb\"><tr><td>accuracy</td><td>0.96</td></tr><tr><td>precision</td><td>0.94</td></tr><tr><td>sensitivity</td><td>0.96</td></tr><tr><td>specificity</td><td>0.95</td></tr></table>\n",
       "</div></div>\n",
       "Synced 5 W&B file(s), 5 media file(s), 5 artifact file(s) and 0 other file(s)\n",
       "<br/>Synced <strong style=\"color:#cdcd00\">golden-capybara-8</strong>: <a href=\"https://wandb.ai/rahav-manoharan/mlops-project-new/runs/27dpcevx\" target=\"_blank\">https://wandb.ai/rahav-manoharan/mlops-project-new/runs/27dpcevx</a><br/>\n",
       "Find logs at: <code>.\\wandb\\run-20211207_153720-27dpcevx\\logs</code><br/>\n"
      ],
      "text/plain": [
       "<IPython.core.display.HTML object>"
      ]
     },
     "metadata": {},
     "output_type": "display_data"
    }
   ],
   "source": [
    "xgb_target_model = XGBClassifier(learning_rate =0.1,\n",
    "                    n_estimators=500,\n",
    "                    max_depth=20,\n",
    "                    min_child_weight=1,\n",
    "                    gamma=0,\n",
    "                    subsample=0.8,\n",
    "                    colsample_bytree=0.8,\n",
    "                    objective= 'binary:logistic',\n",
    "                    nthread=4,\n",
    "                    scale_pos_weight=1,\n",
    "                    seed=16)\n",
    "\n",
    "xgb_target_model = run_model_experiment(train, xgb_target_model, \"XGBoostTarget\", preprocessor, encoder=encoder2, config = params, tags=[\"XGBoost\", \"Target\"])"
   ]
  },
  {
   "cell_type": "markdown",
   "metadata": {},
   "source": [
    "# Weight of Evidence Encoding"
   ]
  },
  {
   "cell_type": "code",
   "execution_count": 72,
   "metadata": {},
   "outputs": [],
   "source": [
    "preprocessor = ColumnTransformer(\n",
    "    transformers=[        \n",
    "        ('num', numeric_transformer, numerical_features),\n",
    "        ('cat', encoder3, categorical_features)\n",
    "        ])"
   ]
  },
  {
   "cell_type": "markdown",
   "metadata": {},
   "source": [
    "## DecisionTree with WoE Encoding"
   ]
  },
  {
   "cell_type": "code",
   "execution_count": 73,
   "metadata": {},
   "outputs": [
    {
     "name": "stderr",
     "output_type": "stream",
     "text": [
      "\u001b[34m\u001b[1mwandb\u001b[0m: wandb version 0.12.7 is available!  To upgrade, please run:\n",
      "\u001b[34m\u001b[1mwandb\u001b[0m:  $ pip install wandb --upgrade\n"
     ]
    },
    {
     "data": {
      "text/html": [
       "\n",
       "                    Syncing run <strong><a href=\"https://wandb.ai/rahav-manoharan/mlops-project-new/runs/15djww30\" target=\"_blank\">lyric-planet-9</a></strong> to <a href=\"https://wandb.ai/rahav-manoharan/mlops-project-new\" target=\"_blank\">Weights & Biases</a> (<a href=\"https://docs.wandb.com/integrations/jupyter.html\" target=\"_blank\">docs</a>).<br/>\n",
       "\n",
       "                "
      ],
      "text/plain": [
       "<IPython.core.display.HTML object>"
      ]
     },
     "metadata": {},
     "output_type": "display_data"
    },
    {
     "name": "stderr",
     "output_type": "stream",
     "text": [
      "\u001b[34m\u001b[1mwandb\u001b[0m: \n",
      "\u001b[34m\u001b[1mwandb\u001b[0m: Plotting DecisionTreeWithWoE.\n",
      "\u001b[34m\u001b[1mwandb\u001b[0m: Logged feature importances.\n",
      "\u001b[34m\u001b[1mwandb\u001b[0m: Logged confusion matrix.\n",
      "\u001b[34m\u001b[1mwandb\u001b[0m: \u001b[32m\u001b[41mERROR\u001b[0m X contains values that are not numbers. Please vectorize, label encode or one hot encode X and call the plotting function again.\n",
      "\u001b[34m\u001b[1mwandb\u001b[0m: \u001b[32m\u001b[41mERROR\u001b[0m X_test contains values that are not numbers. Please vectorize, label encode or one hot encode X_test and call the plotting function again.\n",
      "\u001b[34m\u001b[1mwandb\u001b[0m: Logged summary metrics.\n",
      "\u001b[34m\u001b[1mwandb\u001b[0m: Logged class proportions.\n",
      "\u001b[34m\u001b[1mwandb\u001b[0m: \u001b[32m\u001b[41mERROR\u001b[0m X contains values that are not numbers. Please vectorize, label encode or one hot encode X and call the plotting function again.\n",
      "\u001b[34m\u001b[1mwandb\u001b[0m: Logged calibration curve.\n",
      "\u001b[34m\u001b[1mwandb\u001b[0m: Logged roc curve.\n",
      "\u001b[34m\u001b[1mwandb\u001b[0m: Logged precision recall curve.\n",
      "\u001b[34m\u001b[1mwandb\u001b[0m: \u001b[33mWARNING\u001b[0m Calling run.save without any arguments is deprecated.Changes to attributes are automatically persisted.\n"
     ]
    },
    {
     "data": {
      "text/html": [
       "<br/>Waiting for W&B process to finish, PID 13684... <strong style=\"color:green\">(success).</strong>"
      ],
      "text/plain": [
       "<IPython.core.display.HTML object>"
      ]
     },
     "metadata": {},
     "output_type": "display_data"
    },
    {
     "data": {
      "application/vnd.jupyter.widget-view+json": {
       "model_id": "8240e96a19c6430cb2057b6ede9d3fa3",
       "version_major": 2,
       "version_minor": 0
      },
      "text/plain": [
       "VBox(children=(Label(value=' 0.02MB of 0.02MB uploaded (0.00MB deduped)\\r'), FloatProgress(value=1.0, max=1.0)…"
      ]
     },
     "metadata": {},
     "output_type": "display_data"
    },
    {
     "data": {
      "text/html": [
       "<style>\n",
       "    table.wandb td:nth-child(1) { padding: 0 10px; text-align: right }\n",
       "    .wandb-row { display: flex; flex-direction: row; flex-wrap: wrap; width: 100% }\n",
       "    .wandb-col { display: flex; flex-direction: column; flex-basis: 100%; flex: 1; padding: 10px; }\n",
       "    </style>\n",
       "<div class=\"wandb-row\"><div class=\"wandb-col\">\n",
       "<h3>Run history:</h3><br/><table class=\"wandb\"><tr><td>accuracy</td><td>▁</td></tr><tr><td>precision</td><td>▁</td></tr><tr><td>sensitivity</td><td>▁</td></tr><tr><td>specificity</td><td>▁</td></tr></table><br/></div><div class=\"wandb-col\">\n",
       "<h3>Run summary:</h3><br/><table class=\"wandb\"><tr><td>accuracy</td><td>0.93</td></tr><tr><td>precision</td><td>0.91</td></tr><tr><td>sensitivity</td><td>0.94</td></tr><tr><td>specificity</td><td>0.92</td></tr></table>\n",
       "</div></div>\n",
       "Synced 5 W&B file(s), 5 media file(s), 5 artifact file(s) and 0 other file(s)\n",
       "<br/>Synced <strong style=\"color:#cdcd00\">lyric-planet-9</strong>: <a href=\"https://wandb.ai/rahav-manoharan/mlops-project-new/runs/15djww30\" target=\"_blank\">https://wandb.ai/rahav-manoharan/mlops-project-new/runs/15djww30</a><br/>\n",
       "Find logs at: <code>.\\wandb\\run-20211207_153802-15djww30\\logs</code><br/>\n"
      ],
      "text/plain": [
       "<IPython.core.display.HTML object>"
      ]
     },
     "metadata": {},
     "output_type": "display_data"
    }
   ],
   "source": [
    "dt_woe_model = tree.DecisionTreeClassifier(max_depth=10)\n",
    "\n",
    "dt_woe_model = run_model_experiment(train, dt_woe_model, \"DecisionTreeWithWoE\", preprocessor, encoder=encoder3, tags=[\"DecisionTree\", \"WoE\"])"
   ]
  },
  {
   "cell_type": "markdown",
   "metadata": {},
   "source": [
    "## RandomForest with WoE"
   ]
  },
  {
   "cell_type": "code",
   "execution_count": 74,
   "metadata": {},
   "outputs": [
    {
     "name": "stderr",
     "output_type": "stream",
     "text": [
      "\u001b[34m\u001b[1mwandb\u001b[0m: wandb version 0.12.7 is available!  To upgrade, please run:\n",
      "\u001b[34m\u001b[1mwandb\u001b[0m:  $ pip install wandb --upgrade\n"
     ]
    },
    {
     "data": {
      "text/html": [
       "\n",
       "                    Syncing run <strong><a href=\"https://wandb.ai/rahav-manoharan/mlops-project-new/runs/1ab3wakk\" target=\"_blank\">rural-dragon-10</a></strong> to <a href=\"https://wandb.ai/rahav-manoharan/mlops-project-new\" target=\"_blank\">Weights & Biases</a> (<a href=\"https://docs.wandb.com/integrations/jupyter.html\" target=\"_blank\">docs</a>).<br/>\n",
       "\n",
       "                "
      ],
      "text/plain": [
       "<IPython.core.display.HTML object>"
      ]
     },
     "metadata": {},
     "output_type": "display_data"
    },
    {
     "name": "stderr",
     "output_type": "stream",
     "text": [
      "\u001b[34m\u001b[1mwandb\u001b[0m: \n",
      "\u001b[34m\u001b[1mwandb\u001b[0m: Plotting RandomForestWoE.\n",
      "\u001b[34m\u001b[1mwandb\u001b[0m: Logged feature importances.\n",
      "\u001b[34m\u001b[1mwandb\u001b[0m: Logged confusion matrix.\n",
      "\u001b[34m\u001b[1mwandb\u001b[0m: \u001b[32m\u001b[41mERROR\u001b[0m X contains values that are not numbers. Please vectorize, label encode or one hot encode X and call the plotting function again.\n",
      "\u001b[34m\u001b[1mwandb\u001b[0m: \u001b[32m\u001b[41mERROR\u001b[0m X_test contains values that are not numbers. Please vectorize, label encode or one hot encode X_test and call the plotting function again.\n",
      "\u001b[34m\u001b[1mwandb\u001b[0m: Logged summary metrics.\n",
      "\u001b[34m\u001b[1mwandb\u001b[0m: Logged class proportions.\n",
      "\u001b[34m\u001b[1mwandb\u001b[0m: \u001b[32m\u001b[41mERROR\u001b[0m X contains values that are not numbers. Please vectorize, label encode or one hot encode X and call the plotting function again.\n",
      "\u001b[34m\u001b[1mwandb\u001b[0m: Logged calibration curve.\n",
      "\u001b[34m\u001b[1mwandb\u001b[0m: Logged roc curve.\n",
      "\u001b[34m\u001b[1mwandb\u001b[0m: Logged precision recall curve.\n",
      "\u001b[34m\u001b[1mwandb\u001b[0m: \u001b[33mWARNING\u001b[0m Calling run.save without any arguments is deprecated.Changes to attributes are automatically persisted.\n"
     ]
    },
    {
     "data": {
      "text/html": [
       "<br/>Waiting for W&B process to finish, PID 4256... <strong style=\"color:green\">(success).</strong>"
      ],
      "text/plain": [
       "<IPython.core.display.HTML object>"
      ]
     },
     "metadata": {},
     "output_type": "display_data"
    },
    {
     "data": {
      "application/vnd.jupyter.widget-view+json": {
       "model_id": "0946f835fc68459097c9c773a08c66c9",
       "version_major": 2,
       "version_minor": 0
      },
      "text/plain": [
       "VBox(children=(Label(value=' 0.27MB of 0.27MB uploaded (0.00MB deduped)\\r'), FloatProgress(value=1.0, max=1.0)…"
      ]
     },
     "metadata": {},
     "output_type": "display_data"
    },
    {
     "data": {
      "text/html": [
       "<style>\n",
       "    table.wandb td:nth-child(1) { padding: 0 10px; text-align: right }\n",
       "    .wandb-row { display: flex; flex-direction: row; flex-wrap: wrap; width: 100% }\n",
       "    .wandb-col { display: flex; flex-direction: column; flex-basis: 100%; flex: 1; padding: 10px; }\n",
       "    </style>\n",
       "<div class=\"wandb-row\"><div class=\"wandb-col\">\n",
       "<h3>Run history:</h3><br/><table class=\"wandb\"><tr><td>accuracy</td><td>▁</td></tr><tr><td>precision</td><td>▁</td></tr><tr><td>sensitivity</td><td>▁</td></tr><tr><td>specificity</td><td>▁</td></tr></table><br/></div><div class=\"wandb-col\">\n",
       "<h3>Run summary:</h3><br/><table class=\"wandb\"><tr><td>accuracy</td><td>0.9</td></tr><tr><td>precision</td><td>0.9</td></tr><tr><td>sensitivity</td><td>0.89</td></tr><tr><td>specificity</td><td>0.92</td></tr></table>\n",
       "</div></div>\n",
       "Synced 5 W&B file(s), 5 media file(s), 5 artifact file(s) and 0 other file(s)\n",
       "<br/>Synced <strong style=\"color:#cdcd00\">rural-dragon-10</strong>: <a href=\"https://wandb.ai/rahav-manoharan/mlops-project-new/runs/1ab3wakk\" target=\"_blank\">https://wandb.ai/rahav-manoharan/mlops-project-new/runs/1ab3wakk</a><br/>\n",
       "Find logs at: <code>.\\wandb\\run-20211207_153846-1ab3wakk\\logs</code><br/>\n"
      ],
      "text/plain": [
       "<IPython.core.display.HTML object>"
      ]
     },
     "metadata": {},
     "output_type": "display_data"
    }
   ],
   "source": [
    "params = {'bootstrap': True, \n",
    "        'criterion': 'gini',\n",
    "        'max_depth': 15, \n",
    "        'max_features': 'auto',\n",
    "        'min_impurity_decrease': 0.001,\n",
    "        'min_samples_leaf': 30, \n",
    "        'min_samples_split': 50,\n",
    "        'class_weight': \"balanced_subsample\",\n",
    "        'n_estimators': 200,\n",
    "        'oob_score': True, \n",
    "        'random_state': 16, \n",
    "        'verbose': 0,\n",
    "        'warm_start': False}\n",
    "\n",
    "sweep_config = {\n",
    "  \"name\" : \"rf_sweep\",\n",
    "  \"method\" : \"random\",\n",
    "  \"parameters\" : {\n",
    "    \"n_estimators\" : {\n",
    "      \"values\" : [100, 200, 300]\n",
    "      },\n",
    "    \"max_depth\" :{\n",
    "      \"values\" : [7, 10, 15]\n",
    "      },\n",
    "    \"min_sample_split\" :{\n",
    "      \"values\" : [50, 75, 100]\n",
    "      }\n",
    "   }\n",
    "}\n",
    "\n",
    "rf_woe_model = ensemble.RandomForestClassifier(**params)\n",
    "\n",
    "rf_woe_model = run_model_experiment(train, rf_woe_model, \"RandomForestWoE\", preprocessor, encoder=encoder3, config = params, tags=[\"RandomForest\", \"WoE\"])"
   ]
  },
  {
   "cell_type": "markdown",
   "metadata": {},
   "source": [
    "## Logistic Regression with WoE"
   ]
  },
  {
   "cell_type": "code",
   "execution_count": 75,
   "metadata": {},
   "outputs": [
    {
     "name": "stderr",
     "output_type": "stream",
     "text": [
      "\u001b[34m\u001b[1mwandb\u001b[0m: wandb version 0.12.7 is available!  To upgrade, please run:\n",
      "\u001b[34m\u001b[1mwandb\u001b[0m:  $ pip install wandb --upgrade\n"
     ]
    },
    {
     "data": {
      "text/html": [
       "\n",
       "                    Syncing run <strong><a href=\"https://wandb.ai/rahav-manoharan/mlops-project-new/runs/12gdod5y\" target=\"_blank\">stilted-shape-11</a></strong> to <a href=\"https://wandb.ai/rahav-manoharan/mlops-project-new\" target=\"_blank\">Weights & Biases</a> (<a href=\"https://docs.wandb.com/integrations/jupyter.html\" target=\"_blank\">docs</a>).<br/>\n",
       "\n",
       "                "
      ],
      "text/plain": [
       "<IPython.core.display.HTML object>"
      ]
     },
     "metadata": {},
     "output_type": "display_data"
    },
    {
     "name": "stderr",
     "output_type": "stream",
     "text": [
      "\u001b[34m\u001b[1mwandb\u001b[0m: \n",
      "\u001b[34m\u001b[1mwandb\u001b[0m: Plotting LogisticRegressionWoE.\n",
      "\u001b[34m\u001b[1mwandb\u001b[0m: \u001b[33mWARNING\u001b[0m 2-dimensional feature importances array passed to plot_feature_importances. 2-dimensional and higher feature importances arrays are not currently supported. These importances will not be plotted.\n",
      "\u001b[34m\u001b[1mwandb\u001b[0m: Logged feature importances.\n",
      "\u001b[34m\u001b[1mwandb\u001b[0m: Logged confusion matrix.\n",
      "\u001b[34m\u001b[1mwandb\u001b[0m: \u001b[32m\u001b[41mERROR\u001b[0m X contains values that are not numbers. Please vectorize, label encode or one hot encode X and call the plotting function again.\n",
      "\u001b[34m\u001b[1mwandb\u001b[0m: \u001b[32m\u001b[41mERROR\u001b[0m X_test contains values that are not numbers. Please vectorize, label encode or one hot encode X_test and call the plotting function again.\n",
      "\u001b[34m\u001b[1mwandb\u001b[0m: Logged summary metrics.\n",
      "\u001b[34m\u001b[1mwandb\u001b[0m: Logged class proportions.\n",
      "\u001b[34m\u001b[1mwandb\u001b[0m: \u001b[32m\u001b[41mERROR\u001b[0m X contains values that are not numbers. Please vectorize, label encode or one hot encode X and call the plotting function again.\n",
      "\u001b[34m\u001b[1mwandb\u001b[0m: Logged calibration curve.\n",
      "\u001b[34m\u001b[1mwandb\u001b[0m: Logged roc curve.\n",
      "\u001b[34m\u001b[1mwandb\u001b[0m: Logged precision recall curve.\n",
      "\u001b[34m\u001b[1mwandb\u001b[0m: \u001b[33mWARNING\u001b[0m Calling run.save without any arguments is deprecated.Changes to attributes are automatically persisted.\n"
     ]
    },
    {
     "data": {
      "text/html": [
       "<br/>Waiting for W&B process to finish, PID 3332... <strong style=\"color:green\">(success).</strong>"
      ],
      "text/plain": [
       "<IPython.core.display.HTML object>"
      ]
     },
     "metadata": {},
     "output_type": "display_data"
    },
    {
     "data": {
      "application/vnd.jupyter.widget-view+json": {
       "model_id": "6c79727177a14f5d8ee35758ab190143",
       "version_major": 2,
       "version_minor": 0
      },
      "text/plain": [
       "VBox(children=(Label(value=' 0.29MB of 0.29MB uploaded (0.00MB deduped)\\r'), FloatProgress(value=0.99735910288…"
      ]
     },
     "metadata": {},
     "output_type": "display_data"
    },
    {
     "data": {
      "text/html": [
       "<style>\n",
       "    table.wandb td:nth-child(1) { padding: 0 10px; text-align: right }\n",
       "    .wandb-row { display: flex; flex-direction: row; flex-wrap: wrap; width: 100% }\n",
       "    .wandb-col { display: flex; flex-direction: column; flex-basis: 100%; flex: 1; padding: 10px; }\n",
       "    </style>\n",
       "<div class=\"wandb-row\"><div class=\"wandb-col\">\n",
       "<h3>Run history:</h3><br/><table class=\"wandb\"><tr><td>accuracy</td><td>▁</td></tr><tr><td>precision</td><td>▁</td></tr><tr><td>sensitivity</td><td>▁</td></tr><tr><td>specificity</td><td>▁</td></tr></table><br/></div><div class=\"wandb-col\">\n",
       "<h3>Run summary:</h3><br/><table class=\"wandb\"><tr><td>accuracy</td><td>0.82</td></tr><tr><td>precision</td><td>0.8</td></tr><tr><td>sensitivity</td><td>0.79</td></tr><tr><td>specificity</td><td>0.84</td></tr></table>\n",
       "</div></div>\n",
       "Synced 5 W&B file(s), 4 media file(s), 4 artifact file(s) and 0 other file(s)\n",
       "<br/>Synced <strong style=\"color:#cdcd00\">stilted-shape-11</strong>: <a href=\"https://wandb.ai/rahav-manoharan/mlops-project-new/runs/12gdod5y\" target=\"_blank\">https://wandb.ai/rahav-manoharan/mlops-project-new/runs/12gdod5y</a><br/>\n",
       "Find logs at: <code>.\\wandb\\run-20211207_153917-12gdod5y\\logs</code><br/>\n"
      ],
      "text/plain": [
       "<IPython.core.display.HTML object>"
      ]
     },
     "metadata": {},
     "output_type": "display_data"
    }
   ],
   "source": [
    "lr_woe_model = LogisticRegression(max_iter=10000)\n",
    "\n",
    "lr_woe_model = run_model_experiment(train, lr_woe_model, \"LogisticRegressionWoE\", preprocessor, encoder=encoder3, config = params, tags=[\"LoristicRegression\", \"WoE\"])"
   ]
  },
  {
   "cell_type": "markdown",
   "metadata": {},
   "source": [
    "## XGBoost with WoE"
   ]
  },
  {
   "cell_type": "code",
   "execution_count": 76,
   "metadata": {},
   "outputs": [
    {
     "name": "stderr",
     "output_type": "stream",
     "text": [
      "C:\\Users\\ADMIN\\.conda\\envs\\mlopslab\\lib\\site-packages\\xgboost\\sklearn.py:1224: UserWarning: The use of label encoder in XGBClassifier is deprecated and will be removed in a future release. To remove this warning, do the following: 1) Pass option use_label_encoder=False when constructing XGBClassifier object; and 2) Encode your labels (y) as integers starting with 0, i.e. 0, 1, 2, ..., [num_class - 1].\n",
      "  warnings.warn(label_encoder_deprecation_msg, UserWarning)\n"
     ]
    },
    {
     "name": "stdout",
     "output_type": "stream",
     "text": [
      "[15:39:40] WARNING: D:\\bld\\xgboost-split_1637426510059\\work\\src\\learner.cc:1115: Starting in XGBoost 1.3.0, the default evaluation metric used with the objective 'binary:logistic' was changed from 'error' to 'logloss'. Explicitly set eval_metric if you'd like to restore the old behavior.\n"
     ]
    },
    {
     "name": "stderr",
     "output_type": "stream",
     "text": [
      "\u001b[34m\u001b[1mwandb\u001b[0m: wandb version 0.12.7 is available!  To upgrade, please run:\n",
      "\u001b[34m\u001b[1mwandb\u001b[0m:  $ pip install wandb --upgrade\n"
     ]
    },
    {
     "data": {
      "text/html": [
       "\n",
       "                    Syncing run <strong><a href=\"https://wandb.ai/rahav-manoharan/mlops-project-new/runs/aebrzsa5\" target=\"_blank\">youthful-shape-12</a></strong> to <a href=\"https://wandb.ai/rahav-manoharan/mlops-project-new\" target=\"_blank\">Weights & Biases</a> (<a href=\"https://docs.wandb.com/integrations/jupyter.html\" target=\"_blank\">docs</a>).<br/>\n",
       "\n",
       "                "
      ],
      "text/plain": [
       "<IPython.core.display.HTML object>"
      ]
     },
     "metadata": {},
     "output_type": "display_data"
    },
    {
     "name": "stderr",
     "output_type": "stream",
     "text": [
      "\u001b[34m\u001b[1mwandb\u001b[0m: \n",
      "\u001b[34m\u001b[1mwandb\u001b[0m: Plotting XGBoostWoE.\n",
      "\u001b[34m\u001b[1mwandb\u001b[0m: Logged feature importances.\n",
      "\u001b[34m\u001b[1mwandb\u001b[0m: Logged confusion matrix.\n",
      "\u001b[34m\u001b[1mwandb\u001b[0m: \u001b[32m\u001b[41mERROR\u001b[0m X contains values that are not numbers. Please vectorize, label encode or one hot encode X and call the plotting function again.\n",
      "\u001b[34m\u001b[1mwandb\u001b[0m: \u001b[32m\u001b[41mERROR\u001b[0m X_test contains values that are not numbers. Please vectorize, label encode or one hot encode X_test and call the plotting function again.\n",
      "\u001b[34m\u001b[1mwandb\u001b[0m: Logged summary metrics.\n",
      "\u001b[34m\u001b[1mwandb\u001b[0m: Logged class proportions.\n",
      "\u001b[34m\u001b[1mwandb\u001b[0m: \u001b[32m\u001b[41mERROR\u001b[0m X contains values that are not numbers. Please vectorize, label encode or one hot encode X and call the plotting function again.\n",
      "\u001b[34m\u001b[1mwandb\u001b[0m: Logged calibration curve.\n",
      "\u001b[34m\u001b[1mwandb\u001b[0m: Logged roc curve.\n",
      "\u001b[34m\u001b[1mwandb\u001b[0m: Logged precision recall curve.\n",
      "\u001b[34m\u001b[1mwandb\u001b[0m: \u001b[33mWARNING\u001b[0m Calling run.save without any arguments is deprecated.Changes to attributes are automatically persisted.\n"
     ]
    },
    {
     "data": {
      "text/html": [
       "<br/>Waiting for W&B process to finish, PID 2484... <strong style=\"color:green\">(success).</strong>"
      ],
      "text/plain": [
       "<IPython.core.display.HTML object>"
      ]
     },
     "metadata": {},
     "output_type": "display_data"
    },
    {
     "data": {
      "application/vnd.jupyter.widget-view+json": {
       "model_id": "e2b16bc06aa046e49153ea44a7ff00b5",
       "version_major": 2,
       "version_minor": 0
      },
      "text/plain": [
       "VBox(children=(Label(value=' 0.18MB of 0.18MB uploaded (0.00MB deduped)\\r'), FloatProgress(value=1.0, max=1.0)…"
      ]
     },
     "metadata": {},
     "output_type": "display_data"
    },
    {
     "data": {
      "text/html": [
       "<style>\n",
       "    table.wandb td:nth-child(1) { padding: 0 10px; text-align: right }\n",
       "    .wandb-row { display: flex; flex-direction: row; flex-wrap: wrap; width: 100% }\n",
       "    .wandb-col { display: flex; flex-direction: column; flex-basis: 100%; flex: 1; padding: 10px; }\n",
       "    </style>\n",
       "<div class=\"wandb-row\"><div class=\"wandb-col\">\n",
       "<h3>Run history:</h3><br/><table class=\"wandb\"><tr><td>accuracy</td><td>▁</td></tr><tr><td>precision</td><td>▁</td></tr><tr><td>sensitivity</td><td>▁</td></tr><tr><td>specificity</td><td>▁</td></tr></table><br/></div><div class=\"wandb-col\">\n",
       "<h3>Run summary:</h3><br/><table class=\"wandb\"><tr><td>accuracy</td><td>0.96</td></tr><tr><td>precision</td><td>0.94</td></tr><tr><td>sensitivity</td><td>0.96</td></tr><tr><td>specificity</td><td>0.95</td></tr></table>\n",
       "</div></div>\n",
       "Synced 5 W&B file(s), 5 media file(s), 5 artifact file(s) and 0 other file(s)\n",
       "<br/>Synced <strong style=\"color:#cdcd00\">youthful-shape-12</strong>: <a href=\"https://wandb.ai/rahav-manoharan/mlops-project-new/runs/aebrzsa5\" target=\"_blank\">https://wandb.ai/rahav-manoharan/mlops-project-new/runs/aebrzsa5</a><br/>\n",
       "Find logs at: <code>.\\wandb\\run-20211207_154019-aebrzsa5\\logs</code><br/>\n"
      ],
      "text/plain": [
       "<IPython.core.display.HTML object>"
      ]
     },
     "metadata": {},
     "output_type": "display_data"
    }
   ],
   "source": [
    "xgb_woe_model = XGBClassifier(learning_rate =0.1,\n",
    "                    n_estimators=500,\n",
    "                    max_depth=20,\n",
    "                    min_child_weight=1,\n",
    "                    gamma=0,\n",
    "                    subsample=0.8,\n",
    "                    colsample_bytree=0.8,\n",
    "                    objective= 'binary:logistic',\n",
    "                    nthread=4,\n",
    "                    scale_pos_weight=1,\n",
    "                    seed=16)\n",
    "\n",
    "xgb_woe_model = run_model_experiment(train, xgb_woe_model, \"XGBoostWoE\", preprocessor, encoder=encoder3, config = params, tags=[\"XGBoost\", \"WoE\"])"
   ]
  },
  {
   "cell_type": "markdown",
   "metadata": {},
   "source": [
    "# One Standard Deviation model selection"
   ]
  },
  {
   "cell_type": "code",
   "execution_count": 77,
   "metadata": {},
   "outputs": [],
   "source": [
    "api = wandb.Api()\n",
    "\n",
    "# Project is specified by <entity/project-name>\n",
    "runs = api.runs(\"rahav-manoharan/mlops-project\")\n",
    "\n",
    "summary_list, config_list, name_list = [], [], []\n",
    "for run in runs: \n",
    "    # .summary contains the output keys/values for metrics like accuracy.\n",
    "    #  We call ._json_dict to omit large files \n",
    "    summary_list.append(run.summary)\n",
    "\n",
    "    # .config contains the hyperparameters.\n",
    "    #  We remove special values that start with _.\n",
    "    # config_list.append(\n",
    "    #     {k: v for k,v in run.config.items()\n",
    "    #       if not k.startswith('_')})\n",
    "\n",
    "    # .name is the human-readable name of the run.\n",
    "    name_list.append(run.name)\n",
    "\n",
    "runs_df = pd.DataFrame({\n",
    "    \"summary\": summary_list,\n",
    "    \"name\": name_list\n",
    "    })"
   ]
  },
  {
   "cell_type": "code",
   "execution_count": 78,
   "metadata": {},
   "outputs": [
    {
     "data": {
      "text/html": [
       "<div>\n",
       "<style scoped>\n",
       "    .dataframe tbody tr th:only-of-type {\n",
       "        vertical-align: middle;\n",
       "    }\n",
       "\n",
       "    .dataframe tbody tr th {\n",
       "        vertical-align: top;\n",
       "    }\n",
       "\n",
       "    .dataframe thead th {\n",
       "        text-align: right;\n",
       "    }\n",
       "</style>\n",
       "<table border=\"1\" class=\"dataframe\">\n",
       "  <thead>\n",
       "    <tr style=\"text-align: right;\">\n",
       "      <th></th>\n",
       "      <th>summary</th>\n",
       "      <th>name</th>\n",
       "    </tr>\n",
       "  </thead>\n",
       "  <tbody>\n",
       "    <tr>\n",
       "      <th>0</th>\n",
       "      <td>{'recall': 0.96, '_runtime': 17, 'summary_metr...</td>\n",
       "      <td>XGBoostWoE</td>\n",
       "    </tr>\n",
       "    <tr>\n",
       "      <th>1</th>\n",
       "      <td>{'class_proportions': {'nrows': 4, 'sha256': '...</td>\n",
       "      <td>LogisticRegressionWoE</td>\n",
       "    </tr>\n",
       "    <tr>\n",
       "      <th>2</th>\n",
       "      <td>{'feature_importances': {'_type': 'table-file'...</td>\n",
       "      <td>RandomForestWoE</td>\n",
       "    </tr>\n",
       "    <tr>\n",
       "      <th>3</th>\n",
       "      <td>{'precision': 0.91, 'class_proportions': {'sha...</td>\n",
       "      <td>DecisionTreeWithWoE</td>\n",
       "    </tr>\n",
       "    <tr>\n",
       "      <th>4</th>\n",
       "      <td>{'class_proportions': {'path': 'media/table/cl...</td>\n",
       "      <td>XGBoostTarget</td>\n",
       "    </tr>\n",
       "    <tr>\n",
       "      <th>5</th>\n",
       "      <td>{'_wandb': {'runtime': 8}, 'accuracy': 0.83, '...</td>\n",
       "      <td>LogisticRegressionTarget</td>\n",
       "    </tr>\n",
       "    <tr>\n",
       "      <th>6</th>\n",
       "      <td>{'_runtime': 22, '_step': 7, '_wandb': {'runti...</td>\n",
       "      <td>RandomForestTarget</td>\n",
       "    </tr>\n",
       "    <tr>\n",
       "      <th>7</th>\n",
       "      <td>{'precision_recall': {'_type': 'table-file', '...</td>\n",
       "      <td>DecisionTreeWithTarget</td>\n",
       "    </tr>\n",
       "    <tr>\n",
       "      <th>8</th>\n",
       "      <td>{'calibration_curve': {'_type': 'table-file', ...</td>\n",
       "      <td>XGBoostOHE</td>\n",
       "    </tr>\n",
       "    <tr>\n",
       "      <th>9</th>\n",
       "      <td>{'_wandb': {'runtime': 10}, 'precision': 0.82,...</td>\n",
       "      <td>LogisticRegressionOHE</td>\n",
       "    </tr>\n",
       "    <tr>\n",
       "      <th>10</th>\n",
       "      <td>{'_timestamp': 1637949400, 'class_proportions'...</td>\n",
       "      <td>RandomForestOHE</td>\n",
       "    </tr>\n",
       "    <tr>\n",
       "      <th>11</th>\n",
       "      <td>{'_wandb': {'runtime': 10}, 'calibration_curve...</td>\n",
       "      <td>DecisionTreeWithOHE</td>\n",
       "    </tr>\n",
       "  </tbody>\n",
       "</table>\n",
       "</div>"
      ],
      "text/plain": [
       "                                              summary  \\\n",
       "0   {'recall': 0.96, '_runtime': 17, 'summary_metr...   \n",
       "1   {'class_proportions': {'nrows': 4, 'sha256': '...   \n",
       "2   {'feature_importances': {'_type': 'table-file'...   \n",
       "3   {'precision': 0.91, 'class_proportions': {'sha...   \n",
       "4   {'class_proportions': {'path': 'media/table/cl...   \n",
       "5   {'_wandb': {'runtime': 8}, 'accuracy': 0.83, '...   \n",
       "6   {'_runtime': 22, '_step': 7, '_wandb': {'runti...   \n",
       "7   {'precision_recall': {'_type': 'table-file', '...   \n",
       "8   {'calibration_curve': {'_type': 'table-file', ...   \n",
       "9   {'_wandb': {'runtime': 10}, 'precision': 0.82,...   \n",
       "10  {'_timestamp': 1637949400, 'class_proportions'...   \n",
       "11  {'_wandb': {'runtime': 10}, 'calibration_curve...   \n",
       "\n",
       "                        name  \n",
       "0                 XGBoostWoE  \n",
       "1      LogisticRegressionWoE  \n",
       "2            RandomForestWoE  \n",
       "3        DecisionTreeWithWoE  \n",
       "4              XGBoostTarget  \n",
       "5   LogisticRegressionTarget  \n",
       "6         RandomForestTarget  \n",
       "7     DecisionTreeWithTarget  \n",
       "8                 XGBoostOHE  \n",
       "9      LogisticRegressionOHE  \n",
       "10           RandomForestOHE  \n",
       "11       DecisionTreeWithOHE  "
      ]
     },
     "execution_count": 78,
     "metadata": {},
     "output_type": "execute_result"
    }
   ],
   "source": [
    "runs_df"
   ]
  },
  {
   "cell_type": "code",
   "execution_count": 80,
   "metadata": {},
   "outputs": [
    {
     "data": {
      "text/html": [
       "<div>\n",
       "<style scoped>\n",
       "    .dataframe tbody tr th:only-of-type {\n",
       "        vertical-align: middle;\n",
       "    }\n",
       "\n",
       "    .dataframe tbody tr th {\n",
       "        vertical-align: top;\n",
       "    }\n",
       "\n",
       "    .dataframe thead th {\n",
       "        text-align: right;\n",
       "    }\n",
       "</style>\n",
       "<table border=\"1\" class=\"dataframe\">\n",
       "  <thead>\n",
       "    <tr style=\"text-align: right;\">\n",
       "      <th></th>\n",
       "      <th>Name</th>\n",
       "      <th>State</th>\n",
       "      <th>Notes</th>\n",
       "      <th>User</th>\n",
       "      <th>Tags</th>\n",
       "      <th>Created</th>\n",
       "      <th>Runtime</th>\n",
       "      <th>Sweep</th>\n",
       "      <th>accuracy</th>\n",
       "      <th>precision</th>\n",
       "      <th>sensitivity</th>\n",
       "      <th>specificity</th>\n",
       "    </tr>\n",
       "  </thead>\n",
       "  <tbody>\n",
       "    <tr>\n",
       "      <th>0</th>\n",
       "      <td>XGBoostWoE</td>\n",
       "      <td>finished</td>\n",
       "      <td>-</td>\n",
       "      <td>rahav-manoharan</td>\n",
       "      <td>NaN</td>\n",
       "      <td>2021-12-07T10:10:23.000Z</td>\n",
       "      <td>24</td>\n",
       "      <td>NaN</td>\n",
       "      <td>0.96</td>\n",
       "      <td>0.94</td>\n",
       "      <td>0.96</td>\n",
       "      <td>0.95</td>\n",
       "    </tr>\n",
       "    <tr>\n",
       "      <th>1</th>\n",
       "      <td>LogisticRegressionWoE</td>\n",
       "      <td>finished</td>\n",
       "      <td>-</td>\n",
       "      <td>rahav-manoharan</td>\n",
       "      <td>NaN</td>\n",
       "      <td>2021-12-07T10:09:20.000Z</td>\n",
       "      <td>20</td>\n",
       "      <td>NaN</td>\n",
       "      <td>0.82</td>\n",
       "      <td>0.80</td>\n",
       "      <td>0.79</td>\n",
       "      <td>0.84</td>\n",
       "    </tr>\n",
       "    <tr>\n",
       "      <th>2</th>\n",
       "      <td>RandomForestWoE</td>\n",
       "      <td>finished</td>\n",
       "      <td>-</td>\n",
       "      <td>rahav-manoharan</td>\n",
       "      <td>NaN</td>\n",
       "      <td>2021-12-07T10:08:50.000Z</td>\n",
       "      <td>26</td>\n",
       "      <td>NaN</td>\n",
       "      <td>0.90</td>\n",
       "      <td>0.90</td>\n",
       "      <td>0.89</td>\n",
       "      <td>0.92</td>\n",
       "    </tr>\n",
       "    <tr>\n",
       "      <th>3</th>\n",
       "      <td>DecisionTreeWithWoE</td>\n",
       "      <td>finished</td>\n",
       "      <td>-</td>\n",
       "      <td>rahav-manoharan</td>\n",
       "      <td>NaN</td>\n",
       "      <td>2021-12-07T10:08:05.000Z</td>\n",
       "      <td>24</td>\n",
       "      <td>NaN</td>\n",
       "      <td>0.93</td>\n",
       "      <td>0.91</td>\n",
       "      <td>0.94</td>\n",
       "      <td>0.92</td>\n",
       "    </tr>\n",
       "    <tr>\n",
       "      <th>4</th>\n",
       "      <td>XGBoostTarget</td>\n",
       "      <td>finished</td>\n",
       "      <td>-</td>\n",
       "      <td>rahav-manoharan</td>\n",
       "      <td>NaN</td>\n",
       "      <td>2021-12-07T10:07:24.000Z</td>\n",
       "      <td>23</td>\n",
       "      <td>NaN</td>\n",
       "      <td>0.96</td>\n",
       "      <td>0.94</td>\n",
       "      <td>0.96</td>\n",
       "      <td>0.95</td>\n",
       "    </tr>\n",
       "    <tr>\n",
       "      <th>5</th>\n",
       "      <td>LogisticRegressionTarget</td>\n",
       "      <td>finished</td>\n",
       "      <td>-</td>\n",
       "      <td>rahav-manoharan</td>\n",
       "      <td>NaN</td>\n",
       "      <td>2021-12-07T10:06:23.000Z</td>\n",
       "      <td>20</td>\n",
       "      <td>NaN</td>\n",
       "      <td>0.82</td>\n",
       "      <td>0.80</td>\n",
       "      <td>0.79</td>\n",
       "      <td>0.84</td>\n",
       "    </tr>\n",
       "    <tr>\n",
       "      <th>6</th>\n",
       "      <td>RandomForestTarget</td>\n",
       "      <td>finished</td>\n",
       "      <td>-</td>\n",
       "      <td>rahav-manoharan</td>\n",
       "      <td>NaN</td>\n",
       "      <td>2021-12-07T10:05:55.000Z</td>\n",
       "      <td>24</td>\n",
       "      <td>NaN</td>\n",
       "      <td>0.90</td>\n",
       "      <td>0.90</td>\n",
       "      <td>0.89</td>\n",
       "      <td>0.92</td>\n",
       "    </tr>\n",
       "    <tr>\n",
       "      <th>7</th>\n",
       "      <td>DecisionTreeWithTarget</td>\n",
       "      <td>finished</td>\n",
       "      <td>-</td>\n",
       "      <td>rahav-manoharan</td>\n",
       "      <td>NaN</td>\n",
       "      <td>2021-12-07T10:05:15.000Z</td>\n",
       "      <td>23</td>\n",
       "      <td>NaN</td>\n",
       "      <td>0.93</td>\n",
       "      <td>0.90</td>\n",
       "      <td>0.94</td>\n",
       "      <td>0.92</td>\n",
       "    </tr>\n",
       "    <tr>\n",
       "      <th>8</th>\n",
       "      <td>XGBoostOHE</td>\n",
       "      <td>finished</td>\n",
       "      <td>-</td>\n",
       "      <td>rahav-manoharan</td>\n",
       "      <td>NaN</td>\n",
       "      <td>2021-12-07T09:56:52.000Z</td>\n",
       "      <td>23</td>\n",
       "      <td>NaN</td>\n",
       "      <td>0.95</td>\n",
       "      <td>0.94</td>\n",
       "      <td>0.96</td>\n",
       "      <td>0.95</td>\n",
       "    </tr>\n",
       "    <tr>\n",
       "      <th>9</th>\n",
       "      <td>LogisticRegressionOHE</td>\n",
       "      <td>finished</td>\n",
       "      <td>-</td>\n",
       "      <td>rahav-manoharan</td>\n",
       "      <td>NaN</td>\n",
       "      <td>2021-12-07T09:55:47.000Z</td>\n",
       "      <td>20</td>\n",
       "      <td>NaN</td>\n",
       "      <td>0.82</td>\n",
       "      <td>0.80</td>\n",
       "      <td>0.79</td>\n",
       "      <td>0.84</td>\n",
       "    </tr>\n",
       "    <tr>\n",
       "      <th>10</th>\n",
       "      <td>RandomForestOHE</td>\n",
       "      <td>finished</td>\n",
       "      <td>-</td>\n",
       "      <td>rahav-manoharan</td>\n",
       "      <td>NaN</td>\n",
       "      <td>2021-12-07T09:55:15.000Z</td>\n",
       "      <td>24</td>\n",
       "      <td>NaN</td>\n",
       "      <td>0.91</td>\n",
       "      <td>0.90</td>\n",
       "      <td>0.89</td>\n",
       "      <td>0.92</td>\n",
       "    </tr>\n",
       "    <tr>\n",
       "      <th>11</th>\n",
       "      <td>DecisionTreeWithOHE</td>\n",
       "      <td>finished</td>\n",
       "      <td>-</td>\n",
       "      <td>rahav-manoharan</td>\n",
       "      <td>NaN</td>\n",
       "      <td>2021-12-07T09:53:55.000Z</td>\n",
       "      <td>37</td>\n",
       "      <td>NaN</td>\n",
       "      <td>0.93</td>\n",
       "      <td>0.91</td>\n",
       "      <td>0.94</td>\n",
       "      <td>0.92</td>\n",
       "    </tr>\n",
       "  </tbody>\n",
       "</table>\n",
       "</div>"
      ],
      "text/plain": [
       "                        Name     State Notes             User  Tags  \\\n",
       "0                 XGBoostWoE  finished     -  rahav-manoharan   NaN   \n",
       "1      LogisticRegressionWoE  finished     -  rahav-manoharan   NaN   \n",
       "2            RandomForestWoE  finished     -  rahav-manoharan   NaN   \n",
       "3        DecisionTreeWithWoE  finished     -  rahav-manoharan   NaN   \n",
       "4              XGBoostTarget  finished     -  rahav-manoharan   NaN   \n",
       "5   LogisticRegressionTarget  finished     -  rahav-manoharan   NaN   \n",
       "6         RandomForestTarget  finished     -  rahav-manoharan   NaN   \n",
       "7     DecisionTreeWithTarget  finished     -  rahav-manoharan   NaN   \n",
       "8                 XGBoostOHE  finished     -  rahav-manoharan   NaN   \n",
       "9      LogisticRegressionOHE  finished     -  rahav-manoharan   NaN   \n",
       "10           RandomForestOHE  finished     -  rahav-manoharan   NaN   \n",
       "11       DecisionTreeWithOHE  finished     -  rahav-manoharan   NaN   \n",
       "\n",
       "                     Created  Runtime  Sweep  accuracy  precision  \\\n",
       "0   2021-12-07T10:10:23.000Z       24    NaN      0.96       0.94   \n",
       "1   2021-12-07T10:09:20.000Z       20    NaN      0.82       0.80   \n",
       "2   2021-12-07T10:08:50.000Z       26    NaN      0.90       0.90   \n",
       "3   2021-12-07T10:08:05.000Z       24    NaN      0.93       0.91   \n",
       "4   2021-12-07T10:07:24.000Z       23    NaN      0.96       0.94   \n",
       "5   2021-12-07T10:06:23.000Z       20    NaN      0.82       0.80   \n",
       "6   2021-12-07T10:05:55.000Z       24    NaN      0.90       0.90   \n",
       "7   2021-12-07T10:05:15.000Z       23    NaN      0.93       0.90   \n",
       "8   2021-12-07T09:56:52.000Z       23    NaN      0.95       0.94   \n",
       "9   2021-12-07T09:55:47.000Z       20    NaN      0.82       0.80   \n",
       "10  2021-12-07T09:55:15.000Z       24    NaN      0.91       0.90   \n",
       "11  2021-12-07T09:53:55.000Z       37    NaN      0.93       0.91   \n",
       "\n",
       "    sensitivity  specificity  \n",
       "0          0.96         0.95  \n",
       "1          0.79         0.84  \n",
       "2          0.89         0.92  \n",
       "3          0.94         0.92  \n",
       "4          0.96         0.95  \n",
       "5          0.79         0.84  \n",
       "6          0.89         0.92  \n",
       "7          0.94         0.92  \n",
       "8          0.96         0.95  \n",
       "9          0.79         0.84  \n",
       "10         0.89         0.92  \n",
       "11         0.94         0.92  "
      ]
     },
     "execution_count": 80,
     "metadata": {},
     "output_type": "execute_result"
    }
   ],
   "source": [
    "runs_results = pd.read_csv('../data/external/run2_wandb_export.csv')\n",
    "runs_results"
   ]
  },
  {
   "cell_type": "code",
   "execution_count": 81,
   "metadata": {},
   "outputs": [
    {
     "data": {
      "text/html": [
       "<div>\n",
       "<style scoped>\n",
       "    .dataframe tbody tr th:only-of-type {\n",
       "        vertical-align: middle;\n",
       "    }\n",
       "\n",
       "    .dataframe tbody tr th {\n",
       "        vertical-align: top;\n",
       "    }\n",
       "\n",
       "    .dataframe thead th {\n",
       "        text-align: right;\n",
       "    }\n",
       "</style>\n",
       "<table border=\"1\" class=\"dataframe\">\n",
       "  <thead>\n",
       "    <tr style=\"text-align: right;\">\n",
       "      <th></th>\n",
       "      <th>Name</th>\n",
       "      <th>State</th>\n",
       "      <th>Notes</th>\n",
       "      <th>User</th>\n",
       "      <th>Tags</th>\n",
       "      <th>Created</th>\n",
       "      <th>Runtime</th>\n",
       "      <th>Sweep</th>\n",
       "      <th>accuracy</th>\n",
       "      <th>precision</th>\n",
       "      <th>sensitivity</th>\n",
       "      <th>specificity</th>\n",
       "    </tr>\n",
       "  </thead>\n",
       "  <tbody>\n",
       "    <tr>\n",
       "      <th>0</th>\n",
       "      <td>XGBoostWoE</td>\n",
       "      <td>finished</td>\n",
       "      <td>-</td>\n",
       "      <td>rahav-manoharan</td>\n",
       "      <td>NaN</td>\n",
       "      <td>2021-12-07T10:10:23.000Z</td>\n",
       "      <td>24</td>\n",
       "      <td>NaN</td>\n",
       "      <td>0.96</td>\n",
       "      <td>0.94</td>\n",
       "      <td>0.96</td>\n",
       "      <td>0.95</td>\n",
       "    </tr>\n",
       "    <tr>\n",
       "      <th>2</th>\n",
       "      <td>RandomForestWoE</td>\n",
       "      <td>finished</td>\n",
       "      <td>-</td>\n",
       "      <td>rahav-manoharan</td>\n",
       "      <td>NaN</td>\n",
       "      <td>2021-12-07T10:08:50.000Z</td>\n",
       "      <td>26</td>\n",
       "      <td>NaN</td>\n",
       "      <td>0.90</td>\n",
       "      <td>0.90</td>\n",
       "      <td>0.89</td>\n",
       "      <td>0.92</td>\n",
       "    </tr>\n",
       "    <tr>\n",
       "      <th>3</th>\n",
       "      <td>DecisionTreeWithWoE</td>\n",
       "      <td>finished</td>\n",
       "      <td>-</td>\n",
       "      <td>rahav-manoharan</td>\n",
       "      <td>NaN</td>\n",
       "      <td>2021-12-07T10:08:05.000Z</td>\n",
       "      <td>24</td>\n",
       "      <td>NaN</td>\n",
       "      <td>0.93</td>\n",
       "      <td>0.91</td>\n",
       "      <td>0.94</td>\n",
       "      <td>0.92</td>\n",
       "    </tr>\n",
       "    <tr>\n",
       "      <th>4</th>\n",
       "      <td>XGBoostTarget</td>\n",
       "      <td>finished</td>\n",
       "      <td>-</td>\n",
       "      <td>rahav-manoharan</td>\n",
       "      <td>NaN</td>\n",
       "      <td>2021-12-07T10:07:24.000Z</td>\n",
       "      <td>23</td>\n",
       "      <td>NaN</td>\n",
       "      <td>0.96</td>\n",
       "      <td>0.94</td>\n",
       "      <td>0.96</td>\n",
       "      <td>0.95</td>\n",
       "    </tr>\n",
       "    <tr>\n",
       "      <th>6</th>\n",
       "      <td>RandomForestTarget</td>\n",
       "      <td>finished</td>\n",
       "      <td>-</td>\n",
       "      <td>rahav-manoharan</td>\n",
       "      <td>NaN</td>\n",
       "      <td>2021-12-07T10:05:55.000Z</td>\n",
       "      <td>24</td>\n",
       "      <td>NaN</td>\n",
       "      <td>0.90</td>\n",
       "      <td>0.90</td>\n",
       "      <td>0.89</td>\n",
       "      <td>0.92</td>\n",
       "    </tr>\n",
       "    <tr>\n",
       "      <th>7</th>\n",
       "      <td>DecisionTreeWithTarget</td>\n",
       "      <td>finished</td>\n",
       "      <td>-</td>\n",
       "      <td>rahav-manoharan</td>\n",
       "      <td>NaN</td>\n",
       "      <td>2021-12-07T10:05:15.000Z</td>\n",
       "      <td>23</td>\n",
       "      <td>NaN</td>\n",
       "      <td>0.93</td>\n",
       "      <td>0.90</td>\n",
       "      <td>0.94</td>\n",
       "      <td>0.92</td>\n",
       "    </tr>\n",
       "    <tr>\n",
       "      <th>8</th>\n",
       "      <td>XGBoostOHE</td>\n",
       "      <td>finished</td>\n",
       "      <td>-</td>\n",
       "      <td>rahav-manoharan</td>\n",
       "      <td>NaN</td>\n",
       "      <td>2021-12-07T09:56:52.000Z</td>\n",
       "      <td>23</td>\n",
       "      <td>NaN</td>\n",
       "      <td>0.95</td>\n",
       "      <td>0.94</td>\n",
       "      <td>0.96</td>\n",
       "      <td>0.95</td>\n",
       "    </tr>\n",
       "    <tr>\n",
       "      <th>10</th>\n",
       "      <td>RandomForestOHE</td>\n",
       "      <td>finished</td>\n",
       "      <td>-</td>\n",
       "      <td>rahav-manoharan</td>\n",
       "      <td>NaN</td>\n",
       "      <td>2021-12-07T09:55:15.000Z</td>\n",
       "      <td>24</td>\n",
       "      <td>NaN</td>\n",
       "      <td>0.91</td>\n",
       "      <td>0.90</td>\n",
       "      <td>0.89</td>\n",
       "      <td>0.92</td>\n",
       "    </tr>\n",
       "    <tr>\n",
       "      <th>11</th>\n",
       "      <td>DecisionTreeWithOHE</td>\n",
       "      <td>finished</td>\n",
       "      <td>-</td>\n",
       "      <td>rahav-manoharan</td>\n",
       "      <td>NaN</td>\n",
       "      <td>2021-12-07T09:53:55.000Z</td>\n",
       "      <td>37</td>\n",
       "      <td>NaN</td>\n",
       "      <td>0.93</td>\n",
       "      <td>0.91</td>\n",
       "      <td>0.94</td>\n",
       "      <td>0.92</td>\n",
       "    </tr>\n",
       "  </tbody>\n",
       "</table>\n",
       "</div>"
      ],
      "text/plain": [
       "                      Name     State Notes             User  Tags  \\\n",
       "0               XGBoostWoE  finished     -  rahav-manoharan   NaN   \n",
       "2          RandomForestWoE  finished     -  rahav-manoharan   NaN   \n",
       "3      DecisionTreeWithWoE  finished     -  rahav-manoharan   NaN   \n",
       "4            XGBoostTarget  finished     -  rahav-manoharan   NaN   \n",
       "6       RandomForestTarget  finished     -  rahav-manoharan   NaN   \n",
       "7   DecisionTreeWithTarget  finished     -  rahav-manoharan   NaN   \n",
       "8               XGBoostOHE  finished     -  rahav-manoharan   NaN   \n",
       "10         RandomForestOHE  finished     -  rahav-manoharan   NaN   \n",
       "11     DecisionTreeWithOHE  finished     -  rahav-manoharan   NaN   \n",
       "\n",
       "                     Created  Runtime  Sweep  accuracy  precision  \\\n",
       "0   2021-12-07T10:10:23.000Z       24    NaN      0.96       0.94   \n",
       "2   2021-12-07T10:08:50.000Z       26    NaN      0.90       0.90   \n",
       "3   2021-12-07T10:08:05.000Z       24    NaN      0.93       0.91   \n",
       "4   2021-12-07T10:07:24.000Z       23    NaN      0.96       0.94   \n",
       "6   2021-12-07T10:05:55.000Z       24    NaN      0.90       0.90   \n",
       "7   2021-12-07T10:05:15.000Z       23    NaN      0.93       0.90   \n",
       "8   2021-12-07T09:56:52.000Z       23    NaN      0.95       0.94   \n",
       "10  2021-12-07T09:55:15.000Z       24    NaN      0.91       0.90   \n",
       "11  2021-12-07T09:53:55.000Z       37    NaN      0.93       0.91   \n",
       "\n",
       "    sensitivity  specificity  \n",
       "0          0.96         0.95  \n",
       "2          0.89         0.92  \n",
       "3          0.94         0.92  \n",
       "4          0.96         0.95  \n",
       "6          0.89         0.92  \n",
       "7          0.94         0.92  \n",
       "8          0.96         0.95  \n",
       "10         0.89         0.92  \n",
       "11         0.94         0.92  "
      ]
     },
     "execution_count": 81,
     "metadata": {},
     "output_type": "execute_result"
    }
   ],
   "source": [
    "# considering precision to be the metric of consideration\n",
    "sd = np.std(runs_results.precision)\n",
    "max_val = max(runs_results.precision)\n",
    "bound = max_val-sd\n",
    "\n",
    "selected_models = runs_results[runs_results.precision >= bound]\n",
    "selected_models"
   ]
  },
  {
   "cell_type": "markdown",
   "metadata": {},
   "source": [
    "### Converting best model to onnx is done in a separate notebook --> 3.0-model_onnx.ipynb"
   ]
  },
  {
   "cell_type": "markdown",
   "metadata": {},
   "source": [
    "# END OF PART 1 OF NOTEBOOK - RUNNING MODELS WITHOUT \"Customer Type\" FEATURE"
   ]
  },
  {
   "cell_type": "code",
   "execution_count": 83,
   "metadata": {},
   "outputs": [
    {
     "data": {
      "text/html": [
       "<div>\n",
       "<style scoped>\n",
       "    .dataframe tbody tr th:only-of-type {\n",
       "        vertical-align: middle;\n",
       "    }\n",
       "\n",
       "    .dataframe tbody tr th {\n",
       "        vertical-align: top;\n",
       "    }\n",
       "\n",
       "    .dataframe thead th {\n",
       "        text-align: right;\n",
       "    }\n",
       "</style>\n",
       "<table border=\"1\" class=\"dataframe\">\n",
       "  <thead>\n",
       "    <tr style=\"text-align: right;\">\n",
       "      <th></th>\n",
       "      <th>satisfaction</th>\n",
       "      <th>Gender</th>\n",
       "      <th>Customer Type</th>\n",
       "      <th>Age</th>\n",
       "      <th>Type of Travel</th>\n",
       "      <th>Class</th>\n",
       "      <th>Flight Distance</th>\n",
       "      <th>Seat comfort</th>\n",
       "      <th>Departure_Arrival time convenient</th>\n",
       "      <th>Food and drink</th>\n",
       "      <th>...</th>\n",
       "      <th>Online support</th>\n",
       "      <th>Ease of Online booking</th>\n",
       "      <th>Onboard service</th>\n",
       "      <th>Leg room service</th>\n",
       "      <th>Baggage handling</th>\n",
       "      <th>Checkin service</th>\n",
       "      <th>Cleanliness</th>\n",
       "      <th>Online boarding</th>\n",
       "      <th>Departure Delay in Minutes</th>\n",
       "      <th>Arrival Delay in Minutes</th>\n",
       "    </tr>\n",
       "  </thead>\n",
       "  <tbody>\n",
       "    <tr>\n",
       "      <th>98180</th>\n",
       "      <td>1</td>\n",
       "      <td>Male</td>\n",
       "      <td>Loyal Customer</td>\n",
       "      <td>37</td>\n",
       "      <td>Business travel</td>\n",
       "      <td>Business</td>\n",
       "      <td>3785</td>\n",
       "      <td>4</td>\n",
       "      <td>4</td>\n",
       "      <td>4</td>\n",
       "      <td>...</td>\n",
       "      <td>4</td>\n",
       "      <td>4</td>\n",
       "      <td>4</td>\n",
       "      <td>4</td>\n",
       "      <td>4</td>\n",
       "      <td>5</td>\n",
       "      <td>4</td>\n",
       "      <td>4</td>\n",
       "      <td>1</td>\n",
       "      <td>9.0</td>\n",
       "    </tr>\n",
       "    <tr>\n",
       "      <th>24974</th>\n",
       "      <td>0</td>\n",
       "      <td>Male</td>\n",
       "      <td>Loyal Customer</td>\n",
       "      <td>60</td>\n",
       "      <td>Personal Travel</td>\n",
       "      <td>Eco</td>\n",
       "      <td>1784</td>\n",
       "      <td>3</td>\n",
       "      <td>4</td>\n",
       "      <td>3</td>\n",
       "      <td>...</td>\n",
       "      <td>2</td>\n",
       "      <td>5</td>\n",
       "      <td>3</td>\n",
       "      <td>2</td>\n",
       "      <td>4</td>\n",
       "      <td>4</td>\n",
       "      <td>4</td>\n",
       "      <td>5</td>\n",
       "      <td>0</td>\n",
       "      <td>0.0</td>\n",
       "    </tr>\n",
       "    <tr>\n",
       "      <th>69242</th>\n",
       "      <td>0</td>\n",
       "      <td>Male</td>\n",
       "      <td>Loyal Customer</td>\n",
       "      <td>27</td>\n",
       "      <td>Business travel</td>\n",
       "      <td>Business</td>\n",
       "      <td>1825</td>\n",
       "      <td>2</td>\n",
       "      <td>3</td>\n",
       "      <td>4</td>\n",
       "      <td>...</td>\n",
       "      <td>2</td>\n",
       "      <td>2</td>\n",
       "      <td>1</td>\n",
       "      <td>3</td>\n",
       "      <td>3</td>\n",
       "      <td>1</td>\n",
       "      <td>2</td>\n",
       "      <td>2</td>\n",
       "      <td>76</td>\n",
       "      <td>57.0</td>\n",
       "    </tr>\n",
       "    <tr>\n",
       "      <th>90488</th>\n",
       "      <td>1</td>\n",
       "      <td>Male</td>\n",
       "      <td>Loyal Customer</td>\n",
       "      <td>50</td>\n",
       "      <td>Business travel</td>\n",
       "      <td>Eco</td>\n",
       "      <td>2024</td>\n",
       "      <td>4</td>\n",
       "      <td>4</td>\n",
       "      <td>2</td>\n",
       "      <td>...</td>\n",
       "      <td>4</td>\n",
       "      <td>4</td>\n",
       "      <td>2</td>\n",
       "      <td>5</td>\n",
       "      <td>4</td>\n",
       "      <td>2</td>\n",
       "      <td>4</td>\n",
       "      <td>4</td>\n",
       "      <td>125</td>\n",
       "      <td>129.0</td>\n",
       "    </tr>\n",
       "    <tr>\n",
       "      <th>36205</th>\n",
       "      <td>0</td>\n",
       "      <td>Male</td>\n",
       "      <td>Loyal Customer</td>\n",
       "      <td>70</td>\n",
       "      <td>Personal Travel</td>\n",
       "      <td>Eco</td>\n",
       "      <td>1435</td>\n",
       "      <td>4</td>\n",
       "      <td>4</td>\n",
       "      <td>4</td>\n",
       "      <td>...</td>\n",
       "      <td>5</td>\n",
       "      <td>5</td>\n",
       "      <td>5</td>\n",
       "      <td>4</td>\n",
       "      <td>5</td>\n",
       "      <td>4</td>\n",
       "      <td>4</td>\n",
       "      <td>5</td>\n",
       "      <td>0</td>\n",
       "      <td>0.0</td>\n",
       "    </tr>\n",
       "  </tbody>\n",
       "</table>\n",
       "<p>5 rows × 23 columns</p>\n",
       "</div>"
      ],
      "text/plain": [
       "       satisfaction Gender   Customer Type  Age   Type of Travel     Class  \\\n",
       "98180             1   Male  Loyal Customer   37  Business travel  Business   \n",
       "24974             0   Male  Loyal Customer   60  Personal Travel       Eco   \n",
       "69242             0   Male  Loyal Customer   27  Business travel  Business   \n",
       "90488             1   Male  Loyal Customer   50  Business travel       Eco   \n",
       "36205             0   Male  Loyal Customer   70  Personal Travel       Eco   \n",
       "\n",
       "       Flight Distance  Seat comfort  Departure_Arrival time convenient  \\\n",
       "98180             3785             4                                  4   \n",
       "24974             1784             3                                  4   \n",
       "69242             1825             2                                  3   \n",
       "90488             2024             4                                  4   \n",
       "36205             1435             4                                  4   \n",
       "\n",
       "       Food and drink  ...  Online support  Ease of Online booking  \\\n",
       "98180               4  ...               4                       4   \n",
       "24974               3  ...               2                       5   \n",
       "69242               4  ...               2                       2   \n",
       "90488               2  ...               4                       4   \n",
       "36205               4  ...               5                       5   \n",
       "\n",
       "       Onboard service  Leg room service  Baggage handling  Checkin service  \\\n",
       "98180                4                 4                 4                5   \n",
       "24974                3                 2                 4                4   \n",
       "69242                1                 3                 3                1   \n",
       "90488                2                 5                 4                2   \n",
       "36205                5                 4                 5                4   \n",
       "\n",
       "       Cleanliness  Online boarding  Departure Delay in Minutes  \\\n",
       "98180            4                4                           1   \n",
       "24974            4                5                           0   \n",
       "69242            2                2                          76   \n",
       "90488            4                4                         125   \n",
       "36205            4                5                           0   \n",
       "\n",
       "       Arrival Delay in Minutes  \n",
       "98180                       9.0  \n",
       "24974                       0.0  \n",
       "69242                      57.0  \n",
       "90488                     129.0  \n",
       "36205                       0.0  \n",
       "\n",
       "[5 rows x 23 columns]"
      ]
     },
     "execution_count": 83,
     "metadata": {},
     "output_type": "execute_result"
    }
   ],
   "source": [
    "train.head()"
   ]
  },
  {
   "cell_type": "code",
   "execution_count": 85,
   "metadata": {},
   "outputs": [],
   "source": [
    "train_male = train[train.Gender == 'Male']\n",
    "train_female = train[train.Gender == 'Female']"
   ]
  },
  {
   "cell_type": "code",
   "execution_count": null,
   "metadata": {},
   "outputs": [],
   "source": []
  }
 ],
 "metadata": {
  "interpreter": {
   "hash": "244512e2fa821cf323e5787fb63beae451679f3a3a50f358d540ff9dfd268ca9"
  },
  "kernelspec": {
   "display_name": "Python 3.8.12 64-bit ('mlopslab': conda)",
   "language": "python",
   "name": "python3"
  },
  "language_info": {
   "codemirror_mode": {
    "name": "ipython",
    "version": 3
   },
   "file_extension": ".py",
   "mimetype": "text/x-python",
   "name": "python",
   "nbconvert_exporter": "python",
   "pygments_lexer": "ipython3",
   "version": "3.8.12"
  },
  "orig_nbformat": 4
 },
 "nbformat": 4,
 "nbformat_minor": 2
}
