{
 "cells": [
  {
   "cell_type": "code",
   "execution_count": 23,
   "metadata": {},
   "outputs": [],
   "source": [
    "# Installing H2O; uncomment of H2O is not installed\n",
    "# !pip install -f http://h2o-release.s3.amazonaws.com/h2o/latest_stable_Py.html h2o\n",
    "\n",
    "# Installing H2O dependencies\n",
    "# !pip install requests\n",
    "# !pip install tabulate\n",
    "# !pip install \"colorama>=0.3.8\"\n",
    "# !pip install future\n",
    "\n",
    "#uncomment of xgboost not installed\n",
    "# !pip install xgboost\n",
    "\n",
    "#uncomment if pydotplus not installed; dependency for graphviz\n",
    "# !pip install pydotplus\n",
    "# !pip install pydot\n",
    "\n",
    "# weights and biases for experiment tracking\n",
    "# !pip install wandb\n",
    "\n",
    "# category-encoder\n",
    "# !pip install category_encoders\n",
    "\n",
    "# uncomment if never before installed and need to convert to onnx\n",
    "# !pip install onnx\n",
    "# !pip install skl2onnx\n",
    "# !pip install onnxruntime\n",
    "# !pip install onnxmltools\n",
    "\n"
   ]
  },
  {
   "cell_type": "code",
   "execution_count": 24,
   "metadata": {},
   "outputs": [],
   "source": [
    "import pandas as pd\n",
    "import numpy as np\n",
    "import seaborn as sns\n",
    "import statsmodels.api as sm\n",
    "import matplotlib.pylab as plt\n",
    "\n",
    "from sklearn.model_selection import train_test_split, cross_val_score, GridSearchCV, RandomizedSearchCV\n",
    "from sklearn.preprocessing import StandardScaler, LabelEncoder\n",
    "from sklearn.compose import ColumnTransformer\n",
    "from sklearn.pipeline import Pipeline\n",
    "from sklearn import tree\n",
    "from sklearn.linear_model import LogisticRegression\n",
    "from sklearn import metrics\n",
    "from sklearn.metrics import confusion_matrix, classification_report, SCORERS\n",
    "from sklearn import ensemble\n",
    "\n",
    "from category_encoders import OneHotEncoder, TargetEncoder, WOEEncoder\n",
    "\n",
    "import xgboost as xgb\n",
    "from xgboost.sklearn import XGBClassifier\n",
    "\n",
    "from six import StringIO\n",
    "from IPython.display import Image\n",
    "\n",
    "import pydotplus\n",
    "import graphviz\n",
    "\n",
    "import wandb\n",
    "import os\n",
    "\n",
    "import h2o\n",
    "from h2o.automl import H2OAutoML\n",
    "from h2o.estimators import H2OTargetEncoderEstimator"
   ]
  },
  {
   "cell_type": "code",
   "execution_count": 25,
   "metadata": {},
   "outputs": [],
   "source": [
    "from IPython.core.interactiveshell import InteractiveShell\n",
    "InteractiveShell.ast_node_interactivity = \"all\""
   ]
  },
  {
   "cell_type": "code",
   "execution_count": null,
   "metadata": {},
   "outputs": [],
   "source": []
  },
  {
   "cell_type": "code",
   "execution_count": null,
   "metadata": {},
   "outputs": [],
   "source": []
  },
  {
   "cell_type": "markdown",
   "metadata": {},
   "source": [
    "# Loading Data"
   ]
  },
  {
   "cell_type": "code",
   "execution_count": 26,
   "metadata": {},
   "outputs": [],
   "source": [
    "train = pd.read_csv('../Data/interim/train.csv')\n",
    "test = pd.read_csv('../Data/interim/test.csv')\n",
    "validate = pd.read_csv('../Data/interim/validate.csv')\n",
    "production = pd.read_csv('../Data/interim/production.csv')"
   ]
  },
  {
   "cell_type": "code",
   "execution_count": 27,
   "metadata": {},
   "outputs": [
    {
     "name": "stdout",
     "output_type": "stream",
     "text": [
      "<class 'pandas.core.frame.DataFrame'>\n",
      "RangeIndex: 77692 entries, 0 to 77691\n",
      "Data columns (total 23 columns):\n",
      " #   Column                             Non-Null Count  Dtype \n",
      "---  ------                             --------------  ----- \n",
      " 0   satisfaction                       77692 non-null  object\n",
      " 1   Gender                             77692 non-null  object\n",
      " 2   Customer Type                      77692 non-null  object\n",
      " 3   Age                                77692 non-null  int64 \n",
      " 4   Type of Travel                     77692 non-null  object\n",
      " 5   Class                              77692 non-null  object\n",
      " 6   Flight Distance                    77692 non-null  int64 \n",
      " 7   Seat comfort                       77692 non-null  int64 \n",
      " 8   Departure/Arrival time convenient  77692 non-null  int64 \n",
      " 9   Food and drink                     77692 non-null  int64 \n",
      " 10  Gate location                      77692 non-null  int64 \n",
      " 11  Inflight wifi service              77692 non-null  int64 \n",
      " 12  Inflight entertainment             77692 non-null  int64 \n",
      " 13  Online support                     77692 non-null  int64 \n",
      " 14  Ease of Online booking             77692 non-null  int64 \n",
      " 15  On-board service                   77692 non-null  int64 \n",
      " 16  Leg room service                   77692 non-null  int64 \n",
      " 17  Baggage handling                   77692 non-null  int64 \n",
      " 18  Checkin service                    77692 non-null  int64 \n",
      " 19  Cleanliness                        77692 non-null  int64 \n",
      " 20  Online boarding                    77692 non-null  int64 \n",
      " 21  Departure Delay in Minutes         77692 non-null  int64 \n",
      " 22  Arrival Delay in Minutes           77692 non-null  int64 \n",
      "dtypes: int64(18), object(5)\n",
      "memory usage: 13.6+ MB\n"
     ]
    }
   ],
   "source": [
    "train.info()"
   ]
  },
  {
   "cell_type": "code",
   "execution_count": 28,
   "metadata": {},
   "outputs": [
    {
     "data": {
      "text/html": [
       "<div>\n",
       "<style scoped>\n",
       "    .dataframe tbody tr th:only-of-type {\n",
       "        vertical-align: middle;\n",
       "    }\n",
       "\n",
       "    .dataframe tbody tr th {\n",
       "        vertical-align: top;\n",
       "    }\n",
       "\n",
       "    .dataframe thead th {\n",
       "        text-align: right;\n",
       "    }\n",
       "</style>\n",
       "<table border=\"1\" class=\"dataframe\">\n",
       "  <thead>\n",
       "    <tr style=\"text-align: right;\">\n",
       "      <th></th>\n",
       "      <th>satisfaction</th>\n",
       "      <th>Gender</th>\n",
       "      <th>Customer Type</th>\n",
       "      <th>Age</th>\n",
       "      <th>Type of Travel</th>\n",
       "      <th>Class</th>\n",
       "      <th>Flight Distance</th>\n",
       "      <th>Seat comfort</th>\n",
       "      <th>Departure/Arrival time convenient</th>\n",
       "      <th>Food and drink</th>\n",
       "      <th>...</th>\n",
       "      <th>Online support</th>\n",
       "      <th>Ease of Online booking</th>\n",
       "      <th>On-board service</th>\n",
       "      <th>Leg room service</th>\n",
       "      <th>Baggage handling</th>\n",
       "      <th>Checkin service</th>\n",
       "      <th>Cleanliness</th>\n",
       "      <th>Online boarding</th>\n",
       "      <th>Departure Delay in Minutes</th>\n",
       "      <th>Arrival Delay in Minutes</th>\n",
       "    </tr>\n",
       "  </thead>\n",
       "  <tbody>\n",
       "    <tr>\n",
       "      <th>0</th>\n",
       "      <td>satisfied</td>\n",
       "      <td>Male</td>\n",
       "      <td>Loyal Customer</td>\n",
       "      <td>37</td>\n",
       "      <td>Business travel</td>\n",
       "      <td>Business</td>\n",
       "      <td>3785</td>\n",
       "      <td>4</td>\n",
       "      <td>4</td>\n",
       "      <td>4</td>\n",
       "      <td>...</td>\n",
       "      <td>4</td>\n",
       "      <td>4</td>\n",
       "      <td>4</td>\n",
       "      <td>4</td>\n",
       "      <td>4</td>\n",
       "      <td>5</td>\n",
       "      <td>4</td>\n",
       "      <td>4</td>\n",
       "      <td>1</td>\n",
       "      <td>9</td>\n",
       "    </tr>\n",
       "    <tr>\n",
       "      <th>1</th>\n",
       "      <td>dissatisfied</td>\n",
       "      <td>Male</td>\n",
       "      <td>Loyal Customer</td>\n",
       "      <td>60</td>\n",
       "      <td>Personal Travel</td>\n",
       "      <td>Eco</td>\n",
       "      <td>1784</td>\n",
       "      <td>3</td>\n",
       "      <td>4</td>\n",
       "      <td>3</td>\n",
       "      <td>...</td>\n",
       "      <td>2</td>\n",
       "      <td>5</td>\n",
       "      <td>3</td>\n",
       "      <td>2</td>\n",
       "      <td>4</td>\n",
       "      <td>4</td>\n",
       "      <td>4</td>\n",
       "      <td>5</td>\n",
       "      <td>0</td>\n",
       "      <td>0</td>\n",
       "    </tr>\n",
       "    <tr>\n",
       "      <th>2</th>\n",
       "      <td>dissatisfied</td>\n",
       "      <td>Male</td>\n",
       "      <td>Loyal Customer</td>\n",
       "      <td>27</td>\n",
       "      <td>Business travel</td>\n",
       "      <td>Business</td>\n",
       "      <td>1825</td>\n",
       "      <td>2</td>\n",
       "      <td>3</td>\n",
       "      <td>4</td>\n",
       "      <td>...</td>\n",
       "      <td>2</td>\n",
       "      <td>2</td>\n",
       "      <td>1</td>\n",
       "      <td>3</td>\n",
       "      <td>3</td>\n",
       "      <td>1</td>\n",
       "      <td>2</td>\n",
       "      <td>2</td>\n",
       "      <td>76</td>\n",
       "      <td>57</td>\n",
       "    </tr>\n",
       "    <tr>\n",
       "      <th>3</th>\n",
       "      <td>satisfied</td>\n",
       "      <td>Male</td>\n",
       "      <td>Loyal Customer</td>\n",
       "      <td>50</td>\n",
       "      <td>Business travel</td>\n",
       "      <td>Eco</td>\n",
       "      <td>2024</td>\n",
       "      <td>4</td>\n",
       "      <td>4</td>\n",
       "      <td>2</td>\n",
       "      <td>...</td>\n",
       "      <td>4</td>\n",
       "      <td>4</td>\n",
       "      <td>2</td>\n",
       "      <td>5</td>\n",
       "      <td>4</td>\n",
       "      <td>2</td>\n",
       "      <td>4</td>\n",
       "      <td>4</td>\n",
       "      <td>125</td>\n",
       "      <td>129</td>\n",
       "    </tr>\n",
       "    <tr>\n",
       "      <th>4</th>\n",
       "      <td>dissatisfied</td>\n",
       "      <td>Male</td>\n",
       "      <td>Loyal Customer</td>\n",
       "      <td>70</td>\n",
       "      <td>Personal Travel</td>\n",
       "      <td>Eco</td>\n",
       "      <td>1435</td>\n",
       "      <td>4</td>\n",
       "      <td>4</td>\n",
       "      <td>4</td>\n",
       "      <td>...</td>\n",
       "      <td>5</td>\n",
       "      <td>5</td>\n",
       "      <td>5</td>\n",
       "      <td>4</td>\n",
       "      <td>5</td>\n",
       "      <td>4</td>\n",
       "      <td>4</td>\n",
       "      <td>5</td>\n",
       "      <td>0</td>\n",
       "      <td>0</td>\n",
       "    </tr>\n",
       "  </tbody>\n",
       "</table>\n",
       "<p>5 rows × 23 columns</p>\n",
       "</div>"
      ],
      "text/plain": [
       "   satisfaction Gender   Customer Type  Age   Type of Travel     Class  \\\n",
       "0     satisfied   Male  Loyal Customer   37  Business travel  Business   \n",
       "1  dissatisfied   Male  Loyal Customer   60  Personal Travel       Eco   \n",
       "2  dissatisfied   Male  Loyal Customer   27  Business travel  Business   \n",
       "3     satisfied   Male  Loyal Customer   50  Business travel       Eco   \n",
       "4  dissatisfied   Male  Loyal Customer   70  Personal Travel       Eco   \n",
       "\n",
       "   Flight Distance  Seat comfort  Departure/Arrival time convenient  \\\n",
       "0             3785             4                                  4   \n",
       "1             1784             3                                  4   \n",
       "2             1825             2                                  3   \n",
       "3             2024             4                                  4   \n",
       "4             1435             4                                  4   \n",
       "\n",
       "   Food and drink  ...  Online support  Ease of Online booking  \\\n",
       "0               4  ...               4                       4   \n",
       "1               3  ...               2                       5   \n",
       "2               4  ...               2                       2   \n",
       "3               2  ...               4                       4   \n",
       "4               4  ...               5                       5   \n",
       "\n",
       "   On-board service  Leg room service  Baggage handling  Checkin service  \\\n",
       "0                 4                 4                 4                5   \n",
       "1                 3                 2                 4                4   \n",
       "2                 1                 3                 3                1   \n",
       "3                 2                 5                 4                2   \n",
       "4                 5                 4                 5                4   \n",
       "\n",
       "   Cleanliness  Online boarding  Departure Delay in Minutes  \\\n",
       "0            4                4                           1   \n",
       "1            4                5                           0   \n",
       "2            2                2                          76   \n",
       "3            4                4                         125   \n",
       "4            4                5                           0   \n",
       "\n",
       "   Arrival Delay in Minutes  \n",
       "0                         9  \n",
       "1                         0  \n",
       "2                        57  \n",
       "3                       129  \n",
       "4                         0  \n",
       "\n",
       "[5 rows x 23 columns]"
      ]
     },
     "execution_count": 28,
     "metadata": {},
     "output_type": "execute_result"
    }
   ],
   "source": [
    "train.head()"
   ]
  },
  {
   "cell_type": "code",
   "execution_count": 29,
   "metadata": {},
   "outputs": [],
   "source": [
    "# data.dropna(axis=1, inplace=True)"
   ]
  },
  {
   "cell_type": "code",
   "execution_count": 30,
   "metadata": {},
   "outputs": [],
   "source": [
    "data = pd.read_csv('../Data/raw/Invistico_Airline.csv')"
   ]
  },
  {
   "cell_type": "code",
   "execution_count": 31,
   "metadata": {},
   "outputs": [],
   "source": [
    "X_train, X_test, y_train, y_test = train_test_split(data.iloc[:, 1:], data.iloc[:, 0], test_size=0.2, random_state=16)"
   ]
  },
  {
   "cell_type": "markdown",
   "metadata": {},
   "source": [
    "# Checking for class-imbalance"
   ]
  },
  {
   "cell_type": "code",
   "execution_count": 32,
   "metadata": {},
   "outputs": [
    {
     "name": "stdout",
     "output_type": "stream",
     "text": [
      "satisfied       56851\n",
      "dissatisfied    47053\n",
      "Name: satisfaction, dtype: int64\n"
     ]
    },
    {
     "name": "stderr",
     "output_type": "stream",
     "text": [
      "C:\\Users\\ADMIN\\.conda\\envs\\mlopslab\\lib\\site-packages\\seaborn\\_decorators.py:36: FutureWarning: Pass the following variables as keyword args: x, y. From version 0.12, the only valid positional argument will be `data`, and passing other arguments without an explicit keyword will result in an error or misinterpretation.\n",
      "  warnings.warn(\n"
     ]
    },
    {
     "data": {
      "text/plain": [
       "<matplotlib.axes._subplots.AxesSubplot at 0x1929ceb6130>"
      ]
     },
     "execution_count": 32,
     "metadata": {},
     "output_type": "execute_result"
    },
    {
     "data": {
      "image/png": "[encoded data removed]",
      "text/plain": [
       "<Figure size 432x288 with 1 Axes>"
      ]
     },
     "metadata": {
      "needs_background": "light"
     },
     "output_type": "display_data"
    }
   ],
   "source": [
    "# train data check\n",
    "x = y_train.value_counts()\n",
    "print(x)\n",
    "sns.barplot(x.index, x)"
   ]
  },
  {
   "cell_type": "code",
   "execution_count": 33,
   "metadata": {},
   "outputs": [
    {
     "name": "stdout",
     "output_type": "stream",
     "text": [
      "satisfied       14236\n",
      "dissatisfied    11740\n",
      "Name: satisfaction, dtype: int64\n"
     ]
    },
    {
     "name": "stderr",
     "output_type": "stream",
     "text": [
      "C:\\Users\\ADMIN\\.conda\\envs\\mlopslab\\lib\\site-packages\\seaborn\\_decorators.py:36: FutureWarning: Pass the following variables as keyword args: x, y. From version 0.12, the only valid positional argument will be `data`, and passing other arguments without an explicit keyword will result in an error or misinterpretation.\n",
      "  warnings.warn(\n"
     ]
    },
    {
     "data": {
      "text/plain": [
       "<matplotlib.axes._subplots.AxesSubplot at 0x1929d911ac0>"
      ]
     },
     "execution_count": 33,
     "metadata": {},
     "output_type": "execute_result"
    },
    {
     "data": {
      "image/png": "[encoded data removed]",
      "text/plain": [
       "<Figure size 432x288 with 1 Axes>"
      ]
     },
     "metadata": {
      "needs_background": "light"
     },
     "output_type": "display_data"
    }
   ],
   "source": [
    "# test data check\n",
    "x = y_test.value_counts()\n",
    "print(x)\n",
    "sns.barplot(x.index, x)"
   ]
  },
  {
   "cell_type": "markdown",
   "metadata": {},
   "source": [
    "# Identifying Categorical & Numerical features"
   ]
  },
  {
   "cell_type": "code",
   "execution_count": 34,
   "metadata": {},
   "outputs": [],
   "source": [
    "numerical_features = [x for x in X_train.select_dtypes(exclude = object)]\n",
    "categorical_features = [x for x in X_train.select_dtypes(include = object)]"
   ]
  },
  {
   "cell_type": "code",
   "execution_count": 35,
   "metadata": {},
   "outputs": [
    {
     "name": "stdout",
     "output_type": "stream",
     "text": [
      "The numerical features of the dataset are:\n",
      "Age\n",
      "Flight Distance\n",
      "Seat comfort\n",
      "Departure/Arrival time convenient\n",
      "Food and drink\n",
      "Gate location\n",
      "Inflight wifi service\n",
      "Inflight entertainment\n",
      "Online support\n",
      "Ease of Online booking\n",
      "On-board service\n",
      "Leg room service\n",
      "Baggage handling\n",
      "Checkin service\n",
      "Cleanliness\n",
      "Online boarding\n",
      "Departure Delay in Minutes\n",
      "Arrival Delay in Minutes\n"
     ]
    }
   ],
   "source": [
    "print(\"The numerical features of the dataset are:\")\n",
    "for _ in numerical_features: print(_)"
   ]
  },
  {
   "cell_type": "code",
   "execution_count": 57,
   "metadata": {},
   "outputs": [
    {
     "name": "stdout",
     "output_type": "stream",
     "text": [
      "The categorical features of the dataset are:\n",
      "Gender\n",
      "Customer Type\n",
      "Type of Travel\n",
      "Class\n"
     ]
    }
   ],
   "source": [
    "print(\"The categorical features of the dataset are:\")\n",
    "for _ in categorical_features: print(_)"
   ]
  },
  {
   "cell_type": "code",
   "execution_count": 37,
   "metadata": {},
   "outputs": [
    {
     "name": "stdout",
     "output_type": "stream",
     "text": [
      "\n",
      "The unique labels in Gender is ['Male' 'Female']\n",
      "The values in Gender is \n",
      "Female    52738\n",
      "Male      51166\n",
      "Name: Gender, dtype: int64\n",
      "\n",
      "\n",
      "The unique labels in Customer Type is ['Loyal Customer' 'disloyal Customer']\n",
      "The values in Customer Type is \n",
      "Loyal Customer       84880\n",
      "disloyal Customer    19024\n",
      "Name: Customer Type, dtype: int64\n",
      "\n",
      "\n",
      "The unique labels in Type of Travel is ['Personal Travel' 'Business travel']\n",
      "The values in Type of Travel is \n",
      "Business travel    71797\n",
      "Personal Travel    32107\n",
      "Name: Type of Travel, dtype: int64\n",
      "\n",
      "\n",
      "The unique labels in Class is ['Eco' 'Business' 'Eco Plus']\n",
      "The values in Class is \n",
      "Business    49812\n",
      "Eco         46581\n",
      "Eco Plus     7511\n",
      "Name: Class, dtype: int64\n",
      "\n"
     ]
    }
   ],
   "source": [
    "for f in categorical_features:\n",
    "    print(\"\\nThe unique labels in {} is {}\".format(f, X_train[f].unique()))\n",
    "    print(\"The values in {} is \\n{}\\n\".format(f,  X_train[f].value_counts()))"
   ]
  },
  {
   "cell_type": "markdown",
   "metadata": {},
   "source": [
    "# Encode categorical variables"
   ]
  },
  {
   "cell_type": "code",
   "execution_count": 39,
   "metadata": {},
   "outputs": [],
   "source": [
    "# ohe_encoder = OneHotEncoder(drop='first', handle_unknown='ignore')\n",
    "# train_autoML = pd.DataFrame(ohe_encoder.fit_transform(X_train[categorical_features]), columns=ohe_encoder.get_feature_names_out, index=X_train.index)"
   ]
  },
  {
   "cell_type": "code",
   "execution_count": 40,
   "metadata": {},
   "outputs": [],
   "source": [
    "# numeric_transformer = StandardScaler()"
   ]
  },
  {
   "cell_type": "code",
   "execution_count": 41,
   "metadata": {},
   "outputs": [],
   "source": [
    "# preprocessor = ColumnTransformer(\n",
    "#     transformers=[        \n",
    "#         ('num', numeric_transformer, numerical_features),\n",
    "#         ('cat', ohe_encoder, categorical_features)\n",
    "#         ])\n"
   ]
  },
  {
   "cell_type": "code",
   "execution_count": 42,
   "metadata": {},
   "outputs": [],
   "source": [
    "# prep_auto = Pipeline(steps=[('preprocessing', preprocessor)])\n",
    "# prep_auto.fit(X_train.copy())\n"
   ]
  },
  {
   "cell_type": "code",
   "execution_count": 43,
   "metadata": {},
   "outputs": [],
   "source": [
    "# train_auto = prep_auto.transform(X_train.copy())\n",
    "# test_auto = prep_auto.transform(X_test.copy())"
   ]
  },
  {
   "cell_type": "code",
   "execution_count": 44,
   "metadata": {},
   "outputs": [],
   "source": [
    "# train_auto.head()"
   ]
  },
  {
   "cell_type": "markdown",
   "metadata": {},
   "source": [
    "# AutoML"
   ]
  },
  {
   "cell_type": "code",
   "execution_count": 5,
   "metadata": {},
   "outputs": [
    {
     "name": "stdout",
     "output_type": "stream",
     "text": [
      "Checking whether there is an H2O instance running at http://localhost:54321 ..... not found.\n",
      "Attempting to start a local H2O server...\n",
      "; Java HotSpot(TM) 64-Bit Server VM (build 25.311-b11, mixed mode)\n",
      "  Starting server from C:\\Users\\ADMIN\\.conda\\envs\\mlopslab\\Lib\\site-packages\\h2o\\backend\\bin\\h2o.jar\n",
      "  Ice root: C:\\Users\\ADMIN\\AppData\\Local\\Temp\\tmpw3rf41wu\n",
      "  JVM stdout: C:\\Users\\ADMIN\\AppData\\Local\\Temp\\tmpw3rf41wu\\h2o_ADMIN_started_from_python.out\n",
      "  JVM stderr: C:\\Users\\ADMIN\\AppData\\Local\\Temp\\tmpw3rf41wu\\h2o_ADMIN_started_from_python.err\n",
      "  Server is running at http://127.0.0.1:54321\n",
      "Connecting to H2O server at http://127.0.0.1:54321 ... successful.\n"
     ]
    },
    {
     "data": {
      "text/html": [
       "<div style=\"overflow:auto\"><table style=\"width:50%\"><tr><td>H2O_cluster_uptime:</td>\n",
       "<td>03 secs</td></tr>\n",
       "<tr><td>H2O_cluster_timezone:</td>\n",
       "<td>Asia/Kolkata</td></tr>\n",
       "<tr><td>H2O_data_parsing_timezone:</td>\n",
       "<td>UTC</td></tr>\n",
       "<tr><td>H2O_cluster_version:</td>\n",
       "<td>3.34.0.3</td></tr>\n",
       "<tr><td>H2O_cluster_version_age:</td>\n",
       "<td>1 month and 19 days </td></tr>\n",
       "<tr><td>H2O_cluster_name:</td>\n",
       "<td>H2O_from_python_ADMIN_wmgkse</td></tr>\n",
       "<tr><td>H2O_cluster_total_nodes:</td>\n",
       "<td>1</td></tr>\n",
       "<tr><td>H2O_cluster_free_memory:</td>\n",
       "<td>3.507 Gb</td></tr>\n",
       "<tr><td>H2O_cluster_total_cores:</td>\n",
       "<td>12</td></tr>\n",
       "<tr><td>H2O_cluster_allowed_cores:</td>\n",
       "<td>12</td></tr>\n",
       "<tr><td>H2O_cluster_status:</td>\n",
       "<td>locked, healthy</td></tr>\n",
       "<tr><td>H2O_connection_url:</td>\n",
       "<td>http://127.0.0.1:54321</td></tr>\n",
       "<tr><td>H2O_connection_proxy:</td>\n",
       "<td>{\"http\": null, \"https\": null}</td></tr>\n",
       "<tr><td>H2O_internal_security:</td>\n",
       "<td>False</td></tr>\n",
       "<tr><td>H2O_API_Extensions:</td>\n",
       "<td>Amazon S3, Algos, AutoML, Core V3, TargetEncoder, Core V4</td></tr>\n",
       "<tr><td>Python_version:</td>\n",
       "<td>3.8.12 final</td></tr></table></div>"
      ],
      "text/plain": [
       "--------------------------  ---------------------------------------------------------\n",
       "H2O_cluster_uptime:         03 secs\n",
       "H2O_cluster_timezone:       Asia/Kolkata\n",
       "H2O_data_parsing_timezone:  UTC\n",
       "H2O_cluster_version:        3.34.0.3\n",
       "H2O_cluster_version_age:    1 month and 19 days\n",
       "H2O_cluster_name:           H2O_from_python_ADMIN_wmgkse\n",
       "H2O_cluster_total_nodes:    1\n",
       "H2O_cluster_free_memory:    3.507 Gb\n",
       "H2O_cluster_total_cores:    12\n",
       "H2O_cluster_allowed_cores:  12\n",
       "H2O_cluster_status:         locked, healthy\n",
       "H2O_connection_url:         http://127.0.0.1:54321\n",
       "H2O_connection_proxy:       {\"http\": null, \"https\": null}\n",
       "H2O_internal_security:      False\n",
       "H2O_API_Extensions:         Amazon S3, Algos, AutoML, Core V3, TargetEncoder, Core V4\n",
       "Python_version:             3.8.12 final\n",
       "--------------------------  ---------------------------------------------------------"
      ]
     },
     "metadata": {},
     "output_type": "display_data"
    },
    {
     "name": "stdout",
     "output_type": "stream",
     "text": [
      "Parse progress: |████████████████████████████████████████████████████████████████| (done) 100%\n",
      "Parse progress: |████████████████████████████████████████████████████████████████| (done) 100%\n"
     ]
    }
   ],
   "source": [
    "## prepare data\n",
    "h2o.init()\n",
    "\n",
    "h2o_train = h2o.H2OFrame(X_train)\n",
    "h2o_test = h2o.H2OFrame(X_test)"
   ]
  },
  {
   "cell_type": "code",
   "execution_count": 112,
   "metadata": {},
   "outputs": [
    {
     "name": "stdout",
     "output_type": "stream",
     "text": [
      "AutoML progress: |\n",
      "21:02:52.309: AutoML: XGBoost is not available; skipping it.\n",
      "21:02:52.310: Step 'best_of_family_xgboost' not defined in provider 'StackedEnsemble': skipping it.\n",
      "21:02:52.310: Step 'all_xgboost' not defined in provider 'StackedEnsemble': skipping it.\n",
      "\n",
      "███████████████████████████████████████████████████████████████| (done) 100%\n",
      "Model Details\n",
      "=============\n",
      "H2OStackedEnsembleEstimator :  Stacked Ensemble\n",
      "Model Key:  StackedEnsemble_AllModels_5_AutoML_2_20211126_210252\n",
      "\n",
      "No model summary for this model\n",
      "\n",
      "ModelMetricsBinomialGLM: stackedensemble\n",
      "** Reported on train data. **\n",
      "\n",
      "MSE: 0.009333331106775212\n",
      "RMSE: 0.09660916678439584\n",
      "LogLoss: 0.04014538133094185\n",
      "Null degrees of freedom: 9926\n",
      "Residual degrees of freedom: 9917\n",
      "Null deviance: 13661.091866799405\n",
      "Residual deviance: 797.0464009445195\n",
      "AIC: 817.0464009445195\n",
      "AUC: 0.9997181355140968\n",
      "AUCPR: 0.9997717016962354\n",
      "Gini: 0.9994362710281937\n",
      "\n",
      "Confusion Matrix (Act/Pred) for max f1 @ threshold = 0.4548152677163746: \n"
     ]
    },
    {
     "data": {
      "text/html": [
       "<div>\n",
       "<style scoped>\n",
       "    .dataframe tbody tr th:only-of-type {\n",
       "        vertical-align: middle;\n",
       "    }\n",
       "\n",
       "    .dataframe tbody tr th {\n",
       "        vertical-align: top;\n",
       "    }\n",
       "\n",
       "    .dataframe thead th {\n",
       "        text-align: right;\n",
       "    }\n",
       "</style>\n",
       "<table border=\"1\" class=\"dataframe\">\n",
       "  <thead>\n",
       "    <tr style=\"text-align: right;\">\n",
       "      <th></th>\n",
       "      <th></th>\n",
       "      <th>dissatisfied</th>\n",
       "      <th>satisfied</th>\n",
       "      <th>Error</th>\n",
       "      <th>Rate</th>\n",
       "    </tr>\n",
       "  </thead>\n",
       "  <tbody>\n",
       "    <tr>\n",
       "      <th>0</th>\n",
       "      <td>dissatisfied</td>\n",
       "      <td>4429.0</td>\n",
       "      <td>34.0</td>\n",
       "      <td>0.0076</td>\n",
       "      <td>(34.0/4463.0)</td>\n",
       "    </tr>\n",
       "    <tr>\n",
       "      <th>1</th>\n",
       "      <td>satisfied</td>\n",
       "      <td>33.0</td>\n",
       "      <td>5431.0</td>\n",
       "      <td>0.006</td>\n",
       "      <td>(33.0/5464.0)</td>\n",
       "    </tr>\n",
       "    <tr>\n",
       "      <th>2</th>\n",
       "      <td>Total</td>\n",
       "      <td>4462.0</td>\n",
       "      <td>5465.0</td>\n",
       "      <td>0.0067</td>\n",
       "      <td>(67.0/9927.0)</td>\n",
       "    </tr>\n",
       "  </tbody>\n",
       "</table>\n",
       "</div>"
      ],
      "text/plain": [
       "                 dissatisfied  satisfied   Error            Rate\n",
       "0  dissatisfied        4429.0       34.0  0.0076   (34.0/4463.0)\n",
       "1     satisfied          33.0     5431.0   0.006   (33.0/5464.0)\n",
       "2         Total        4462.0     5465.0  0.0067   (67.0/9927.0)"
      ]
     },
     "metadata": {},
     "output_type": "display_data"
    },
    {
     "name": "stdout",
     "output_type": "stream",
     "text": [
      "\n",
      "Maximum Metrics: Maximum metrics at their respective thresholds\n"
     ]
    },
    {
     "data": {
      "text/html": [
       "<div>\n",
       "<style scoped>\n",
       "    .dataframe tbody tr th:only-of-type {\n",
       "        vertical-align: middle;\n",
       "    }\n",
       "\n",
       "    .dataframe tbody tr th {\n",
       "        vertical-align: top;\n",
       "    }\n",
       "\n",
       "    .dataframe thead th {\n",
       "        text-align: right;\n",
       "    }\n",
       "</style>\n",
       "<table border=\"1\" class=\"dataframe\">\n",
       "  <thead>\n",
       "    <tr style=\"text-align: right;\">\n",
       "      <th></th>\n",
       "      <th>metric</th>\n",
       "      <th>threshold</th>\n",
       "      <th>value</th>\n",
       "      <th>idx</th>\n",
       "    </tr>\n",
       "  </thead>\n",
       "  <tbody>\n",
       "    <tr>\n",
       "      <th>0</th>\n",
       "      <td>max f1</td>\n",
       "      <td>0.454815</td>\n",
       "      <td>0.993870</td>\n",
       "      <td>199.0</td>\n",
       "    </tr>\n",
       "    <tr>\n",
       "      <th>1</th>\n",
       "      <td>max f2</td>\n",
       "      <td>0.384584</td>\n",
       "      <td>0.994923</td>\n",
       "      <td>217.0</td>\n",
       "    </tr>\n",
       "    <tr>\n",
       "      <th>2</th>\n",
       "      <td>max f0point5</td>\n",
       "      <td>0.531015</td>\n",
       "      <td>0.995282</td>\n",
       "      <td>181.0</td>\n",
       "    </tr>\n",
       "    <tr>\n",
       "      <th>3</th>\n",
       "      <td>max accuracy</td>\n",
       "      <td>0.454815</td>\n",
       "      <td>0.993251</td>\n",
       "      <td>199.0</td>\n",
       "    </tr>\n",
       "    <tr>\n",
       "      <th>4</th>\n",
       "      <td>max precision</td>\n",
       "      <td>0.999803</td>\n",
       "      <td>1.000000</td>\n",
       "      <td>0.0</td>\n",
       "    </tr>\n",
       "    <tr>\n",
       "      <th>5</th>\n",
       "      <td>max recall</td>\n",
       "      <td>0.134861</td>\n",
       "      <td>1.000000</td>\n",
       "      <td>296.0</td>\n",
       "    </tr>\n",
       "    <tr>\n",
       "      <th>6</th>\n",
       "      <td>max specificity</td>\n",
       "      <td>0.999803</td>\n",
       "      <td>1.000000</td>\n",
       "      <td>0.0</td>\n",
       "    </tr>\n",
       "    <tr>\n",
       "      <th>7</th>\n",
       "      <td>max absolute_mcc</td>\n",
       "      <td>0.454815</td>\n",
       "      <td>0.986363</td>\n",
       "      <td>199.0</td>\n",
       "    </tr>\n",
       "    <tr>\n",
       "      <th>8</th>\n",
       "      <td>max min_per_class_accuracy</td>\n",
       "      <td>0.479070</td>\n",
       "      <td>0.992679</td>\n",
       "      <td>194.0</td>\n",
       "    </tr>\n",
       "    <tr>\n",
       "      <th>9</th>\n",
       "      <td>max mean_per_class_accuracy</td>\n",
       "      <td>0.454815</td>\n",
       "      <td>0.993171</td>\n",
       "      <td>199.0</td>\n",
       "    </tr>\n",
       "    <tr>\n",
       "      <th>10</th>\n",
       "      <td>max tns</td>\n",
       "      <td>0.999803</td>\n",
       "      <td>4463.000000</td>\n",
       "      <td>0.0</td>\n",
       "    </tr>\n",
       "    <tr>\n",
       "      <th>11</th>\n",
       "      <td>max fns</td>\n",
       "      <td>0.999803</td>\n",
       "      <td>4226.000000</td>\n",
       "      <td>0.0</td>\n",
       "    </tr>\n",
       "    <tr>\n",
       "      <th>12</th>\n",
       "      <td>max fps</td>\n",
       "      <td>0.000383</td>\n",
       "      <td>4463.000000</td>\n",
       "      <td>399.0</td>\n",
       "    </tr>\n",
       "    <tr>\n",
       "      <th>13</th>\n",
       "      <td>max tps</td>\n",
       "      <td>0.134861</td>\n",
       "      <td>5464.000000</td>\n",
       "      <td>296.0</td>\n",
       "    </tr>\n",
       "    <tr>\n",
       "      <th>14</th>\n",
       "      <td>max tnr</td>\n",
       "      <td>0.999803</td>\n",
       "      <td>1.000000</td>\n",
       "      <td>0.0</td>\n",
       "    </tr>\n",
       "    <tr>\n",
       "      <th>15</th>\n",
       "      <td>max fnr</td>\n",
       "      <td>0.999803</td>\n",
       "      <td>0.773426</td>\n",
       "      <td>0.0</td>\n",
       "    </tr>\n",
       "    <tr>\n",
       "      <th>16</th>\n",
       "      <td>max fpr</td>\n",
       "      <td>0.000383</td>\n",
       "      <td>1.000000</td>\n",
       "      <td>399.0</td>\n",
       "    </tr>\n",
       "    <tr>\n",
       "      <th>17</th>\n",
       "      <td>max tpr</td>\n",
       "      <td>0.134861</td>\n",
       "      <td>1.000000</td>\n",
       "      <td>296.0</td>\n",
       "    </tr>\n",
       "  </tbody>\n",
       "</table>\n",
       "</div>"
      ],
      "text/plain": [
       "                         metric  threshold        value    idx\n",
       "0                        max f1   0.454815     0.993870  199.0\n",
       "1                        max f2   0.384584     0.994923  217.0\n",
       "2                  max f0point5   0.531015     0.995282  181.0\n",
       "3                  max accuracy   0.454815     0.993251  199.0\n",
       "4                 max precision   0.999803     1.000000    0.0\n",
       "5                    max recall   0.134861     1.000000  296.0\n",
       "6               max specificity   0.999803     1.000000    0.0\n",
       "7              max absolute_mcc   0.454815     0.986363  199.0\n",
       "8    max min_per_class_accuracy   0.479070     0.992679  194.0\n",
       "9   max mean_per_class_accuracy   0.454815     0.993171  199.0\n",
       "10                      max tns   0.999803  4463.000000    0.0\n",
       "11                      max fns   0.999803  4226.000000    0.0\n",
       "12                      max fps   0.000383  4463.000000  399.0\n",
       "13                      max tps   0.134861  5464.000000  296.0\n",
       "14                      max tnr   0.999803     1.000000    0.0\n",
       "15                      max fnr   0.999803     0.773426    0.0\n",
       "16                      max fpr   0.000383     1.000000  399.0\n",
       "17                      max tpr   0.134861     1.000000  296.0"
      ]
     },
     "metadata": {},
     "output_type": "display_data"
    },
    {
     "name": "stdout",
     "output_type": "stream",
     "text": [
      "\n",
      "Gains/Lift Table: Avg response rate: 55.04 %, avg score: 55.07 %\n"
     ]
    },
    {
     "data": {
      "text/html": [
       "<div>\n",
       "<style scoped>\n",
       "    .dataframe tbody tr th:only-of-type {\n",
       "        vertical-align: middle;\n",
       "    }\n",
       "\n",
       "    .dataframe tbody tr th {\n",
       "        vertical-align: top;\n",
       "    }\n",
       "\n",
       "    .dataframe thead th {\n",
       "        text-align: right;\n",
       "    }\n",
       "</style>\n",
       "<table border=\"1\" class=\"dataframe\">\n",
       "  <thead>\n",
       "    <tr style=\"text-align: right;\">\n",
       "      <th></th>\n",
       "      <th>group</th>\n",
       "      <th>cumulative_data_fraction</th>\n",
       "      <th>lower_threshold</th>\n",
       "      <th>lift</th>\n",
       "      <th>cumulative_lift</th>\n",
       "      <th>response_rate</th>\n",
       "      <th>score</th>\n",
       "      <th>cumulative_response_rate</th>\n",
       "      <th>cumulative_score</th>\n",
       "      <th>capture_rate</th>\n",
       "      <th>cumulative_capture_rate</th>\n",
       "      <th>gain</th>\n",
       "      <th>cumulative_gain</th>\n",
       "      <th>kolmogorov_smirnov</th>\n",
       "    </tr>\n",
       "  </thead>\n",
       "  <tbody>\n",
       "    <tr>\n",
       "      <th>0</th>\n",
       "      <td>1</td>\n",
       "      <td>0.010074</td>\n",
       "      <td>0.999888</td>\n",
       "      <td>1.816801</td>\n",
       "      <td>1.816801</td>\n",
       "      <td>1.000000</td>\n",
       "      <td>0.999902</td>\n",
       "      <td>1.000000</td>\n",
       "      <td>0.999902</td>\n",
       "      <td>0.018302</td>\n",
       "      <td>0.018302</td>\n",
       "      <td>81.680088</td>\n",
       "      <td>81.680088</td>\n",
       "      <td>0.018302</td>\n",
       "    </tr>\n",
       "    <tr>\n",
       "      <th>1</th>\n",
       "      <td>2</td>\n",
       "      <td>0.020046</td>\n",
       "      <td>0.999869</td>\n",
       "      <td>1.816801</td>\n",
       "      <td>1.816801</td>\n",
       "      <td>1.000000</td>\n",
       "      <td>0.999878</td>\n",
       "      <td>1.000000</td>\n",
       "      <td>0.999890</td>\n",
       "      <td>0.018119</td>\n",
       "      <td>0.036420</td>\n",
       "      <td>81.680088</td>\n",
       "      <td>81.680088</td>\n",
       "      <td>0.036420</td>\n",
       "    </tr>\n",
       "    <tr>\n",
       "      <th>2</th>\n",
       "      <td>3</td>\n",
       "      <td>0.030019</td>\n",
       "      <td>0.999853</td>\n",
       "      <td>1.816801</td>\n",
       "      <td>1.816801</td>\n",
       "      <td>1.000000</td>\n",
       "      <td>0.999861</td>\n",
       "      <td>1.000000</td>\n",
       "      <td>0.999881</td>\n",
       "      <td>0.018119</td>\n",
       "      <td>0.054539</td>\n",
       "      <td>81.680088</td>\n",
       "      <td>81.680088</td>\n",
       "      <td>0.054539</td>\n",
       "    </tr>\n",
       "    <tr>\n",
       "      <th>3</th>\n",
       "      <td>4</td>\n",
       "      <td>0.040093</td>\n",
       "      <td>0.999838</td>\n",
       "      <td>1.816801</td>\n",
       "      <td>1.816801</td>\n",
       "      <td>1.000000</td>\n",
       "      <td>0.999846</td>\n",
       "      <td>1.000000</td>\n",
       "      <td>0.999872</td>\n",
       "      <td>0.018302</td>\n",
       "      <td>0.072840</td>\n",
       "      <td>81.680088</td>\n",
       "      <td>81.680088</td>\n",
       "      <td>0.072840</td>\n",
       "    </tr>\n",
       "    <tr>\n",
       "      <th>4</th>\n",
       "      <td>5</td>\n",
       "      <td>0.050065</td>\n",
       "      <td>0.999823</td>\n",
       "      <td>1.816801</td>\n",
       "      <td>1.816801</td>\n",
       "      <td>1.000000</td>\n",
       "      <td>0.999829</td>\n",
       "      <td>1.000000</td>\n",
       "      <td>0.999863</td>\n",
       "      <td>0.018119</td>\n",
       "      <td>0.090959</td>\n",
       "      <td>81.680088</td>\n",
       "      <td>81.680088</td>\n",
       "      <td>0.090959</td>\n",
       "    </tr>\n",
       "    <tr>\n",
       "      <th>5</th>\n",
       "      <td>6</td>\n",
       "      <td>0.100030</td>\n",
       "      <td>0.999747</td>\n",
       "      <td>1.816801</td>\n",
       "      <td>1.816801</td>\n",
       "      <td>1.000000</td>\n",
       "      <td>0.999786</td>\n",
       "      <td>1.000000</td>\n",
       "      <td>0.999825</td>\n",
       "      <td>0.090776</td>\n",
       "      <td>0.181735</td>\n",
       "      <td>81.680088</td>\n",
       "      <td>81.680088</td>\n",
       "      <td>0.181735</td>\n",
       "    </tr>\n",
       "    <tr>\n",
       "      <th>6</th>\n",
       "      <td>7</td>\n",
       "      <td>0.149995</td>\n",
       "      <td>0.999659</td>\n",
       "      <td>1.816801</td>\n",
       "      <td>1.816801</td>\n",
       "      <td>1.000000</td>\n",
       "      <td>0.999705</td>\n",
       "      <td>1.000000</td>\n",
       "      <td>0.999785</td>\n",
       "      <td>0.090776</td>\n",
       "      <td>0.272511</td>\n",
       "      <td>81.680088</td>\n",
       "      <td>81.680088</td>\n",
       "      <td>0.272511</td>\n",
       "    </tr>\n",
       "    <tr>\n",
       "      <th>7</th>\n",
       "      <td>8</td>\n",
       "      <td>0.200060</td>\n",
       "      <td>0.999530</td>\n",
       "      <td>1.816801</td>\n",
       "      <td>1.816801</td>\n",
       "      <td>1.000000</td>\n",
       "      <td>0.999601</td>\n",
       "      <td>1.000000</td>\n",
       "      <td>0.999739</td>\n",
       "      <td>0.090959</td>\n",
       "      <td>0.363470</td>\n",
       "      <td>81.680088</td>\n",
       "      <td>81.680088</td>\n",
       "      <td>0.363470</td>\n",
       "    </tr>\n",
       "    <tr>\n",
       "      <th>8</th>\n",
       "      <td>9</td>\n",
       "      <td>0.299990</td>\n",
       "      <td>0.999044</td>\n",
       "      <td>1.816801</td>\n",
       "      <td>1.816801</td>\n",
       "      <td>1.000000</td>\n",
       "      <td>0.999335</td>\n",
       "      <td>1.000000</td>\n",
       "      <td>0.999604</td>\n",
       "      <td>0.181552</td>\n",
       "      <td>0.545022</td>\n",
       "      <td>81.680088</td>\n",
       "      <td>81.680088</td>\n",
       "      <td>0.545022</td>\n",
       "    </tr>\n",
       "    <tr>\n",
       "      <th>9</th>\n",
       "      <td>10</td>\n",
       "      <td>0.400020</td>\n",
       "      <td>0.996567</td>\n",
       "      <td>1.816801</td>\n",
       "      <td>1.816801</td>\n",
       "      <td>1.000000</td>\n",
       "      <td>0.998245</td>\n",
       "      <td>1.000000</td>\n",
       "      <td>0.999264</td>\n",
       "      <td>0.181735</td>\n",
       "      <td>0.726757</td>\n",
       "      <td>81.680088</td>\n",
       "      <td>81.680088</td>\n",
       "      <td>0.726757</td>\n",
       "    </tr>\n",
       "    <tr>\n",
       "      <th>10</th>\n",
       "      <td>11</td>\n",
       "      <td>0.500050</td>\n",
       "      <td>0.911792</td>\n",
       "      <td>1.816801</td>\n",
       "      <td>1.816801</td>\n",
       "      <td>1.000000</td>\n",
       "      <td>0.978490</td>\n",
       "      <td>1.000000</td>\n",
       "      <td>0.995109</td>\n",
       "      <td>0.181735</td>\n",
       "      <td>0.908492</td>\n",
       "      <td>81.680088</td>\n",
       "      <td>81.680088</td>\n",
       "      <td>0.908492</td>\n",
       "    </tr>\n",
       "    <tr>\n",
       "      <th>11</th>\n",
       "      <td>12</td>\n",
       "      <td>0.599980</td>\n",
       "      <td>0.104343</td>\n",
       "      <td>0.915726</td>\n",
       "      <td>1.666723</td>\n",
       "      <td>0.504032</td>\n",
       "      <td>0.487477</td>\n",
       "      <td>0.917394</td>\n",
       "      <td>0.910560</td>\n",
       "      <td>0.091508</td>\n",
       "      <td>1.000000</td>\n",
       "      <td>-8.427375</td>\n",
       "      <td>66.672263</td>\n",
       "      <td>0.889760</td>\n",
       "    </tr>\n",
       "    <tr>\n",
       "      <th>12</th>\n",
       "      <td>13</td>\n",
       "      <td>0.700010</td>\n",
       "      <td>0.010816</td>\n",
       "      <td>0.000000</td>\n",
       "      <td>1.428551</td>\n",
       "      <td>0.000000</td>\n",
       "      <td>0.035963</td>\n",
       "      <td>0.786300</td>\n",
       "      <td>0.785582</td>\n",
       "      <td>0.000000</td>\n",
       "      <td>1.000000</td>\n",
       "      <td>-100.000000</td>\n",
       "      <td>42.855087</td>\n",
       "      <td>0.667264</td>\n",
       "    </tr>\n",
       "    <tr>\n",
       "      <th>13</th>\n",
       "      <td>14</td>\n",
       "      <td>0.799940</td>\n",
       "      <td>0.002475</td>\n",
       "      <td>0.000000</td>\n",
       "      <td>1.250094</td>\n",
       "      <td>0.000000</td>\n",
       "      <td>0.005318</td>\n",
       "      <td>0.688075</td>\n",
       "      <td>0.688110</td>\n",
       "      <td>0.000000</td>\n",
       "      <td>1.000000</td>\n",
       "      <td>-100.000000</td>\n",
       "      <td>25.009445</td>\n",
       "      <td>0.444992</td>\n",
       "    </tr>\n",
       "    <tr>\n",
       "      <th>14</th>\n",
       "      <td>15</td>\n",
       "      <td>0.899970</td>\n",
       "      <td>0.000919</td>\n",
       "      <td>0.000000</td>\n",
       "      <td>1.111148</td>\n",
       "      <td>0.000000</td>\n",
       "      <td>0.001522</td>\n",
       "      <td>0.611596</td>\n",
       "      <td>0.611797</td>\n",
       "      <td>0.000000</td>\n",
       "      <td>1.000000</td>\n",
       "      <td>-100.000000</td>\n",
       "      <td>11.114842</td>\n",
       "      <td>0.222496</td>\n",
       "    </tr>\n",
       "    <tr>\n",
       "      <th>15</th>\n",
       "      <td>16</td>\n",
       "      <td>1.000000</td>\n",
       "      <td>0.000162</td>\n",
       "      <td>0.000000</td>\n",
       "      <td>1.000000</td>\n",
       "      <td>0.000000</td>\n",
       "      <td>0.000601</td>\n",
       "      <td>0.550418</td>\n",
       "      <td>0.550659</td>\n",
       "      <td>0.000000</td>\n",
       "      <td>1.000000</td>\n",
       "      <td>-100.000000</td>\n",
       "      <td>0.000000</td>\n",
       "      <td>0.000000</td>\n",
       "    </tr>\n",
       "  </tbody>\n",
       "</table>\n",
       "</div>"
      ],
      "text/plain": [
       "    group  cumulative_data_fraction  lower_threshold      lift  \\\n",
       "0       1                  0.010074         0.999888  1.816801   \n",
       "1       2                  0.020046         0.999869  1.816801   \n",
       "2       3                  0.030019         0.999853  1.816801   \n",
       "3       4                  0.040093         0.999838  1.816801   \n",
       "4       5                  0.050065         0.999823  1.816801   \n",
       "5       6                  0.100030         0.999747  1.816801   \n",
       "6       7                  0.149995         0.999659  1.816801   \n",
       "7       8                  0.200060         0.999530  1.816801   \n",
       "8       9                  0.299990         0.999044  1.816801   \n",
       "9      10                  0.400020         0.996567  1.816801   \n",
       "10     11                  0.500050         0.911792  1.816801   \n",
       "11     12                  0.599980         0.104343  0.915726   \n",
       "12     13                  0.700010         0.010816  0.000000   \n",
       "13     14                  0.799940         0.002475  0.000000   \n",
       "14     15                  0.899970         0.000919  0.000000   \n",
       "15     16                  1.000000         0.000162  0.000000   \n",
       "\n",
       "    cumulative_lift  response_rate     score  cumulative_response_rate  \\\n",
       "0          1.816801       1.000000  0.999902                  1.000000   \n",
       "1          1.816801       1.000000  0.999878                  1.000000   \n",
       "2          1.816801       1.000000  0.999861                  1.000000   \n",
       "3          1.816801       1.000000  0.999846                  1.000000   \n",
       "4          1.816801       1.000000  0.999829                  1.000000   \n",
       "5          1.816801       1.000000  0.999786                  1.000000   \n",
       "6          1.816801       1.000000  0.999705                  1.000000   \n",
       "7          1.816801       1.000000  0.999601                  1.000000   \n",
       "8          1.816801       1.000000  0.999335                  1.000000   \n",
       "9          1.816801       1.000000  0.998245                  1.000000   \n",
       "10         1.816801       1.000000  0.978490                  1.000000   \n",
       "11         1.666723       0.504032  0.487477                  0.917394   \n",
       "12         1.428551       0.000000  0.035963                  0.786300   \n",
       "13         1.250094       0.000000  0.005318                  0.688075   \n",
       "14         1.111148       0.000000  0.001522                  0.611596   \n",
       "15         1.000000       0.000000  0.000601                  0.550418   \n",
       "\n",
       "    cumulative_score  capture_rate  cumulative_capture_rate        gain  \\\n",
       "0           0.999902      0.018302                 0.018302   81.680088   \n",
       "1           0.999890      0.018119                 0.036420   81.680088   \n",
       "2           0.999881      0.018119                 0.054539   81.680088   \n",
       "3           0.999872      0.018302                 0.072840   81.680088   \n",
       "4           0.999863      0.018119                 0.090959   81.680088   \n",
       "5           0.999825      0.090776                 0.181735   81.680088   \n",
       "6           0.999785      0.090776                 0.272511   81.680088   \n",
       "7           0.999739      0.090959                 0.363470   81.680088   \n",
       "8           0.999604      0.181552                 0.545022   81.680088   \n",
       "9           0.999264      0.181735                 0.726757   81.680088   \n",
       "10          0.995109      0.181735                 0.908492   81.680088   \n",
       "11          0.910560      0.091508                 1.000000   -8.427375   \n",
       "12          0.785582      0.000000                 1.000000 -100.000000   \n",
       "13          0.688110      0.000000                 1.000000 -100.000000   \n",
       "14          0.611797      0.000000                 1.000000 -100.000000   \n",
       "15          0.550659      0.000000                 1.000000 -100.000000   \n",
       "\n",
       "    cumulative_gain  kolmogorov_smirnov  \n",
       "0         81.680088            0.018302  \n",
       "1         81.680088            0.036420  \n",
       "2         81.680088            0.054539  \n",
       "3         81.680088            0.072840  \n",
       "4         81.680088            0.090959  \n",
       "5         81.680088            0.181735  \n",
       "6         81.680088            0.272511  \n",
       "7         81.680088            0.363470  \n",
       "8         81.680088            0.545022  \n",
       "9         81.680088            0.726757  \n",
       "10        81.680088            0.908492  \n",
       "11        66.672263            0.889760  \n",
       "12        42.855087            0.667264  \n",
       "13        25.009445            0.444992  \n",
       "14        11.114842            0.222496  \n",
       "15         0.000000            0.000000  "
      ]
     },
     "metadata": {},
     "output_type": "display_data"
    },
    {
     "name": "stdout",
     "output_type": "stream",
     "text": [
      "\n",
      "\n",
      "ModelMetricsBinomialGLM: stackedensemble\n",
      "** Reported on cross-validation data. **\n",
      "\n",
      "MSE: 0.028608993247420892\n",
      "RMSE: 0.1691419322563772\n",
      "LogLoss: 0.092661788577921\n",
      "Null degrees of freedom: 77927\n",
      "Residual degrees of freedom: 77920\n",
      "Null deviance: 107342.68510720006\n",
      "Residual deviance: 14441.895720600454\n",
      "AIC: 14457.895720600454\n",
      "AUC: 0.9945226555808395\n",
      "AUCPR: 0.9957930198605208\n",
      "Gini: 0.989045311161679\n",
      "\n",
      "Confusion Matrix (Act/Pred) for max f1 @ threshold = 0.5448284728639723: \n"
     ]
    },
    {
     "data": {
      "text/html": [
       "<div>\n",
       "<style scoped>\n",
       "    .dataframe tbody tr th:only-of-type {\n",
       "        vertical-align: middle;\n",
       "    }\n",
       "\n",
       "    .dataframe tbody tr th {\n",
       "        vertical-align: top;\n",
       "    }\n",
       "\n",
       "    .dataframe thead th {\n",
       "        text-align: right;\n",
       "    }\n",
       "</style>\n",
       "<table border=\"1\" class=\"dataframe\">\n",
       "  <thead>\n",
       "    <tr style=\"text-align: right;\">\n",
       "      <th></th>\n",
       "      <th></th>\n",
       "      <th>dissatisfied</th>\n",
       "      <th>satisfied</th>\n",
       "      <th>Error</th>\n",
       "      <th>Rate</th>\n",
       "    </tr>\n",
       "  </thead>\n",
       "  <tbody>\n",
       "    <tr>\n",
       "      <th>0</th>\n",
       "      <td>dissatisfied</td>\n",
       "      <td>34191.0</td>\n",
       "      <td>1107.0</td>\n",
       "      <td>0.0314</td>\n",
       "      <td>(1107.0/35298.0)</td>\n",
       "    </tr>\n",
       "    <tr>\n",
       "      <th>1</th>\n",
       "      <td>satisfied</td>\n",
       "      <td>2007.0</td>\n",
       "      <td>40623.0</td>\n",
       "      <td>0.0471</td>\n",
       "      <td>(2007.0/42630.0)</td>\n",
       "    </tr>\n",
       "    <tr>\n",
       "      <th>2</th>\n",
       "      <td>Total</td>\n",
       "      <td>36198.0</td>\n",
       "      <td>41730.0</td>\n",
       "      <td>0.04</td>\n",
       "      <td>(3114.0/77928.0)</td>\n",
       "    </tr>\n",
       "  </tbody>\n",
       "</table>\n",
       "</div>"
      ],
      "text/plain": [
       "                 dissatisfied  satisfied   Error               Rate\n",
       "0  dissatisfied       34191.0     1107.0  0.0314   (1107.0/35298.0)\n",
       "1     satisfied        2007.0    40623.0  0.0471   (2007.0/42630.0)\n",
       "2         Total       36198.0    41730.0    0.04   (3114.0/77928.0)"
      ]
     },
     "metadata": {},
     "output_type": "display_data"
    },
    {
     "name": "stdout",
     "output_type": "stream",
     "text": [
      "\n",
      "Maximum Metrics: Maximum metrics at their respective thresholds\n"
     ]
    },
    {
     "data": {
      "text/html": [
       "<div>\n",
       "<style scoped>\n",
       "    .dataframe tbody tr th:only-of-type {\n",
       "        vertical-align: middle;\n",
       "    }\n",
       "\n",
       "    .dataframe tbody tr th {\n",
       "        vertical-align: top;\n",
       "    }\n",
       "\n",
       "    .dataframe thead th {\n",
       "        text-align: right;\n",
       "    }\n",
       "</style>\n",
       "<table border=\"1\" class=\"dataframe\">\n",
       "  <thead>\n",
       "    <tr style=\"text-align: right;\">\n",
       "      <th></th>\n",
       "      <th>metric</th>\n",
       "      <th>threshold</th>\n",
       "      <th>value</th>\n",
       "      <th>idx</th>\n",
       "    </tr>\n",
       "  </thead>\n",
       "  <tbody>\n",
       "    <tr>\n",
       "      <th>0</th>\n",
       "      <td>max f1</td>\n",
       "      <td>0.544828</td>\n",
       "      <td>0.963087</td>\n",
       "      <td>173.0</td>\n",
       "    </tr>\n",
       "    <tr>\n",
       "      <th>1</th>\n",
       "      <td>max f2</td>\n",
       "      <td>0.137781</td>\n",
       "      <td>0.971221</td>\n",
       "      <td>311.0</td>\n",
       "    </tr>\n",
       "    <tr>\n",
       "      <th>2</th>\n",
       "      <td>max f0point5</td>\n",
       "      <td>0.808602</td>\n",
       "      <td>0.977156</td>\n",
       "      <td>96.0</td>\n",
       "    </tr>\n",
       "    <tr>\n",
       "      <th>3</th>\n",
       "      <td>max accuracy</td>\n",
       "      <td>0.544828</td>\n",
       "      <td>0.960040</td>\n",
       "      <td>173.0</td>\n",
       "    </tr>\n",
       "    <tr>\n",
       "      <th>4</th>\n",
       "      <td>max precision</td>\n",
       "      <td>0.999828</td>\n",
       "      <td>1.000000</td>\n",
       "      <td>0.0</td>\n",
       "    </tr>\n",
       "    <tr>\n",
       "      <th>5</th>\n",
       "      <td>max recall</td>\n",
       "      <td>0.001120</td>\n",
       "      <td>1.000000</td>\n",
       "      <td>396.0</td>\n",
       "    </tr>\n",
       "    <tr>\n",
       "      <th>6</th>\n",
       "      <td>max specificity</td>\n",
       "      <td>0.999828</td>\n",
       "      <td>1.000000</td>\n",
       "      <td>0.0</td>\n",
       "    </tr>\n",
       "    <tr>\n",
       "      <th>7</th>\n",
       "      <td>max absolute_mcc</td>\n",
       "      <td>0.544828</td>\n",
       "      <td>0.919791</td>\n",
       "      <td>173.0</td>\n",
       "    </tr>\n",
       "    <tr>\n",
       "      <th>8</th>\n",
       "      <td>max min_per_class_accuracy</td>\n",
       "      <td>0.471318</td>\n",
       "      <td>0.959374</td>\n",
       "      <td>196.0</td>\n",
       "    </tr>\n",
       "    <tr>\n",
       "      <th>9</th>\n",
       "      <td>max mean_per_class_accuracy</td>\n",
       "      <td>0.610775</td>\n",
       "      <td>0.960990</td>\n",
       "      <td>154.0</td>\n",
       "    </tr>\n",
       "    <tr>\n",
       "      <th>10</th>\n",
       "      <td>max tns</td>\n",
       "      <td>0.999828</td>\n",
       "      <td>35298.000000</td>\n",
       "      <td>0.0</td>\n",
       "    </tr>\n",
       "    <tr>\n",
       "      <th>11</th>\n",
       "      <td>max fns</td>\n",
       "      <td>0.999828</td>\n",
       "      <td>33238.000000</td>\n",
       "      <td>0.0</td>\n",
       "    </tr>\n",
       "    <tr>\n",
       "      <th>12</th>\n",
       "      <td>max fps</td>\n",
       "      <td>0.000377</td>\n",
       "      <td>35298.000000</td>\n",
       "      <td>399.0</td>\n",
       "    </tr>\n",
       "    <tr>\n",
       "      <th>13</th>\n",
       "      <td>max tps</td>\n",
       "      <td>0.001120</td>\n",
       "      <td>42630.000000</td>\n",
       "      <td>396.0</td>\n",
       "    </tr>\n",
       "    <tr>\n",
       "      <th>14</th>\n",
       "      <td>max tnr</td>\n",
       "      <td>0.999828</td>\n",
       "      <td>1.000000</td>\n",
       "      <td>0.0</td>\n",
       "    </tr>\n",
       "    <tr>\n",
       "      <th>15</th>\n",
       "      <td>max fnr</td>\n",
       "      <td>0.999828</td>\n",
       "      <td>0.779686</td>\n",
       "      <td>0.0</td>\n",
       "    </tr>\n",
       "    <tr>\n",
       "      <th>16</th>\n",
       "      <td>max fpr</td>\n",
       "      <td>0.000377</td>\n",
       "      <td>1.000000</td>\n",
       "      <td>399.0</td>\n",
       "    </tr>\n",
       "    <tr>\n",
       "      <th>17</th>\n",
       "      <td>max tpr</td>\n",
       "      <td>0.001120</td>\n",
       "      <td>1.000000</td>\n",
       "      <td>396.0</td>\n",
       "    </tr>\n",
       "  </tbody>\n",
       "</table>\n",
       "</div>"
      ],
      "text/plain": [
       "                         metric  threshold         value    idx\n",
       "0                        max f1   0.544828      0.963087  173.0\n",
       "1                        max f2   0.137781      0.971221  311.0\n",
       "2                  max f0point5   0.808602      0.977156   96.0\n",
       "3                  max accuracy   0.544828      0.960040  173.0\n",
       "4                 max precision   0.999828      1.000000    0.0\n",
       "5                    max recall   0.001120      1.000000  396.0\n",
       "6               max specificity   0.999828      1.000000    0.0\n",
       "7              max absolute_mcc   0.544828      0.919791  173.0\n",
       "8    max min_per_class_accuracy   0.471318      0.959374  196.0\n",
       "9   max mean_per_class_accuracy   0.610775      0.960990  154.0\n",
       "10                      max tns   0.999828  35298.000000    0.0\n",
       "11                      max fns   0.999828  33238.000000    0.0\n",
       "12                      max fps   0.000377  35298.000000  399.0\n",
       "13                      max tps   0.001120  42630.000000  396.0\n",
       "14                      max tnr   0.999828      1.000000    0.0\n",
       "15                      max fnr   0.999828      0.779686    0.0\n",
       "16                      max fpr   0.000377      1.000000  399.0\n",
       "17                      max tpr   0.001120      1.000000  396.0"
      ]
     },
     "metadata": {},
     "output_type": "display_data"
    },
    {
     "name": "stdout",
     "output_type": "stream",
     "text": [
      "\n",
      "Gains/Lift Table: Avg response rate: 54.70 %, avg score: 54.70 %\n"
     ]
    },
    {
     "data": {
      "text/html": [
       "<div>\n",
       "<style scoped>\n",
       "    .dataframe tbody tr th:only-of-type {\n",
       "        vertical-align: middle;\n",
       "    }\n",
       "\n",
       "    .dataframe tbody tr th {\n",
       "        vertical-align: top;\n",
       "    }\n",
       "\n",
       "    .dataframe thead th {\n",
       "        text-align: right;\n",
       "    }\n",
       "</style>\n",
       "<table border=\"1\" class=\"dataframe\">\n",
       "  <thead>\n",
       "    <tr style=\"text-align: right;\">\n",
       "      <th></th>\n",
       "      <th>group</th>\n",
       "      <th>cumulative_data_fraction</th>\n",
       "      <th>lower_threshold</th>\n",
       "      <th>lift</th>\n",
       "      <th>cumulative_lift</th>\n",
       "      <th>response_rate</th>\n",
       "      <th>score</th>\n",
       "      <th>cumulative_response_rate</th>\n",
       "      <th>cumulative_score</th>\n",
       "      <th>capture_rate</th>\n",
       "      <th>cumulative_capture_rate</th>\n",
       "      <th>gain</th>\n",
       "      <th>cumulative_gain</th>\n",
       "      <th>kolmogorov_smirnov</th>\n",
       "    </tr>\n",
       "  </thead>\n",
       "  <tbody>\n",
       "    <tr>\n",
       "      <th>0</th>\n",
       "      <td>1</td>\n",
       "      <td>0.010022</td>\n",
       "      <td>0.999914</td>\n",
       "      <td>1.828008</td>\n",
       "      <td>1.828008</td>\n",
       "      <td>1.000000</td>\n",
       "      <td>0.999930</td>\n",
       "      <td>1.000000</td>\n",
       "      <td>0.999930</td>\n",
       "      <td>0.018320</td>\n",
       "      <td>0.018320</td>\n",
       "      <td>82.800844</td>\n",
       "      <td>82.800844</td>\n",
       "      <td>0.018320</td>\n",
       "    </tr>\n",
       "    <tr>\n",
       "      <th>1</th>\n",
       "      <td>2</td>\n",
       "      <td>0.020018</td>\n",
       "      <td>0.999895</td>\n",
       "      <td>1.828008</td>\n",
       "      <td>1.828008</td>\n",
       "      <td>1.000000</td>\n",
       "      <td>0.999904</td>\n",
       "      <td>1.000000</td>\n",
       "      <td>0.999917</td>\n",
       "      <td>0.018274</td>\n",
       "      <td>0.036594</td>\n",
       "      <td>82.800844</td>\n",
       "      <td>82.800844</td>\n",
       "      <td>0.036594</td>\n",
       "    </tr>\n",
       "    <tr>\n",
       "      <th>2</th>\n",
       "      <td>3</td>\n",
       "      <td>0.030015</td>\n",
       "      <td>0.999880</td>\n",
       "      <td>1.828008</td>\n",
       "      <td>1.828008</td>\n",
       "      <td>1.000000</td>\n",
       "      <td>0.999887</td>\n",
       "      <td>1.000000</td>\n",
       "      <td>0.999907</td>\n",
       "      <td>0.018274</td>\n",
       "      <td>0.054867</td>\n",
       "      <td>82.800844</td>\n",
       "      <td>82.800844</td>\n",
       "      <td>0.054867</td>\n",
       "    </tr>\n",
       "    <tr>\n",
       "      <th>3</th>\n",
       "      <td>4</td>\n",
       "      <td>0.040011</td>\n",
       "      <td>0.999865</td>\n",
       "      <td>1.828008</td>\n",
       "      <td>1.828008</td>\n",
       "      <td>1.000000</td>\n",
       "      <td>0.999872</td>\n",
       "      <td>1.000000</td>\n",
       "      <td>0.999898</td>\n",
       "      <td>0.018274</td>\n",
       "      <td>0.073141</td>\n",
       "      <td>82.800844</td>\n",
       "      <td>82.800844</td>\n",
       "      <td>0.073141</td>\n",
       "    </tr>\n",
       "    <tr>\n",
       "      <th>4</th>\n",
       "      <td>5</td>\n",
       "      <td>0.050046</td>\n",
       "      <td>0.999850</td>\n",
       "      <td>1.828008</td>\n",
       "      <td>1.828008</td>\n",
       "      <td>1.000000</td>\n",
       "      <td>0.999857</td>\n",
       "      <td>1.000000</td>\n",
       "      <td>0.999890</td>\n",
       "      <td>0.018344</td>\n",
       "      <td>0.091485</td>\n",
       "      <td>82.800844</td>\n",
       "      <td>82.800844</td>\n",
       "      <td>0.091485</td>\n",
       "    </tr>\n",
       "    <tr>\n",
       "      <th>5</th>\n",
       "      <td>6</td>\n",
       "      <td>0.100003</td>\n",
       "      <td>0.999775</td>\n",
       "      <td>1.828008</td>\n",
       "      <td>1.828008</td>\n",
       "      <td>1.000000</td>\n",
       "      <td>0.999813</td>\n",
       "      <td>1.000000</td>\n",
       "      <td>0.999852</td>\n",
       "      <td>0.091321</td>\n",
       "      <td>0.182806</td>\n",
       "      <td>82.800844</td>\n",
       "      <td>82.800844</td>\n",
       "      <td>0.182806</td>\n",
       "    </tr>\n",
       "    <tr>\n",
       "      <th>6</th>\n",
       "      <td>7</td>\n",
       "      <td>0.150010</td>\n",
       "      <td>0.999684</td>\n",
       "      <td>1.828008</td>\n",
       "      <td>1.828008</td>\n",
       "      <td>1.000000</td>\n",
       "      <td>0.999732</td>\n",
       "      <td>1.000000</td>\n",
       "      <td>0.999812</td>\n",
       "      <td>0.091414</td>\n",
       "      <td>0.274220</td>\n",
       "      <td>82.800844</td>\n",
       "      <td>82.800844</td>\n",
       "      <td>0.274220</td>\n",
       "    </tr>\n",
       "    <tr>\n",
       "      <th>7</th>\n",
       "      <td>8</td>\n",
       "      <td>0.200005</td>\n",
       "      <td>0.999559</td>\n",
       "      <td>1.828008</td>\n",
       "      <td>1.828008</td>\n",
       "      <td>1.000000</td>\n",
       "      <td>0.999625</td>\n",
       "      <td>1.000000</td>\n",
       "      <td>0.999765</td>\n",
       "      <td>0.091391</td>\n",
       "      <td>0.365611</td>\n",
       "      <td>82.800844</td>\n",
       "      <td>82.800844</td>\n",
       "      <td>0.365611</td>\n",
       "    </tr>\n",
       "    <tr>\n",
       "      <th>8</th>\n",
       "      <td>9</td>\n",
       "      <td>0.300008</td>\n",
       "      <td>0.999039</td>\n",
       "      <td>1.828008</td>\n",
       "      <td>1.828008</td>\n",
       "      <td>1.000000</td>\n",
       "      <td>0.999344</td>\n",
       "      <td>1.000000</td>\n",
       "      <td>0.999625</td>\n",
       "      <td>0.182806</td>\n",
       "      <td>0.548417</td>\n",
       "      <td>82.800844</td>\n",
       "      <td>82.800844</td>\n",
       "      <td>0.548417</td>\n",
       "    </tr>\n",
       "    <tr>\n",
       "      <th>9</th>\n",
       "      <td>10</td>\n",
       "      <td>0.399997</td>\n",
       "      <td>0.996087</td>\n",
       "      <td>1.827774</td>\n",
       "      <td>1.827950</td>\n",
       "      <td>0.999872</td>\n",
       "      <td>0.998094</td>\n",
       "      <td>0.999968</td>\n",
       "      <td>0.999242</td>\n",
       "      <td>0.182759</td>\n",
       "      <td>0.731175</td>\n",
       "      <td>82.777384</td>\n",
       "      <td>82.794980</td>\n",
       "      <td>0.731147</td>\n",
       "    </tr>\n",
       "    <tr>\n",
       "      <th>10</th>\n",
       "      <td>11</td>\n",
       "      <td>0.500000</td>\n",
       "      <td>0.858928</td>\n",
       "      <td>1.783675</td>\n",
       "      <td>1.819095</td>\n",
       "      <td>0.975747</td>\n",
       "      <td>0.969303</td>\n",
       "      <td>0.995124</td>\n",
       "      <td>0.993254</td>\n",
       "      <td>0.178372</td>\n",
       "      <td>0.909547</td>\n",
       "      <td>78.367461</td>\n",
       "      <td>81.909453</td>\n",
       "      <td>0.904165</td>\n",
       "    </tr>\n",
       "    <tr>\n",
       "      <th>11</th>\n",
       "      <td>12</td>\n",
       "      <td>0.600003</td>\n",
       "      <td>0.137494</td>\n",
       "      <td>0.804342</td>\n",
       "      <td>1.649966</td>\n",
       "      <td>0.440010</td>\n",
       "      <td>0.452707</td>\n",
       "      <td>0.902603</td>\n",
       "      <td>0.903161</td>\n",
       "      <td>0.080436</td>\n",
       "      <td>0.989984</td>\n",
       "      <td>-19.565752</td>\n",
       "      <td>64.996558</td>\n",
       "      <td>0.860968</td>\n",
       "    </tr>\n",
       "    <tr>\n",
       "      <th>12</th>\n",
       "      <td>13</td>\n",
       "      <td>0.699992</td>\n",
       "      <td>0.011049</td>\n",
       "      <td>0.092198</td>\n",
       "      <td>1.427448</td>\n",
       "      <td>0.050436</td>\n",
       "      <td>0.044055</td>\n",
       "      <td>0.780876</td>\n",
       "      <td>0.780443</td>\n",
       "      <td>0.009219</td>\n",
       "      <td>0.999202</td>\n",
       "      <td>-90.780194</td>\n",
       "      <td>42.744776</td>\n",
       "      <td>0.660571</td>\n",
       "    </tr>\n",
       "    <tr>\n",
       "      <th>13</th>\n",
       "      <td>14</td>\n",
       "      <td>0.799995</td>\n",
       "      <td>0.002413</td>\n",
       "      <td>0.006803</td>\n",
       "      <td>1.249861</td>\n",
       "      <td>0.003721</td>\n",
       "      <td>0.005397</td>\n",
       "      <td>0.683728</td>\n",
       "      <td>0.683559</td>\n",
       "      <td>0.000680</td>\n",
       "      <td>0.999883</td>\n",
       "      <td>-99.319745</td>\n",
       "      <td>24.986141</td>\n",
       "      <td>0.441296</td>\n",
       "    </tr>\n",
       "    <tr>\n",
       "      <th>14</th>\n",
       "      <td>15</td>\n",
       "      <td>0.899997</td>\n",
       "      <td>0.000873</td>\n",
       "      <td>0.001173</td>\n",
       "      <td>1.111114</td>\n",
       "      <td>0.000642</td>\n",
       "      <td>0.001474</td>\n",
       "      <td>0.607828</td>\n",
       "      <td>0.607769</td>\n",
       "      <td>0.000117</td>\n",
       "      <td>1.000000</td>\n",
       "      <td>-99.882715</td>\n",
       "      <td>11.111428</td>\n",
       "      <td>0.220777</td>\n",
       "    </tr>\n",
       "    <tr>\n",
       "      <th>15</th>\n",
       "      <td>16</td>\n",
       "      <td>1.000000</td>\n",
       "      <td>0.000079</td>\n",
       "      <td>0.000000</td>\n",
       "      <td>1.000000</td>\n",
       "      <td>0.000000</td>\n",
       "      <td>0.000549</td>\n",
       "      <td>0.547043</td>\n",
       "      <td>0.547046</td>\n",
       "      <td>0.000000</td>\n",
       "      <td>1.000000</td>\n",
       "      <td>-100.000000</td>\n",
       "      <td>0.000000</td>\n",
       "      <td>0.000000</td>\n",
       "    </tr>\n",
       "  </tbody>\n",
       "</table>\n",
       "</div>"
      ],
      "text/plain": [
       "    group  cumulative_data_fraction  lower_threshold      lift  \\\n",
       "0       1                  0.010022         0.999914  1.828008   \n",
       "1       2                  0.020018         0.999895  1.828008   \n",
       "2       3                  0.030015         0.999880  1.828008   \n",
       "3       4                  0.040011         0.999865  1.828008   \n",
       "4       5                  0.050046         0.999850  1.828008   \n",
       "5       6                  0.100003         0.999775  1.828008   \n",
       "6       7                  0.150010         0.999684  1.828008   \n",
       "7       8                  0.200005         0.999559  1.828008   \n",
       "8       9                  0.300008         0.999039  1.828008   \n",
       "9      10                  0.399997         0.996087  1.827774   \n",
       "10     11                  0.500000         0.858928  1.783675   \n",
       "11     12                  0.600003         0.137494  0.804342   \n",
       "12     13                  0.699992         0.011049  0.092198   \n",
       "13     14                  0.799995         0.002413  0.006803   \n",
       "14     15                  0.899997         0.000873  0.001173   \n",
       "15     16                  1.000000         0.000079  0.000000   \n",
       "\n",
       "    cumulative_lift  response_rate     score  cumulative_response_rate  \\\n",
       "0          1.828008       1.000000  0.999930                  1.000000   \n",
       "1          1.828008       1.000000  0.999904                  1.000000   \n",
       "2          1.828008       1.000000  0.999887                  1.000000   \n",
       "3          1.828008       1.000000  0.999872                  1.000000   \n",
       "4          1.828008       1.000000  0.999857                  1.000000   \n",
       "5          1.828008       1.000000  0.999813                  1.000000   \n",
       "6          1.828008       1.000000  0.999732                  1.000000   \n",
       "7          1.828008       1.000000  0.999625                  1.000000   \n",
       "8          1.828008       1.000000  0.999344                  1.000000   \n",
       "9          1.827950       0.999872  0.998094                  0.999968   \n",
       "10         1.819095       0.975747  0.969303                  0.995124   \n",
       "11         1.649966       0.440010  0.452707                  0.902603   \n",
       "12         1.427448       0.050436  0.044055                  0.780876   \n",
       "13         1.249861       0.003721  0.005397                  0.683728   \n",
       "14         1.111114       0.000642  0.001474                  0.607828   \n",
       "15         1.000000       0.000000  0.000549                  0.547043   \n",
       "\n",
       "    cumulative_score  capture_rate  cumulative_capture_rate        gain  \\\n",
       "0           0.999930      0.018320                 0.018320   82.800844   \n",
       "1           0.999917      0.018274                 0.036594   82.800844   \n",
       "2           0.999907      0.018274                 0.054867   82.800844   \n",
       "3           0.999898      0.018274                 0.073141   82.800844   \n",
       "4           0.999890      0.018344                 0.091485   82.800844   \n",
       "5           0.999852      0.091321                 0.182806   82.800844   \n",
       "6           0.999812      0.091414                 0.274220   82.800844   \n",
       "7           0.999765      0.091391                 0.365611   82.800844   \n",
       "8           0.999625      0.182806                 0.548417   82.800844   \n",
       "9           0.999242      0.182759                 0.731175   82.777384   \n",
       "10          0.993254      0.178372                 0.909547   78.367461   \n",
       "11          0.903161      0.080436                 0.989984  -19.565752   \n",
       "12          0.780443      0.009219                 0.999202  -90.780194   \n",
       "13          0.683559      0.000680                 0.999883  -99.319745   \n",
       "14          0.607769      0.000117                 1.000000  -99.882715   \n",
       "15          0.547046      0.000000                 1.000000 -100.000000   \n",
       "\n",
       "    cumulative_gain  kolmogorov_smirnov  \n",
       "0         82.800844            0.018320  \n",
       "1         82.800844            0.036594  \n",
       "2         82.800844            0.054867  \n",
       "3         82.800844            0.073141  \n",
       "4         82.800844            0.091485  \n",
       "5         82.800844            0.182806  \n",
       "6         82.800844            0.274220  \n",
       "7         82.800844            0.365611  \n",
       "8         82.800844            0.548417  \n",
       "9         82.794980            0.731147  \n",
       "10        81.909453            0.904165  \n",
       "11        64.996558            0.860968  \n",
       "12        42.744776            0.660571  \n",
       "13        24.986141            0.441296  \n",
       "14        11.111428            0.220777  \n",
       "15         0.000000            0.000000  "
      ]
     },
     "metadata": {},
     "output_type": "display_data"
    },
    {
     "name": "stdout",
     "output_type": "stream",
     "text": [
      "\n"
     ]
    },
    {
     "data": {
      "text/plain": []
     },
     "execution_count": 112,
     "metadata": {},
     "output_type": "execute_result"
    }
   ],
   "source": [
    "aml = H2OAutoML(max_models=20,\n",
    "                seed=16,\n",
    "                stopping_metric='logloss',\n",
    "                sort_metric='logloss',\n",
    "                max_runtime_secs_per_model=300,\n",
    "                preprocessing=[\"target_encoding\"],\n",
    "                exclude_algos = [\"GLM\", \"DeepLearning\"])\n",
    "\n",
    "aml.train(y='satisfaction', \n",
    "          training_frame=h2o_train)"
   ]
  },
  {
   "cell_type": "code",
   "execution_count": 113,
   "metadata": {},
   "outputs": [
    {
     "data": {
      "text/html": [
       "<table>\n",
       "<thead>\n",
       "<tr><th>model_id                                               </th><th style=\"text-align: right;\">  logloss</th><th style=\"text-align: right;\">     auc</th><th style=\"text-align: right;\">   aucpr</th><th style=\"text-align: right;\">  mean_per_class_error</th><th style=\"text-align: right;\">    rmse</th><th style=\"text-align: right;\">      mse</th><th style=\"text-align: right;\">  training_time_ms</th><th style=\"text-align: right;\">  predict_time_per_row_ms</th><th>algo           </th></tr>\n",
       "</thead>\n",
       "<tbody>\n",
       "<tr><td>StackedEnsemble_AllModels_5_AutoML_2_20211126_210252   </td><td style=\"text-align: right;\">0.0926618</td><td style=\"text-align: right;\">0.994523</td><td style=\"text-align: right;\">0.995793</td><td style=\"text-align: right;\">             0.0392205</td><td style=\"text-align: right;\">0.169142</td><td style=\"text-align: right;\">0.028609 </td><td style=\"text-align: right;\">             28596</td><td style=\"text-align: right;\">                 0.062034</td><td>StackedEnsemble</td></tr>\n",
       "<tr><td>StackedEnsemble_AllModels_3_AutoML_2_20211126_210252   </td><td style=\"text-align: right;\">0.0928147</td><td style=\"text-align: right;\">0.994525</td><td style=\"text-align: right;\">0.995794</td><td style=\"text-align: right;\">             0.0396519</td><td style=\"text-align: right;\">0.169064</td><td style=\"text-align: right;\">0.0285827</td><td style=\"text-align: right;\">              2272</td><td style=\"text-align: right;\">                 0.051671</td><td>StackedEnsemble</td></tr>\n",
       "<tr><td>StackedEnsemble_AllModels_1_AutoML_2_20211126_210252   </td><td style=\"text-align: right;\">0.0931609</td><td style=\"text-align: right;\">0.994475</td><td style=\"text-align: right;\">0.995755</td><td style=\"text-align: right;\">             0.0392871</td><td style=\"text-align: right;\">0.169375</td><td style=\"text-align: right;\">0.0286879</td><td style=\"text-align: right;\">              1425</td><td style=\"text-align: right;\">                 0.03198 </td><td>StackedEnsemble</td></tr>\n",
       "<tr><td>StackedEnsemble_AllModels_2_AutoML_2_20211126_210252   </td><td style=\"text-align: right;\">0.0931762</td><td style=\"text-align: right;\">0.994471</td><td style=\"text-align: right;\">0.995752</td><td style=\"text-align: right;\">             0.0392306</td><td style=\"text-align: right;\">0.169384</td><td style=\"text-align: right;\">0.0286909</td><td style=\"text-align: right;\">              1571</td><td style=\"text-align: right;\">                 0.031643</td><td>StackedEnsemble</td></tr>\n",
       "<tr><td>StackedEnsemble_AllModels_4_AutoML_2_20211126_210252   </td><td style=\"text-align: right;\">0.0936158</td><td style=\"text-align: right;\">0.994507</td><td style=\"text-align: right;\">0.995658</td><td style=\"text-align: right;\">             0.0391743</td><td style=\"text-align: right;\">0.167627</td><td style=\"text-align: right;\">0.0280988</td><td style=\"text-align: right;\">             16854</td><td style=\"text-align: right;\">                 0.126681</td><td>StackedEnsemble</td></tr>\n",
       "<tr><td>StackedEnsemble_BestOfFamily_4_AutoML_2_20211126_210252</td><td style=\"text-align: right;\">0.0944802</td><td style=\"text-align: right;\">0.994263</td><td style=\"text-align: right;\">0.995606</td><td style=\"text-align: right;\">             0.0400144</td><td style=\"text-align: right;\">0.170816</td><td style=\"text-align: right;\">0.0291781</td><td style=\"text-align: right;\">             18682</td><td style=\"text-align: right;\">                 0.02508 </td><td>StackedEnsemble</td></tr>\n",
       "<tr><td>StackedEnsemble_BestOfFamily_2_AutoML_2_20211126_210252</td><td style=\"text-align: right;\">0.094763 </td><td style=\"text-align: right;\">0.994265</td><td style=\"text-align: right;\">0.995608</td><td style=\"text-align: right;\">             0.0398793</td><td style=\"text-align: right;\">0.170695</td><td style=\"text-align: right;\">0.0291368</td><td style=\"text-align: right;\">              1445</td><td style=\"text-align: right;\">                 0.025374</td><td>StackedEnsemble</td></tr>\n",
       "<tr><td>StackedEnsemble_BestOfFamily_1_AutoML_2_20211126_210252</td><td style=\"text-align: right;\">0.0947733</td><td style=\"text-align: right;\">0.994263</td><td style=\"text-align: right;\">0.995607</td><td style=\"text-align: right;\">             0.0399549</td><td style=\"text-align: right;\">0.170694</td><td style=\"text-align: right;\">0.0291365</td><td style=\"text-align: right;\">              1358</td><td style=\"text-align: right;\">                 0.024987</td><td>StackedEnsemble</td></tr>\n",
       "<tr><td>GBM_1_AutoML_2_20211126_210252                         </td><td style=\"text-align: right;\">0.0948234</td><td style=\"text-align: right;\">0.99427 </td><td style=\"text-align: right;\">0.995594</td><td style=\"text-align: right;\">             0.039852 </td><td style=\"text-align: right;\">0.171152</td><td style=\"text-align: right;\">0.0292929</td><td style=\"text-align: right;\">              5561</td><td style=\"text-align: right;\">                 0.022677</td><td>GBM            </td></tr>\n",
       "<tr><td>StackedEnsemble_BestOfFamily_3_AutoML_2_20211126_210252</td><td style=\"text-align: right;\">0.0954574</td><td style=\"text-align: right;\">0.994274</td><td style=\"text-align: right;\">0.995588</td><td style=\"text-align: right;\">             0.0393814</td><td style=\"text-align: right;\">0.169866</td><td style=\"text-align: right;\">0.0288543</td><td style=\"text-align: right;\">              6897</td><td style=\"text-align: right;\">                 0.030359</td><td>StackedEnsemble</td></tr>\n",
       "</tbody>\n",
       "</table>"
      ]
     },
     "metadata": {},
     "output_type": "display_data"
    },
    {
     "data": {
      "text/plain": []
     },
     "execution_count": 113,
     "metadata": {},
     "output_type": "execute_result"
    }
   ],
   "source": [
    "lb = h2o.automl.get_leaderboard(aml, extra_columns = 'ALL')\n",
    "lb"
   ]
  },
  {
   "cell_type": "code",
   "execution_count": 114,
   "metadata": {},
   "outputs": [
    {
     "data": {
      "text/plain": [
       "['StackedEnsemble_AllModels_5_AutoML_2_20211126_210252',\n",
       " 'StackedEnsemble_AllModels_3_AutoML_2_20211126_210252',\n",
       " 'StackedEnsemble_AllModels_1_AutoML_2_20211126_210252',\n",
       " 'StackedEnsemble_AllModels_2_AutoML_2_20211126_210252',\n",
       " 'StackedEnsemble_AllModels_4_AutoML_2_20211126_210252',\n",
       " 'StackedEnsemble_BestOfFamily_4_AutoML_2_20211126_210252',\n",
       " 'StackedEnsemble_BestOfFamily_2_AutoML_2_20211126_210252',\n",
       " 'StackedEnsemble_BestOfFamily_1_AutoML_2_20211126_210252',\n",
       " 'GBM_1_AutoML_2_20211126_210252',\n",
       " 'StackedEnsemble_BestOfFamily_3_AutoML_2_20211126_210252',\n",
       " 'GBM_4_AutoML_2_20211126_210252',\n",
       " 'GBM_grid_1_AutoML_2_20211126_210252_model_3',\n",
       " 'GBM_grid_1_AutoML_2_20211126_210252_model_13',\n",
       " 'GBM_3_AutoML_2_20211126_210252',\n",
       " 'GBM_grid_1_AutoML_2_20211126_210252_model_2',\n",
       " 'GBM_grid_1_AutoML_2_20211126_210252_model_7',\n",
       " 'GBM_2_AutoML_2_20211126_210252',\n",
       " 'GBM_grid_1_AutoML_2_20211126_210252_model_9',\n",
       " 'GBM_grid_1_AutoML_2_20211126_210252_model_1',\n",
       " 'GBM_5_AutoML_2_20211126_210252',\n",
       " 'GBM_grid_1_AutoML_2_20211126_210252_model_11',\n",
       " 'GBM_grid_1_AutoML_2_20211126_210252_model_4',\n",
       " 'GBM_grid_1_AutoML_2_20211126_210252_model_6',\n",
       " 'GBM_grid_1_AutoML_2_20211126_210252_model_10',\n",
       " 'GBM_grid_1_AutoML_2_20211126_210252_model_5',\n",
       " 'GBM_grid_1_AutoML_2_20211126_210252_model_12',\n",
       " 'DRF_1_AutoML_2_20211126_210252',\n",
       " 'GBM_grid_1_AutoML_2_20211126_210252_model_8',\n",
       " 'XRT_1_AutoML_2_20211126_210252']"
      ]
     },
     "execution_count": 114,
     "metadata": {},
     "output_type": "execute_result"
    }
   ],
   "source": [
    "model_ids = list(aml.leaderboard.as_data_frame()['model_id'])\n",
    "model_ids"
   ]
  },
  {
   "cell_type": "code",
   "execution_count": 58,
   "metadata": {},
   "outputs": [],
   "source": [
    "# demo\n",
    "os.environ[\"WANDB_API_KEY\"] = \"0f579240b99e6ed291924359c5de323258326760\"\n",
    "\n",
    "# mlops-project\n",
    "# 0f579240b99e6ed291924359c5de323258326760"
   ]
  },
  {
   "cell_type": "code",
   "execution_count": 59,
   "metadata": {},
   "outputs": [],
   "source": [
    "def measure_performance (clasf_matrix):\n",
    "    measure = pd.DataFrame({\n",
    "                        'sensitivity': [round(clasf_matrix[0,0]/(clasf_matrix[0,0]+clasf_matrix[0,1]),2)], \n",
    "                        'specificity': [round(clasf_matrix[1,1]/(clasf_matrix[1,0]+clasf_matrix[1,1]),2)],\n",
    "                        'precision': [round(clasf_matrix[0,0]/(clasf_matrix[0,0]+clasf_matrix[1,0]),2)],\n",
    "                        'overall_acc': [round((clasf_matrix[0,0]+clasf_matrix[1,1])/\n",
    "                                              (clasf_matrix[0,0]+clasf_matrix[0,1]+clasf_matrix[1,0]+clasf_matrix[1,1]),2)]\n",
    "                       })\n",
    "    return measure"
   ]
  },
  {
   "cell_type": "code",
   "execution_count": 70,
   "metadata": {},
   "outputs": [],
   "source": [
    "def run_model_experiment(data,\n",
    "                        model, \n",
    "                        name, \n",
    "                        preprocessor,\n",
    "                        encoder, \n",
    "                        config = None, \n",
    "                        tags = None,\n",
    "                        sweep_config = None):\n",
    "    \n",
    "    X_train, X_test, y_train, y_test = train_test_split(data.iloc[:, 1:].copy(), data.iloc[:, 0].copy(), test_size=0.2, random_state=16)\n",
    "\n",
    "    model_pipeline = Pipeline(steps=[('preprocessor', preprocessor),\n",
    "                                    (name, model)])\n",
    "    model_pipeline.fit(X_train, y_train)\n",
    "\n",
    "    y_pred = model_pipeline.predict(X_test)\n",
    "    y_probas = model_pipeline.predict_proba(X_test)\n",
    "    # labels = [\"satisfied\", \"dissatisfied\"]\n",
    "\n",
    "    # if sweep_config != None:\n",
    "    #     sweep_id = wandb.sweep(sweep_config)\n",
    "    # wandb\n",
    "    wandb.init(project='mlops-project', config=None, tags = None)\n",
    "    wandb.run.name = name\n",
    "\n",
    "    overall_metrics = measure_performance(metrics.confusion_matrix(y_test, y_pred))\n",
    "\n",
    "    wandb.log({\"accuracy\" : overall_metrics.overall_acc[0], \n",
    "                \"precision\": overall_metrics.precision[0],\n",
    "                \"sensitivity\": overall_metrics.sensitivity[0], \n",
    "                \"specificity\": overall_metrics.specificity[0]})\n",
    "\n",
    "    LABELS = pd.unique(train.satisfaction)\n",
    "    X_train = encoder.fit_transform(X_train, y_train)\n",
    "    X_test = encoder.transform(X_test)\n",
    "    wandb.sklearn.plot_classifier(model, \n",
    "                                X_train, \n",
    "                                X_test, \n",
    "                                y_train, \n",
    "                                y_test,\n",
    "                                y_pred, \n",
    "                                y_probas,\n",
    "                                LABELS,\n",
    "                                model_name=name)\n",
    "\n",
    "    wandb.Artifact(name, \n",
    "                    type = 'model',\n",
    "                    description = None)\n",
    "\n",
    "    wandb.save()\n",
    "    wandb.finish()\n",
    "\n",
    "    return model_pipeline"
   ]
  },
  {
   "cell_type": "code",
   "execution_count": 61,
   "metadata": {},
   "outputs": [],
   "source": [
    "encoder1 = OneHotEncoder(cols=categorical_features)\n",
    "encoder2 = TargetEncoder(cols=categorical_features)\n",
    "encoder3 = WOEEncoder(cols=categorical_features)\n",
    "encoders = {\"ohe\": encoder1, \n",
    "            \"target\": encoder2, \n",
    "            \"woe\": encoder3}\n",
    "\n",
    "# train_autoML = pd.DataFrame(ohe_encoder.fit_transform(X_train[categorical_features]), columns=ohe_encoder.get_feature_names_out, index=X_train.index)\n",
    "numeric_transformer = StandardScaler()\n",
    "\n",
    "preprocessor = ColumnTransformer(\n",
    "    transformers=[        \n",
    "        ('num', numeric_transformer, numerical_features),\n",
    "        ('cat', encoder1, categorical_features)\n",
    "        ])"
   ]
  },
  {
   "cell_type": "code",
   "execution_count": 62,
   "metadata": {},
   "outputs": [],
   "source": [
    "X_train, X_test, y_train, y_test = train_test_split(train.iloc[:, 1:], train.iloc[:, 0], test_size=0.2, random_state=16)"
   ]
  },
  {
   "cell_type": "markdown",
   "metadata": {},
   "source": [
    "# OHE models"
   ]
  },
  {
   "cell_type": "markdown",
   "metadata": {},
   "source": [
    "## Decision Tree with OHE"
   ]
  },
  {
   "cell_type": "code",
   "execution_count": 214,
   "metadata": {},
   "outputs": [
    {
     "name": "stderr",
     "output_type": "stream",
     "text": [
      "\u001b[34m\u001b[1mwandb\u001b[0m: wandb version 0.12.7 is available!  To upgrade, please run:\n",
      "\u001b[34m\u001b[1mwandb\u001b[0m:  $ pip install wandb --upgrade\n"
     ]
    },
    {
     "data": {
      "text/html": [
       "\n",
       "                    Syncing run <strong><a href=\"https://wandb.ai/rahav-manoharan/mlops-project/runs/1iw2f0hl\" target=\"_blank\">amber-wood-1</a></strong> to <a href=\"https://wandb.ai/rahav-manoharan/mlops-project\" target=\"_blank\">Weights & Biases</a> (<a href=\"https://docs.wandb.com/integrations/jupyter.html\" target=\"_blank\">docs</a>).<br/>\n",
       "\n",
       "                "
      ],
      "text/plain": [
       "<IPython.core.display.HTML object>"
      ]
     },
     "metadata": {},
     "output_type": "display_data"
    },
    {
     "name": "stderr",
     "output_type": "stream",
     "text": [
      "\u001b[34m\u001b[1mwandb\u001b[0m: \n",
      "\u001b[34m\u001b[1mwandb\u001b[0m: Plotting DecisionTreeWithOHE.\n",
      "\u001b[34m\u001b[1mwandb\u001b[0m: Logged feature importances.\n",
      "\u001b[34m\u001b[1mwandb\u001b[0m: Logged confusion matrix.\n",
      "C:\\Users\\ADMIN\\.conda\\envs\\mlopslab\\lib\\site-packages\\sklearn\\base.py:438: UserWarning: X has feature names, but DecisionTreeClassifier was fitted without feature names\n",
      "  warnings.warn(\n",
      "C:\\Users\\ADMIN\\.conda\\envs\\mlopslab\\lib\\site-packages\\sklearn\\base.py:438: UserWarning: X has feature names, but DecisionTreeClassifier was fitted without feature names\n",
      "  warnings.warn(\n",
      "\u001b[34m\u001b[1mwandb\u001b[0m: Logged summary metrics.\n",
      "\u001b[34m\u001b[1mwandb\u001b[0m: Logged class proportions.\n",
      "\u001b[34m\u001b[1mwandb\u001b[0m: Logged calibration curve.\n",
      "\u001b[34m\u001b[1mwandb\u001b[0m: Logged roc curve.\n",
      "\u001b[34m\u001b[1mwandb\u001b[0m: Logged precision recall curve.\n",
      "\u001b[34m\u001b[1mwandb\u001b[0m: \u001b[33mWARNING\u001b[0m Calling run.save without any arguments is deprecated.Changes to attributes are automatically persisted.\n"
     ]
    },
    {
     "data": {
      "text/html": [
       "<br/>Waiting for W&B process to finish, PID 26684... <strong style=\"color:green\">(success).</strong>"
      ],
      "text/plain": [
       "<IPython.core.display.HTML object>"
      ]
     },
     "metadata": {},
     "output_type": "display_data"
    },
    {
     "data": {
      "application/vnd.jupyter.widget-view+json": {
       "model_id": "254b65929c5a4db6b1d08115dfe44992",
       "version_major": 2,
       "version_minor": 0
      },
      "text/plain": [
       "VBox(children=(Label(value=' 0.03MB of 0.03MB uploaded (0.00MB deduped)\\r'), FloatProgress(value=1.0, max=1.0)…"
      ]
     },
     "metadata": {},
     "output_type": "display_data"
    },
    {
     "data": {
      "text/html": [
       "<style>\n",
       "    table.wandb td:nth-child(1) { padding: 0 10px; text-align: right }\n",
       "    .wandb-row { display: flex; flex-direction: row; flex-wrap: wrap; width: 100% }\n",
       "    .wandb-col { display: flex; flex-direction: column; flex-basis: 100%; flex: 1; padding: 10px; }\n",
       "    </style>\n",
       "<div class=\"wandb-row\"><div class=\"wandb-col\">\n",
       "<h3>Run history:</h3><br/><table class=\"wandb\"><tr><td>accuracy</td><td>▁</td></tr><tr><td>precision</td><td>▁</td></tr><tr><td>recall</td><td>▁</td></tr><tr><td>sensitivity</td><td>▁</td></tr><tr><td>specificity</td><td>▁</td></tr></table><br/></div><div class=\"wandb-col\">\n",
       "<h3>Run summary:</h3><br/><table class=\"wandb\"><tr><td>accuracy</td><td>0.93</td></tr><tr><td>precision</td><td>0.91</td></tr><tr><td>recall</td><td>0.94</td></tr><tr><td>sensitivity</td><td>0.94</td></tr><tr><td>specificity</td><td>0.93</td></tr></table>\n",
       "</div></div>\n",
       "Synced 5 W&B file(s), 7 media file(s), 7 artifact file(s) and 0 other file(s)\n",
       "<br/>Synced <strong style=\"color:#cdcd00\">amber-wood-1</strong>: <a href=\"https://wandb.ai/rahav-manoharan/mlops-project/runs/1iw2f0hl\" target=\"_blank\">https://wandb.ai/rahav-manoharan/mlops-project/runs/1iw2f0hl</a><br/>\n",
       "Find logs at: <code>.\\wandb\\run-20211126_232438-1iw2f0hl\\logs</code><br/>\n"
      ],
      "text/plain": [
       "<IPython.core.display.HTML object>"
      ]
     },
     "metadata": {},
     "output_type": "display_data"
    }
   ],
   "source": [
    "dt_ohe_model = tree.DecisionTreeClassifier(max_depth=10)\n",
    "\n",
    "dt_ohe_model = run_model_experiment(train, dt_ohe_model, \"DecisionTreeWithOHE\", preprocessor, encoder=encoder1, tags=[\"DecisionTree\", \"OHE\"])"
   ]
  },
  {
   "cell_type": "markdown",
   "metadata": {},
   "source": [
    "## RandomForest with OHE"
   ]
  },
  {
   "cell_type": "code",
   "execution_count": 215,
   "metadata": {},
   "outputs": [
    {
     "name": "stderr",
     "output_type": "stream",
     "text": [
      "\u001b[34m\u001b[1mwandb\u001b[0m: wandb version 0.12.7 is available!  To upgrade, please run:\n",
      "\u001b[34m\u001b[1mwandb\u001b[0m:  $ pip install wandb --upgrade\n"
     ]
    },
    {
     "data": {
      "text/html": [
       "\n",
       "                    Syncing run <strong><a href=\"https://wandb.ai/rahav-manoharan/mlops-project/runs/48wekn63\" target=\"_blank\">daily-leaf-2</a></strong> to <a href=\"https://wandb.ai/rahav-manoharan/mlops-project\" target=\"_blank\">Weights & Biases</a> (<a href=\"https://docs.wandb.com/integrations/jupyter.html\" target=\"_blank\">docs</a>).<br/>\n",
       "\n",
       "                "
      ],
      "text/plain": [
       "<IPython.core.display.HTML object>"
      ]
     },
     "metadata": {},
     "output_type": "display_data"
    },
    {
     "name": "stderr",
     "output_type": "stream",
     "text": [
      "\u001b[34m\u001b[1mwandb\u001b[0m: \n",
      "\u001b[34m\u001b[1mwandb\u001b[0m: Plotting RandomForestOHE.\n",
      "\u001b[34m\u001b[1mwandb\u001b[0m: Logged feature importances.\n",
      "\u001b[34m\u001b[1mwandb\u001b[0m: Logged confusion matrix.\n",
      "C:\\Users\\ADMIN\\.conda\\envs\\mlopslab\\lib\\site-packages\\sklearn\\base.py:438: UserWarning: X has feature names, but RandomForestClassifier was fitted without feature names\n",
      "  warnings.warn(\n",
      "C:\\Users\\ADMIN\\.conda\\envs\\mlopslab\\lib\\site-packages\\sklearn\\base.py:438: UserWarning: X has feature names, but RandomForestClassifier was fitted without feature names\n",
      "  warnings.warn(\n",
      "\u001b[34m\u001b[1mwandb\u001b[0m: Logged summary metrics.\n",
      "\u001b[34m\u001b[1mwandb\u001b[0m: Logged class proportions.\n",
      "\u001b[34m\u001b[1mwandb\u001b[0m: Logged calibration curve.\n",
      "\u001b[34m\u001b[1mwandb\u001b[0m: Logged roc curve.\n",
      "\u001b[34m\u001b[1mwandb\u001b[0m: Logged precision recall curve.\n",
      "\u001b[34m\u001b[1mwandb\u001b[0m: \u001b[33mWARNING\u001b[0m Calling run.save without any arguments is deprecated.Changes to attributes are automatically persisted.\n"
     ]
    },
    {
     "data": {
      "text/html": [
       "<br/>Waiting for W&B process to finish, PID 9368... <strong style=\"color:green\">(success).</strong>"
      ],
      "text/plain": [
       "<IPython.core.display.HTML object>"
      ]
     },
     "metadata": {},
     "output_type": "display_data"
    },
    {
     "data": {
      "application/vnd.jupyter.widget-view+json": {
       "model_id": "82152288a64a40dcad9a9a14ee06c578",
       "version_major": 2,
       "version_minor": 0
      },
      "text/plain": [
       "VBox(children=(Label(value=' 0.44MB of 0.44MB uploaded (0.00MB deduped)\\r'), FloatProgress(value=1.0, max=1.0)…"
      ]
     },
     "metadata": {},
     "output_type": "display_data"
    },
    {
     "data": {
      "text/html": [
       "<style>\n",
       "    table.wandb td:nth-child(1) { padding: 0 10px; text-align: right }\n",
       "    .wandb-row { display: flex; flex-direction: row; flex-wrap: wrap; width: 100% }\n",
       "    .wandb-col { display: flex; flex-direction: column; flex-basis: 100%; flex: 1; padding: 10px; }\n",
       "    </style>\n",
       "<div class=\"wandb-row\"><div class=\"wandb-col\">\n",
       "<h3>Run history:</h3><br/><table class=\"wandb\"><tr><td>accuracy</td><td>▁</td></tr><tr><td>precision</td><td>▁</td></tr><tr><td>recall</td><td>▁</td></tr><tr><td>sensitivity</td><td>▁</td></tr><tr><td>specificity</td><td>▁</td></tr></table><br/></div><div class=\"wandb-col\">\n",
       "<h3>Run summary:</h3><br/><table class=\"wandb\"><tr><td>accuracy</td><td>0.91</td></tr><tr><td>precision</td><td>0.89</td></tr><tr><td>recall</td><td>0.91</td></tr><tr><td>sensitivity</td><td>0.91</td></tr><tr><td>specificity</td><td>0.91</td></tr></table>\n",
       "</div></div>\n",
       "Synced 5 W&B file(s), 7 media file(s), 7 artifact file(s) and 0 other file(s)\n",
       "<br/>Synced <strong style=\"color:#cdcd00\">daily-leaf-2</strong>: <a href=\"https://wandb.ai/rahav-manoharan/mlops-project/runs/48wekn63\" target=\"_blank\">https://wandb.ai/rahav-manoharan/mlops-project/runs/48wekn63</a><br/>\n",
       "Find logs at: <code>.\\wandb\\run-20211126_232616-48wekn63\\logs</code><br/>\n"
      ],
      "text/plain": [
       "<IPython.core.display.HTML object>"
      ]
     },
     "metadata": {},
     "output_type": "display_data"
    }
   ],
   "source": [
    "params = {'bootstrap': True, \n",
    "        'criterion': 'gini',\n",
    "        'max_depth': 15, \n",
    "        'max_features': 'auto',\n",
    "        'min_impurity_decrease': 0.001,\n",
    "        'min_samples_leaf': 30, \n",
    "        'min_samples_split': 50,\n",
    "        'class_weight': \"balanced_subsample\",\n",
    "        'n_estimators': 200,\n",
    "        'oob_score': True, \n",
    "        'random_state': 16, \n",
    "        'verbose': 0,\n",
    "        'warm_start': False}\n",
    "\n",
    "sweep_config = {\n",
    "  \"name\" : \"rf_sweep\",\n",
    "  \"method\" : \"random\",\n",
    "  \"parameters\" : {\n",
    "    \"n_estimators\" : {\n",
    "      \"values\" : [100, 200, 300]\n",
    "      },\n",
    "    \"max_depth\" :{\n",
    "      \"values\" : [7, 10, 15]\n",
    "      },\n",
    "    \"min_sample_split\" :{\n",
    "      \"values\" : [50, 75, 100]\n",
    "      }\n",
    "   }\n",
    "}\n",
    "\n",
    "rf_ohe_model = ensemble.RandomForestClassifier(**params)\n",
    "\n",
    "rf_ohe_model = run_model_experiment(train, rf_ohe_model, \"RandomForestOHE\", preprocessor, encoder=encoder1, config = params, tags=[\"RandomForest\", \"OHE\"])"
   ]
  },
  {
   "cell_type": "markdown",
   "metadata": {},
   "source": [
    "## Logistic Regression with OHE"
   ]
  },
  {
   "cell_type": "code",
   "execution_count": 216,
   "metadata": {},
   "outputs": [
    {
     "name": "stderr",
     "output_type": "stream",
     "text": [
      "\u001b[34m\u001b[1mwandb\u001b[0m: wandb version 0.12.7 is available!  To upgrade, please run:\n",
      "\u001b[34m\u001b[1mwandb\u001b[0m:  $ pip install wandb --upgrade\n"
     ]
    },
    {
     "data": {
      "text/html": [
       "\n",
       "                    Syncing run <strong><a href=\"https://wandb.ai/rahav-manoharan/mlops-project/runs/wjvqrak1\" target=\"_blank\">cool-serenity-3</a></strong> to <a href=\"https://wandb.ai/rahav-manoharan/mlops-project\" target=\"_blank\">Weights & Biases</a> (<a href=\"https://docs.wandb.com/integrations/jupyter.html\" target=\"_blank\">docs</a>).<br/>\n",
       "\n",
       "                "
      ],
      "text/plain": [
       "<IPython.core.display.HTML object>"
      ]
     },
     "metadata": {},
     "output_type": "display_data"
    },
    {
     "name": "stderr",
     "output_type": "stream",
     "text": [
      "\u001b[34m\u001b[1mwandb\u001b[0m: \n",
      "\u001b[34m\u001b[1mwandb\u001b[0m: Plotting LogisticRegressionOHE.\n",
      "\u001b[34m\u001b[1mwandb\u001b[0m: \u001b[33mWARNING\u001b[0m 2-dimensional feature importances array passed to plot_feature_importances. 2-dimensional and higher feature importances arrays are not currently supported. These importances will not be plotted.\n",
      "\u001b[34m\u001b[1mwandb\u001b[0m: Logged feature importances.\n",
      "\u001b[34m\u001b[1mwandb\u001b[0m: Logged confusion matrix.\n",
      "C:\\Users\\ADMIN\\.conda\\envs\\mlopslab\\lib\\site-packages\\sklearn\\base.py:438: UserWarning: X has feature names, but LogisticRegression was fitted without feature names\n",
      "  warnings.warn(\n",
      "C:\\Users\\ADMIN\\.conda\\envs\\mlopslab\\lib\\site-packages\\sklearn\\base.py:438: UserWarning: X has feature names, but LogisticRegression was fitted without feature names\n",
      "  warnings.warn(\n",
      "\u001b[34m\u001b[1mwandb\u001b[0m: Logged summary metrics.\n",
      "\u001b[34m\u001b[1mwandb\u001b[0m: Logged class proportions.\n",
      "\u001b[34m\u001b[1mwandb\u001b[0m: Logged calibration curve.\n",
      "\u001b[34m\u001b[1mwandb\u001b[0m: Logged roc curve.\n",
      "\u001b[34m\u001b[1mwandb\u001b[0m: Logged precision recall curve.\n",
      "\u001b[34m\u001b[1mwandb\u001b[0m: \u001b[33mWARNING\u001b[0m Calling run.save without any arguments is deprecated.Changes to attributes are automatically persisted.\n"
     ]
    },
    {
     "data": {
      "text/html": [
       "<br/>Waiting for W&B process to finish, PID 6768... <strong style=\"color:green\">(success).</strong>"
      ],
      "text/plain": [
       "<IPython.core.display.HTML object>"
      ]
     },
     "metadata": {},
     "output_type": "display_data"
    },
    {
     "data": {
      "application/vnd.jupyter.widget-view+json": {
       "model_id": "e49793f350824b8fbba1af33593f8a2e",
       "version_major": 2,
       "version_minor": 0
      },
      "text/plain": [
       "VBox(children=(Label(value=' 0.44MB of 0.44MB uploaded (0.00MB deduped)\\r'), FloatProgress(value=1.0, max=1.0)…"
      ]
     },
     "metadata": {},
     "output_type": "display_data"
    },
    {
     "data": {
      "text/html": [
       "<style>\n",
       "    table.wandb td:nth-child(1) { padding: 0 10px; text-align: right }\n",
       "    .wandb-row { display: flex; flex-direction: row; flex-wrap: wrap; width: 100% }\n",
       "    .wandb-col { display: flex; flex-direction: column; flex-basis: 100%; flex: 1; padding: 10px; }\n",
       "    </style>\n",
       "<div class=\"wandb-row\"><div class=\"wandb-col\">\n",
       "<h3>Run history:</h3><br/><table class=\"wandb\"><tr><td>accuracy</td><td>▁</td></tr><tr><td>precision</td><td>▁</td></tr><tr><td>recall</td><td>▁</td></tr><tr><td>sensitivity</td><td>▁</td></tr><tr><td>specificity</td><td>▁</td></tr></table><br/></div><div class=\"wandb-col\">\n",
       "<h3>Run summary:</h3><br/><table class=\"wandb\"><tr><td>accuracy</td><td>0.83</td></tr><tr><td>precision</td><td>0.82</td></tr><tr><td>recall</td><td>0.82</td></tr><tr><td>sensitivity</td><td>0.82</td></tr><tr><td>specificity</td><td>0.85</td></tr></table>\n",
       "</div></div>\n",
       "Synced 5 W&B file(s), 6 media file(s), 6 artifact file(s) and 0 other file(s)\n",
       "<br/>Synced <strong style=\"color:#cdcd00\">cool-serenity-3</strong>: <a href=\"https://wandb.ai/rahav-manoharan/mlops-project/runs/wjvqrak1\" target=\"_blank\">https://wandb.ai/rahav-manoharan/mlops-project/runs/wjvqrak1</a><br/>\n",
       "Find logs at: <code>.\\wandb\\run-20211126_232715-wjvqrak1\\logs</code><br/>\n"
      ],
      "text/plain": [
       "<IPython.core.display.HTML object>"
      ]
     },
     "metadata": {},
     "output_type": "display_data"
    }
   ],
   "source": [
    "lr_ohe_model = LogisticRegression(max_iter=10000)\n",
    "\n",
    "lr_ohe_model = run_model_experiment(train, lr_ohe_model, \"LogisticRegressionOHE\", preprocessor, encoder=encoder1, config = params, tags=[\"LoristicRegression\", \"OHE\"])"
   ]
  },
  {
   "cell_type": "markdown",
   "metadata": {},
   "source": [
    "## XGBoost with OHE"
   ]
  },
  {
   "cell_type": "code",
   "execution_count": 217,
   "metadata": {},
   "outputs": [
    {
     "name": "stderr",
     "output_type": "stream",
     "text": [
      "C:\\Users\\ADMIN\\.conda\\envs\\mlopslab\\lib\\site-packages\\xgboost\\sklearn.py:1224: UserWarning: The use of label encoder in XGBClassifier is deprecated and will be removed in a future release. To remove this warning, do the following: 1) Pass option use_label_encoder=False when constructing XGBClassifier object; and 2) Encode your labels (y) as integers starting with 0, i.e. 0, 1, 2, ..., [num_class - 1].\n",
      "  warnings.warn(label_encoder_deprecation_msg, UserWarning)\n"
     ]
    },
    {
     "name": "stdout",
     "output_type": "stream",
     "text": [
      "[23:27:44] WARNING: D:\\bld\\xgboost-split_1637426510059\\work\\src\\learner.cc:1115: Starting in XGBoost 1.3.0, the default evaluation metric used with the objective 'binary:logistic' was changed from 'error' to 'logloss'. Explicitly set eval_metric if you'd like to restore the old behavior.\n"
     ]
    },
    {
     "name": "stderr",
     "output_type": "stream",
     "text": [
      "\u001b[34m\u001b[1mwandb\u001b[0m: wandb version 0.12.7 is available!  To upgrade, please run:\n",
      "\u001b[34m\u001b[1mwandb\u001b[0m:  $ pip install wandb --upgrade\n"
     ]
    },
    {
     "data": {
      "text/html": [
       "\n",
       "                    Syncing run <strong><a href=\"https://wandb.ai/rahav-manoharan/mlops-project/runs/3sa8md8t\" target=\"_blank\">atomic-water-4</a></strong> to <a href=\"https://wandb.ai/rahav-manoharan/mlops-project\" target=\"_blank\">Weights & Biases</a> (<a href=\"https://docs.wandb.com/integrations/jupyter.html\" target=\"_blank\">docs</a>).<br/>\n",
       "\n",
       "                "
      ],
      "text/plain": [
       "<IPython.core.display.HTML object>"
      ]
     },
     "metadata": {},
     "output_type": "display_data"
    },
    {
     "name": "stderr",
     "output_type": "stream",
     "text": [
      "\u001b[34m\u001b[1mwandb\u001b[0m: \n",
      "\u001b[34m\u001b[1mwandb\u001b[0m: Plotting XGBoostOHE.\n",
      "\u001b[34m\u001b[1mwandb\u001b[0m: Logged feature importances.\n",
      "\u001b[34m\u001b[1mwandb\u001b[0m: Logged confusion matrix.\n",
      "\u001b[34m\u001b[1mwandb\u001b[0m: Logged summary metrics.\n",
      "\u001b[34m\u001b[1mwandb\u001b[0m: Logged class proportions.\n",
      "C:\\Users\\ADMIN\\.conda\\envs\\mlopslab\\lib\\site-packages\\xgboost\\sklearn.py:1224: UserWarning: The use of label encoder in XGBClassifier is deprecated and will be removed in a future release. To remove this warning, do the following: 1) Pass option use_label_encoder=False when constructing XGBClassifier object; and 2) Encode your labels (y) as integers starting with 0, i.e. 0, 1, 2, ..., [num_class - 1].\n",
      "  warnings.warn(label_encoder_deprecation_msg, UserWarning)\n"
     ]
    },
    {
     "name": "stdout",
     "output_type": "stream",
     "text": [
      "[23:28:24] WARNING: D:\\bld\\xgboost-split_1637426510059\\work\\src\\learner.cc:1115: Starting in XGBoost 1.3.0, the default evaluation metric used with the objective 'binary:logistic' was changed from 'error' to 'logloss'. Explicitly set eval_metric if you'd like to restore the old behavior.\n"
     ]
    },
    {
     "name": "stderr",
     "output_type": "stream",
     "text": [
      "C:\\Users\\ADMIN\\.conda\\envs\\mlopslab\\lib\\site-packages\\xgboost\\sklearn.py:1224: UserWarning: The use of label encoder in XGBClassifier is deprecated and will be removed in a future release. To remove this warning, do the following: 1) Pass option use_label_encoder=False when constructing XGBClassifier object; and 2) Encode your labels (y) as integers starting with 0, i.e. 0, 1, 2, ..., [num_class - 1].\n",
      "  warnings.warn(label_encoder_deprecation_msg, UserWarning)\n"
     ]
    },
    {
     "name": "stdout",
     "output_type": "stream",
     "text": [
      "[23:28:25] WARNING: D:\\bld\\xgboost-split_1637426510059\\work\\src\\learner.cc:1115: Starting in XGBoost 1.3.0, the default evaluation metric used with the objective 'binary:logistic' was changed from 'error' to 'logloss'. Explicitly set eval_metric if you'd like to restore the old behavior.\n"
     ]
    },
    {
     "name": "stderr",
     "output_type": "stream",
     "text": [
      "C:\\Users\\ADMIN\\.conda\\envs\\mlopslab\\lib\\site-packages\\xgboost\\sklearn.py:1224: UserWarning: The use of label encoder in XGBClassifier is deprecated and will be removed in a future release. To remove this warning, do the following: 1) Pass option use_label_encoder=False when constructing XGBClassifier object; and 2) Encode your labels (y) as integers starting with 0, i.e. 0, 1, 2, ..., [num_class - 1].\n",
      "  warnings.warn(label_encoder_deprecation_msg, UserWarning)\n"
     ]
    },
    {
     "name": "stdout",
     "output_type": "stream",
     "text": [
      "[23:28:26] WARNING: D:\\bld\\xgboost-split_1637426510059\\work\\src\\learner.cc:1115: Starting in XGBoost 1.3.0, the default evaluation metric used with the objective 'binary:logistic' was changed from 'error' to 'logloss'. Explicitly set eval_metric if you'd like to restore the old behavior.\n"
     ]
    },
    {
     "name": "stderr",
     "output_type": "stream",
     "text": [
      "C:\\Users\\ADMIN\\.conda\\envs\\mlopslab\\lib\\site-packages\\xgboost\\sklearn.py:1224: UserWarning: The use of label encoder in XGBClassifier is deprecated and will be removed in a future release. To remove this warning, do the following: 1) Pass option use_label_encoder=False when constructing XGBClassifier object; and 2) Encode your labels (y) as integers starting with 0, i.e. 0, 1, 2, ..., [num_class - 1].\n",
      "  warnings.warn(label_encoder_deprecation_msg, UserWarning)\n"
     ]
    },
    {
     "name": "stdout",
     "output_type": "stream",
     "text": [
      "[23:28:27] WARNING: D:\\bld\\xgboost-split_1637426510059\\work\\src\\learner.cc:1115: Starting in XGBoost 1.3.0, the default evaluation metric used with the objective 'binary:logistic' was changed from 'error' to 'logloss'. Explicitly set eval_metric if you'd like to restore the old behavior.\n"
     ]
    },
    {
     "name": "stderr",
     "output_type": "stream",
     "text": [
      "C:\\Users\\ADMIN\\.conda\\envs\\mlopslab\\lib\\site-packages\\xgboost\\sklearn.py:1224: UserWarning: The use of label encoder in XGBClassifier is deprecated and will be removed in a future release. To remove this warning, do the following: 1) Pass option use_label_encoder=False when constructing XGBClassifier object; and 2) Encode your labels (y) as integers starting with 0, i.e. 0, 1, 2, ..., [num_class - 1].\n",
      "  warnings.warn(label_encoder_deprecation_msg, UserWarning)\n"
     ]
    },
    {
     "name": "stdout",
     "output_type": "stream",
     "text": [
      "[23:28:28] WARNING: D:\\bld\\xgboost-split_1637426510059\\work\\src\\learner.cc:1115: Starting in XGBoost 1.3.0, the default evaluation metric used with the objective 'binary:logistic' was changed from 'error' to 'logloss'. Explicitly set eval_metric if you'd like to restore the old behavior.\n"
     ]
    },
    {
     "name": "stderr",
     "output_type": "stream",
     "text": [
      "\u001b[34m\u001b[1mwandb\u001b[0m: Logged calibration curve.\n",
      "\u001b[34m\u001b[1mwandb\u001b[0m: Logged roc curve.\n",
      "\u001b[34m\u001b[1mwandb\u001b[0m: Logged precision recall curve.\n",
      "\u001b[34m\u001b[1mwandb\u001b[0m: \u001b[33mWARNING\u001b[0m Calling run.save without any arguments is deprecated.Changes to attributes are automatically persisted.\n"
     ]
    },
    {
     "data": {
      "text/html": [
       "<br/>Waiting for W&B process to finish, PID 14632... <strong style=\"color:green\">(success).</strong>"
      ],
      "text/plain": [
       "<IPython.core.display.HTML object>"
      ]
     },
     "metadata": {},
     "output_type": "display_data"
    },
    {
     "data": {
      "application/vnd.jupyter.widget-view+json": {
       "model_id": "913e61279299484e850728b0defcd687",
       "version_major": 2,
       "version_minor": 0
      },
      "text/plain": [
       "VBox(children=(Label(value=' 0.29MB of 0.29MB uploaded (0.00MB deduped)\\r'), FloatProgress(value=1.0, max=1.0)…"
      ]
     },
     "metadata": {},
     "output_type": "display_data"
    },
    {
     "data": {
      "text/html": [
       "<style>\n",
       "    table.wandb td:nth-child(1) { padding: 0 10px; text-align: right }\n",
       "    .wandb-row { display: flex; flex-direction: row; flex-wrap: wrap; width: 100% }\n",
       "    .wandb-col { display: flex; flex-direction: column; flex-basis: 100%; flex: 1; padding: 10px; }\n",
       "    </style>\n",
       "<div class=\"wandb-row\"><div class=\"wandb-col\">\n",
       "<h3>Run history:</h3><br/><table class=\"wandb\"><tr><td>accuracy</td><td>▁</td></tr><tr><td>precision</td><td>▁</td></tr><tr><td>recall</td><td>▁</td></tr><tr><td>sensitivity</td><td>▁</td></tr><tr><td>specificity</td><td>▁</td></tr></table><br/></div><div class=\"wandb-col\">\n",
       "<h3>Run summary:</h3><br/><table class=\"wandb\"><tr><td>accuracy</td><td>0.96</td></tr><tr><td>precision</td><td>0.94</td></tr><tr><td>recall</td><td>0.96</td></tr><tr><td>sensitivity</td><td>0.96</td></tr><tr><td>specificity</td><td>0.95</td></tr></table>\n",
       "</div></div>\n",
       "Synced 5 W&B file(s), 7 media file(s), 7 artifact file(s) and 0 other file(s)\n",
       "<br/>Synced <strong style=\"color:#cdcd00\">atomic-water-4</strong>: <a href=\"https://wandb.ai/rahav-manoharan/mlops-project/runs/3sa8md8t\" target=\"_blank\">https://wandb.ai/rahav-manoharan/mlops-project/runs/3sa8md8t</a><br/>\n",
       "Find logs at: <code>.\\wandb\\run-20211126_232815-3sa8md8t\\logs</code><br/>\n"
      ],
      "text/plain": [
       "<IPython.core.display.HTML object>"
      ]
     },
     "metadata": {},
     "output_type": "display_data"
    }
   ],
   "source": [
    "xgb_ohe_model = XGBClassifier(learning_rate =0.1,\n",
    "                    n_estimators=500,\n",
    "                    max_depth=20,\n",
    "                    min_child_weight=1,\n",
    "                    gamma=0,\n",
    "                    subsample=0.8,\n",
    "                    colsample_bytree=0.8,\n",
    "                    objective= 'binary:logistic',\n",
    "                    nthread=4,\n",
    "                    scale_pos_weight=1,\n",
    "                    seed=16)\n",
    "\n",
    "xgb_ohe_model = run_model_experiment(train, xgb_ohe_model, \"XGBoostOHE\", preprocessor, encoder=encoder1, config = params, tags=[\"XGBoost\", \"OHE\"])"
   ]
  },
  {
   "cell_type": "markdown",
   "metadata": {},
   "source": [
    "# Target Encoding"
   ]
  },
  {
   "cell_type": "code",
   "execution_count": 218,
   "metadata": {},
   "outputs": [],
   "source": [
    "preprocessor = ColumnTransformer(\n",
    "    transformers=[        \n",
    "        ('num', numeric_transformer, numerical_features),\n",
    "        ('cat', encoder2, categorical_features)\n",
    "        ])"
   ]
  },
  {
   "cell_type": "markdown",
   "metadata": {},
   "source": [
    "## Decision Tree with Target Encoding"
   ]
  },
  {
   "cell_type": "code",
   "execution_count": 49,
   "metadata": {},
   "outputs": [
    {
     "name": "stderr",
     "output_type": "stream",
     "text": [
      "C:\\Users\\ADMIN\\AppData\\Local\\Temp/ipykernel_9536/3102278590.py:2: SettingWithCopyWarning: \n",
      "A value is trying to be set on a copy of a slice from a DataFrame\n",
      "\n",
      "See the caveats in the documentation: https://pandas.pydata.org/pandas-docs/stable/user_guide/indexing.html#returning-a-view-versus-a-copy\n",
      "  train.satisfaction[i] = 1 if train.satisfaction[i]=='satisfied' else 0\n"
     ]
    },
    {
     "data": {
      "text/html": [
       "<div>\n",
       "<style scoped>\n",
       "    .dataframe tbody tr th:only-of-type {\n",
       "        vertical-align: middle;\n",
       "    }\n",
       "\n",
       "    .dataframe tbody tr th {\n",
       "        vertical-align: top;\n",
       "    }\n",
       "\n",
       "    .dataframe thead th {\n",
       "        text-align: right;\n",
       "    }\n",
       "</style>\n",
       "<table border=\"1\" class=\"dataframe\">\n",
       "  <thead>\n",
       "    <tr style=\"text-align: right;\">\n",
       "      <th></th>\n",
       "      <th>satisfaction</th>\n",
       "      <th>Gender</th>\n",
       "      <th>Customer Type</th>\n",
       "      <th>Age</th>\n",
       "      <th>Type of Travel</th>\n",
       "      <th>Class</th>\n",
       "      <th>Flight Distance</th>\n",
       "      <th>Seat comfort</th>\n",
       "      <th>Departure/Arrival time convenient</th>\n",
       "      <th>Food and drink</th>\n",
       "      <th>...</th>\n",
       "      <th>Online support</th>\n",
       "      <th>Ease of Online booking</th>\n",
       "      <th>On-board service</th>\n",
       "      <th>Leg room service</th>\n",
       "      <th>Baggage handling</th>\n",
       "      <th>Checkin service</th>\n",
       "      <th>Cleanliness</th>\n",
       "      <th>Online boarding</th>\n",
       "      <th>Departure Delay in Minutes</th>\n",
       "      <th>Arrival Delay in Minutes</th>\n",
       "    </tr>\n",
       "  </thead>\n",
       "  <tbody>\n",
       "    <tr>\n",
       "      <th>0</th>\n",
       "      <td>1</td>\n",
       "      <td>Male</td>\n",
       "      <td>Loyal Customer</td>\n",
       "      <td>37</td>\n",
       "      <td>Business travel</td>\n",
       "      <td>Business</td>\n",
       "      <td>3785</td>\n",
       "      <td>4</td>\n",
       "      <td>4</td>\n",
       "      <td>4</td>\n",
       "      <td>...</td>\n",
       "      <td>4</td>\n",
       "      <td>4</td>\n",
       "      <td>4</td>\n",
       "      <td>4</td>\n",
       "      <td>4</td>\n",
       "      <td>5</td>\n",
       "      <td>4</td>\n",
       "      <td>4</td>\n",
       "      <td>1</td>\n",
       "      <td>9</td>\n",
       "    </tr>\n",
       "    <tr>\n",
       "      <th>1</th>\n",
       "      <td>0</td>\n",
       "      <td>Male</td>\n",
       "      <td>Loyal Customer</td>\n",
       "      <td>60</td>\n",
       "      <td>Personal Travel</td>\n",
       "      <td>Eco</td>\n",
       "      <td>1784</td>\n",
       "      <td>3</td>\n",
       "      <td>4</td>\n",
       "      <td>3</td>\n",
       "      <td>...</td>\n",
       "      <td>2</td>\n",
       "      <td>5</td>\n",
       "      <td>3</td>\n",
       "      <td>2</td>\n",
       "      <td>4</td>\n",
       "      <td>4</td>\n",
       "      <td>4</td>\n",
       "      <td>5</td>\n",
       "      <td>0</td>\n",
       "      <td>0</td>\n",
       "    </tr>\n",
       "    <tr>\n",
       "      <th>2</th>\n",
       "      <td>0</td>\n",
       "      <td>Male</td>\n",
       "      <td>Loyal Customer</td>\n",
       "      <td>27</td>\n",
       "      <td>Business travel</td>\n",
       "      <td>Business</td>\n",
       "      <td>1825</td>\n",
       "      <td>2</td>\n",
       "      <td>3</td>\n",
       "      <td>4</td>\n",
       "      <td>...</td>\n",
       "      <td>2</td>\n",
       "      <td>2</td>\n",
       "      <td>1</td>\n",
       "      <td>3</td>\n",
       "      <td>3</td>\n",
       "      <td>1</td>\n",
       "      <td>2</td>\n",
       "      <td>2</td>\n",
       "      <td>76</td>\n",
       "      <td>57</td>\n",
       "    </tr>\n",
       "    <tr>\n",
       "      <th>3</th>\n",
       "      <td>1</td>\n",
       "      <td>Male</td>\n",
       "      <td>Loyal Customer</td>\n",
       "      <td>50</td>\n",
       "      <td>Business travel</td>\n",
       "      <td>Eco</td>\n",
       "      <td>2024</td>\n",
       "      <td>4</td>\n",
       "      <td>4</td>\n",
       "      <td>2</td>\n",
       "      <td>...</td>\n",
       "      <td>4</td>\n",
       "      <td>4</td>\n",
       "      <td>2</td>\n",
       "      <td>5</td>\n",
       "      <td>4</td>\n",
       "      <td>2</td>\n",
       "      <td>4</td>\n",
       "      <td>4</td>\n",
       "      <td>125</td>\n",
       "      <td>129</td>\n",
       "    </tr>\n",
       "    <tr>\n",
       "      <th>4</th>\n",
       "      <td>0</td>\n",
       "      <td>Male</td>\n",
       "      <td>Loyal Customer</td>\n",
       "      <td>70</td>\n",
       "      <td>Personal Travel</td>\n",
       "      <td>Eco</td>\n",
       "      <td>1435</td>\n",
       "      <td>4</td>\n",
       "      <td>4</td>\n",
       "      <td>4</td>\n",
       "      <td>...</td>\n",
       "      <td>5</td>\n",
       "      <td>5</td>\n",
       "      <td>5</td>\n",
       "      <td>4</td>\n",
       "      <td>5</td>\n",
       "      <td>4</td>\n",
       "      <td>4</td>\n",
       "      <td>5</td>\n",
       "      <td>0</td>\n",
       "      <td>0</td>\n",
       "    </tr>\n",
       "    <tr>\n",
       "      <th>...</th>\n",
       "      <td>...</td>\n",
       "      <td>...</td>\n",
       "      <td>...</td>\n",
       "      <td>...</td>\n",
       "      <td>...</td>\n",
       "      <td>...</td>\n",
       "      <td>...</td>\n",
       "      <td>...</td>\n",
       "      <td>...</td>\n",
       "      <td>...</td>\n",
       "      <td>...</td>\n",
       "      <td>...</td>\n",
       "      <td>...</td>\n",
       "      <td>...</td>\n",
       "      <td>...</td>\n",
       "      <td>...</td>\n",
       "      <td>...</td>\n",
       "      <td>...</td>\n",
       "      <td>...</td>\n",
       "      <td>...</td>\n",
       "      <td>...</td>\n",
       "    </tr>\n",
       "    <tr>\n",
       "      <th>77687</th>\n",
       "      <td>0</td>\n",
       "      <td>Female</td>\n",
       "      <td>disloyal Customer</td>\n",
       "      <td>28</td>\n",
       "      <td>Business travel</td>\n",
       "      <td>Business</td>\n",
       "      <td>1589</td>\n",
       "      <td>3</td>\n",
       "      <td>3</td>\n",
       "      <td>3</td>\n",
       "      <td>...</td>\n",
       "      <td>1</td>\n",
       "      <td>1</td>\n",
       "      <td>3</td>\n",
       "      <td>4</td>\n",
       "      <td>4</td>\n",
       "      <td>4</td>\n",
       "      <td>4</td>\n",
       "      <td>1</td>\n",
       "      <td>0</td>\n",
       "      <td>0</td>\n",
       "    </tr>\n",
       "    <tr>\n",
       "      <th>77688</th>\n",
       "      <td>1</td>\n",
       "      <td>Female</td>\n",
       "      <td>Loyal Customer</td>\n",
       "      <td>33</td>\n",
       "      <td>Business travel</td>\n",
       "      <td>Business</td>\n",
       "      <td>224</td>\n",
       "      <td>5</td>\n",
       "      <td>5</td>\n",
       "      <td>5</td>\n",
       "      <td>...</td>\n",
       "      <td>5</td>\n",
       "      <td>5</td>\n",
       "      <td>5</td>\n",
       "      <td>5</td>\n",
       "      <td>4</td>\n",
       "      <td>5</td>\n",
       "      <td>5</td>\n",
       "      <td>3</td>\n",
       "      <td>0</td>\n",
       "      <td>0</td>\n",
       "    </tr>\n",
       "    <tr>\n",
       "      <th>77689</th>\n",
       "      <td>0</td>\n",
       "      <td>Male</td>\n",
       "      <td>Loyal Customer</td>\n",
       "      <td>62</td>\n",
       "      <td>Personal Travel</td>\n",
       "      <td>Eco Plus</td>\n",
       "      <td>3375</td>\n",
       "      <td>1</td>\n",
       "      <td>1</td>\n",
       "      <td>1</td>\n",
       "      <td>...</td>\n",
       "      <td>1</td>\n",
       "      <td>1</td>\n",
       "      <td>4</td>\n",
       "      <td>1</td>\n",
       "      <td>4</td>\n",
       "      <td>1</td>\n",
       "      <td>4</td>\n",
       "      <td>1</td>\n",
       "      <td>12</td>\n",
       "      <td>0</td>\n",
       "    </tr>\n",
       "    <tr>\n",
       "      <th>77690</th>\n",
       "      <td>1</td>\n",
       "      <td>Male</td>\n",
       "      <td>Loyal Customer</td>\n",
       "      <td>39</td>\n",
       "      <td>Business travel</td>\n",
       "      <td>Business</td>\n",
       "      <td>1421</td>\n",
       "      <td>4</td>\n",
       "      <td>4</td>\n",
       "      <td>4</td>\n",
       "      <td>...</td>\n",
       "      <td>4</td>\n",
       "      <td>2</td>\n",
       "      <td>2</td>\n",
       "      <td>2</td>\n",
       "      <td>2</td>\n",
       "      <td>3</td>\n",
       "      <td>2</td>\n",
       "      <td>4</td>\n",
       "      <td>0</td>\n",
       "      <td>0</td>\n",
       "    </tr>\n",
       "    <tr>\n",
       "      <th>77691</th>\n",
       "      <td>0</td>\n",
       "      <td>Male</td>\n",
       "      <td>Loyal Customer</td>\n",
       "      <td>8</td>\n",
       "      <td>Personal Travel</td>\n",
       "      <td>Eco</td>\n",
       "      <td>2738</td>\n",
       "      <td>2</td>\n",
       "      <td>4</td>\n",
       "      <td>2</td>\n",
       "      <td>...</td>\n",
       "      <td>4</td>\n",
       "      <td>4</td>\n",
       "      <td>4</td>\n",
       "      <td>5</td>\n",
       "      <td>5</td>\n",
       "      <td>4</td>\n",
       "      <td>5</td>\n",
       "      <td>4</td>\n",
       "      <td>0</td>\n",
       "      <td>0</td>\n",
       "    </tr>\n",
       "  </tbody>\n",
       "</table>\n",
       "<p>77692 rows × 23 columns</p>\n",
       "</div>"
      ],
      "text/plain": [
       "      satisfaction  Gender      Customer Type  Age   Type of Travel     Class  \\\n",
       "0                1    Male     Loyal Customer   37  Business travel  Business   \n",
       "1                0    Male     Loyal Customer   60  Personal Travel       Eco   \n",
       "2                0    Male     Loyal Customer   27  Business travel  Business   \n",
       "3                1    Male     Loyal Customer   50  Business travel       Eco   \n",
       "4                0    Male     Loyal Customer   70  Personal Travel       Eco   \n",
       "...            ...     ...                ...  ...              ...       ...   \n",
       "77687            0  Female  disloyal Customer   28  Business travel  Business   \n",
       "77688            1  Female     Loyal Customer   33  Business travel  Business   \n",
       "77689            0    Male     Loyal Customer   62  Personal Travel  Eco Plus   \n",
       "77690            1    Male     Loyal Customer   39  Business travel  Business   \n",
       "77691            0    Male     Loyal Customer    8  Personal Travel       Eco   \n",
       "\n",
       "       Flight Distance  Seat comfort  Departure/Arrival time convenient  \\\n",
       "0                 3785             4                                  4   \n",
       "1                 1784             3                                  4   \n",
       "2                 1825             2                                  3   \n",
       "3                 2024             4                                  4   \n",
       "4                 1435             4                                  4   \n",
       "...                ...           ...                                ...   \n",
       "77687             1589             3                                  3   \n",
       "77688              224             5                                  5   \n",
       "77689             3375             1                                  1   \n",
       "77690             1421             4                                  4   \n",
       "77691             2738             2                                  4   \n",
       "\n",
       "       Food and drink  ...  Online support  Ease of Online booking  \\\n",
       "0                   4  ...               4                       4   \n",
       "1                   3  ...               2                       5   \n",
       "2                   4  ...               2                       2   \n",
       "3                   2  ...               4                       4   \n",
       "4                   4  ...               5                       5   \n",
       "...               ...  ...             ...                     ...   \n",
       "77687               3  ...               1                       1   \n",
       "77688               5  ...               5                       5   \n",
       "77689               1  ...               1                       1   \n",
       "77690               4  ...               4                       2   \n",
       "77691               2  ...               4                       4   \n",
       "\n",
       "       On-board service  Leg room service  Baggage handling  Checkin service  \\\n",
       "0                     4                 4                 4                5   \n",
       "1                     3                 2                 4                4   \n",
       "2                     1                 3                 3                1   \n",
       "3                     2                 5                 4                2   \n",
       "4                     5                 4                 5                4   \n",
       "...                 ...               ...               ...              ...   \n",
       "77687                 3                 4                 4                4   \n",
       "77688                 5                 5                 4                5   \n",
       "77689                 4                 1                 4                1   \n",
       "77690                 2                 2                 2                3   \n",
       "77691                 4                 5                 5                4   \n",
       "\n",
       "       Cleanliness  Online boarding  Departure Delay in Minutes  \\\n",
       "0                4                4                           1   \n",
       "1                4                5                           0   \n",
       "2                2                2                          76   \n",
       "3                4                4                         125   \n",
       "4                4                5                           0   \n",
       "...            ...              ...                         ...   \n",
       "77687            4                1                           0   \n",
       "77688            5                3                           0   \n",
       "77689            4                1                          12   \n",
       "77690            2                4                           0   \n",
       "77691            5                4                           0   \n",
       "\n",
       "       Arrival Delay in Minutes  \n",
       "0                             9  \n",
       "1                             0  \n",
       "2                            57  \n",
       "3                           129  \n",
       "4                             0  \n",
       "...                         ...  \n",
       "77687                         0  \n",
       "77688                         0  \n",
       "77689                         0  \n",
       "77690                         0  \n",
       "77691                         0  \n",
       "\n",
       "[77692 rows x 23 columns]"
      ]
     },
     "execution_count": 49,
     "metadata": {},
     "output_type": "execute_result"
    }
   ],
   "source": [
    "for i in range(len(train)):\n",
    "    train.satisfaction[i] = 1 if train.satisfaction[i]=='satisfied' else 0\n",
    "train\n",
    "train.satisfaction = train.satisfaction.astype('int')"
   ]
  },
  {
   "cell_type": "code",
   "execution_count": 222,
   "metadata": {},
   "outputs": [
    {
     "name": "stderr",
     "output_type": "stream",
     "text": [
      "\u001b[34m\u001b[1mwandb\u001b[0m: wandb version 0.12.7 is available!  To upgrade, please run:\n",
      "\u001b[34m\u001b[1mwandb\u001b[0m:  $ pip install wandb --upgrade\n"
     ]
    },
    {
     "data": {
      "text/html": [
       "\n",
       "                    Syncing run <strong><a href=\"https://wandb.ai/rahav-manoharan/mlops-project/runs/2buhuc57\" target=\"_blank\">lively-cherry-5</a></strong> to <a href=\"https://wandb.ai/rahav-manoharan/mlops-project\" target=\"_blank\">Weights & Biases</a> (<a href=\"https://docs.wandb.com/integrations/jupyter.html\" target=\"_blank\">docs</a>).<br/>\n",
       "\n",
       "                "
      ],
      "text/plain": [
       "<IPython.core.display.HTML object>"
      ]
     },
     "metadata": {},
     "output_type": "display_data"
    },
    {
     "name": "stderr",
     "output_type": "stream",
     "text": [
      "\u001b[34m\u001b[1mwandb\u001b[0m: \n",
      "\u001b[34m\u001b[1mwandb\u001b[0m: Plotting DecisionTreeWithTarget.\n",
      "\u001b[34m\u001b[1mwandb\u001b[0m: Logged feature importances.\n",
      "\u001b[34m\u001b[1mwandb\u001b[0m: Logged confusion matrix.\n",
      "C:\\Users\\ADMIN\\.conda\\envs\\mlopslab\\lib\\site-packages\\sklearn\\base.py:438: UserWarning: X has feature names, but DecisionTreeClassifier was fitted without feature names\n",
      "  warnings.warn(\n",
      "C:\\Users\\ADMIN\\.conda\\envs\\mlopslab\\lib\\site-packages\\sklearn\\base.py:438: UserWarning: X has feature names, but DecisionTreeClassifier was fitted without feature names\n",
      "  warnings.warn(\n",
      "\u001b[34m\u001b[1mwandb\u001b[0m: Logged summary metrics.\n",
      "\u001b[34m\u001b[1mwandb\u001b[0m: Logged class proportions.\n",
      "\u001b[34m\u001b[1mwandb\u001b[0m: Logged calibration curve.\n",
      "\u001b[34m\u001b[1mwandb\u001b[0m: Logged roc curve.\n",
      "\u001b[34m\u001b[1mwandb\u001b[0m: Logged precision recall curve.\n",
      "\u001b[34m\u001b[1mwandb\u001b[0m: \u001b[33mWARNING\u001b[0m Calling run.save without any arguments is deprecated.Changes to attributes are automatically persisted.\n"
     ]
    },
    {
     "data": {
      "text/html": [
       "<br/>Waiting for W&B process to finish, PID 16744... <strong style=\"color:green\">(success).</strong>"
      ],
      "text/plain": [
       "<IPython.core.display.HTML object>"
      ]
     },
     "metadata": {},
     "output_type": "display_data"
    },
    {
     "data": {
      "application/vnd.jupyter.widget-view+json": {
       "model_id": "e9b85ead8a4b4ff48a9a60c69bb5d9e1",
       "version_major": 2,
       "version_minor": 0
      },
      "text/plain": [
       "VBox(children=(Label(value=' 0.02MB of 0.02MB uploaded (0.00MB deduped)\\r'), FloatProgress(value=1.0, max=1.0)…"
      ]
     },
     "metadata": {},
     "output_type": "display_data"
    },
    {
     "data": {
      "text/html": [
       "<style>\n",
       "    table.wandb td:nth-child(1) { padding: 0 10px; text-align: right }\n",
       "    .wandb-row { display: flex; flex-direction: row; flex-wrap: wrap; width: 100% }\n",
       "    .wandb-col { display: flex; flex-direction: column; flex-basis: 100%; flex: 1; padding: 10px; }\n",
       "    </style>\n",
       "<div class=\"wandb-row\"><div class=\"wandb-col\">\n",
       "<h3>Run history:</h3><br/><table class=\"wandb\"><tr><td>accuracy</td><td>▁</td></tr><tr><td>precision</td><td>▁</td></tr><tr><td>recall</td><td>▁</td></tr><tr><td>sensitivity</td><td>▁</td></tr><tr><td>specificity</td><td>▁</td></tr></table><br/></div><div class=\"wandb-col\">\n",
       "<h3>Run summary:</h3><br/><table class=\"wandb\"><tr><td>accuracy</td><td>0.93</td></tr><tr><td>precision</td><td>0.91</td></tr><tr><td>recall</td><td>0.94</td></tr><tr><td>sensitivity</td><td>0.94</td></tr><tr><td>specificity</td><td>0.93</td></tr></table>\n",
       "</div></div>\n",
       "Synced 5 W&B file(s), 7 media file(s), 7 artifact file(s) and 0 other file(s)\n",
       "<br/>Synced <strong style=\"color:#cdcd00\">lively-cherry-5</strong>: <a href=\"https://wandb.ai/rahav-manoharan/mlops-project/runs/2buhuc57\" target=\"_blank\">https://wandb.ai/rahav-manoharan/mlops-project/runs/2buhuc57</a><br/>\n",
       "Find logs at: <code>.\\wandb\\run-20211126_233055-2buhuc57\\logs</code><br/>\n"
      ],
      "text/plain": [
       "<IPython.core.display.HTML object>"
      ]
     },
     "metadata": {},
     "output_type": "display_data"
    }
   ],
   "source": [
    "dt_target_model = tree.DecisionTreeClassifier(max_depth=10)\n",
    "\n",
    "dt_target_model = run_model_experiment(train, dt_target_model, \"DecisionTreeWithTarget\", preprocessor, encoder=encoder2, tags=[\"DecisionTree\", \"Target\"])"
   ]
  },
  {
   "cell_type": "markdown",
   "metadata": {},
   "source": [
    "## RandomForest with Target"
   ]
  },
  {
   "cell_type": "code",
   "execution_count": 223,
   "metadata": {},
   "outputs": [
    {
     "name": "stderr",
     "output_type": "stream",
     "text": [
      "\u001b[34m\u001b[1mwandb\u001b[0m: wandb version 0.12.7 is available!  To upgrade, please run:\n",
      "\u001b[34m\u001b[1mwandb\u001b[0m:  $ pip install wandb --upgrade\n"
     ]
    },
    {
     "data": {
      "text/html": [
       "\n",
       "                    Syncing run <strong><a href=\"https://wandb.ai/rahav-manoharan/mlops-project/runs/zp36pr7q\" target=\"_blank\">floral-valley-6</a></strong> to <a href=\"https://wandb.ai/rahav-manoharan/mlops-project\" target=\"_blank\">Weights & Biases</a> (<a href=\"https://docs.wandb.com/integrations/jupyter.html\" target=\"_blank\">docs</a>).<br/>\n",
       "\n",
       "                "
      ],
      "text/plain": [
       "<IPython.core.display.HTML object>"
      ]
     },
     "metadata": {},
     "output_type": "display_data"
    },
    {
     "name": "stderr",
     "output_type": "stream",
     "text": [
      "\u001b[34m\u001b[1mwandb\u001b[0m: \n",
      "\u001b[34m\u001b[1mwandb\u001b[0m: Plotting RandomForestTarget.\n",
      "\u001b[34m\u001b[1mwandb\u001b[0m: Logged feature importances.\n",
      "\u001b[34m\u001b[1mwandb\u001b[0m: Logged confusion matrix.\n",
      "C:\\Users\\ADMIN\\.conda\\envs\\mlopslab\\lib\\site-packages\\sklearn\\base.py:438: UserWarning: X has feature names, but RandomForestClassifier was fitted without feature names\n",
      "  warnings.warn(\n",
      "C:\\Users\\ADMIN\\.conda\\envs\\mlopslab\\lib\\site-packages\\sklearn\\base.py:438: UserWarning: X has feature names, but RandomForestClassifier was fitted without feature names\n",
      "  warnings.warn(\n",
      "C:\\Users\\ADMIN\\.conda\\envs\\mlopslab\\lib\\site-packages\\sklearn\\metrics\\_classification.py:1308: UndefinedMetricWarning: Precision is ill-defined and being set to 0.0 in labels with no predicted samples. Use `zero_division` parameter to control this behavior.\n",
      "  _warn_prf(average, modifier, msg_start, len(result))\n",
      "\u001b[34m\u001b[1mwandb\u001b[0m: Logged summary metrics.\n",
      "\u001b[34m\u001b[1mwandb\u001b[0m: Logged class proportions.\n",
      "\u001b[34m\u001b[1mwandb\u001b[0m: Logged calibration curve.\n",
      "\u001b[34m\u001b[1mwandb\u001b[0m: Logged roc curve.\n",
      "\u001b[34m\u001b[1mwandb\u001b[0m: Logged precision recall curve.\n",
      "\u001b[34m\u001b[1mwandb\u001b[0m: \u001b[33mWARNING\u001b[0m Calling run.save without any arguments is deprecated.Changes to attributes are automatically persisted.\n"
     ]
    },
    {
     "data": {
      "text/html": [
       "<br/>Waiting for W&B process to finish, PID 3704... <strong style=\"color:green\">(success).</strong>"
      ],
      "text/plain": [
       "<IPython.core.display.HTML object>"
      ]
     },
     "metadata": {},
     "output_type": "display_data"
    },
    {
     "data": {
      "application/vnd.jupyter.widget-view+json": {
       "model_id": "10fcde7c91504b3685fcef9a187d7473",
       "version_major": 2,
       "version_minor": 0
      },
      "text/plain": [
       "VBox(children=(Label(value=' 0.27MB of 0.27MB uploaded (0.00MB deduped)\\r'), FloatProgress(value=1.0, max=1.0)…"
      ]
     },
     "metadata": {},
     "output_type": "display_data"
    },
    {
     "data": {
      "text/html": [
       "<style>\n",
       "    table.wandb td:nth-child(1) { padding: 0 10px; text-align: right }\n",
       "    .wandb-row { display: flex; flex-direction: row; flex-wrap: wrap; width: 100% }\n",
       "    .wandb-col { display: flex; flex-direction: column; flex-basis: 100%; flex: 1; padding: 10px; }\n",
       "    </style>\n",
       "<div class=\"wandb-row\"><div class=\"wandb-col\">\n",
       "<h3>Run history:</h3><br/><table class=\"wandb\"><tr><td>accuracy</td><td>▁</td></tr><tr><td>precision</td><td>▁</td></tr><tr><td>recall</td><td>▁</td></tr><tr><td>sensitivity</td><td>▁</td></tr><tr><td>specificity</td><td>▁</td></tr></table><br/></div><div class=\"wandb-col\">\n",
       "<h3>Run summary:</h3><br/><table class=\"wandb\"><tr><td>accuracy</td><td>0.91</td></tr><tr><td>precision</td><td>0.9</td></tr><tr><td>recall</td><td>0.89</td></tr><tr><td>sensitivity</td><td>0.89</td></tr><tr><td>specificity</td><td>0.92</td></tr></table>\n",
       "</div></div>\n",
       "Synced 5 W&B file(s), 7 media file(s), 7 artifact file(s) and 0 other file(s)\n",
       "<br/>Synced <strong style=\"color:#cdcd00\">floral-valley-6</strong>: <a href=\"https://wandb.ai/rahav-manoharan/mlops-project/runs/zp36pr7q\" target=\"_blank\">https://wandb.ai/rahav-manoharan/mlops-project/runs/zp36pr7q</a><br/>\n",
       "Find logs at: <code>.\\wandb\\run-20211126_233134-zp36pr7q\\logs</code><br/>\n"
      ],
      "text/plain": [
       "<IPython.core.display.HTML object>"
      ]
     },
     "metadata": {},
     "output_type": "display_data"
    }
   ],
   "source": [
    "params = {'bootstrap': True, \n",
    "        'criterion': 'gini',\n",
    "        'max_depth': 15, \n",
    "        'max_features': 'auto',\n",
    "        'min_impurity_decrease': 0.001,\n",
    "        'min_samples_leaf': 30, \n",
    "        'min_samples_split': 50,\n",
    "        'class_weight': \"balanced_subsample\",\n",
    "        'n_estimators': 200,\n",
    "        'oob_score': True, \n",
    "        'random_state': 16, \n",
    "        'verbose': 0,\n",
    "        'warm_start': False}\n",
    "\n",
    "sweep_config = {\n",
    "  \"name\" : \"rf_sweep\",\n",
    "  \"method\" : \"random\",\n",
    "  \"parameters\" : {\n",
    "    \"n_estimators\" : {\n",
    "      \"values\" : [100, 200, 300]\n",
    "      },\n",
    "    \"max_depth\" :{\n",
    "      \"values\" : [7, 10, 15]\n",
    "      },\n",
    "    \"min_sample_split\" :{\n",
    "      \"values\" : [50, 75, 100]\n",
    "      }\n",
    "   }\n",
    "}\n",
    "\n",
    "rf_target_model = ensemble.RandomForestClassifier(**params)\n",
    "\n",
    "rf_target_model = run_model_experiment(train, rf_target_model, \"RandomForestTarget\", preprocessor, encoder=encoder2, config = params, tags=[\"RandomForest\", \"Target\"])"
   ]
  },
  {
   "cell_type": "markdown",
   "metadata": {},
   "source": [
    "## Logistic Regression with Target Encoding"
   ]
  },
  {
   "cell_type": "code",
   "execution_count": 224,
   "metadata": {},
   "outputs": [
    {
     "name": "stderr",
     "output_type": "stream",
     "text": [
      "\u001b[34m\u001b[1mwandb\u001b[0m: wandb version 0.12.7 is available!  To upgrade, please run:\n",
      "\u001b[34m\u001b[1mwandb\u001b[0m:  $ pip install wandb --upgrade\n"
     ]
    },
    {
     "data": {
      "text/html": [
       "\n",
       "                    Syncing run <strong><a href=\"https://wandb.ai/rahav-manoharan/mlops-project/runs/cjmztxz8\" target=\"_blank\">young-sunset-7</a></strong> to <a href=\"https://wandb.ai/rahav-manoharan/mlops-project\" target=\"_blank\">Weights & Biases</a> (<a href=\"https://docs.wandb.com/integrations/jupyter.html\" target=\"_blank\">docs</a>).<br/>\n",
       "\n",
       "                "
      ],
      "text/plain": [
       "<IPython.core.display.HTML object>"
      ]
     },
     "metadata": {},
     "output_type": "display_data"
    },
    {
     "name": "stderr",
     "output_type": "stream",
     "text": [
      "\u001b[34m\u001b[1mwandb\u001b[0m: \n",
      "\u001b[34m\u001b[1mwandb\u001b[0m: Plotting LogisticRegressionTarget.\n",
      "\u001b[34m\u001b[1mwandb\u001b[0m: \u001b[33mWARNING\u001b[0m 2-dimensional feature importances array passed to plot_feature_importances. 2-dimensional and higher feature importances arrays are not currently supported. These importances will not be plotted.\n",
      "\u001b[34m\u001b[1mwandb\u001b[0m: Logged feature importances.\n",
      "\u001b[34m\u001b[1mwandb\u001b[0m: Logged confusion matrix.\n",
      "C:\\Users\\ADMIN\\.conda\\envs\\mlopslab\\lib\\site-packages\\sklearn\\base.py:438: UserWarning: X has feature names, but LogisticRegression was fitted without feature names\n",
      "  warnings.warn(\n",
      "C:\\Users\\ADMIN\\.conda\\envs\\mlopslab\\lib\\site-packages\\sklearn\\base.py:438: UserWarning: X has feature names, but LogisticRegression was fitted without feature names\n",
      "  warnings.warn(\n",
      "C:\\Users\\ADMIN\\.conda\\envs\\mlopslab\\lib\\site-packages\\sklearn\\metrics\\_classification.py:1308: UndefinedMetricWarning: Precision is ill-defined and being set to 0.0 in labels with no predicted samples. Use `zero_division` parameter to control this behavior.\n",
      "  _warn_prf(average, modifier, msg_start, len(result))\n",
      "\u001b[34m\u001b[1mwandb\u001b[0m: Logged summary metrics.\n",
      "\u001b[34m\u001b[1mwandb\u001b[0m: Logged class proportions.\n",
      "\u001b[34m\u001b[1mwandb\u001b[0m: Logged calibration curve.\n",
      "\u001b[34m\u001b[1mwandb\u001b[0m: Logged roc curve.\n",
      "\u001b[34m\u001b[1mwandb\u001b[0m: Logged precision recall curve.\n",
      "\u001b[34m\u001b[1mwandb\u001b[0m: \u001b[33mWARNING\u001b[0m Calling run.save without any arguments is deprecated.Changes to attributes are automatically persisted.\n"
     ]
    },
    {
     "data": {
      "text/html": [
       "<br/>Waiting for W&B process to finish, PID 3800... <strong style=\"color:green\">(success).</strong>"
      ],
      "text/plain": [
       "<IPython.core.display.HTML object>"
      ]
     },
     "metadata": {},
     "output_type": "display_data"
    },
    {
     "data": {
      "application/vnd.jupyter.widget-view+json": {
       "model_id": "d44973351d3149148127429b54f66633",
       "version_major": 2,
       "version_minor": 0
      },
      "text/plain": [
       "VBox(children=(Label(value=' 0.28MB of 0.28MB uploaded (0.00MB deduped)\\r'), FloatProgress(value=1.0, max=1.0)…"
      ]
     },
     "metadata": {},
     "output_type": "display_data"
    },
    {
     "data": {
      "text/html": [
       "<style>\n",
       "    table.wandb td:nth-child(1) { padding: 0 10px; text-align: right }\n",
       "    .wandb-row { display: flex; flex-direction: row; flex-wrap: wrap; width: 100% }\n",
       "    .wandb-col { display: flex; flex-direction: column; flex-basis: 100%; flex: 1; padding: 10px; }\n",
       "    </style>\n",
       "<div class=\"wandb-row\"><div class=\"wandb-col\">\n",
       "<h3>Run history:</h3><br/><table class=\"wandb\"><tr><td>accuracy</td><td>▁</td></tr><tr><td>precision</td><td>▁</td></tr><tr><td>recall</td><td>▁</td></tr><tr><td>sensitivity</td><td>▁</td></tr><tr><td>specificity</td><td>▁</td></tr></table><br/></div><div class=\"wandb-col\">\n",
       "<h3>Run summary:</h3><br/><table class=\"wandb\"><tr><td>accuracy</td><td>0.83</td></tr><tr><td>precision</td><td>0.81</td></tr><tr><td>recall</td><td>0.82</td></tr><tr><td>sensitivity</td><td>0.82</td></tr><tr><td>specificity</td><td>0.85</td></tr></table>\n",
       "</div></div>\n",
       "Synced 5 W&B file(s), 6 media file(s), 6 artifact file(s) and 0 other file(s)\n",
       "<br/>Synced <strong style=\"color:#cdcd00\">young-sunset-7</strong>: <a href=\"https://wandb.ai/rahav-manoharan/mlops-project/runs/cjmztxz8\" target=\"_blank\">https://wandb.ai/rahav-manoharan/mlops-project/runs/cjmztxz8</a><br/>\n",
       "Find logs at: <code>.\\wandb\\run-20211126_233229-cjmztxz8\\logs</code><br/>\n"
      ],
      "text/plain": [
       "<IPython.core.display.HTML object>"
      ]
     },
     "metadata": {},
     "output_type": "display_data"
    }
   ],
   "source": [
    "lr_target_model = LogisticRegression(max_iter=10000)\n",
    "\n",
    "lr_target_model = run_model_experiment(train, lr_target_model, \"LogisticRegressionTarget\", preprocessor, encoder=encoder2, config = params, tags=[\"LoristicRegression\", \"Target\"])"
   ]
  },
  {
   "cell_type": "markdown",
   "metadata": {},
   "source": [
    "## XGBoost with Target Encoding"
   ]
  },
  {
   "cell_type": "code",
   "execution_count": 225,
   "metadata": {},
   "outputs": [
    {
     "name": "stderr",
     "output_type": "stream",
     "text": [
      "C:\\Users\\ADMIN\\.conda\\envs\\mlopslab\\lib\\site-packages\\xgboost\\sklearn.py:1224: UserWarning: The use of label encoder in XGBClassifier is deprecated and will be removed in a future release. To remove this warning, do the following: 1) Pass option use_label_encoder=False when constructing XGBClassifier object; and 2) Encode your labels (y) as integers starting with 0, i.e. 0, 1, 2, ..., [num_class - 1].\n",
      "  warnings.warn(label_encoder_deprecation_msg, UserWarning)\n"
     ]
    },
    {
     "name": "stdout",
     "output_type": "stream",
     "text": [
      "[23:33:41] WARNING: D:\\bld\\xgboost-split_1637426510059\\work\\src\\learner.cc:1115: Starting in XGBoost 1.3.0, the default evaluation metric used with the objective 'binary:logistic' was changed from 'error' to 'logloss'. Explicitly set eval_metric if you'd like to restore the old behavior.\n"
     ]
    },
    {
     "name": "stderr",
     "output_type": "stream",
     "text": [
      "\u001b[34m\u001b[1mwandb\u001b[0m: wandb version 0.12.7 is available!  To upgrade, please run:\n",
      "\u001b[34m\u001b[1mwandb\u001b[0m:  $ pip install wandb --upgrade\n"
     ]
    },
    {
     "data": {
      "text/html": [
       "\n",
       "                    Syncing run <strong><a href=\"https://wandb.ai/rahav-manoharan/mlops-project/runs/2dh7x5cr\" target=\"_blank\">charmed-sponge-8</a></strong> to <a href=\"https://wandb.ai/rahav-manoharan/mlops-project\" target=\"_blank\">Weights & Biases</a> (<a href=\"https://docs.wandb.com/integrations/jupyter.html\" target=\"_blank\">docs</a>).<br/>\n",
       "\n",
       "                "
      ],
      "text/plain": [
       "<IPython.core.display.HTML object>"
      ]
     },
     "metadata": {},
     "output_type": "display_data"
    },
    {
     "name": "stderr",
     "output_type": "stream",
     "text": [
      "\u001b[34m\u001b[1mwandb\u001b[0m: \n",
      "\u001b[34m\u001b[1mwandb\u001b[0m: Plotting XGBoostTarget.\n",
      "\u001b[34m\u001b[1mwandb\u001b[0m: Logged feature importances.\n",
      "\u001b[34m\u001b[1mwandb\u001b[0m: Logged confusion matrix.\n",
      "\u001b[34m\u001b[1mwandb\u001b[0m: Logged summary metrics.\n",
      "\u001b[34m\u001b[1mwandb\u001b[0m: Logged class proportions.\n",
      "C:\\Users\\ADMIN\\.conda\\envs\\mlopslab\\lib\\site-packages\\xgboost\\sklearn.py:1224: UserWarning: The use of label encoder in XGBClassifier is deprecated and will be removed in a future release. To remove this warning, do the following: 1) Pass option use_label_encoder=False when constructing XGBClassifier object; and 2) Encode your labels (y) as integers starting with 0, i.e. 0, 1, 2, ..., [num_class - 1].\n",
      "  warnings.warn(label_encoder_deprecation_msg, UserWarning)\n"
     ]
    },
    {
     "name": "stdout",
     "output_type": "stream",
     "text": [
      "[23:34:16] WARNING: D:\\bld\\xgboost-split_1637426510059\\work\\src\\learner.cc:1115: Starting in XGBoost 1.3.0, the default evaluation metric used with the objective 'binary:logistic' was changed from 'error' to 'logloss'. Explicitly set eval_metric if you'd like to restore the old behavior.\n"
     ]
    },
    {
     "name": "stderr",
     "output_type": "stream",
     "text": [
      "C:\\Users\\ADMIN\\.conda\\envs\\mlopslab\\lib\\site-packages\\xgboost\\sklearn.py:1224: UserWarning: The use of label encoder in XGBClassifier is deprecated and will be removed in a future release. To remove this warning, do the following: 1) Pass option use_label_encoder=False when constructing XGBClassifier object; and 2) Encode your labels (y) as integers starting with 0, i.e. 0, 1, 2, ..., [num_class - 1].\n",
      "  warnings.warn(label_encoder_deprecation_msg, UserWarning)\n"
     ]
    },
    {
     "name": "stdout",
     "output_type": "stream",
     "text": [
      "[23:34:18] WARNING: D:\\bld\\xgboost-split_1637426510059\\work\\src\\learner.cc:1115: Starting in XGBoost 1.3.0, the default evaluation metric used with the objective 'binary:logistic' was changed from 'error' to 'logloss'. Explicitly set eval_metric if you'd like to restore the old behavior.\n"
     ]
    },
    {
     "name": "stderr",
     "output_type": "stream",
     "text": [
      "C:\\Users\\ADMIN\\.conda\\envs\\mlopslab\\lib\\site-packages\\xgboost\\sklearn.py:1224: UserWarning: The use of label encoder in XGBClassifier is deprecated and will be removed in a future release. To remove this warning, do the following: 1) Pass option use_label_encoder=False when constructing XGBClassifier object; and 2) Encode your labels (y) as integers starting with 0, i.e. 0, 1, 2, ..., [num_class - 1].\n",
      "  warnings.warn(label_encoder_deprecation_msg, UserWarning)\n"
     ]
    },
    {
     "name": "stdout",
     "output_type": "stream",
     "text": [
      "[23:34:18] WARNING: D:\\bld\\xgboost-split_1637426510059\\work\\src\\learner.cc:1115: Starting in XGBoost 1.3.0, the default evaluation metric used with the objective 'binary:logistic' was changed from 'error' to 'logloss'. Explicitly set eval_metric if you'd like to restore the old behavior.\n"
     ]
    },
    {
     "name": "stderr",
     "output_type": "stream",
     "text": [
      "C:\\Users\\ADMIN\\.conda\\envs\\mlopslab\\lib\\site-packages\\xgboost\\sklearn.py:1224: UserWarning: The use of label encoder in XGBClassifier is deprecated and will be removed in a future release. To remove this warning, do the following: 1) Pass option use_label_encoder=False when constructing XGBClassifier object; and 2) Encode your labels (y) as integers starting with 0, i.e. 0, 1, 2, ..., [num_class - 1].\n",
      "  warnings.warn(label_encoder_deprecation_msg, UserWarning)\n"
     ]
    },
    {
     "name": "stdout",
     "output_type": "stream",
     "text": [
      "[23:34:20] WARNING: D:\\bld\\xgboost-split_1637426510059\\work\\src\\learner.cc:1115: Starting in XGBoost 1.3.0, the default evaluation metric used with the objective 'binary:logistic' was changed from 'error' to 'logloss'. Explicitly set eval_metric if you'd like to restore the old behavior.\n"
     ]
    },
    {
     "name": "stderr",
     "output_type": "stream",
     "text": [
      "C:\\Users\\ADMIN\\.conda\\envs\\mlopslab\\lib\\site-packages\\xgboost\\sklearn.py:1224: UserWarning: The use of label encoder in XGBClassifier is deprecated and will be removed in a future release. To remove this warning, do the following: 1) Pass option use_label_encoder=False when constructing XGBClassifier object; and 2) Encode your labels (y) as integers starting with 0, i.e. 0, 1, 2, ..., [num_class - 1].\n",
      "  warnings.warn(label_encoder_deprecation_msg, UserWarning)\n"
     ]
    },
    {
     "name": "stdout",
     "output_type": "stream",
     "text": [
      "[23:34:20] WARNING: D:\\bld\\xgboost-split_1637426510059\\work\\src\\learner.cc:1115: Starting in XGBoost 1.3.0, the default evaluation metric used with the objective 'binary:logistic' was changed from 'error' to 'logloss'. Explicitly set eval_metric if you'd like to restore the old behavior.\n"
     ]
    },
    {
     "name": "stderr",
     "output_type": "stream",
     "text": [
      "\u001b[34m\u001b[1mwandb\u001b[0m: Logged calibration curve.\n",
      "\u001b[34m\u001b[1mwandb\u001b[0m: Logged roc curve.\n",
      "\u001b[34m\u001b[1mwandb\u001b[0m: Logged precision recall curve.\n",
      "\u001b[34m\u001b[1mwandb\u001b[0m: \u001b[33mWARNING\u001b[0m Calling run.save without any arguments is deprecated.Changes to attributes are automatically persisted.\n"
     ]
    },
    {
     "data": {
      "text/html": [
       "<br/>Waiting for W&B process to finish, PID 25632... <strong style=\"color:green\">(success).</strong>"
      ],
      "text/plain": [
       "<IPython.core.display.HTML object>"
      ]
     },
     "metadata": {},
     "output_type": "display_data"
    },
    {
     "data": {
      "application/vnd.jupyter.widget-view+json": {
       "model_id": "f476d827699b46b0b775201c82526a16",
       "version_major": 2,
       "version_minor": 0
      },
      "text/plain": [
       "VBox(children=(Label(value=' 0.18MB of 0.18MB uploaded (0.00MB deduped)\\r'), FloatProgress(value=1.0, max=1.0)…"
      ]
     },
     "metadata": {},
     "output_type": "display_data"
    },
    {
     "data": {
      "text/html": [
       "<style>\n",
       "    table.wandb td:nth-child(1) { padding: 0 10px; text-align: right }\n",
       "    .wandb-row { display: flex; flex-direction: row; flex-wrap: wrap; width: 100% }\n",
       "    .wandb-col { display: flex; flex-direction: column; flex-basis: 100%; flex: 1; padding: 10px; }\n",
       "    </style>\n",
       "<div class=\"wandb-row\"><div class=\"wandb-col\">\n",
       "<h3>Run history:</h3><br/><table class=\"wandb\"><tr><td>accuracy</td><td>▁</td></tr><tr><td>precision</td><td>▁</td></tr><tr><td>recall</td><td>▁</td></tr><tr><td>sensitivity</td><td>▁</td></tr><tr><td>specificity</td><td>▁</td></tr></table><br/></div><div class=\"wandb-col\">\n",
       "<h3>Run summary:</h3><br/><table class=\"wandb\"><tr><td>accuracy</td><td>0.96</td></tr><tr><td>precision</td><td>0.95</td></tr><tr><td>recall</td><td>0.96</td></tr><tr><td>sensitivity</td><td>0.96</td></tr><tr><td>specificity</td><td>0.95</td></tr></table>\n",
       "</div></div>\n",
       "Synced 5 W&B file(s), 7 media file(s), 7 artifact file(s) and 0 other file(s)\n",
       "<br/>Synced <strong style=\"color:#cdcd00\">charmed-sponge-8</strong>: <a href=\"https://wandb.ai/rahav-manoharan/mlops-project/runs/2dh7x5cr\" target=\"_blank\">https://wandb.ai/rahav-manoharan/mlops-project/runs/2dh7x5cr</a><br/>\n",
       "Find logs at: <code>.\\wandb\\run-20211126_233409-2dh7x5cr\\logs</code><br/>\n"
      ],
      "text/plain": [
       "<IPython.core.display.HTML object>"
      ]
     },
     "metadata": {},
     "output_type": "display_data"
    }
   ],
   "source": [
    "xgb_target_model = XGBClassifier(learning_rate =0.1,\n",
    "                    n_estimators=500,\n",
    "                    max_depth=20,\n",
    "                    min_child_weight=1,\n",
    "                    gamma=0,\n",
    "                    subsample=0.8,\n",
    "                    colsample_bytree=0.8,\n",
    "                    objective= 'binary:logistic',\n",
    "                    nthread=4,\n",
    "                    scale_pos_weight=1,\n",
    "                    seed=16)\n",
    "\n",
    "xgb_target_model = run_model_experiment(train, xgb_target_model, \"XGBoostTarget\", preprocessor, encoder=encoder2, config = params, tags=[\"XGBoost\", \"Target\"])"
   ]
  },
  {
   "cell_type": "code",
   "execution_count": null,
   "metadata": {},
   "outputs": [],
   "source": []
  },
  {
   "cell_type": "markdown",
   "metadata": {},
   "source": [
    "# Weight of Evidence Encoding"
   ]
  },
  {
   "cell_type": "code",
   "execution_count": 63,
   "metadata": {},
   "outputs": [],
   "source": [
    "preprocessor = ColumnTransformer(\n",
    "    transformers=[        \n",
    "        ('num', numeric_transformer, numerical_features),\n",
    "        ('cat', encoder3, categorical_features)\n",
    "        ])"
   ]
  },
  {
   "cell_type": "markdown",
   "metadata": {},
   "source": [
    "## DecisionTree with WoE Encoding"
   ]
  },
  {
   "cell_type": "code",
   "execution_count": 227,
   "metadata": {},
   "outputs": [
    {
     "name": "stderr",
     "output_type": "stream",
     "text": [
      "\u001b[34m\u001b[1mwandb\u001b[0m: wandb version 0.12.7 is available!  To upgrade, please run:\n",
      "\u001b[34m\u001b[1mwandb\u001b[0m:  $ pip install wandb --upgrade\n"
     ]
    },
    {
     "data": {
      "text/html": [
       "\n",
       "                    Syncing run <strong><a href=\"https://wandb.ai/rahav-manoharan/mlops-project/runs/1frc2hat\" target=\"_blank\">celestial-voice-9</a></strong> to <a href=\"https://wandb.ai/rahav-manoharan/mlops-project\" target=\"_blank\">Weights & Biases</a> (<a href=\"https://docs.wandb.com/integrations/jupyter.html\" target=\"_blank\">docs</a>).<br/>\n",
       "\n",
       "                "
      ],
      "text/plain": [
       "<IPython.core.display.HTML object>"
      ]
     },
     "metadata": {},
     "output_type": "display_data"
    },
    {
     "name": "stderr",
     "output_type": "stream",
     "text": [
      "\u001b[34m\u001b[1mwandb\u001b[0m: \n",
      "\u001b[34m\u001b[1mwandb\u001b[0m: Plotting DecisionTreeWithWoE.\n",
      "\u001b[34m\u001b[1mwandb\u001b[0m: Logged feature importances.\n",
      "\u001b[34m\u001b[1mwandb\u001b[0m: Logged confusion matrix.\n",
      "C:\\Users\\ADMIN\\.conda\\envs\\mlopslab\\lib\\site-packages\\sklearn\\base.py:438: UserWarning: X has feature names, but DecisionTreeClassifier was fitted without feature names\n",
      "  warnings.warn(\n",
      "C:\\Users\\ADMIN\\.conda\\envs\\mlopslab\\lib\\site-packages\\sklearn\\base.py:438: UserWarning: X has feature names, but DecisionTreeClassifier was fitted without feature names\n",
      "  warnings.warn(\n",
      "\u001b[34m\u001b[1mwandb\u001b[0m: Logged summary metrics.\n",
      "\u001b[34m\u001b[1mwandb\u001b[0m: Logged class proportions.\n",
      "\u001b[34m\u001b[1mwandb\u001b[0m: Logged calibration curve.\n",
      "\u001b[34m\u001b[1mwandb\u001b[0m: Logged roc curve.\n",
      "\u001b[34m\u001b[1mwandb\u001b[0m: Logged precision recall curve.\n",
      "\u001b[34m\u001b[1mwandb\u001b[0m: \u001b[33mWARNING\u001b[0m Calling run.save without any arguments is deprecated.Changes to attributes are automatically persisted.\n"
     ]
    },
    {
     "data": {
      "text/html": [
       "<br/>Waiting for W&B process to finish, PID 11644... <strong style=\"color:green\">(success).</strong>"
      ],
      "text/plain": [
       "<IPython.core.display.HTML object>"
      ]
     },
     "metadata": {},
     "output_type": "display_data"
    },
    {
     "data": {
      "application/vnd.jupyter.widget-view+json": {
       "model_id": "b6f66c188fb742668bb2353eabc8d494",
       "version_major": 2,
       "version_minor": 0
      },
      "text/plain": [
       "VBox(children=(Label(value=' 0.02MB of 0.02MB uploaded (0.00MB deduped)\\r'), FloatProgress(value=1.0, max=1.0)…"
      ]
     },
     "metadata": {},
     "output_type": "display_data"
    },
    {
     "data": {
      "text/html": [
       "<style>\n",
       "    table.wandb td:nth-child(1) { padding: 0 10px; text-align: right }\n",
       "    .wandb-row { display: flex; flex-direction: row; flex-wrap: wrap; width: 100% }\n",
       "    .wandb-col { display: flex; flex-direction: column; flex-basis: 100%; flex: 1; padding: 10px; }\n",
       "    </style>\n",
       "<div class=\"wandb-row\"><div class=\"wandb-col\">\n",
       "<h3>Run history:</h3><br/><table class=\"wandb\"><tr><td>accuracy</td><td>▁</td></tr><tr><td>precision</td><td>▁</td></tr><tr><td>recall</td><td>▁</td></tr><tr><td>sensitivity</td><td>▁</td></tr><tr><td>specificity</td><td>▁</td></tr></table><br/></div><div class=\"wandb-col\">\n",
       "<h3>Run summary:</h3><br/><table class=\"wandb\"><tr><td>accuracy</td><td>0.93</td></tr><tr><td>precision</td><td>0.91</td></tr><tr><td>recall</td><td>0.94</td></tr><tr><td>sensitivity</td><td>0.94</td></tr><tr><td>specificity</td><td>0.93</td></tr></table>\n",
       "</div></div>\n",
       "Synced 5 W&B file(s), 7 media file(s), 7 artifact file(s) and 0 other file(s)\n",
       "<br/>Synced <strong style=\"color:#cdcd00\">celestial-voice-9</strong>: <a href=\"https://wandb.ai/rahav-manoharan/mlops-project/runs/1frc2hat\" target=\"_blank\">https://wandb.ai/rahav-manoharan/mlops-project/runs/1frc2hat</a><br/>\n",
       "Find logs at: <code>.\\wandb\\run-20211126_233440-1frc2hat\\logs</code><br/>\n"
      ],
      "text/plain": [
       "<IPython.core.display.HTML object>"
      ]
     },
     "metadata": {},
     "output_type": "display_data"
    }
   ],
   "source": [
    "dt_woe_model = tree.DecisionTreeClassifier(max_depth=10)\n",
    "\n",
    "dt_woe_model = run_model_experiment(train, dt_woe_model, \"DecisionTreeWithWoE\", preprocessor, encoder=encoder3, tags=[\"DecisionTree\", \"WoE\"])"
   ]
  },
  {
   "cell_type": "markdown",
   "metadata": {},
   "source": [
    "## RandomForest with WoE"
   ]
  },
  {
   "cell_type": "code",
   "execution_count": 228,
   "metadata": {},
   "outputs": [
    {
     "name": "stderr",
     "output_type": "stream",
     "text": [
      "\u001b[34m\u001b[1mwandb\u001b[0m: wandb version 0.12.7 is available!  To upgrade, please run:\n",
      "\u001b[34m\u001b[1mwandb\u001b[0m:  $ pip install wandb --upgrade\n"
     ]
    },
    {
     "data": {
      "text/html": [
       "\n",
       "                    Syncing run <strong><a href=\"https://wandb.ai/rahav-manoharan/mlops-project/runs/2rt64wq1\" target=\"_blank\">logical-wildflower-10</a></strong> to <a href=\"https://wandb.ai/rahav-manoharan/mlops-project\" target=\"_blank\">Weights & Biases</a> (<a href=\"https://docs.wandb.com/integrations/jupyter.html\" target=\"_blank\">docs</a>).<br/>\n",
       "\n",
       "                "
      ],
      "text/plain": [
       "<IPython.core.display.HTML object>"
      ]
     },
     "metadata": {},
     "output_type": "display_data"
    },
    {
     "name": "stderr",
     "output_type": "stream",
     "text": [
      "\u001b[34m\u001b[1mwandb\u001b[0m: \n",
      "\u001b[34m\u001b[1mwandb\u001b[0m: Plotting RandomForestWoE.\n",
      "\u001b[34m\u001b[1mwandb\u001b[0m: Logged feature importances.\n",
      "\u001b[34m\u001b[1mwandb\u001b[0m: Logged confusion matrix.\n",
      "C:\\Users\\ADMIN\\.conda\\envs\\mlopslab\\lib\\site-packages\\sklearn\\base.py:438: UserWarning: X has feature names, but RandomForestClassifier was fitted without feature names\n",
      "  warnings.warn(\n",
      "C:\\Users\\ADMIN\\.conda\\envs\\mlopslab\\lib\\site-packages\\sklearn\\base.py:438: UserWarning: X has feature names, but RandomForestClassifier was fitted without feature names\n",
      "  warnings.warn(\n",
      "C:\\Users\\ADMIN\\.conda\\envs\\mlopslab\\lib\\site-packages\\sklearn\\metrics\\_classification.py:1308: UndefinedMetricWarning: Precision is ill-defined and being set to 0.0 in labels with no predicted samples. Use `zero_division` parameter to control this behavior.\n",
      "  _warn_prf(average, modifier, msg_start, len(result))\n",
      "\u001b[34m\u001b[1mwandb\u001b[0m: Logged summary metrics.\n",
      "\u001b[34m\u001b[1mwandb\u001b[0m: Logged class proportions.\n",
      "\u001b[34m\u001b[1mwandb\u001b[0m: Logged calibration curve.\n",
      "\u001b[34m\u001b[1mwandb\u001b[0m: Logged roc curve.\n",
      "\u001b[34m\u001b[1mwandb\u001b[0m: Logged precision recall curve.\n",
      "\u001b[34m\u001b[1mwandb\u001b[0m: \u001b[33mWARNING\u001b[0m Calling run.save without any arguments is deprecated.Changes to attributes are automatically persisted.\n"
     ]
    },
    {
     "data": {
      "text/html": [
       "<br/>Waiting for W&B process to finish, PID 17280... <strong style=\"color:green\">(success).</strong>"
      ],
      "text/plain": [
       "<IPython.core.display.HTML object>"
      ]
     },
     "metadata": {},
     "output_type": "display_data"
    },
    {
     "data": {
      "application/vnd.jupyter.widget-view+json": {
       "model_id": "58cb701a2be343cfb788c1fd0009e5ca",
       "version_major": 2,
       "version_minor": 0
      },
      "text/plain": [
       "VBox(children=(Label(value=' 0.27MB of 0.27MB uploaded (0.00MB deduped)\\r'), FloatProgress(value=0.99954080407…"
      ]
     },
     "metadata": {},
     "output_type": "display_data"
    },
    {
     "data": {
      "text/html": [
       "<style>\n",
       "    table.wandb td:nth-child(1) { padding: 0 10px; text-align: right }\n",
       "    .wandb-row { display: flex; flex-direction: row; flex-wrap: wrap; width: 100% }\n",
       "    .wandb-col { display: flex; flex-direction: column; flex-basis: 100%; flex: 1; padding: 10px; }\n",
       "    </style>\n",
       "<div class=\"wandb-row\"><div class=\"wandb-col\">\n",
       "<h3>Run history:</h3><br/><table class=\"wandb\"><tr><td>accuracy</td><td>▁</td></tr><tr><td>precision</td><td>▁</td></tr><tr><td>recall</td><td>▁</td></tr><tr><td>sensitivity</td><td>▁</td></tr><tr><td>specificity</td><td>▁</td></tr></table><br/></div><div class=\"wandb-col\">\n",
       "<h3>Run summary:</h3><br/><table class=\"wandb\"><tr><td>accuracy</td><td>0.91</td></tr><tr><td>precision</td><td>0.9</td></tr><tr><td>recall</td><td>0.89</td></tr><tr><td>sensitivity</td><td>0.89</td></tr><tr><td>specificity</td><td>0.92</td></tr></table>\n",
       "</div></div>\n",
       "Synced 5 W&B file(s), 7 media file(s), 7 artifact file(s) and 0 other file(s)\n",
       "<br/>Synced <strong style=\"color:#cdcd00\">logical-wildflower-10</strong>: <a href=\"https://wandb.ai/rahav-manoharan/mlops-project/runs/2rt64wq1\" target=\"_blank\">https://wandb.ai/rahav-manoharan/mlops-project/runs/2rt64wq1</a><br/>\n",
       "Find logs at: <code>.\\wandb\\run-20211126_233517-2rt64wq1\\logs</code><br/>\n"
      ],
      "text/plain": [
       "<IPython.core.display.HTML object>"
      ]
     },
     "metadata": {},
     "output_type": "display_data"
    }
   ],
   "source": [
    "params = {'bootstrap': True, \n",
    "        'criterion': 'gini',\n",
    "        'max_depth': 15, \n",
    "        'max_features': 'auto',\n",
    "        'min_impurity_decrease': 0.001,\n",
    "        'min_samples_leaf': 30, \n",
    "        'min_samples_split': 50,\n",
    "        'class_weight': \"balanced_subsample\",\n",
    "        'n_estimators': 200,\n",
    "        'oob_score': True, \n",
    "        'random_state': 16, \n",
    "        'verbose': 0,\n",
    "        'warm_start': False}\n",
    "\n",
    "sweep_config = {\n",
    "  \"name\" : \"rf_sweep\",\n",
    "  \"method\" : \"random\",\n",
    "  \"parameters\" : {\n",
    "    \"n_estimators\" : {\n",
    "      \"values\" : [100, 200, 300]\n",
    "      },\n",
    "    \"max_depth\" :{\n",
    "      \"values\" : [7, 10, 15]\n",
    "      },\n",
    "    \"min_sample_split\" :{\n",
    "      \"values\" : [50, 75, 100]\n",
    "      }\n",
    "   }\n",
    "}\n",
    "\n",
    "rf_woe_model = ensemble.RandomForestClassifier(**params)\n",
    "\n",
    "rf_woe_model = run_model_experiment(train, rf_woe_model, \"RandomForestWoE\", preprocessor, encoder=encoder3, config = params, tags=[\"RandomForest\", \"WoE\"])"
   ]
  },
  {
   "cell_type": "markdown",
   "metadata": {},
   "source": [
    "## Logistic Regression with WoE"
   ]
  },
  {
   "cell_type": "code",
   "execution_count": 229,
   "metadata": {},
   "outputs": [
    {
     "name": "stderr",
     "output_type": "stream",
     "text": [
      "\u001b[34m\u001b[1mwandb\u001b[0m: wandb version 0.12.7 is available!  To upgrade, please run:\n",
      "\u001b[34m\u001b[1mwandb\u001b[0m:  $ pip install wandb --upgrade\n"
     ]
    },
    {
     "data": {
      "text/html": [
       "\n",
       "                    Syncing run <strong><a href=\"https://wandb.ai/rahav-manoharan/mlops-project/runs/3l872yvg\" target=\"_blank\">clean-hill-11</a></strong> to <a href=\"https://wandb.ai/rahav-manoharan/mlops-project\" target=\"_blank\">Weights & Biases</a> (<a href=\"https://docs.wandb.com/integrations/jupyter.html\" target=\"_blank\">docs</a>).<br/>\n",
       "\n",
       "                "
      ],
      "text/plain": [
       "<IPython.core.display.HTML object>"
      ]
     },
     "metadata": {},
     "output_type": "display_data"
    },
    {
     "name": "stderr",
     "output_type": "stream",
     "text": [
      "\u001b[34m\u001b[1mwandb\u001b[0m: \n",
      "\u001b[34m\u001b[1mwandb\u001b[0m: Plotting LogisticRegressionWoE.\n",
      "\u001b[34m\u001b[1mwandb\u001b[0m: \u001b[33mWARNING\u001b[0m 2-dimensional feature importances array passed to plot_feature_importances. 2-dimensional and higher feature importances arrays are not currently supported. These importances will not be plotted.\n",
      "\u001b[34m\u001b[1mwandb\u001b[0m: Logged feature importances.\n",
      "\u001b[34m\u001b[1mwandb\u001b[0m: Logged confusion matrix.\n",
      "C:\\Users\\ADMIN\\.conda\\envs\\mlopslab\\lib\\site-packages\\sklearn\\base.py:438: UserWarning: X has feature names, but LogisticRegression was fitted without feature names\n",
      "  warnings.warn(\n",
      "C:\\Users\\ADMIN\\.conda\\envs\\mlopslab\\lib\\site-packages\\sklearn\\base.py:438: UserWarning: X has feature names, but LogisticRegression was fitted without feature names\n",
      "  warnings.warn(\n",
      "C:\\Users\\ADMIN\\.conda\\envs\\mlopslab\\lib\\site-packages\\sklearn\\metrics\\_classification.py:1308: UndefinedMetricWarning: Precision is ill-defined and being set to 0.0 in labels with no predicted samples. Use `zero_division` parameter to control this behavior.\n",
      "  _warn_prf(average, modifier, msg_start, len(result))\n",
      "\u001b[34m\u001b[1mwandb\u001b[0m: Logged summary metrics.\n",
      "\u001b[34m\u001b[1mwandb\u001b[0m: Logged class proportions.\n",
      "\u001b[34m\u001b[1mwandb\u001b[0m: Logged calibration curve.\n",
      "\u001b[34m\u001b[1mwandb\u001b[0m: Logged roc curve.\n",
      "\u001b[34m\u001b[1mwandb\u001b[0m: Logged precision recall curve.\n",
      "\u001b[34m\u001b[1mwandb\u001b[0m: \u001b[33mWARNING\u001b[0m Calling run.save without any arguments is deprecated.Changes to attributes are automatically persisted.\n"
     ]
    },
    {
     "data": {
      "text/html": [
       "<br/>Waiting for W&B process to finish, PID 25896... <strong style=\"color:green\">(success).</strong>"
      ],
      "text/plain": [
       "<IPython.core.display.HTML object>"
      ]
     },
     "metadata": {},
     "output_type": "display_data"
    },
    {
     "data": {
      "application/vnd.jupyter.widget-view+json": {
       "model_id": "28f92c85939742d9b9dd4a5e86f78b13",
       "version_major": 2,
       "version_minor": 0
      },
      "text/plain": [
       "VBox(children=(Label(value=' 0.27MB of 0.27MB uploaded (0.00MB deduped)\\r'), FloatProgress(value=1.0, max=1.0)…"
      ]
     },
     "metadata": {},
     "output_type": "display_data"
    },
    {
     "data": {
      "text/html": [
       "<style>\n",
       "    table.wandb td:nth-child(1) { padding: 0 10px; text-align: right }\n",
       "    .wandb-row { display: flex; flex-direction: row; flex-wrap: wrap; width: 100% }\n",
       "    .wandb-col { display: flex; flex-direction: column; flex-basis: 100%; flex: 1; padding: 10px; }\n",
       "    </style>\n",
       "<div class=\"wandb-row\"><div class=\"wandb-col\">\n",
       "<h3>Run history:</h3><br/><table class=\"wandb\"><tr><td>accuracy</td><td>▁</td></tr><tr><td>precision</td><td>▁</td></tr><tr><td>recall</td><td>▁</td></tr><tr><td>sensitivity</td><td>▁</td></tr><tr><td>specificity</td><td>▁</td></tr></table><br/></div><div class=\"wandb-col\">\n",
       "<h3>Run summary:</h3><br/><table class=\"wandb\"><tr><td>accuracy</td><td>0.83</td></tr><tr><td>precision</td><td>0.82</td></tr><tr><td>recall</td><td>0.82</td></tr><tr><td>sensitivity</td><td>0.82</td></tr><tr><td>specificity</td><td>0.85</td></tr></table>\n",
       "</div></div>\n",
       "Synced 5 W&B file(s), 6 media file(s), 6 artifact file(s) and 0 other file(s)\n",
       "<br/>Synced <strong style=\"color:#cdcd00\">clean-hill-11</strong>: <a href=\"https://wandb.ai/rahav-manoharan/mlops-project/runs/3l872yvg\" target=\"_blank\">https://wandb.ai/rahav-manoharan/mlops-project/runs/3l872yvg</a><br/>\n",
       "Find logs at: <code>.\\wandb\\run-20211126_233600-3l872yvg\\logs</code><br/>\n"
      ],
      "text/plain": [
       "<IPython.core.display.HTML object>"
      ]
     },
     "metadata": {},
     "output_type": "display_data"
    }
   ],
   "source": [
    "lr_woe_model = LogisticRegression(max_iter=10000)\n",
    "\n",
    "lr_woe_model = run_model_experiment(train, lr_woe_model, \"LogisticRegressionWoE\", preprocessor, encoder=encoder3, config = params, tags=[\"LoristicRegression\", \"WoE\"])"
   ]
  },
  {
   "cell_type": "markdown",
   "metadata": {},
   "source": [
    "## XGBoost with WoE"
   ]
  },
  {
   "cell_type": "code",
   "execution_count": 71,
   "metadata": {},
   "outputs": [
    {
     "name": "stderr",
     "output_type": "stream",
     "text": [
      "C:\\Users\\ADMIN\\.conda\\envs\\mlopslab\\lib\\site-packages\\xgboost\\sklearn.py:1224: UserWarning: The use of label encoder in XGBClassifier is deprecated and will be removed in a future release. To remove this warning, do the following: 1) Pass option use_label_encoder=False when constructing XGBClassifier object; and 2) Encode your labels (y) as integers starting with 0, i.e. 0, 1, 2, ..., [num_class - 1].\n",
      "  warnings.warn(label_encoder_deprecation_msg, UserWarning)\n"
     ]
    },
    {
     "name": "stdout",
     "output_type": "stream",
     "text": [
      "[02:14:15] WARNING: D:\\bld\\xgboost-split_1637426510059\\work\\src\\learner.cc:1115: Starting in XGBoost 1.3.0, the default evaluation metric used with the objective 'binary:logistic' was changed from 'error' to 'logloss'. Explicitly set eval_metric if you'd like to restore the old behavior.\n"
     ]
    },
    {
     "name": "stderr",
     "output_type": "stream",
     "text": [
      "\u001b[34m\u001b[1mwandb\u001b[0m: Currently logged in as: \u001b[33mrahav-manoharan\u001b[0m (use `wandb login --relogin` to force relogin)\n",
      "\u001b[34m\u001b[1mwandb\u001b[0m: wandb version 0.12.7 is available!  To upgrade, please run:\n",
      "\u001b[34m\u001b[1mwandb\u001b[0m:  $ pip install wandb --upgrade\n"
     ]
    },
    {
     "data": {
      "text/html": [
       "\n",
       "                    Syncing run <strong><a href=\"https://wandb.ai/rahav-manoharan/mlops-project/runs/2d7css5q\" target=\"_blank\">devoted-microwave-16</a></strong> to <a href=\"https://wandb.ai/rahav-manoharan/mlops-project\" target=\"_blank\">Weights & Biases</a> (<a href=\"https://docs.wandb.com/integrations/jupyter.html\" target=\"_blank\">docs</a>).<br/>\n",
       "\n",
       "                "
      ],
      "text/plain": [
       "<IPython.core.display.HTML object>"
      ]
     },
     "metadata": {},
     "output_type": "display_data"
    },
    {
     "name": "stderr",
     "output_type": "stream",
     "text": [
      "\u001b[34m\u001b[1mwandb\u001b[0m: \n",
      "\u001b[34m\u001b[1mwandb\u001b[0m: Plotting XGBoostWoE.\n",
      "\u001b[34m\u001b[1mwandb\u001b[0m: Logged feature importances.\n",
      "\u001b[34m\u001b[1mwandb\u001b[0m: Logged confusion matrix.\n",
      "\u001b[34m\u001b[1mwandb\u001b[0m: Logged summary metrics.\n",
      "\u001b[34m\u001b[1mwandb\u001b[0m: Logged class proportions.\n",
      "C:\\Users\\ADMIN\\.conda\\envs\\mlopslab\\lib\\site-packages\\xgboost\\sklearn.py:1224: UserWarning: The use of label encoder in XGBClassifier is deprecated and will be removed in a future release. To remove this warning, do the following: 1) Pass option use_label_encoder=False when constructing XGBClassifier object; and 2) Encode your labels (y) as integers starting with 0, i.e. 0, 1, 2, ..., [num_class - 1].\n",
      "  warnings.warn(label_encoder_deprecation_msg, UserWarning)\n"
     ]
    },
    {
     "name": "stdout",
     "output_type": "stream",
     "text": [
      "[02:15:06] WARNING: D:\\bld\\xgboost-split_1637426510059\\work\\src\\learner.cc:1115: Starting in XGBoost 1.3.0, the default evaluation metric used with the objective 'binary:logistic' was changed from 'error' to 'logloss'. Explicitly set eval_metric if you'd like to restore the old behavior.\n"
     ]
    },
    {
     "name": "stderr",
     "output_type": "stream",
     "text": [
      "C:\\Users\\ADMIN\\.conda\\envs\\mlopslab\\lib\\site-packages\\xgboost\\sklearn.py:1224: UserWarning: The use of label encoder in XGBClassifier is deprecated and will be removed in a future release. To remove this warning, do the following: 1) Pass option use_label_encoder=False when constructing XGBClassifier object; and 2) Encode your labels (y) as integers starting with 0, i.e. 0, 1, 2, ..., [num_class - 1].\n",
      "  warnings.warn(label_encoder_deprecation_msg, UserWarning)\n"
     ]
    },
    {
     "name": "stdout",
     "output_type": "stream",
     "text": [
      "[02:15:09] WARNING: D:\\bld\\xgboost-split_1637426510059\\work\\src\\learner.cc:1115: Starting in XGBoost 1.3.0, the default evaluation metric used with the objective 'binary:logistic' was changed from 'error' to 'logloss'. Explicitly set eval_metric if you'd like to restore the old behavior.\n"
     ]
    },
    {
     "name": "stderr",
     "output_type": "stream",
     "text": [
      "C:\\Users\\ADMIN\\.conda\\envs\\mlopslab\\lib\\site-packages\\xgboost\\sklearn.py:1224: UserWarning: The use of label encoder in XGBClassifier is deprecated and will be removed in a future release. To remove this warning, do the following: 1) Pass option use_label_encoder=False when constructing XGBClassifier object; and 2) Encode your labels (y) as integers starting with 0, i.e. 0, 1, 2, ..., [num_class - 1].\n",
      "  warnings.warn(label_encoder_deprecation_msg, UserWarning)\n"
     ]
    },
    {
     "name": "stdout",
     "output_type": "stream",
     "text": [
      "[02:15:09] WARNING: D:\\bld\\xgboost-split_1637426510059\\work\\src\\learner.cc:1115: Starting in XGBoost 1.3.0, the default evaluation metric used with the objective 'binary:logistic' was changed from 'error' to 'logloss'. Explicitly set eval_metric if you'd like to restore the old behavior.\n"
     ]
    },
    {
     "name": "stderr",
     "output_type": "stream",
     "text": [
      "C:\\Users\\ADMIN\\.conda\\envs\\mlopslab\\lib\\site-packages\\xgboost\\sklearn.py:1224: UserWarning: The use of label encoder in XGBClassifier is deprecated and will be removed in a future release. To remove this warning, do the following: 1) Pass option use_label_encoder=False when constructing XGBClassifier object; and 2) Encode your labels (y) as integers starting with 0, i.e. 0, 1, 2, ..., [num_class - 1].\n",
      "  warnings.warn(label_encoder_deprecation_msg, UserWarning)\n"
     ]
    },
    {
     "name": "stdout",
     "output_type": "stream",
     "text": [
      "[02:15:11] WARNING: D:\\bld\\xgboost-split_1637426510059\\work\\src\\learner.cc:1115: Starting in XGBoost 1.3.0, the default evaluation metric used with the objective 'binary:logistic' was changed from 'error' to 'logloss'. Explicitly set eval_metric if you'd like to restore the old behavior.\n"
     ]
    },
    {
     "name": "stderr",
     "output_type": "stream",
     "text": [
      "C:\\Users\\ADMIN\\.conda\\envs\\mlopslab\\lib\\site-packages\\xgboost\\sklearn.py:1224: UserWarning: The use of label encoder in XGBClassifier is deprecated and will be removed in a future release. To remove this warning, do the following: 1) Pass option use_label_encoder=False when constructing XGBClassifier object; and 2) Encode your labels (y) as integers starting with 0, i.e. 0, 1, 2, ..., [num_class - 1].\n",
      "  warnings.warn(label_encoder_deprecation_msg, UserWarning)\n"
     ]
    },
    {
     "name": "stdout",
     "output_type": "stream",
     "text": [
      "[02:15:12] WARNING: D:\\bld\\xgboost-split_1637426510059\\work\\src\\learner.cc:1115: Starting in XGBoost 1.3.0, the default evaluation metric used with the objective 'binary:logistic' was changed from 'error' to 'logloss'. Explicitly set eval_metric if you'd like to restore the old behavior.\n"
     ]
    },
    {
     "name": "stderr",
     "output_type": "stream",
     "text": [
      "\u001b[34m\u001b[1mwandb\u001b[0m: Logged calibration curve.\n",
      "\u001b[34m\u001b[1mwandb\u001b[0m: Logged roc curve.\n",
      "\u001b[34m\u001b[1mwandb\u001b[0m: Logged precision recall curve.\n",
      "\u001b[34m\u001b[1mwandb\u001b[0m: \u001b[33mWARNING\u001b[0m Calling run.save without any arguments is deprecated.Changes to attributes are automatically persisted.\n"
     ]
    },
    {
     "data": {
      "text/html": [
       "<br/>Waiting for W&B process to finish, PID 15152... <strong style=\"color:green\">(success).</strong>"
      ],
      "text/plain": [
       "<IPython.core.display.HTML object>"
      ]
     },
     "metadata": {},
     "output_type": "display_data"
    },
    {
     "data": {
      "application/vnd.jupyter.widget-view+json": {
       "model_id": "9af6c08a825345aba6d1dc458bce752d",
       "version_major": 2,
       "version_minor": 0
      },
      "text/plain": [
       "VBox(children=(Label(value=' 0.18MB of 0.18MB uploaded (0.00MB deduped)\\r'), FloatProgress(value=1.0, max=1.0)…"
      ]
     },
     "metadata": {},
     "output_type": "display_data"
    },
    {
     "data": {
      "text/html": [
       "<style>\n",
       "    table.wandb td:nth-child(1) { padding: 0 10px; text-align: right }\n",
       "    .wandb-row { display: flex; flex-direction: row; flex-wrap: wrap; width: 100% }\n",
       "    .wandb-col { display: flex; flex-direction: column; flex-basis: 100%; flex: 1; padding: 10px; }\n",
       "    </style>\n",
       "<div class=\"wandb-row\"><div class=\"wandb-col\">\n",
       "<h3>Run history:</h3><br/><table class=\"wandb\"><tr><td>accuracy</td><td>▁</td></tr><tr><td>precision</td><td>▁</td></tr><tr><td>sensitivity</td><td>▁</td></tr><tr><td>specificity</td><td>▁</td></tr></table><br/></div><div class=\"wandb-col\">\n",
       "<h3>Run summary:</h3><br/><table class=\"wandb\"><tr><td>accuracy</td><td>0.96</td></tr><tr><td>precision</td><td>0.95</td></tr><tr><td>sensitivity</td><td>0.96</td></tr><tr><td>specificity</td><td>0.95</td></tr></table>\n",
       "</div></div>\n",
       "Synced 5 W&B file(s), 7 media file(s), 7 artifact file(s) and 0 other file(s)\n",
       "<br/>Synced <strong style=\"color:#cdcd00\">devoted-microwave-16</strong>: <a href=\"https://wandb.ai/rahav-manoharan/mlops-project/runs/2d7css5q\" target=\"_blank\">https://wandb.ai/rahav-manoharan/mlops-project/runs/2d7css5q</a><br/>\n",
       "Find logs at: <code>.\\wandb\\run-20211127_021456-2d7css5q\\logs</code><br/>\n"
      ],
      "text/plain": [
       "<IPython.core.display.HTML object>"
      ]
     },
     "metadata": {},
     "output_type": "display_data"
    }
   ],
   "source": [
    "params = {'bootstrap': True, \n",
    "        'criterion': 'gini',\n",
    "        'max_depth': 15, \n",
    "        'max_features': 'auto',\n",
    "        'min_impurity_decrease': 0.001,\n",
    "        'min_samples_leaf': 30, \n",
    "        'min_samples_split': 50,\n",
    "        'class_weight': \"balanced_subsample\",\n",
    "        'n_estimators': 200,\n",
    "        'oob_score': True, \n",
    "        'random_state': 16, \n",
    "        'verbose': 0,\n",
    "        'warm_start': False}\n",
    "\n",
    "xgb_woe_model = XGBClassifier(learning_rate =0.1,\n",
    "                    n_estimators=500,\n",
    "                    max_depth=20,\n",
    "                    min_child_weight=1,\n",
    "                    gamma=0,\n",
    "                    subsample=0.8,\n",
    "                    colsample_bytree=0.8,\n",
    "                    objective= 'binary:logistic',\n",
    "                    nthread=4,\n",
    "                    scale_pos_weight=1,\n",
    "                    seed=16)\n",
    "\n",
    "xgb_woe_model = run_model_experiment(train, xgb_woe_model, \"XGBoostWoE\", preprocessor, encoder=encoder3, config = params, tags=[\"XGBoost\", \"WoE\"])"
   ]
  },
  {
   "cell_type": "markdown",
   "metadata": {},
   "source": [
    "# One Standard Deviation model selection"
   ]
  },
  {
   "cell_type": "code",
   "execution_count": 23,
   "metadata": {},
   "outputs": [],
   "source": [
    "api = wandb.Api()\n",
    "\n",
    "# Project is specified by <entity/project-name>\n",
    "runs = api.runs(\"rahav-manoharan/mlops-project\")\n",
    "\n",
    "summary_list, config_list, name_list = [], [], []\n",
    "for run in runs: \n",
    "    # .summary contains the output keys/values for metrics like accuracy.\n",
    "    #  We call ._json_dict to omit large files \n",
    "    summary_list.append(run.summary)\n",
    "\n",
    "    # .config contains the hyperparameters.\n",
    "    #  We remove special values that start with _.\n",
    "    # config_list.append(\n",
    "    #     {k: v for k,v in run.config.items()\n",
    "    #       if not k.startswith('_')})\n",
    "\n",
    "    # .name is the human-readable name of the run.\n",
    "    name_list.append(run.name)\n",
    "\n",
    "runs_df = pd.DataFrame({\n",
    "    \"summary\": summary_list,\n",
    "    \"name\": name_list\n",
    "    })"
   ]
  },
  {
   "cell_type": "code",
   "execution_count": 29,
   "metadata": {},
   "outputs": [
    {
     "data": {
      "text/html": [
       "<div>\n",
       "<style scoped>\n",
       "    .dataframe tbody tr th:only-of-type {\n",
       "        vertical-align: middle;\n",
       "    }\n",
       "\n",
       "    .dataframe tbody tr th {\n",
       "        vertical-align: top;\n",
       "    }\n",
       "\n",
       "    .dataframe thead th {\n",
       "        text-align: right;\n",
       "    }\n",
       "</style>\n",
       "<table border=\"1\" class=\"dataframe\">\n",
       "  <thead>\n",
       "    <tr style=\"text-align: right;\">\n",
       "      <th></th>\n",
       "      <th>summary</th>\n",
       "      <th>name</th>\n",
       "    </tr>\n",
       "  </thead>\n",
       "  <tbody>\n",
       "    <tr>\n",
       "      <th>0</th>\n",
       "      <td>{'precision_recall': {'ncols': 3, 'nrows': 40,...</td>\n",
       "      <td>XGBoostWoE</td>\n",
       "    </tr>\n",
       "    <tr>\n",
       "      <th>1</th>\n",
       "      <td>{'roc': {'ncols': 3, 'nrows': 7296, 'sha256': ...</td>\n",
       "      <td>LogisticRegressionWoE</td>\n",
       "    </tr>\n",
       "    <tr>\n",
       "      <th>2</th>\n",
       "      <td>{'_wandb': {'runtime': 22}, '_timestamp': 1637...</td>\n",
       "      <td>RandomForestWoE</td>\n",
       "    </tr>\n",
       "    <tr>\n",
       "      <th>3</th>\n",
       "      <td>{'roc': {'artifact_path': 'wandb-client-artifa...</td>\n",
       "      <td>DecisionTreeWithWoE</td>\n",
       "    </tr>\n",
       "    <tr>\n",
       "      <th>4</th>\n",
       "      <td>{'_step': 7, '_runtime': 15, '_timestamp': 163...</td>\n",
       "      <td>XGBoostTarget</td>\n",
       "    </tr>\n",
       "    <tr>\n",
       "      <th>5</th>\n",
       "      <td>{'_timestamp': 1637949758, 'specificity': 0.85...</td>\n",
       "      <td>LogisticRegressionTarget</td>\n",
       "    </tr>\n",
       "    <tr>\n",
       "      <th>6</th>\n",
       "      <td>{'_step': 7, '_timestamp': 1637949716, 'confus...</td>\n",
       "      <td>RandomForestTarget</td>\n",
       "    </tr>\n",
       "    <tr>\n",
       "      <th>7</th>\n",
       "      <td>{'sensitivity': 0.94, 'confusion_matrix': {'_l...</td>\n",
       "      <td>DecisionTreeWithTarget</td>\n",
       "    </tr>\n",
       "    <tr>\n",
       "      <th>8</th>\n",
       "      <td>{'precision_recall': {'sha256': 'fbe30c8100151...</td>\n",
       "      <td>XGBoostOHE</td>\n",
       "    </tr>\n",
       "    <tr>\n",
       "      <th>9</th>\n",
       "      <td>{'_runtime': 10, 'accuracy': 0.83, 'specificit...</td>\n",
       "      <td>LogisticRegressionOHE</td>\n",
       "    </tr>\n",
       "    <tr>\n",
       "      <th>10</th>\n",
       "      <td>{'recall': 0.91, 'confusion_matrix': {'artifac...</td>\n",
       "      <td>RandomForestOHE</td>\n",
       "    </tr>\n",
       "    <tr>\n",
       "      <th>11</th>\n",
       "      <td>{'recall': 0.94, '_runtime': 11, 'precision': ...</td>\n",
       "      <td>DecisionTreeWithOHE</td>\n",
       "    </tr>\n",
       "  </tbody>\n",
       "</table>\n",
       "</div>"
      ],
      "text/plain": [
       "                                              summary  \\\n",
       "0   {'precision_recall': {'ncols': 3, 'nrows': 40,...   \n",
       "1   {'roc': {'ncols': 3, 'nrows': 7296, 'sha256': ...   \n",
       "2   {'_wandb': {'runtime': 22}, '_timestamp': 1637...   \n",
       "3   {'roc': {'artifact_path': 'wandb-client-artifa...   \n",
       "4   {'_step': 7, '_runtime': 15, '_timestamp': 163...   \n",
       "5   {'_timestamp': 1637949758, 'specificity': 0.85...   \n",
       "6   {'_step': 7, '_timestamp': 1637949716, 'confus...   \n",
       "7   {'sensitivity': 0.94, 'confusion_matrix': {'_l...   \n",
       "8   {'precision_recall': {'sha256': 'fbe30c8100151...   \n",
       "9   {'_runtime': 10, 'accuracy': 0.83, 'specificit...   \n",
       "10  {'recall': 0.91, 'confusion_matrix': {'artifac...   \n",
       "11  {'recall': 0.94, '_runtime': 11, 'precision': ...   \n",
       "\n",
       "                        name  \n",
       "0                 XGBoostWoE  \n",
       "1      LogisticRegressionWoE  \n",
       "2            RandomForestWoE  \n",
       "3        DecisionTreeWithWoE  \n",
       "4              XGBoostTarget  \n",
       "5   LogisticRegressionTarget  \n",
       "6         RandomForestTarget  \n",
       "7     DecisionTreeWithTarget  \n",
       "8                 XGBoostOHE  \n",
       "9      LogisticRegressionOHE  \n",
       "10           RandomForestOHE  \n",
       "11       DecisionTreeWithOHE  "
      ]
     },
     "execution_count": 29,
     "metadata": {},
     "output_type": "execute_result"
    }
   ],
   "source": [
    "runs_df"
   ]
  },
  {
   "cell_type": "code",
   "execution_count": 7,
   "metadata": {},
   "outputs": [
    {
     "data": {
      "text/html": [
       "<div>\n",
       "<style scoped>\n",
       "    .dataframe tbody tr th:only-of-type {\n",
       "        vertical-align: middle;\n",
       "    }\n",
       "\n",
       "    .dataframe tbody tr th {\n",
       "        vertical-align: top;\n",
       "    }\n",
       "\n",
       "    .dataframe thead th {\n",
       "        text-align: right;\n",
       "    }\n",
       "</style>\n",
       "<table border=\"1\" class=\"dataframe\">\n",
       "  <thead>\n",
       "    <tr style=\"text-align: right;\">\n",
       "      <th></th>\n",
       "      <th>Name</th>\n",
       "      <th>State</th>\n",
       "      <th>Notes</th>\n",
       "      <th>User</th>\n",
       "      <th>Tags</th>\n",
       "      <th>Created</th>\n",
       "      <th>Runtime</th>\n",
       "      <th>Sweep</th>\n",
       "      <th>accuracy</th>\n",
       "      <th>precision</th>\n",
       "      <th>recall</th>\n",
       "      <th>sensitivity</th>\n",
       "      <th>specificity</th>\n",
       "    </tr>\n",
       "  </thead>\n",
       "  <tbody>\n",
       "    <tr>\n",
       "      <th>0</th>\n",
       "      <td>XGBoostWoE</td>\n",
       "      <td>finished</td>\n",
       "      <td>-</td>\n",
       "      <td>rahav-manoharan</td>\n",
       "      <td>NaN</td>\n",
       "      <td>2021-11-26T18:07:02.000Z</td>\n",
       "      <td>30</td>\n",
       "      <td>NaN</td>\n",
       "      <td>0.96</td>\n",
       "      <td>0.95</td>\n",
       "      <td>0.96</td>\n",
       "      <td>0.96</td>\n",
       "      <td>0.95</td>\n",
       "    </tr>\n",
       "    <tr>\n",
       "      <th>1</th>\n",
       "      <td>XGBoostTarget</td>\n",
       "      <td>finished</td>\n",
       "      <td>-</td>\n",
       "      <td>rahav-manoharan</td>\n",
       "      <td>NaN</td>\n",
       "      <td>2021-11-26T18:04:14.000Z</td>\n",
       "      <td>28</td>\n",
       "      <td>NaN</td>\n",
       "      <td>0.96</td>\n",
       "      <td>0.95</td>\n",
       "      <td>0.96</td>\n",
       "      <td>0.96</td>\n",
       "      <td>0.95</td>\n",
       "    </tr>\n",
       "    <tr>\n",
       "      <th>2</th>\n",
       "      <td>XGBoostOHE</td>\n",
       "      <td>finished</td>\n",
       "      <td>-</td>\n",
       "      <td>rahav-manoharan</td>\n",
       "      <td>NaN</td>\n",
       "      <td>2021-11-26T17:58:20.000Z</td>\n",
       "      <td>29</td>\n",
       "      <td>NaN</td>\n",
       "      <td>0.96</td>\n",
       "      <td>0.94</td>\n",
       "      <td>0.96</td>\n",
       "      <td>0.96</td>\n",
       "      <td>0.95</td>\n",
       "    </tr>\n",
       "    <tr>\n",
       "      <th>3</th>\n",
       "      <td>DecisionTreeWithWoE</td>\n",
       "      <td>finished</td>\n",
       "      <td>-</td>\n",
       "      <td>rahav-manoharan</td>\n",
       "      <td>NaN</td>\n",
       "      <td>2021-11-26T18:04:45.000Z</td>\n",
       "      <td>28</td>\n",
       "      <td>NaN</td>\n",
       "      <td>0.93</td>\n",
       "      <td>0.91</td>\n",
       "      <td>0.94</td>\n",
       "      <td>0.94</td>\n",
       "      <td>0.93</td>\n",
       "    </tr>\n",
       "    <tr>\n",
       "      <th>4</th>\n",
       "      <td>DecisionTreeWithOHE</td>\n",
       "      <td>finished</td>\n",
       "      <td>-</td>\n",
       "      <td>rahav-manoharan</td>\n",
       "      <td>NaN</td>\n",
       "      <td>2021-11-26T17:54:43.000Z</td>\n",
       "      <td>31</td>\n",
       "      <td>NaN</td>\n",
       "      <td>0.93</td>\n",
       "      <td>0.91</td>\n",
       "      <td>0.94</td>\n",
       "      <td>0.94</td>\n",
       "      <td>0.93</td>\n",
       "    </tr>\n",
       "    <tr>\n",
       "      <th>5</th>\n",
       "      <td>DecisionTreeWithTarget</td>\n",
       "      <td>finished</td>\n",
       "      <td>-</td>\n",
       "      <td>rahav-manoharan</td>\n",
       "      <td>NaN</td>\n",
       "      <td>2021-11-26T18:01:00.000Z</td>\n",
       "      <td>29</td>\n",
       "      <td>NaN</td>\n",
       "      <td>0.93</td>\n",
       "      <td>0.91</td>\n",
       "      <td>0.94</td>\n",
       "      <td>0.94</td>\n",
       "      <td>0.93</td>\n",
       "    </tr>\n",
       "    <tr>\n",
       "      <th>6</th>\n",
       "      <td>RandomForestWoE</td>\n",
       "      <td>finished</td>\n",
       "      <td>-</td>\n",
       "      <td>rahav-manoharan</td>\n",
       "      <td>NaN</td>\n",
       "      <td>2021-11-26T18:05:23.000Z</td>\n",
       "      <td>39</td>\n",
       "      <td>NaN</td>\n",
       "      <td>0.91</td>\n",
       "      <td>0.90</td>\n",
       "      <td>0.89</td>\n",
       "      <td>0.89</td>\n",
       "      <td>0.92</td>\n",
       "    </tr>\n",
       "    <tr>\n",
       "      <th>7</th>\n",
       "      <td>RandomForestOHE</td>\n",
       "      <td>finished</td>\n",
       "      <td>-</td>\n",
       "      <td>rahav-manoharan</td>\n",
       "      <td>NaN</td>\n",
       "      <td>2021-11-26T17:56:21.000Z</td>\n",
       "      <td>56</td>\n",
       "      <td>NaN</td>\n",
       "      <td>0.91</td>\n",
       "      <td>0.89</td>\n",
       "      <td>0.91</td>\n",
       "      <td>0.91</td>\n",
       "      <td>0.91</td>\n",
       "    </tr>\n",
       "    <tr>\n",
       "      <th>8</th>\n",
       "      <td>RandomForestTarget</td>\n",
       "      <td>finished</td>\n",
       "      <td>-</td>\n",
       "      <td>rahav-manoharan</td>\n",
       "      <td>NaN</td>\n",
       "      <td>2021-11-26T18:01:39.000Z</td>\n",
       "      <td>52</td>\n",
       "      <td>NaN</td>\n",
       "      <td>0.91</td>\n",
       "      <td>0.90</td>\n",
       "      <td>0.89</td>\n",
       "      <td>0.89</td>\n",
       "      <td>0.92</td>\n",
       "    </tr>\n",
       "    <tr>\n",
       "      <th>9</th>\n",
       "      <td>LogisticRegressionWoE</td>\n",
       "      <td>finished</td>\n",
       "      <td>-</td>\n",
       "      <td>rahav-manoharan</td>\n",
       "      <td>NaN</td>\n",
       "      <td>2021-11-26T18:06:05.000Z</td>\n",
       "      <td>26</td>\n",
       "      <td>NaN</td>\n",
       "      <td>0.83</td>\n",
       "      <td>0.82</td>\n",
       "      <td>0.82</td>\n",
       "      <td>0.82</td>\n",
       "      <td>0.85</td>\n",
       "    </tr>\n",
       "    <tr>\n",
       "      <th>10</th>\n",
       "      <td>LogisticRegressionTarget</td>\n",
       "      <td>finished</td>\n",
       "      <td>-</td>\n",
       "      <td>rahav-manoharan</td>\n",
       "      <td>NaN</td>\n",
       "      <td>2021-11-26T18:02:35.000Z</td>\n",
       "      <td>68</td>\n",
       "      <td>NaN</td>\n",
       "      <td>0.83</td>\n",
       "      <td>0.81</td>\n",
       "      <td>0.82</td>\n",
       "      <td>0.82</td>\n",
       "      <td>0.85</td>\n",
       "    </tr>\n",
       "    <tr>\n",
       "      <th>11</th>\n",
       "      <td>LogisticRegressionOHE</td>\n",
       "      <td>finished</td>\n",
       "      <td>-</td>\n",
       "      <td>rahav-manoharan</td>\n",
       "      <td>NaN</td>\n",
       "      <td>2021-11-26T17:57:20.000Z</td>\n",
       "      <td>26</td>\n",
       "      <td>NaN</td>\n",
       "      <td>0.83</td>\n",
       "      <td>0.82</td>\n",
       "      <td>0.82</td>\n",
       "      <td>0.82</td>\n",
       "      <td>0.85</td>\n",
       "    </tr>\n",
       "  </tbody>\n",
       "</table>\n",
       "</div>"
      ],
      "text/plain": [
       "                        Name     State Notes             User  Tags  \\\n",
       "0                 XGBoostWoE  finished     -  rahav-manoharan   NaN   \n",
       "1              XGBoostTarget  finished     -  rahav-manoharan   NaN   \n",
       "2                 XGBoostOHE  finished     -  rahav-manoharan   NaN   \n",
       "3        DecisionTreeWithWoE  finished     -  rahav-manoharan   NaN   \n",
       "4        DecisionTreeWithOHE  finished     -  rahav-manoharan   NaN   \n",
       "5     DecisionTreeWithTarget  finished     -  rahav-manoharan   NaN   \n",
       "6            RandomForestWoE  finished     -  rahav-manoharan   NaN   \n",
       "7            RandomForestOHE  finished     -  rahav-manoharan   NaN   \n",
       "8         RandomForestTarget  finished     -  rahav-manoharan   NaN   \n",
       "9      LogisticRegressionWoE  finished     -  rahav-manoharan   NaN   \n",
       "10  LogisticRegressionTarget  finished     -  rahav-manoharan   NaN   \n",
       "11     LogisticRegressionOHE  finished     -  rahav-manoharan   NaN   \n",
       "\n",
       "                     Created  Runtime  Sweep  accuracy  precision  recall  \\\n",
       "0   2021-11-26T18:07:02.000Z       30    NaN      0.96       0.95    0.96   \n",
       "1   2021-11-26T18:04:14.000Z       28    NaN      0.96       0.95    0.96   \n",
       "2   2021-11-26T17:58:20.000Z       29    NaN      0.96       0.94    0.96   \n",
       "3   2021-11-26T18:04:45.000Z       28    NaN      0.93       0.91    0.94   \n",
       "4   2021-11-26T17:54:43.000Z       31    NaN      0.93       0.91    0.94   \n",
       "5   2021-11-26T18:01:00.000Z       29    NaN      0.93       0.91    0.94   \n",
       "6   2021-11-26T18:05:23.000Z       39    NaN      0.91       0.90    0.89   \n",
       "7   2021-11-26T17:56:21.000Z       56    NaN      0.91       0.89    0.91   \n",
       "8   2021-11-26T18:01:39.000Z       52    NaN      0.91       0.90    0.89   \n",
       "9   2021-11-26T18:06:05.000Z       26    NaN      0.83       0.82    0.82   \n",
       "10  2021-11-26T18:02:35.000Z       68    NaN      0.83       0.81    0.82   \n",
       "11  2021-11-26T17:57:20.000Z       26    NaN      0.83       0.82    0.82   \n",
       "\n",
       "    sensitivity  specificity  \n",
       "0          0.96         0.95  \n",
       "1          0.96         0.95  \n",
       "2          0.96         0.95  \n",
       "3          0.94         0.93  \n",
       "4          0.94         0.93  \n",
       "5          0.94         0.93  \n",
       "6          0.89         0.92  \n",
       "7          0.91         0.91  \n",
       "8          0.89         0.92  \n",
       "9          0.82         0.85  \n",
       "10         0.82         0.85  \n",
       "11         0.82         0.85  "
      ]
     },
     "execution_count": 7,
     "metadata": {},
     "output_type": "execute_result"
    }
   ],
   "source": [
    "runs_results = pd.read_csv('../Data/interim/run1_wandb_export.csv')\n",
    "runs_results"
   ]
  },
  {
   "cell_type": "code",
   "execution_count": 16,
   "metadata": {},
   "outputs": [
    {
     "data": {
      "text/html": [
       "<div>\n",
       "<style scoped>\n",
       "    .dataframe tbody tr th:only-of-type {\n",
       "        vertical-align: middle;\n",
       "    }\n",
       "\n",
       "    .dataframe tbody tr th {\n",
       "        vertical-align: top;\n",
       "    }\n",
       "\n",
       "    .dataframe thead th {\n",
       "        text-align: right;\n",
       "    }\n",
       "</style>\n",
       "<table border=\"1\" class=\"dataframe\">\n",
       "  <thead>\n",
       "    <tr style=\"text-align: right;\">\n",
       "      <th></th>\n",
       "      <th>Name</th>\n",
       "      <th>State</th>\n",
       "      <th>Notes</th>\n",
       "      <th>User</th>\n",
       "      <th>Tags</th>\n",
       "      <th>Created</th>\n",
       "      <th>Runtime</th>\n",
       "      <th>Sweep</th>\n",
       "      <th>accuracy</th>\n",
       "      <th>precision</th>\n",
       "      <th>recall</th>\n",
       "      <th>sensitivity</th>\n",
       "      <th>specificity</th>\n",
       "    </tr>\n",
       "  </thead>\n",
       "  <tbody>\n",
       "    <tr>\n",
       "      <th>0</th>\n",
       "      <td>XGBoostWoE</td>\n",
       "      <td>finished</td>\n",
       "      <td>-</td>\n",
       "      <td>rahav-manoharan</td>\n",
       "      <td>NaN</td>\n",
       "      <td>2021-11-26T18:07:02.000Z</td>\n",
       "      <td>30</td>\n",
       "      <td>NaN</td>\n",
       "      <td>0.96</td>\n",
       "      <td>0.95</td>\n",
       "      <td>0.96</td>\n",
       "      <td>0.96</td>\n",
       "      <td>0.95</td>\n",
       "    </tr>\n",
       "    <tr>\n",
       "      <th>1</th>\n",
       "      <td>XGBoostTarget</td>\n",
       "      <td>finished</td>\n",
       "      <td>-</td>\n",
       "      <td>rahav-manoharan</td>\n",
       "      <td>NaN</td>\n",
       "      <td>2021-11-26T18:04:14.000Z</td>\n",
       "      <td>28</td>\n",
       "      <td>NaN</td>\n",
       "      <td>0.96</td>\n",
       "      <td>0.95</td>\n",
       "      <td>0.96</td>\n",
       "      <td>0.96</td>\n",
       "      <td>0.95</td>\n",
       "    </tr>\n",
       "    <tr>\n",
       "      <th>2</th>\n",
       "      <td>XGBoostOHE</td>\n",
       "      <td>finished</td>\n",
       "      <td>-</td>\n",
       "      <td>rahav-manoharan</td>\n",
       "      <td>NaN</td>\n",
       "      <td>2021-11-26T17:58:20.000Z</td>\n",
       "      <td>29</td>\n",
       "      <td>NaN</td>\n",
       "      <td>0.96</td>\n",
       "      <td>0.94</td>\n",
       "      <td>0.96</td>\n",
       "      <td>0.96</td>\n",
       "      <td>0.95</td>\n",
       "    </tr>\n",
       "    <tr>\n",
       "      <th>3</th>\n",
       "      <td>DecisionTreeWithWoE</td>\n",
       "      <td>finished</td>\n",
       "      <td>-</td>\n",
       "      <td>rahav-manoharan</td>\n",
       "      <td>NaN</td>\n",
       "      <td>2021-11-26T18:04:45.000Z</td>\n",
       "      <td>28</td>\n",
       "      <td>NaN</td>\n",
       "      <td>0.93</td>\n",
       "      <td>0.91</td>\n",
       "      <td>0.94</td>\n",
       "      <td>0.94</td>\n",
       "      <td>0.93</td>\n",
       "    </tr>\n",
       "    <tr>\n",
       "      <th>4</th>\n",
       "      <td>DecisionTreeWithOHE</td>\n",
       "      <td>finished</td>\n",
       "      <td>-</td>\n",
       "      <td>rahav-manoharan</td>\n",
       "      <td>NaN</td>\n",
       "      <td>2021-11-26T17:54:43.000Z</td>\n",
       "      <td>31</td>\n",
       "      <td>NaN</td>\n",
       "      <td>0.93</td>\n",
       "      <td>0.91</td>\n",
       "      <td>0.94</td>\n",
       "      <td>0.94</td>\n",
       "      <td>0.93</td>\n",
       "    </tr>\n",
       "    <tr>\n",
       "      <th>5</th>\n",
       "      <td>DecisionTreeWithTarget</td>\n",
       "      <td>finished</td>\n",
       "      <td>-</td>\n",
       "      <td>rahav-manoharan</td>\n",
       "      <td>NaN</td>\n",
       "      <td>2021-11-26T18:01:00.000Z</td>\n",
       "      <td>29</td>\n",
       "      <td>NaN</td>\n",
       "      <td>0.93</td>\n",
       "      <td>0.91</td>\n",
       "      <td>0.94</td>\n",
       "      <td>0.94</td>\n",
       "      <td>0.93</td>\n",
       "    </tr>\n",
       "  </tbody>\n",
       "</table>\n",
       "</div>"
      ],
      "text/plain": [
       "                     Name     State Notes             User  Tags  \\\n",
       "0              XGBoostWoE  finished     -  rahav-manoharan   NaN   \n",
       "1           XGBoostTarget  finished     -  rahav-manoharan   NaN   \n",
       "2              XGBoostOHE  finished     -  rahav-manoharan   NaN   \n",
       "3     DecisionTreeWithWoE  finished     -  rahav-manoharan   NaN   \n",
       "4     DecisionTreeWithOHE  finished     -  rahav-manoharan   NaN   \n",
       "5  DecisionTreeWithTarget  finished     -  rahav-manoharan   NaN   \n",
       "\n",
       "                    Created  Runtime  Sweep  accuracy  precision  recall  \\\n",
       "0  2021-11-26T18:07:02.000Z       30    NaN      0.96       0.95    0.96   \n",
       "1  2021-11-26T18:04:14.000Z       28    NaN      0.96       0.95    0.96   \n",
       "2  2021-11-26T17:58:20.000Z       29    NaN      0.96       0.94    0.96   \n",
       "3  2021-11-26T18:04:45.000Z       28    NaN      0.93       0.91    0.94   \n",
       "4  2021-11-26T17:54:43.000Z       31    NaN      0.93       0.91    0.94   \n",
       "5  2021-11-26T18:01:00.000Z       29    NaN      0.93       0.91    0.94   \n",
       "\n",
       "   sensitivity  specificity  \n",
       "0         0.96         0.95  \n",
       "1         0.96         0.95  \n",
       "2         0.96         0.95  \n",
       "3         0.94         0.93  \n",
       "4         0.94         0.93  \n",
       "5         0.94         0.93  "
      ]
     },
     "execution_count": 16,
     "metadata": {},
     "output_type": "execute_result"
    }
   ],
   "source": [
    "# considering precision to be the metric of consideration\n",
    "sd = np.std(runs_results.precision)\n",
    "max_val = max(runs_results.precision)\n",
    "bound = max_val-sd\n",
    "\n",
    "selected_models = runs_results[runs_results.precision >= bound]\n",
    "selected_models"
   ]
  },
  {
   "cell_type": "markdown",
   "metadata": {},
   "source": [
    "# Converting best model to onnx"
   ]
  },
  {
   "cell_type": "code",
   "execution_count": 65,
   "metadata": {},
   "outputs": [],
   "source": [
    "from onnx.tools.net_drawer import GetPydotGraph, GetOpNodeProducer\n",
    "import onnxruntime as rt\n",
    "from skl2onnx import convert_sklearn, __version__, update_registered_converter\n",
    "from skl2onnx.common.data_types import FloatTensorType, StringTensorType\n",
    "from skl2onnx.common.data_types import Int64TensorType\n",
    "from skl2onnx.common.shape_calculator import calculate_linear_regressor_output_shapes\n",
    "from onnxmltools.convert.xgboost.operator_converters.XGBoost import convert_xgboost  # noqa\n",
    "import pprint"
   ]
  },
  {
   "cell_type": "code",
   "execution_count": 82,
   "metadata": {},
   "outputs": [
    {
     "data": {
      "text/plain": [
       "(1, 2)"
      ]
     },
     "execution_count": 82,
     "metadata": {},
     "output_type": "execute_result"
    }
   ],
   "source": [
    "tuple([1, 2])\n"
   ]
  },
  {
   "cell_type": "code",
   "execution_count": 84,
   "metadata": {},
   "outputs": [],
   "source": [
    "new_inputs = []\n",
    "for s in inputs:\n",
    "    new_inputs.append(tuple([s[0].replace(\" \", \"_\"), s[1]]))"
   ]
  },
  {
   "cell_type": "code",
   "execution_count": 103,
   "metadata": {},
   "outputs": [
    {
     "data": {
      "text/plain": [
       "['Gender',\n",
       " 'Customer_Type',\n",
       " 'Age',\n",
       " 'Type_of_Travel',\n",
       " 'Class',\n",
       " 'Flight_Distance',\n",
       " 'Seat_comfort',\n",
       " 'Departure/Arrival_time_convenient',\n",
       " 'Food_and_drink',\n",
       " 'Gate_location',\n",
       " 'Inflight_wifi_service',\n",
       " 'Inflight_entertainment',\n",
       " 'Online_support',\n",
       " 'Ease_of_Online_booking',\n",
       " 'On-board_service',\n",
       " 'Leg_room_service',\n",
       " 'Baggage_handling',\n",
       " 'Checkin_service',\n",
       " 'Cleanliness',\n",
       " 'Online_boarding',\n",
       " 'Departure_Delay_in_Minutes',\n",
       " 'Arrival_Delay_in_Minutes']"
      ]
     },
     "execution_count": 103,
     "metadata": {},
     "output_type": "execute_result"
    }
   ],
   "source": [
    "temp = []\n",
    "for s in inputs:\n",
    "    temp.append(s[0].replace(\" \", \"_\"))\n",
    "temp"
   ]
  },
  {
   "cell_type": "code",
   "execution_count": 97,
   "metadata": {},
   "outputs": [
    {
     "name": "stdout",
     "output_type": "stream",
     "text": [
      "[('Gender', StringTensorType(shape=[None, 1])),\n",
      " ('Customer Type', StringTensorType(shape=[None, 1])),\n",
      " ('Age', FloatTensorType(shape=[None, 1])),\n",
      " ('Type of Travel', StringTensorType(shape=[None, 1])),\n",
      " ('Class', StringTensorType(shape=[None, 1])),\n",
      " ('Flight Distance', FloatTensorType(shape=[None, 1])),\n",
      " ('Seat comfort', FloatTensorType(shape=[None, 1])),\n",
      " ('Departure/Arrival time convenient', FloatTensorType(shape=[None, 1])),\n",
      " ('Food and drink', FloatTensorType(shape=[None, 1])),\n",
      " ('Gate location', FloatTensorType(shape=[None, 1])),\n",
      " ('Inflight wifi service', FloatTensorType(shape=[None, 1])),\n",
      " ('Inflight entertainment', FloatTensorType(shape=[None, 1])),\n",
      " ('Online support', FloatTensorType(shape=[None, 1])),\n",
      " ('Ease of Online booking', FloatTensorType(shape=[None, 1])),\n",
      " ('On-board service', FloatTensorType(shape=[None, 1])),\n",
      " ('Leg room service', FloatTensorType(shape=[None, 1])),\n",
      " ('Baggage handling', FloatTensorType(shape=[None, 1])),\n",
      " ('Checkin service', FloatTensorType(shape=[None, 1])),\n",
      " ('Cleanliness', FloatTensorType(shape=[None, 1])),\n",
      " ('Online boarding', FloatTensorType(shape=[None, 1])),\n",
      " ('Departure Delay in Minutes', FloatTensorType(shape=[None, 1])),\n",
      " ('Arrival Delay in Minutes', FloatTensorType(shape=[None, 1]))]\n"
     ]
    }
   ],
   "source": [
    "def convert_dataframe_schema(df, drop=None):\n",
    "    inputs = []\n",
    "    for k, v in zip(df.columns, df.dtypes):\n",
    "        if drop is not None and k in drop:\n",
    "            continue\n",
    "        if v == 'int64':\n",
    "            t = FloatTensorType([None, 1])\n",
    "        elif v == 'float64':\n",
    "            t = FloatTensorType([None, 1])\n",
    "        else:\n",
    "            t = StringTensorType([None, 1])\n",
    "        inputs.append((k, t))\n",
    "    return inputs\n",
    "\n",
    "inputs = convert_dataframe_schema(X_train)\n",
    "\n",
    "pprint.pprint(inputs)"
   ]
  },
  {
   "cell_type": "code",
   "execution_count": 91,
   "metadata": {},
   "outputs": [],
   "source": [
    "update_registered_converter(\n",
    "    xgb_woe_model, 'XGBoostWoEClassifier',\n",
    "    calculate_linear_regressor_output_shapes, convert_xgboost)"
   ]
  },
  {
   "cell_type": "code",
   "execution_count": 95,
   "metadata": {},
   "outputs": [
    {
     "data": {
      "text/plain": [
       "[('Gender', StringTensorType(shape=[None, 1])),\n",
       " ('Customer Type', StringTensorType(shape=[None, 1])),\n",
       " ('Age', FloatTensorType(shape=[None, 1])),\n",
       " ('Type of Travel', StringTensorType(shape=[None, 1])),\n",
       " ('Class', StringTensorType(shape=[None, 1])),\n",
       " ('Flight Distance', FloatTensorType(shape=[None, 1])),\n",
       " ('Seat comfort', FloatTensorType(shape=[None, 1])),\n",
       " ('Departure/Arrival time convenient', FloatTensorType(shape=[None, 1])),\n",
       " ('Food and drink', FloatTensorType(shape=[None, 1])),\n",
       " ('Gate location', FloatTensorType(shape=[None, 1])),\n",
       " ('Inflight wifi service', FloatTensorType(shape=[None, 1])),\n",
       " ('Inflight entertainment', FloatTensorType(shape=[None, 1])),\n",
       " ('Online support', FloatTensorType(shape=[None, 1])),\n",
       " ('Ease of Online booking', FloatTensorType(shape=[None, 1])),\n",
       " ('On-board service', FloatTensorType(shape=[None, 1])),\n",
       " ('Leg room service', FloatTensorType(shape=[None, 1])),\n",
       " ('Baggage handling', FloatTensorType(shape=[None, 1])),\n",
       " ('Checkin service', FloatTensorType(shape=[None, 1])),\n",
       " ('Cleanliness', FloatTensorType(shape=[None, 1])),\n",
       " ('Online boarding', FloatTensorType(shape=[None, 1])),\n",
       " ('Departure Delay in Minutes', FloatTensorType(shape=[None, 1])),\n",
       " ('Arrival Delay in Minutes', FloatTensorType(shape=[None, 1]))]"
      ]
     },
     "execution_count": 95,
     "metadata": {},
     "output_type": "execute_result"
    }
   ],
   "source": [
    "inputs"
   ]
  },
  {
   "cell_type": "code",
   "execution_count": 99,
   "metadata": {},
   "outputs": [
    {
     "ename": "RuntimeError",
     "evalue": "Unable to find column name 'Flight Distance' among names ['Gender', 'Customer_Type', 'Age', 'Type_of_Travel', 'Class', 'Flight_Distance', 'Seat_comfort', 'Departure_Arrival_time_convenient', 'Food_and_drink', 'Gate_location', 'Inflight_wifi_service', 'Inflight_entertainment', 'Online_support', 'Ease_of_Online_booking', 'On_board_service', 'Leg_room_service', 'Baggage_handling', 'Checkin_service', 'Cleanliness', 'Online_boarding', 'Departure_Delay_in_Minutes', 'Arrival_Delay_in_Minutes']. Make sure the input names specified with parameter initial_types fits the column names specified in the pipeline to convert.",
     "output_type": "error",
     "traceback": [
      "\u001b[1;31m---------------------------------------------------------------------------\u001b[0m",
      "\u001b[1;31mRuntimeError\u001b[0m                              Traceback (most recent call last)",
      "\u001b[1;32m~\\AppData\\Local\\Temp/ipykernel_9536/1806883579.py\u001b[0m in \u001b[0;36m<module>\u001b[1;34m\u001b[0m\n\u001b[1;32m----> 1\u001b[1;33m model_onnx = convert_sklearn(\n\u001b[0m\u001b[0;32m      2\u001b[0m     \u001b[0mxgb_woe_model\u001b[0m\u001b[1;33m,\u001b[0m \u001b[1;34m'pipeline_xgboost'\u001b[0m\u001b[1;33m,\u001b[0m\u001b[1;33m\u001b[0m\u001b[1;33m\u001b[0m\u001b[0m\n\u001b[0;32m      3\u001b[0m     inputs)\n",
      "\u001b[1;32m~\\AppData\\Roaming\\Python\\Python38\\site-packages\\skl2onnx\\convert.py\u001b[0m in \u001b[0;36mconvert_sklearn\u001b[1;34m(model, name, initial_types, doc_string, target_opset, custom_conversion_functions, custom_shape_calculators, custom_parsers, options, intermediate, white_op, black_op, final_types, dtype, naming, verbose)\u001b[0m\n\u001b[0;32m    172\u001b[0m     \u001b[1;32mif\u001b[0m \u001b[0mverbose\u001b[0m \u001b[1;33m>=\u001b[0m \u001b[1;36m1\u001b[0m\u001b[1;33m:\u001b[0m\u001b[1;33m\u001b[0m\u001b[1;33m\u001b[0m\u001b[0m\n\u001b[0;32m    173\u001b[0m         \u001b[0mprint\u001b[0m\u001b[1;33m(\u001b[0m\u001b[1;34m\"[convert_sklearn] parse_sklearn_model\"\u001b[0m\u001b[1;33m)\u001b[0m\u001b[1;33m\u001b[0m\u001b[1;33m\u001b[0m\u001b[0m\n\u001b[1;32m--> 174\u001b[1;33m     topology = parse_sklearn_model(\n\u001b[0m\u001b[0;32m    175\u001b[0m         \u001b[0mmodel\u001b[0m\u001b[1;33m,\u001b[0m \u001b[0minitial_types\u001b[0m\u001b[1;33m,\u001b[0m \u001b[0mtarget_opset\u001b[0m\u001b[1;33m,\u001b[0m \u001b[0mcustom_conversion_functions\u001b[0m\u001b[1;33m,\u001b[0m\u001b[1;33m\u001b[0m\u001b[1;33m\u001b[0m\u001b[0m\n\u001b[0;32m    176\u001b[0m         \u001b[0mcustom_shape_calculators\u001b[0m\u001b[1;33m,\u001b[0m \u001b[0mcustom_parsers\u001b[0m\u001b[1;33m,\u001b[0m \u001b[0moptions\u001b[0m\u001b[1;33m=\u001b[0m\u001b[0moptions\u001b[0m\u001b[1;33m,\u001b[0m\u001b[1;33m\u001b[0m\u001b[1;33m\u001b[0m\u001b[0m\n",
      "\u001b[1;32m~\\AppData\\Roaming\\Python\\Python38\\site-packages\\skl2onnx\\_parse.py\u001b[0m in \u001b[0;36mparse_sklearn_model\u001b[1;34m(model, initial_types, target_opset, custom_conversion_functions, custom_shape_calculators, custom_parsers, options, white_op, black_op, final_types, naming)\u001b[0m\n\u001b[0;32m    706\u001b[0m \u001b[1;33m\u001b[0m\u001b[0m\n\u001b[0;32m    707\u001b[0m     \u001b[1;31m# Parse the input scikit-learn model as a Topology object.\u001b[0m\u001b[1;33m\u001b[0m\u001b[1;33m\u001b[0m\u001b[1;33m\u001b[0m\u001b[0m\n\u001b[1;32m--> 708\u001b[1;33m     outputs = parse_sklearn(scope, model, inputs,\n\u001b[0m\u001b[0;32m    709\u001b[0m                             \u001b[0mcustom_parsers\u001b[0m\u001b[1;33m=\u001b[0m\u001b[0mcustom_parsers\u001b[0m\u001b[1;33m,\u001b[0m\u001b[1;33m\u001b[0m\u001b[1;33m\u001b[0m\u001b[0m\n\u001b[0;32m    710\u001b[0m                             final_types=final_types)\n",
      "\u001b[1;32m~\\AppData\\Roaming\\Python\\Python38\\site-packages\\skl2onnx\\_parse.py\u001b[0m in \u001b[0;36mparse_sklearn\u001b[1;34m(scope, model, inputs, custom_parsers, final_types)\u001b[0m\n\u001b[0;32m    626\u001b[0m         \u001b[1;32mreturn\u001b[0m \u001b[0moutputs\u001b[0m\u001b[1;33m\u001b[0m\u001b[1;33m\u001b[0m\u001b[0m\n\u001b[0;32m    627\u001b[0m \u001b[1;33m\u001b[0m\u001b[0m\n\u001b[1;32m--> 628\u001b[1;33m     res = _parse_sklearn(\n\u001b[0m\u001b[0;32m    629\u001b[0m         scope, model, inputs, custom_parsers=custom_parsers)\n\u001b[0;32m    630\u001b[0m     \u001b[1;32mfor\u001b[0m \u001b[0mr\u001b[0m \u001b[1;32min\u001b[0m \u001b[0mres\u001b[0m\u001b[1;33m:\u001b[0m\u001b[1;33m\u001b[0m\u001b[1;33m\u001b[0m\u001b[0m\n",
      "\u001b[1;32m~\\AppData\\Roaming\\Python\\Python38\\site-packages\\skl2onnx\\_parse.py\u001b[0m in \u001b[0;36m_parse_sklearn\u001b[1;34m(scope, model, inputs, custom_parsers, alias)\u001b[0m\n\u001b[0;32m    563\u001b[0m                                          custom_parsers=custom_parsers)\n\u001b[0;32m    564\u001b[0m     \u001b[1;32melif\u001b[0m \u001b[0mtmodel\u001b[0m \u001b[1;32min\u001b[0m \u001b[0msklearn_parsers_map\u001b[0m\u001b[1;33m:\u001b[0m\u001b[1;33m\u001b[0m\u001b[1;33m\u001b[0m\u001b[0m\n\u001b[1;32m--> 565\u001b[1;33m         outputs = sklearn_parsers_map[tmodel](scope, model, inputs,\n\u001b[0m\u001b[0;32m    566\u001b[0m                                               custom_parsers=custom_parsers)\n\u001b[0;32m    567\u001b[0m     \u001b[1;32melif\u001b[0m \u001b[0misinstance\u001b[0m\u001b[1;33m(\u001b[0m\u001b[0mmodel\u001b[0m\u001b[1;33m,\u001b[0m \u001b[0mpipeline\u001b[0m\u001b[1;33m.\u001b[0m\u001b[0mPipeline\u001b[0m\u001b[1;33m)\u001b[0m\u001b[1;33m:\u001b[0m\u001b[1;33m\u001b[0m\u001b[1;33m\u001b[0m\u001b[0m\n",
      "\u001b[1;32m~\\AppData\\Roaming\\Python\\Python38\\site-packages\\skl2onnx\\_parse.py\u001b[0m in \u001b[0;36m_parse_sklearn_pipeline\u001b[1;34m(scope, model, inputs, custom_parsers)\u001b[0m\n\u001b[0;32m    258\u001b[0m     \"\"\"\n\u001b[0;32m    259\u001b[0m     \u001b[1;32mfor\u001b[0m \u001b[0mstep\u001b[0m \u001b[1;32min\u001b[0m \u001b[0mmodel\u001b[0m\u001b[1;33m.\u001b[0m\u001b[0msteps\u001b[0m\u001b[1;33m:\u001b[0m\u001b[1;33m\u001b[0m\u001b[1;33m\u001b[0m\u001b[0m\n\u001b[1;32m--> 260\u001b[1;33m         inputs = _parse_sklearn(scope, step[1], inputs,\n\u001b[0m\u001b[0;32m    261\u001b[0m                                 custom_parsers=custom_parsers)\n\u001b[0;32m    262\u001b[0m     \u001b[1;32mreturn\u001b[0m \u001b[0minputs\u001b[0m\u001b[1;33m\u001b[0m\u001b[1;33m\u001b[0m\u001b[0m\n",
      "\u001b[1;32m~\\AppData\\Roaming\\Python\\Python38\\site-packages\\skl2onnx\\_parse.py\u001b[0m in \u001b[0;36m_parse_sklearn\u001b[1;34m(scope, model, inputs, custom_parsers, alias)\u001b[0m\n\u001b[0;32m    563\u001b[0m                                          custom_parsers=custom_parsers)\n\u001b[0;32m    564\u001b[0m     \u001b[1;32melif\u001b[0m \u001b[0mtmodel\u001b[0m \u001b[1;32min\u001b[0m \u001b[0msklearn_parsers_map\u001b[0m\u001b[1;33m:\u001b[0m\u001b[1;33m\u001b[0m\u001b[1;33m\u001b[0m\u001b[0m\n\u001b[1;32m--> 565\u001b[1;33m         outputs = sklearn_parsers_map[tmodel](scope, model, inputs,\n\u001b[0m\u001b[0;32m    566\u001b[0m                                               custom_parsers=custom_parsers)\n\u001b[0;32m    567\u001b[0m     \u001b[1;32melif\u001b[0m \u001b[0misinstance\u001b[0m\u001b[1;33m(\u001b[0m\u001b[0mmodel\u001b[0m\u001b[1;33m,\u001b[0m \u001b[0mpipeline\u001b[0m\u001b[1;33m.\u001b[0m\u001b[0mPipeline\u001b[0m\u001b[1;33m)\u001b[0m\u001b[1;33m:\u001b[0m\u001b[1;33m\u001b[0m\u001b[1;33m\u001b[0m\u001b[0m\n",
      "\u001b[1;32m~\\AppData\\Roaming\\Python\\Python38\\site-packages\\skl2onnx\\_parse.py\u001b[0m in \u001b[0;36m_parse_sklearn_column_transformer\u001b[1;34m(scope, model, inputs, custom_parsers)\u001b[0m\n\u001b[0;32m    324\u001b[0m         \u001b[1;32melif\u001b[0m \u001b[0misinstance\u001b[0m\u001b[1;33m(\u001b[0m\u001b[0mcolumn_indices\u001b[0m\u001b[1;33m,\u001b[0m \u001b[1;33m(\u001b[0m\u001b[0mint\u001b[0m\u001b[1;33m,\u001b[0m \u001b[0mstr\u001b[0m\u001b[1;33m)\u001b[0m\u001b[1;33m)\u001b[0m\u001b[1;33m:\u001b[0m\u001b[1;33m\u001b[0m\u001b[1;33m\u001b[0m\u001b[0m\n\u001b[0;32m    325\u001b[0m             \u001b[0mcolumn_indices\u001b[0m \u001b[1;33m=\u001b[0m \u001b[1;33m[\u001b[0m\u001b[0mcolumn_indices\u001b[0m\u001b[1;33m]\u001b[0m\u001b[1;33m\u001b[0m\u001b[1;33m\u001b[0m\u001b[0m\n\u001b[1;32m--> 326\u001b[1;33m         \u001b[0mnames\u001b[0m \u001b[1;33m=\u001b[0m \u001b[0mget_column_indices\u001b[0m\u001b[1;33m(\u001b[0m\u001b[0mcolumn_indices\u001b[0m\u001b[1;33m,\u001b[0m \u001b[0minputs\u001b[0m\u001b[1;33m,\u001b[0m \u001b[0mmultiple\u001b[0m\u001b[1;33m=\u001b[0m\u001b[1;32mTrue\u001b[0m\u001b[1;33m)\u001b[0m\u001b[1;33m\u001b[0m\u001b[1;33m\u001b[0m\u001b[0m\n\u001b[0m\u001b[0;32m    327\u001b[0m         \u001b[0mtransform_inputs\u001b[0m \u001b[1;33m=\u001b[0m \u001b[1;33m[\u001b[0m\u001b[1;33m]\u001b[0m\u001b[1;33m\u001b[0m\u001b[1;33m\u001b[0m\u001b[0m\n\u001b[0;32m    328\u001b[0m         \u001b[1;32mfor\u001b[0m \u001b[0monnx_var\u001b[0m\u001b[1;33m,\u001b[0m \u001b[0monnx_is\u001b[0m \u001b[1;32min\u001b[0m \u001b[0mnames\u001b[0m\u001b[1;33m.\u001b[0m\u001b[0mitems\u001b[0m\u001b[1;33m(\u001b[0m\u001b[1;33m)\u001b[0m\u001b[1;33m:\u001b[0m\u001b[1;33m\u001b[0m\u001b[1;33m\u001b[0m\u001b[0m\n",
      "\u001b[1;32m~\\AppData\\Roaming\\Python\\Python38\\site-packages\\skl2onnx\\common\\utils.py\u001b[0m in \u001b[0;36mget_column_indices\u001b[1;34m(indices, inputs, multiple)\u001b[0m\n\u001b[0;32m    123\u001b[0m         \u001b[0mres\u001b[0m \u001b[1;33m=\u001b[0m \u001b[0mOrderedDict\u001b[0m\u001b[1;33m(\u001b[0m\u001b[1;33m)\u001b[0m\u001b[1;33m\u001b[0m\u001b[1;33m\u001b[0m\u001b[0m\n\u001b[0;32m    124\u001b[0m         \u001b[1;32mfor\u001b[0m \u001b[0mp\u001b[0m \u001b[1;32min\u001b[0m \u001b[0mindices\u001b[0m\u001b[1;33m:\u001b[0m\u001b[1;33m\u001b[0m\u001b[1;33m\u001b[0m\u001b[0m\n\u001b[1;32m--> 125\u001b[1;33m             \u001b[0mov\u001b[0m\u001b[1;33m,\u001b[0m \u001b[0monnx_i\u001b[0m \u001b[1;33m=\u001b[0m \u001b[0mget_column_index\u001b[0m\u001b[1;33m(\u001b[0m\u001b[0mp\u001b[0m\u001b[1;33m,\u001b[0m \u001b[0minputs\u001b[0m\u001b[1;33m)\u001b[0m\u001b[1;33m\u001b[0m\u001b[1;33m\u001b[0m\u001b[0m\n\u001b[0m\u001b[0;32m    126\u001b[0m             \u001b[1;32mif\u001b[0m \u001b[0mov\u001b[0m \u001b[1;32mnot\u001b[0m \u001b[1;32min\u001b[0m \u001b[0mres\u001b[0m\u001b[1;33m:\u001b[0m\u001b[1;33m\u001b[0m\u001b[1;33m\u001b[0m\u001b[0m\n\u001b[0;32m    127\u001b[0m                 \u001b[0mres\u001b[0m\u001b[1;33m[\u001b[0m\u001b[0mov\u001b[0m\u001b[1;33m]\u001b[0m \u001b[1;33m=\u001b[0m \u001b[1;33m[\u001b[0m\u001b[1;33m]\u001b[0m\u001b[1;33m\u001b[0m\u001b[1;33m\u001b[0m\u001b[0m\n",
      "\u001b[1;32m~\\AppData\\Roaming\\Python\\Python38\\site-packages\\skl2onnx\\common\\utils.py\u001b[0m in \u001b[0;36mget_column_index\u001b[1;34m(i, inputs)\u001b[0m\n\u001b[0;32m    100\u001b[0m             \u001b[1;32mif\u001b[0m \u001b[0minp\u001b[0m\u001b[1;33m.\u001b[0m\u001b[0monnx_name\u001b[0m \u001b[1;33m==\u001b[0m \u001b[0mi\u001b[0m\u001b[1;33m:\u001b[0m\u001b[1;33m\u001b[0m\u001b[1;33m\u001b[0m\u001b[0m\n\u001b[0;32m    101\u001b[0m                 \u001b[1;32mreturn\u001b[0m \u001b[0mind\u001b[0m\u001b[1;33m,\u001b[0m \u001b[1;36m0\u001b[0m\u001b[1;33m\u001b[0m\u001b[1;33m\u001b[0m\u001b[0m\n\u001b[1;32m--> 102\u001b[1;33m         raise RuntimeError(\n\u001b[0m\u001b[0;32m    103\u001b[0m             \u001b[1;34m\"Unable to find column name %r among names %r. \"\u001b[0m\u001b[1;33m\u001b[0m\u001b[1;33m\u001b[0m\u001b[0m\n\u001b[0;32m    104\u001b[0m             \u001b[1;34m\"Make sure the input names specified with parameter \"\u001b[0m\u001b[1;33m\u001b[0m\u001b[1;33m\u001b[0m\u001b[0m\n",
      "\u001b[1;31mRuntimeError\u001b[0m: Unable to find column name 'Flight Distance' among names ['Gender', 'Customer_Type', 'Age', 'Type_of_Travel', 'Class', 'Flight_Distance', 'Seat_comfort', 'Departure_Arrival_time_convenient', 'Food_and_drink', 'Gate_location', 'Inflight_wifi_service', 'Inflight_entertainment', 'Online_support', 'Ease_of_Online_booking', 'On_board_service', 'Leg_room_service', 'Baggage_handling', 'Checkin_service', 'Cleanliness', 'Online_boarding', 'Departure_Delay_in_Minutes', 'Arrival_Delay_in_Minutes']. Make sure the input names specified with parameter initial_types fits the column names specified in the pipeline to convert."
     ]
    }
   ],
   "source": [
    "model_onnx = convert_sklearn(\n",
    "    xgb_woe_model, 'pipeline_xgboost',\n",
    "    inputs)"
   ]
  },
  {
   "cell_type": "code",
   "execution_count": null,
   "metadata": {},
   "outputs": [],
   "source": [
    "model_onnx = convert_sklearn(\n",
    "    clf1, 'pipeline_logreg',\n",
    "    inputs)"
   ]
  },
  {
   "cell_type": "code",
   "execution_count": null,
   "metadata": {},
   "outputs": [],
   "source": []
  },
  {
   "cell_type": "code",
   "execution_count": null,
   "metadata": {},
   "outputs": [],
   "source": []
  },
  {
   "cell_type": "code",
   "execution_count": 125,
   "metadata": {},
   "outputs": [],
   "source": [
    "# model = tree.DecisionTreeClassifier(max_depth=10)\n",
    "\n",
    "# model_pipeline = Pipeline(steps=[('preprocessor', preprocessor),\n",
    "#                                     ('DecisionTreeOHE', model)])\n",
    "\n",
    "# X_train, X_test, y_train, y_test = train_test_split(train.iloc[:, 1:], train.iloc[:, 0], test_size=0.2, random_state=16)\n",
    "\n",
    "# model_pipeline.fit(X_train, y_train)\n",
    "# y_pred = model_pipeline.predict(X_test)\n",
    "# y_probas = model_pipeline.predict_proba(X_test)\n",
    "# labels = [\"satisfied\", \"dissatisfied\"]\n",
    "\n",
    "# # wandb\n",
    "# wandb.init(project='demo', config=None, tags = None)\n",
    "# wandb.run.name = \"dt_demo_1\"\n",
    "\n",
    "# overall_metrics = measure_performance(metrics.confusion_matrix(y_test, y_pred))\n",
    "\n",
    "# wandb.log({\"accuracy\" : overall_metrics.overall_acc[0], \n",
    "#             \"precision\": overall_metrics.precision[0],\n",
    "#             \"recall\": overall_metrics.recall[0], \n",
    "#             \"sensitivity\": overall_metrics.sensitivity[0], \n",
    "#             \"specificity\": overall_metrics.specificity[0]})\n",
    "\n",
    "# X_train = encoder1.fit_transform(X_train)\n",
    "# X_test = encoder1.transform(X_test)\n",
    "# wandb.sklearn.plot_classifier(model, \n",
    "#                             X_train, \n",
    "#                             X_test, \n",
    "#                             y_train, \n",
    "#                             y_test,\n",
    "#                             y_pred, \n",
    "#                             y_probas,\n",
    "#                             labels,\n",
    "#                             model_name=\"dt_demo_1\")\n",
    "\n",
    "# wandb.Artifact(\"dt_demo_1\", \n",
    "#                 type = 'model',\n",
    "#                 description = None)\n",
    "\n",
    "# wandb.save()\n",
    "# wandb.finish()\n",
    "\n",
    "# overall_metrics = measure_performance(metrics.confusion_matrix(y_test, y_pred))\n",
    "# overall_metrics"
   ]
  },
  {
   "cell_type": "code",
   "execution_count": null,
   "metadata": {},
   "outputs": [],
   "source": []
  }
 ],
 "metadata": {
  "interpreter": {
   "hash": "244512e2fa821cf323e5787fb63beae451679f3a3a50f358d540ff9dfd268ca9"
  },
  "kernelspec": {
   "display_name": "Python 3.8.12 64-bit ('mlopslab': conda)",
   "language": "python",
   "name": "python3"
  },
  "language_info": {
   "codemirror_mode": {
    "name": "ipython",
    "version": 3
   },
   "file_extension": ".py",
   "mimetype": "text/x-python",
   "name": "python",
   "nbconvert_exporter": "python",
   "pygments_lexer": "ipython3",
   "version": "3.8.12"
  },
  "orig_nbformat": 4
 },
 "nbformat": 4,
 "nbformat_minor": 2
}
